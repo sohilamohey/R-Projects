{
  "nbformat": 4,
  "nbformat_minor": 0,
  "metadata": {
    "colab": {
      "provenance": []
    },
    "kernelspec": {
      "name": "ir",
      "display_name": "R"
    },
    "language_info": {
      "name": "R"
    }
  },
  "cells": [
    {
      "cell_type": "markdown",
      "source": [
        "# Import important liibraries"
      ],
      "metadata": {
        "id": "x4M2dT-vJx3n"
      }
    },
    {
      "cell_type": "code",
      "execution_count": 117,
      "metadata": {
        "id": "-Fos43ghiVPh"
      },
      "outputs": [],
      "source": [
        "library(dplyr)\n",
        "library(tidyverse)\n",
        "library(tidyr)\n",
        "library(ggplot2)"
      ]
    },
    {
      "cell_type": "markdown",
      "source": [
        "# Load Dataset"
      ],
      "metadata": {
        "id": "6v3kX60uj910"
      }
    },
    {
      "cell_type": "code",
      "source": [
        "df = read.csv('G2_anthropometry.csv')\n",
        "# first 6 rows in data\n",
        "head(df)"
      ],
      "metadata": {
        "colab": {
          "base_uri": "https://localhost:8080/",
          "height": 286
        },
        "id": "pBmtVbWhiq3V",
        "outputId": "cf42280d-461b-43d7-8135-da6f2a078aee"
      },
      "execution_count": 118,
      "outputs": [
        {
          "output_type": "display_data",
          "data": {
            "text/html": [
              "<table class=\"dataframe\">\n",
              "<caption>A data.frame: 6 × 4</caption>\n",
              "<thead>\n",
              "\t<tr><th></th><th scope=col>age</th><th scope=col>gender</th><th scope=col>foot_length</th><th scope=col>height</th></tr>\n",
              "\t<tr><th></th><th scope=col>&lt;dbl&gt;</th><th scope=col>&lt;chr&gt;</th><th scope=col>&lt;int&gt;</th><th scope=col>&lt;chr&gt;</th></tr>\n",
              "</thead>\n",
              "<tbody>\n",
              "\t<tr><th scope=row>1</th><td>4.166667</td><td>F </td><td>163</td><td>103.3 cm</td></tr>\n",
              "\t<tr><th scope=row>2</th><td>4.250000</td><td>cm</td><td>163</td><td>103.9 cm</td></tr>\n",
              "\t<tr><th scope=row>3</th><td>4.416667</td><td>F </td><td>171</td><td>111.2 cm</td></tr>\n",
              "\t<tr><th scope=row>4</th><td>3.833333</td><td>F </td><td>163</td><td>99.7 cm </td></tr>\n",
              "\t<tr><th scope=row>5</th><td>3.416667</td><td>F </td><td> NA</td><td>99.7 cm </td></tr>\n",
              "\t<tr><th scope=row>6</th><td>3.666667</td><td>cm</td><td>164</td><td>98.7 cm </td></tr>\n",
              "</tbody>\n",
              "</table>\n"
            ],
            "text/markdown": "\nA data.frame: 6 × 4\n\n| <!--/--> | age &lt;dbl&gt; | gender &lt;chr&gt; | foot_length &lt;int&gt; | height &lt;chr&gt; |\n|---|---|---|---|---|\n| 1 | 4.166667 | F  | 163 | 103.3 cm |\n| 2 | 4.250000 | cm | 163 | 103.9 cm |\n| 3 | 4.416667 | F  | 171 | 111.2 cm |\n| 4 | 3.833333 | F  | 163 | 99.7 cm  |\n| 5 | 3.416667 | F  |  NA | 99.7 cm  |\n| 6 | 3.666667 | cm | 164 | 98.7 cm  |\n\n",
            "text/latex": "A data.frame: 6 × 4\n\\begin{tabular}{r|llll}\n  & age & gender & foot\\_length & height\\\\\n  & <dbl> & <chr> & <int> & <chr>\\\\\n\\hline\n\t1 & 4.166667 & F  & 163 & 103.3 cm\\\\\n\t2 & 4.250000 & cm & 163 & 103.9 cm\\\\\n\t3 & 4.416667 & F  & 171 & 111.2 cm\\\\\n\t4 & 3.833333 & F  & 163 & 99.7 cm \\\\\n\t5 & 3.416667 & F  &  NA & 99.7 cm \\\\\n\t6 & 3.666667 & cm & 164 & 98.7 cm \\\\\n\\end{tabular}\n",
            "text/plain": [
              "  age      gender foot_length height  \n",
              "1 4.166667 F      163         103.3 cm\n",
              "2 4.250000 cm     163         103.9 cm\n",
              "3 4.416667 F      171         111.2 cm\n",
              "4 3.833333 F      163         99.7 cm \n",
              "5 3.416667 F       NA         99.7 cm \n",
              "6 3.666667 cm     164         98.7 cm "
            ]
          },
          "metadata": {}
        }
      ]
    },
    {
      "cell_type": "markdown",
      "source": [
        "## Make copy from data"
      ],
      "metadata": {
        "id": "a5I0XSxSJ6yk"
      }
    },
    {
      "cell_type": "code",
      "source": [
        "copy_df = df"
      ],
      "metadata": {
        "id": "qTMTYyXLm8ah"
      },
      "execution_count": 119,
      "outputs": []
    },
    {
      "cell_type": "markdown",
      "source": [
        "# Data Exploration"
      ],
      "metadata": {
        "id": "BoQTOLXAJ-mY"
      }
    },
    {
      "cell_type": "markdown",
      "source": [
        "### last 6 rows in data"
      ],
      "metadata": {
        "id": "gZHZoAsIKIfv"
      }
    },
    {
      "cell_type": "code",
      "source": [
        "tail(df)"
      ],
      "metadata": {
        "colab": {
          "base_uri": "https://localhost:8080/",
          "height": 286
        },
        "id": "6Azcz1k8j8H-",
        "outputId": "be6063a3-3b1f-4100-91a0-015cc9ef2601"
      },
      "execution_count": 120,
      "outputs": [
        {
          "output_type": "display_data",
          "data": {
            "text/html": [
              "<table class=\"dataframe\">\n",
              "<caption>A data.frame: 6 × 4</caption>\n",
              "<thead>\n",
              "\t<tr><th></th><th scope=col>age</th><th scope=col>gender</th><th scope=col>foot_length</th><th scope=col>height</th></tr>\n",
              "\t<tr><th></th><th scope=col>&lt;dbl&gt;</th><th scope=col>&lt;chr&gt;</th><th scope=col>&lt;int&gt;</th><th scope=col>&lt;chr&gt;</th></tr>\n",
              "</thead>\n",
              "<tbody>\n",
              "\t<tr><th scope=row>94</th><td>11.33333</td><td>cm</td><td>228</td><td>148 cm  </td></tr>\n",
              "\t<tr><th scope=row>95</th><td>12.16667</td><td>cm</td><td>253</td><td>149 cm  </td></tr>\n",
              "\t<tr><th scope=row>96</th><td>11.16667</td><td>cm</td><td>234</td><td>144.3 cm</td></tr>\n",
              "\t<tr><th scope=row>97</th><td>11.00000</td><td>cm</td><td>257</td><td>154.6 cm</td></tr>\n",
              "\t<tr><th scope=row>98</th><td>11.66667</td><td>cm</td><td>252</td><td>148.7 cm</td></tr>\n",
              "\t<tr><th scope=row>99</th><td>11.83333</td><td>cm</td><td> NA</td><td>145.2 cm</td></tr>\n",
              "</tbody>\n",
              "</table>\n"
            ],
            "text/markdown": "\nA data.frame: 6 × 4\n\n| <!--/--> | age &lt;dbl&gt; | gender &lt;chr&gt; | foot_length &lt;int&gt; | height &lt;chr&gt; |\n|---|---|---|---|---|\n| 94 | 11.33333 | cm | 228 | 148 cm   |\n| 95 | 12.16667 | cm | 253 | 149 cm   |\n| 96 | 11.16667 | cm | 234 | 144.3 cm |\n| 97 | 11.00000 | cm | 257 | 154.6 cm |\n| 98 | 11.66667 | cm | 252 | 148.7 cm |\n| 99 | 11.83333 | cm |  NA | 145.2 cm |\n\n",
            "text/latex": "A data.frame: 6 × 4\n\\begin{tabular}{r|llll}\n  & age & gender & foot\\_length & height\\\\\n  & <dbl> & <chr> & <int> & <chr>\\\\\n\\hline\n\t94 & 11.33333 & cm & 228 & 148 cm  \\\\\n\t95 & 12.16667 & cm & 253 & 149 cm  \\\\\n\t96 & 11.16667 & cm & 234 & 144.3 cm\\\\\n\t97 & 11.00000 & cm & 257 & 154.6 cm\\\\\n\t98 & 11.66667 & cm & 252 & 148.7 cm\\\\\n\t99 & 11.83333 & cm &  NA & 145.2 cm\\\\\n\\end{tabular}\n",
            "text/plain": [
              "   age      gender foot_length height  \n",
              "94 11.33333 cm     228         148 cm  \n",
              "95 12.16667 cm     253         149 cm  \n",
              "96 11.16667 cm     234         144.3 cm\n",
              "97 11.00000 cm     257         154.6 cm\n",
              "98 11.66667 cm     252         148.7 cm\n",
              "99 11.83333 cm      NA         145.2 cm"
            ]
          },
          "metadata": {}
        }
      ]
    },
    {
      "cell_type": "markdown",
      "source": [
        "### Dimentions od data, number of rows, number of columns"
      ],
      "metadata": {
        "id": "1asHOnoQKNJu"
      }
    },
    {
      "cell_type": "code",
      "source": [
        "dim(df)"
      ],
      "metadata": {
        "colab": {
          "base_uri": "https://localhost:8080/",
          "height": 34
        },
        "id": "lnMQywdcjRZC",
        "outputId": "eda10a69-044c-407e-b903-ef4e67338277"
      },
      "execution_count": 121,
      "outputs": [
        {
          "output_type": "display_data",
          "data": {
            "text/html": [
              "<style>\n",
              ".list-inline {list-style: none; margin:0; padding: 0}\n",
              ".list-inline>li {display: inline-block}\n",
              ".list-inline>li:not(:last-child)::after {content: \"\\00b7\"; padding: 0 .5ex}\n",
              "</style>\n",
              "<ol class=list-inline><li>99</li><li>4</li></ol>\n"
            ],
            "text/markdown": "1. 99\n2. 4\n\n\n",
            "text/latex": "\\begin{enumerate*}\n\\item 99\n\\item 4\n\\end{enumerate*}\n",
            "text/plain": [
              "[1] 99  4"
            ]
          },
          "metadata": {}
        }
      ]
    },
    {
      "cell_type": "markdown",
      "source": [
        "### All columns names in df"
      ],
      "metadata": {
        "id": "Dv2b6dbtKP3l"
      }
    },
    {
      "cell_type": "code",
      "source": [
        "\n",
        "colnames(df)"
      ],
      "metadata": {
        "colab": {
          "base_uri": "https://localhost:8080/",
          "height": 34
        },
        "id": "FpLo0-2Wkfrk",
        "outputId": "063ac606-7c14-4456-b235-0106dc8a28ba"
      },
      "execution_count": 122,
      "outputs": [
        {
          "output_type": "display_data",
          "data": {
            "text/html": [
              "<style>\n",
              ".list-inline {list-style: none; margin:0; padding: 0}\n",
              ".list-inline>li {display: inline-block}\n",
              ".list-inline>li:not(:last-child)::after {content: \"\\00b7\"; padding: 0 .5ex}\n",
              "</style>\n",
              "<ol class=list-inline><li>'age'</li><li>'gender'</li><li>'foot_length'</li><li>'height'</li></ol>\n"
            ],
            "text/markdown": "1. 'age'\n2. 'gender'\n3. 'foot_length'\n4. 'height'\n\n\n",
            "text/latex": "\\begin{enumerate*}\n\\item 'age'\n\\item 'gender'\n\\item 'foot\\_length'\n\\item 'height'\n\\end{enumerate*}\n",
            "text/plain": [
              "[1] \"age\"         \"gender\"      \"foot_length\" \"height\"     "
            ]
          },
          "metadata": {}
        }
      ]
    },
    {
      "cell_type": "markdown",
      "source": [
        "### number of columns"
      ],
      "metadata": {
        "id": "KCgognYZKSrB"
      }
    },
    {
      "cell_type": "code",
      "source": [
        "ncol(df)"
      ],
      "metadata": {
        "colab": {
          "base_uri": "https://localhost:8080/",
          "height": 34
        },
        "id": "WerxNXZdkkma",
        "outputId": "f7f2202c-d768-4abb-93b8-acf4203907d4"
      },
      "execution_count": 123,
      "outputs": [
        {
          "output_type": "display_data",
          "data": {
            "text/html": [
              "4"
            ],
            "text/markdown": "4",
            "text/latex": "4",
            "text/plain": [
              "[1] 4"
            ]
          },
          "metadata": {}
        }
      ]
    },
    {
      "cell_type": "markdown",
      "source": [
        "### number of row"
      ],
      "metadata": {
        "id": "5ROj3aZJKUUD"
      }
    },
    {
      "cell_type": "code",
      "source": [
        "nrow(df)"
      ],
      "metadata": {
        "colab": {
          "base_uri": "https://localhost:8080/",
          "height": 34
        },
        "id": "CyelgMgxkkkK",
        "outputId": "64f7cf78-004c-4fcf-bc4d-11d6e6226ed1"
      },
      "execution_count": 124,
      "outputs": [
        {
          "output_type": "display_data",
          "data": {
            "text/html": [
              "99"
            ],
            "text/markdown": "99",
            "text/latex": "99",
            "text/plain": [
              "[1] 99"
            ]
          },
          "metadata": {}
        }
      ]
    },
    {
      "cell_type": "markdown",
      "source": [
        "### All df sturcture functions"
      ],
      "metadata": {
        "id": "CKuxlA8UKZGc"
      }
    },
    {
      "cell_type": "code",
      "source": [
        "# data type of df\n",
        "class(df)"
      ],
      "metadata": {
        "colab": {
          "base_uri": "https://localhost:8080/",
          "height": 34
        },
        "id": "oGRELiCHkkhx",
        "outputId": "66e617cb-7ac1-46de-9c70-bffdaf7b1903"
      },
      "execution_count": 125,
      "outputs": [
        {
          "output_type": "display_data",
          "data": {
            "text/html": [
              "'data.frame'"
            ],
            "text/markdown": "'data.frame'",
            "text/latex": "'data.frame'",
            "text/plain": [
              "[1] \"data.frame\""
            ]
          },
          "metadata": {}
        }
      ]
    },
    {
      "cell_type": "code",
      "source": [
        "glimpse(df)"
      ],
      "metadata": {
        "colab": {
          "base_uri": "https://localhost:8080/"
        },
        "id": "A0bcRHbIkqi6",
        "outputId": "b367ffa4-a152-4442-abbf-7b3a98c5fd84"
      },
      "execution_count": 126,
      "outputs": [
        {
          "output_type": "stream",
          "name": "stdout",
          "text": [
            "Rows: 99\n",
            "Columns: 4\n",
            "$ age         \u001b[3m\u001b[90m<dbl>\u001b[39m\u001b[23m 4.166667, 4.250000, 4.416667, 3.833333, 3.416667, 3.666667…\n",
            "$ gender      \u001b[3m\u001b[90m<chr>\u001b[39m\u001b[23m \"F\", \"cm\", \"F\", \"F\", \"F\", \"cm\", \"cm\", \"F\", \"F\", \"F\", \"F\", …\n",
            "$ foot_length \u001b[3m\u001b[90m<int>\u001b[39m\u001b[23m 163, 163, 171, 163, NA, 164, 150, 150, 175, 172, 177, 235,…\n",
            "$ height      \u001b[3m\u001b[90m<chr>\u001b[39m\u001b[23m \"103.3 cm\", \"103.9 cm\", \"111.2 cm\", \"99.7 cm\", \"99.7 cm\", …\n"
          ]
        }
      ]
    },
    {
      "cell_type": "code",
      "source": [
        "# structure: output is column name, datatype, part of data in column\n",
        "str(df)"
      ],
      "metadata": {
        "colab": {
          "base_uri": "https://localhost:8080/"
        },
        "id": "SfU-FRdjkqgD",
        "outputId": "28cd3cfb-2e2b-48ae-8326-1b239dcf4ff2"
      },
      "execution_count": 127,
      "outputs": [
        {
          "output_type": "stream",
          "name": "stdout",
          "text": [
            "'data.frame':\t99 obs. of  4 variables:\n",
            " $ age        : num  4.17 4.25 4.42 3.83 3.42 ...\n",
            " $ gender     : chr  \"F\" \"cm\" \"F\" \"F\" ...\n",
            " $ foot_length: int  163 163 171 163 NA 164 150 150 175 172 ...\n",
            " $ height     : chr  \"103.3 cm\" \"103.9 cm\" \"111.2 cm\" \"99.7 cm\" ...\n"
          ]
        }
      ]
    },
    {
      "cell_type": "code",
      "source": [
        "# statistical summary, contains:\n",
        "# if data is numberic: min, max, mean, 1st, 3st\n",
        "# if string or character: lejgth, mode, class\n",
        "summary(df)"
      ],
      "metadata": {
        "colab": {
          "base_uri": "https://localhost:8080/",
          "height": 161
        },
        "id": "vy0C5u0Qkws0",
        "outputId": "77a8d08c-245f-4895-a33f-43fba92d27be"
      },
      "execution_count": 128,
      "outputs": [
        {
          "output_type": "display_data",
          "data": {
            "text/plain": [
              "      age            gender           foot_length       height         \n",
              " Min.   : 3.333   Length:99          Min.   :150.0   Length:99         \n",
              " 1st Qu.: 7.833   Class :character   1st Qu.:197.0   Class :character  \n",
              " Median :11.333   Mode  :character   Median :227.0   Mode  :character  \n",
              " Mean   :10.242                      Mean   :219.1                     \n",
              " 3rd Qu.:12.875                      3rd Qu.:243.0                     \n",
              " Max.   :14.417                      Max.   :278.0                     \n",
              "                                     NA's   :6                         "
            ]
          },
          "metadata": {}
        }
      ]
    },
    {
      "cell_type": "code",
      "source": [
        "# out working directory\n",
        "getwd()"
      ],
      "metadata": {
        "colab": {
          "base_uri": "https://localhost:8080/",
          "height": 34
        },
        "id": "qei3KDS2kqdX",
        "outputId": "9a8cc7cf-224f-488d-fdf1-de8755f57741"
      },
      "execution_count": 129,
      "outputs": [
        {
          "output_type": "display_data",
          "data": {
            "text/html": [
              "'/content'"
            ],
            "text/markdown": "'/content'",
            "text/latex": "'/content'",
            "text/plain": [
              "[1] \"/content\""
            ]
          },
          "metadata": {}
        }
      ]
    },
    {
      "cell_type": "code",
      "source": [
        "# out all dataset\n",
        "View(df)"
      ],
      "metadata": {
        "colab": {
          "base_uri": "https://localhost:8080/",
          "height": 1000
        },
        "id": "SKbxuV26kzdr",
        "outputId": "2435f02c-8cbc-48fd-eab0-81e78c04c1be"
      },
      "execution_count": 130,
      "outputs": [
        {
          "output_type": "display_data",
          "data": {
            "text/plain": [
              "   age       gender foot_length height  \n",
              "1   4.166667 F      163         103.3 cm\n",
              "2   4.250000 cm     163         103.9 cm\n",
              "3   4.416667 F      171         111.2 cm\n",
              "4   3.833333 F      163         99.7 cm \n",
              "5   3.416667 F       NA         99.7 cm \n",
              "6   3.666667 cm     164         98.7 cm \n",
              "7   3.333333 cm     150         94.1 cm \n",
              "8   3.583333 F      150         93.3 cm \n",
              "9   5.500000 F      175         116.4 cm\n",
              "10  5.166667 F      172         110 cm  \n",
              "11  4.833333 F      177         109.4 cm\n",
              "12 13.500000 F      235         149.3 cm\n",
              "13 13.666667 F      250         157.8 cm\n",
              "14 13.916667 F      243         161.8 cm\n",
              "15 13.333333 F      230         157.7 cm\n",
              "16 13.333333 F      232         146.8 cm\n",
              "17 12.500000 F      241         156.3 cm\n",
              "18 12.583333 F      238         156 cm  \n",
              "19 12.333333 F      234         152.8 cm\n",
              "20 13.833333 F      227         148.5 cm\n",
              "21 12.833333 F      219         145.1 cm\n",
              "22 12.750000 F       NA         157.6 cm\n",
              "23 11.916667 F      232         149.4 cm\n",
              "24 12.666667 F      216         139.9 cm\n",
              "25 12.750000 F      233         143.9 cm\n",
              "26 12.083333 F      260         152 cm  \n",
              "27 14.416667 cm     268         168.7 cm\n",
              "28 13.500000 cm      NA         174.2 cm\n",
              "29 12.083333 cm     247         154.1 cm\n",
              "30 12.166667 cm     245         158.9 cm\n",
              "⋮  ⋮         ⋮      ⋮           ⋮       \n",
              "70  8.833333 F      189         125.3   \n",
              "71  8.416667 F      208         133.2   \n",
              "72  7.500000 F      185         118.2   \n",
              "73  7.333333 F      195         128     \n",
              "74 11.916667 F      228         148     \n",
              "75  5.000000 F      173         108.7 cm\n",
              "76  6.750000 F      198         123.4   \n",
              "77  6.750000 F      204         126.7   \n",
              "78  4.916667 F      166         114.5   \n",
              "79  8.333333 F      179         111.5   \n",
              "80  8.750000 F      188         126.4   \n",
              "81  8.833333 F      201         136.6   \n",
              "82  8.000000 F      193         123.9   \n",
              "83 11.333333 F      230         149.8   \n",
              "84  9.666667 F      204         127.2   \n",
              "85 10.416667 F      216         143.3   \n",
              "86 11.416667 F      241         150.8   \n",
              "87 12.166667 F      245         150.6   \n",
              "88 10.666667 cm     218         140.1 cm\n",
              "89 10.500000 cm     238         144.9 cm\n",
              "90  9.750000 cm     219         138 cm  \n",
              "91 10.000000 cm     232         136.5 cm\n",
              "92 10.666667 cm     232         139.8 cm\n",
              "93 12.916667 cm     225         137.5 cm\n",
              "94 11.333333 cm     228         148 cm  \n",
              "95 12.166667 cm     253         149 cm  \n",
              "96 11.166667 cm     234         144.3 cm\n",
              "97 11.000000 cm     257         154.6 cm\n",
              "98 11.666667 cm     252         148.7 cm\n",
              "99 11.833333 cm      NA         145.2 cm"
            ],
            "text/html": [
              "<table class=\"dataframe\">\n",
              "<caption>A data.frame: 99 × 4</caption>\n",
              "<thead>\n",
              "\t<tr><th scope=col>age</th><th scope=col>gender</th><th scope=col>foot_length</th><th scope=col>height</th></tr>\n",
              "\t<tr><th scope=col>&lt;dbl&gt;</th><th scope=col>&lt;chr&gt;</th><th scope=col>&lt;int&gt;</th><th scope=col>&lt;chr&gt;</th></tr>\n",
              "</thead>\n",
              "<tbody>\n",
              "\t<tr><td> 4.166667</td><td>F </td><td>163</td><td>103.3 cm</td></tr>\n",
              "\t<tr><td> 4.250000</td><td>cm</td><td>163</td><td>103.9 cm</td></tr>\n",
              "\t<tr><td> 4.416667</td><td>F </td><td>171</td><td>111.2 cm</td></tr>\n",
              "\t<tr><td> 3.833333</td><td>F </td><td>163</td><td>99.7 cm </td></tr>\n",
              "\t<tr><td> 3.416667</td><td>F </td><td> NA</td><td>99.7 cm </td></tr>\n",
              "\t<tr><td> 3.666667</td><td>cm</td><td>164</td><td>98.7 cm </td></tr>\n",
              "\t<tr><td> 3.333333</td><td>cm</td><td>150</td><td>94.1 cm </td></tr>\n",
              "\t<tr><td> 3.583333</td><td>F </td><td>150</td><td>93.3 cm </td></tr>\n",
              "\t<tr><td> 5.500000</td><td>F </td><td>175</td><td>116.4 cm</td></tr>\n",
              "\t<tr><td> 5.166667</td><td>F </td><td>172</td><td>110 cm  </td></tr>\n",
              "\t<tr><td> 4.833333</td><td>F </td><td>177</td><td>109.4 cm</td></tr>\n",
              "\t<tr><td>13.500000</td><td>F </td><td>235</td><td>149.3 cm</td></tr>\n",
              "\t<tr><td>13.666667</td><td>F </td><td>250</td><td>157.8 cm</td></tr>\n",
              "\t<tr><td>13.916667</td><td>F </td><td>243</td><td>161.8 cm</td></tr>\n",
              "\t<tr><td>13.333333</td><td>F </td><td>230</td><td>157.7 cm</td></tr>\n",
              "\t<tr><td>13.333333</td><td>F </td><td>232</td><td>146.8 cm</td></tr>\n",
              "\t<tr><td>12.500000</td><td>F </td><td>241</td><td>156.3 cm</td></tr>\n",
              "\t<tr><td>12.583333</td><td>F </td><td>238</td><td>156 cm  </td></tr>\n",
              "\t<tr><td>12.333333</td><td>F </td><td>234</td><td>152.8 cm</td></tr>\n",
              "\t<tr><td>13.833333</td><td>F </td><td>227</td><td>148.5 cm</td></tr>\n",
              "\t<tr><td>12.833333</td><td>F </td><td>219</td><td>145.1 cm</td></tr>\n",
              "\t<tr><td>12.750000</td><td>F </td><td> NA</td><td>157.6 cm</td></tr>\n",
              "\t<tr><td>11.916667</td><td>F </td><td>232</td><td>149.4 cm</td></tr>\n",
              "\t<tr><td>12.666667</td><td>F </td><td>216</td><td>139.9 cm</td></tr>\n",
              "\t<tr><td>12.750000</td><td>F </td><td>233</td><td>143.9 cm</td></tr>\n",
              "\t<tr><td>12.083333</td><td>F </td><td>260</td><td>152 cm  </td></tr>\n",
              "\t<tr><td>14.416667</td><td>cm</td><td>268</td><td>168.7 cm</td></tr>\n",
              "\t<tr><td>13.500000</td><td>cm</td><td> NA</td><td>174.2 cm</td></tr>\n",
              "\t<tr><td>12.083333</td><td>cm</td><td>247</td><td>154.1 cm</td></tr>\n",
              "\t<tr><td>12.166667</td><td>cm</td><td>245</td><td>158.9 cm</td></tr>\n",
              "\t<tr><td>⋮</td><td>⋮</td><td>⋮</td><td>⋮</td></tr>\n",
              "\t<tr><td> 8.833333</td><td>F </td><td>189</td><td>125.3   </td></tr>\n",
              "\t<tr><td> 8.416667</td><td>F </td><td>208</td><td>133.2   </td></tr>\n",
              "\t<tr><td> 7.500000</td><td>F </td><td>185</td><td>118.2   </td></tr>\n",
              "\t<tr><td> 7.333333</td><td>F </td><td>195</td><td>128     </td></tr>\n",
              "\t<tr><td>11.916667</td><td>F </td><td>228</td><td>148     </td></tr>\n",
              "\t<tr><td> 5.000000</td><td>F </td><td>173</td><td>108.7 cm</td></tr>\n",
              "\t<tr><td> 6.750000</td><td>F </td><td>198</td><td>123.4   </td></tr>\n",
              "\t<tr><td> 6.750000</td><td>F </td><td>204</td><td>126.7   </td></tr>\n",
              "\t<tr><td> 4.916667</td><td>F </td><td>166</td><td>114.5   </td></tr>\n",
              "\t<tr><td> 8.333333</td><td>F </td><td>179</td><td>111.5   </td></tr>\n",
              "\t<tr><td> 8.750000</td><td>F </td><td>188</td><td>126.4   </td></tr>\n",
              "\t<tr><td> 8.833333</td><td>F </td><td>201</td><td>136.6   </td></tr>\n",
              "\t<tr><td> 8.000000</td><td>F </td><td>193</td><td>123.9   </td></tr>\n",
              "\t<tr><td>11.333333</td><td>F </td><td>230</td><td>149.8   </td></tr>\n",
              "\t<tr><td> 9.666667</td><td>F </td><td>204</td><td>127.2   </td></tr>\n",
              "\t<tr><td>10.416667</td><td>F </td><td>216</td><td>143.3   </td></tr>\n",
              "\t<tr><td>11.416667</td><td>F </td><td>241</td><td>150.8   </td></tr>\n",
              "\t<tr><td>12.166667</td><td>F </td><td>245</td><td>150.6   </td></tr>\n",
              "\t<tr><td>10.666667</td><td>cm</td><td>218</td><td>140.1 cm</td></tr>\n",
              "\t<tr><td>10.500000</td><td>cm</td><td>238</td><td>144.9 cm</td></tr>\n",
              "\t<tr><td> 9.750000</td><td>cm</td><td>219</td><td>138 cm  </td></tr>\n",
              "\t<tr><td>10.000000</td><td>cm</td><td>232</td><td>136.5 cm</td></tr>\n",
              "\t<tr><td>10.666667</td><td>cm</td><td>232</td><td>139.8 cm</td></tr>\n",
              "\t<tr><td>12.916667</td><td>cm</td><td>225</td><td>137.5 cm</td></tr>\n",
              "\t<tr><td>11.333333</td><td>cm</td><td>228</td><td>148 cm  </td></tr>\n",
              "\t<tr><td>12.166667</td><td>cm</td><td>253</td><td>149 cm  </td></tr>\n",
              "\t<tr><td>11.166667</td><td>cm</td><td>234</td><td>144.3 cm</td></tr>\n",
              "\t<tr><td>11.000000</td><td>cm</td><td>257</td><td>154.6 cm</td></tr>\n",
              "\t<tr><td>11.666667</td><td>cm</td><td>252</td><td>148.7 cm</td></tr>\n",
              "\t<tr><td>11.833333</td><td>cm</td><td> NA</td><td>145.2 cm</td></tr>\n",
              "</tbody>\n",
              "</table>\n"
            ],
            "text/markdown": "\nA data.frame: 99 × 4\n\n| age &lt;dbl&gt; | gender &lt;chr&gt; | foot_length &lt;int&gt; | height &lt;chr&gt; |\n|---|---|---|---|\n|  4.166667 | F  | 163 | 103.3 cm |\n|  4.250000 | cm | 163 | 103.9 cm |\n|  4.416667 | F  | 171 | 111.2 cm |\n|  3.833333 | F  | 163 | 99.7 cm  |\n|  3.416667 | F  |  NA | 99.7 cm  |\n|  3.666667 | cm | 164 | 98.7 cm  |\n|  3.333333 | cm | 150 | 94.1 cm  |\n|  3.583333 | F  | 150 | 93.3 cm  |\n|  5.500000 | F  | 175 | 116.4 cm |\n|  5.166667 | F  | 172 | 110 cm   |\n|  4.833333 | F  | 177 | 109.4 cm |\n| 13.500000 | F  | 235 | 149.3 cm |\n| 13.666667 | F  | 250 | 157.8 cm |\n| 13.916667 | F  | 243 | 161.8 cm |\n| 13.333333 | F  | 230 | 157.7 cm |\n| 13.333333 | F  | 232 | 146.8 cm |\n| 12.500000 | F  | 241 | 156.3 cm |\n| 12.583333 | F  | 238 | 156 cm   |\n| 12.333333 | F  | 234 | 152.8 cm |\n| 13.833333 | F  | 227 | 148.5 cm |\n| 12.833333 | F  | 219 | 145.1 cm |\n| 12.750000 | F  |  NA | 157.6 cm |\n| 11.916667 | F  | 232 | 149.4 cm |\n| 12.666667 | F  | 216 | 139.9 cm |\n| 12.750000 | F  | 233 | 143.9 cm |\n| 12.083333 | F  | 260 | 152 cm   |\n| 14.416667 | cm | 268 | 168.7 cm |\n| 13.500000 | cm |  NA | 174.2 cm |\n| 12.083333 | cm | 247 | 154.1 cm |\n| 12.166667 | cm | 245 | 158.9 cm |\n| ⋮ | ⋮ | ⋮ | ⋮ |\n|  8.833333 | F  | 189 | 125.3    |\n|  8.416667 | F  | 208 | 133.2    |\n|  7.500000 | F  | 185 | 118.2    |\n|  7.333333 | F  | 195 | 128      |\n| 11.916667 | F  | 228 | 148      |\n|  5.000000 | F  | 173 | 108.7 cm |\n|  6.750000 | F  | 198 | 123.4    |\n|  6.750000 | F  | 204 | 126.7    |\n|  4.916667 | F  | 166 | 114.5    |\n|  8.333333 | F  | 179 | 111.5    |\n|  8.750000 | F  | 188 | 126.4    |\n|  8.833333 | F  | 201 | 136.6    |\n|  8.000000 | F  | 193 | 123.9    |\n| 11.333333 | F  | 230 | 149.8    |\n|  9.666667 | F  | 204 | 127.2    |\n| 10.416667 | F  | 216 | 143.3    |\n| 11.416667 | F  | 241 | 150.8    |\n| 12.166667 | F  | 245 | 150.6    |\n| 10.666667 | cm | 218 | 140.1 cm |\n| 10.500000 | cm | 238 | 144.9 cm |\n|  9.750000 | cm | 219 | 138 cm   |\n| 10.000000 | cm | 232 | 136.5 cm |\n| 10.666667 | cm | 232 | 139.8 cm |\n| 12.916667 | cm | 225 | 137.5 cm |\n| 11.333333 | cm | 228 | 148 cm   |\n| 12.166667 | cm | 253 | 149 cm   |\n| 11.166667 | cm | 234 | 144.3 cm |\n| 11.000000 | cm | 257 | 154.6 cm |\n| 11.666667 | cm | 252 | 148.7 cm |\n| 11.833333 | cm |  NA | 145.2 cm |\n\n",
            "text/latex": "A data.frame: 99 × 4\n\\begin{tabular}{llll}\n age & gender & foot\\_length & height\\\\\n <dbl> & <chr> & <int> & <chr>\\\\\n\\hline\n\t  4.166667 & F  & 163 & 103.3 cm\\\\\n\t  4.250000 & cm & 163 & 103.9 cm\\\\\n\t  4.416667 & F  & 171 & 111.2 cm\\\\\n\t  3.833333 & F  & 163 & 99.7 cm \\\\\n\t  3.416667 & F  &  NA & 99.7 cm \\\\\n\t  3.666667 & cm & 164 & 98.7 cm \\\\\n\t  3.333333 & cm & 150 & 94.1 cm \\\\\n\t  3.583333 & F  & 150 & 93.3 cm \\\\\n\t  5.500000 & F  & 175 & 116.4 cm\\\\\n\t  5.166667 & F  & 172 & 110 cm  \\\\\n\t  4.833333 & F  & 177 & 109.4 cm\\\\\n\t 13.500000 & F  & 235 & 149.3 cm\\\\\n\t 13.666667 & F  & 250 & 157.8 cm\\\\\n\t 13.916667 & F  & 243 & 161.8 cm\\\\\n\t 13.333333 & F  & 230 & 157.7 cm\\\\\n\t 13.333333 & F  & 232 & 146.8 cm\\\\\n\t 12.500000 & F  & 241 & 156.3 cm\\\\\n\t 12.583333 & F  & 238 & 156 cm  \\\\\n\t 12.333333 & F  & 234 & 152.8 cm\\\\\n\t 13.833333 & F  & 227 & 148.5 cm\\\\\n\t 12.833333 & F  & 219 & 145.1 cm\\\\\n\t 12.750000 & F  &  NA & 157.6 cm\\\\\n\t 11.916667 & F  & 232 & 149.4 cm\\\\\n\t 12.666667 & F  & 216 & 139.9 cm\\\\\n\t 12.750000 & F  & 233 & 143.9 cm\\\\\n\t 12.083333 & F  & 260 & 152 cm  \\\\\n\t 14.416667 & cm & 268 & 168.7 cm\\\\\n\t 13.500000 & cm &  NA & 174.2 cm\\\\\n\t 12.083333 & cm & 247 & 154.1 cm\\\\\n\t 12.166667 & cm & 245 & 158.9 cm\\\\\n\t ⋮ & ⋮ & ⋮ & ⋮\\\\\n\t  8.833333 & F  & 189 & 125.3   \\\\\n\t  8.416667 & F  & 208 & 133.2   \\\\\n\t  7.500000 & F  & 185 & 118.2   \\\\\n\t  7.333333 & F  & 195 & 128     \\\\\n\t 11.916667 & F  & 228 & 148     \\\\\n\t  5.000000 & F  & 173 & 108.7 cm\\\\\n\t  6.750000 & F  & 198 & 123.4   \\\\\n\t  6.750000 & F  & 204 & 126.7   \\\\\n\t  4.916667 & F  & 166 & 114.5   \\\\\n\t  8.333333 & F  & 179 & 111.5   \\\\\n\t  8.750000 & F  & 188 & 126.4   \\\\\n\t  8.833333 & F  & 201 & 136.6   \\\\\n\t  8.000000 & F  & 193 & 123.9   \\\\\n\t 11.333333 & F  & 230 & 149.8   \\\\\n\t  9.666667 & F  & 204 & 127.2   \\\\\n\t 10.416667 & F  & 216 & 143.3   \\\\\n\t 11.416667 & F  & 241 & 150.8   \\\\\n\t 12.166667 & F  & 245 & 150.6   \\\\\n\t 10.666667 & cm & 218 & 140.1 cm\\\\\n\t 10.500000 & cm & 238 & 144.9 cm\\\\\n\t  9.750000 & cm & 219 & 138 cm  \\\\\n\t 10.000000 & cm & 232 & 136.5 cm\\\\\n\t 10.666667 & cm & 232 & 139.8 cm\\\\\n\t 12.916667 & cm & 225 & 137.5 cm\\\\\n\t 11.333333 & cm & 228 & 148 cm  \\\\\n\t 12.166667 & cm & 253 & 149 cm  \\\\\n\t 11.166667 & cm & 234 & 144.3 cm\\\\\n\t 11.000000 & cm & 257 & 154.6 cm\\\\\n\t 11.666667 & cm & 252 & 148.7 cm\\\\\n\t 11.833333 & cm &  NA & 145.2 cm\\\\\n\\end{tabular}\n"
          },
          "metadata": {}
        }
      ]
    },
    {
      "cell_type": "code",
      "source": [],
      "metadata": {
        "id": "7oWyKF2XkzZl"
      },
      "execution_count": 131,
      "outputs": []
    },
    {
      "cell_type": "markdown",
      "source": [
        "# Subsets from Our data:"
      ],
      "metadata": {
        "id": "R946DQcz4sdR"
      }
    },
    {
      "cell_type": "markdown",
      "source": [
        "### Rows 1, 2 and all columns"
      ],
      "metadata": {
        "id": "BVIR6ZUh4wQW"
      }
    },
    {
      "cell_type": "code",
      "source": [
        "df[c(1,2),]"
      ],
      "metadata": {
        "colab": {
          "base_uri": "https://localhost:8080/",
          "height": 160
        },
        "id": "ztKjU3tE4v-0",
        "outputId": "c9d1cefb-3223-428b-dd52-8ced8a325a29"
      },
      "execution_count": 132,
      "outputs": [
        {
          "output_type": "display_data",
          "data": {
            "text/html": [
              "<table class=\"dataframe\">\n",
              "<caption>A data.frame: 2 × 4</caption>\n",
              "<thead>\n",
              "\t<tr><th></th><th scope=col>age</th><th scope=col>gender</th><th scope=col>foot_length</th><th scope=col>height</th></tr>\n",
              "\t<tr><th></th><th scope=col>&lt;dbl&gt;</th><th scope=col>&lt;chr&gt;</th><th scope=col>&lt;int&gt;</th><th scope=col>&lt;chr&gt;</th></tr>\n",
              "</thead>\n",
              "<tbody>\n",
              "\t<tr><th scope=row>1</th><td>4.166667</td><td>F </td><td>163</td><td>103.3 cm</td></tr>\n",
              "\t<tr><th scope=row>2</th><td>4.250000</td><td>cm</td><td>163</td><td>103.9 cm</td></tr>\n",
              "</tbody>\n",
              "</table>\n"
            ],
            "text/markdown": "\nA data.frame: 2 × 4\n\n| <!--/--> | age &lt;dbl&gt; | gender &lt;chr&gt; | foot_length &lt;int&gt; | height &lt;chr&gt; |\n|---|---|---|---|---|\n| 1 | 4.166667 | F  | 163 | 103.3 cm |\n| 2 | 4.250000 | cm | 163 | 103.9 cm |\n\n",
            "text/latex": "A data.frame: 2 × 4\n\\begin{tabular}{r|llll}\n  & age & gender & foot\\_length & height\\\\\n  & <dbl> & <chr> & <int> & <chr>\\\\\n\\hline\n\t1 & 4.166667 & F  & 163 & 103.3 cm\\\\\n\t2 & 4.250000 & cm & 163 & 103.9 cm\\\\\n\\end{tabular}\n",
            "text/plain": [
              "  age      gender foot_length height  \n",
              "1 4.166667 F      163         103.3 cm\n",
              "2 4.250000 cm     163         103.9 cm"
            ]
          },
          "metadata": {}
        }
      ]
    },
    {
      "cell_type": "markdown",
      "source": [
        "### All rows except 1"
      ],
      "metadata": {
        "id": "Qakuo2ic44ig"
      }
    },
    {
      "cell_type": "code",
      "source": [
        "df[c(-1),]"
      ],
      "metadata": {
        "colab": {
          "base_uri": "https://localhost:8080/",
          "height": 1000
        },
        "id": "KRmSInH-4v7f",
        "outputId": "27cdb65f-bb10-4eb4-90e7-c0f28856e4d0"
      },
      "execution_count": 133,
      "outputs": [
        {
          "output_type": "display_data",
          "data": {
            "text/html": [
              "<table class=\"dataframe\">\n",
              "<caption>A data.frame: 98 × 4</caption>\n",
              "<thead>\n",
              "\t<tr><th></th><th scope=col>age</th><th scope=col>gender</th><th scope=col>foot_length</th><th scope=col>height</th></tr>\n",
              "\t<tr><th></th><th scope=col>&lt;dbl&gt;</th><th scope=col>&lt;chr&gt;</th><th scope=col>&lt;int&gt;</th><th scope=col>&lt;chr&gt;</th></tr>\n",
              "</thead>\n",
              "<tbody>\n",
              "\t<tr><th scope=row>2</th><td> 4.250000</td><td>cm</td><td>163</td><td>103.9 cm</td></tr>\n",
              "\t<tr><th scope=row>3</th><td> 4.416667</td><td>F </td><td>171</td><td>111.2 cm</td></tr>\n",
              "\t<tr><th scope=row>4</th><td> 3.833333</td><td>F </td><td>163</td><td>99.7 cm </td></tr>\n",
              "\t<tr><th scope=row>5</th><td> 3.416667</td><td>F </td><td> NA</td><td>99.7 cm </td></tr>\n",
              "\t<tr><th scope=row>6</th><td> 3.666667</td><td>cm</td><td>164</td><td>98.7 cm </td></tr>\n",
              "\t<tr><th scope=row>7</th><td> 3.333333</td><td>cm</td><td>150</td><td>94.1 cm </td></tr>\n",
              "\t<tr><th scope=row>8</th><td> 3.583333</td><td>F </td><td>150</td><td>93.3 cm </td></tr>\n",
              "\t<tr><th scope=row>9</th><td> 5.500000</td><td>F </td><td>175</td><td>116.4 cm</td></tr>\n",
              "\t<tr><th scope=row>10</th><td> 5.166667</td><td>F </td><td>172</td><td>110 cm  </td></tr>\n",
              "\t<tr><th scope=row>11</th><td> 4.833333</td><td>F </td><td>177</td><td>109.4 cm</td></tr>\n",
              "\t<tr><th scope=row>12</th><td>13.500000</td><td>F </td><td>235</td><td>149.3 cm</td></tr>\n",
              "\t<tr><th scope=row>13</th><td>13.666667</td><td>F </td><td>250</td><td>157.8 cm</td></tr>\n",
              "\t<tr><th scope=row>14</th><td>13.916667</td><td>F </td><td>243</td><td>161.8 cm</td></tr>\n",
              "\t<tr><th scope=row>15</th><td>13.333333</td><td>F </td><td>230</td><td>157.7 cm</td></tr>\n",
              "\t<tr><th scope=row>16</th><td>13.333333</td><td>F </td><td>232</td><td>146.8 cm</td></tr>\n",
              "\t<tr><th scope=row>17</th><td>12.500000</td><td>F </td><td>241</td><td>156.3 cm</td></tr>\n",
              "\t<tr><th scope=row>18</th><td>12.583333</td><td>F </td><td>238</td><td>156 cm  </td></tr>\n",
              "\t<tr><th scope=row>19</th><td>12.333333</td><td>F </td><td>234</td><td>152.8 cm</td></tr>\n",
              "\t<tr><th scope=row>20</th><td>13.833333</td><td>F </td><td>227</td><td>148.5 cm</td></tr>\n",
              "\t<tr><th scope=row>21</th><td>12.833333</td><td>F </td><td>219</td><td>145.1 cm</td></tr>\n",
              "\t<tr><th scope=row>22</th><td>12.750000</td><td>F </td><td> NA</td><td>157.6 cm</td></tr>\n",
              "\t<tr><th scope=row>23</th><td>11.916667</td><td>F </td><td>232</td><td>149.4 cm</td></tr>\n",
              "\t<tr><th scope=row>24</th><td>12.666667</td><td>F </td><td>216</td><td>139.9 cm</td></tr>\n",
              "\t<tr><th scope=row>25</th><td>12.750000</td><td>F </td><td>233</td><td>143.9 cm</td></tr>\n",
              "\t<tr><th scope=row>26</th><td>12.083333</td><td>F </td><td>260</td><td>152 cm  </td></tr>\n",
              "\t<tr><th scope=row>27</th><td>14.416667</td><td>cm</td><td>268</td><td>168.7 cm</td></tr>\n",
              "\t<tr><th scope=row>28</th><td>13.500000</td><td>cm</td><td> NA</td><td>174.2 cm</td></tr>\n",
              "\t<tr><th scope=row>29</th><td>12.083333</td><td>cm</td><td>247</td><td>154.1 cm</td></tr>\n",
              "\t<tr><th scope=row>30</th><td>12.166667</td><td>cm</td><td>245</td><td>158.9 cm</td></tr>\n",
              "\t<tr><th scope=row>31</th><td>13.750000</td><td>cm</td><td>250</td><td>155.8 cm</td></tr>\n",
              "\t<tr><th scope=row>⋮</th><td>⋮</td><td>⋮</td><td>⋮</td><td>⋮</td></tr>\n",
              "\t<tr><th scope=row>70</th><td> 8.833333</td><td>F </td><td>189</td><td>125.3   </td></tr>\n",
              "\t<tr><th scope=row>71</th><td> 8.416667</td><td>F </td><td>208</td><td>133.2   </td></tr>\n",
              "\t<tr><th scope=row>72</th><td> 7.500000</td><td>F </td><td>185</td><td>118.2   </td></tr>\n",
              "\t<tr><th scope=row>73</th><td> 7.333333</td><td>F </td><td>195</td><td>128     </td></tr>\n",
              "\t<tr><th scope=row>74</th><td>11.916667</td><td>F </td><td>228</td><td>148     </td></tr>\n",
              "\t<tr><th scope=row>75</th><td> 5.000000</td><td>F </td><td>173</td><td>108.7 cm</td></tr>\n",
              "\t<tr><th scope=row>76</th><td> 6.750000</td><td>F </td><td>198</td><td>123.4   </td></tr>\n",
              "\t<tr><th scope=row>77</th><td> 6.750000</td><td>F </td><td>204</td><td>126.7   </td></tr>\n",
              "\t<tr><th scope=row>78</th><td> 4.916667</td><td>F </td><td>166</td><td>114.5   </td></tr>\n",
              "\t<tr><th scope=row>79</th><td> 8.333333</td><td>F </td><td>179</td><td>111.5   </td></tr>\n",
              "\t<tr><th scope=row>80</th><td> 8.750000</td><td>F </td><td>188</td><td>126.4   </td></tr>\n",
              "\t<tr><th scope=row>81</th><td> 8.833333</td><td>F </td><td>201</td><td>136.6   </td></tr>\n",
              "\t<tr><th scope=row>82</th><td> 8.000000</td><td>F </td><td>193</td><td>123.9   </td></tr>\n",
              "\t<tr><th scope=row>83</th><td>11.333333</td><td>F </td><td>230</td><td>149.8   </td></tr>\n",
              "\t<tr><th scope=row>84</th><td> 9.666667</td><td>F </td><td>204</td><td>127.2   </td></tr>\n",
              "\t<tr><th scope=row>85</th><td>10.416667</td><td>F </td><td>216</td><td>143.3   </td></tr>\n",
              "\t<tr><th scope=row>86</th><td>11.416667</td><td>F </td><td>241</td><td>150.8   </td></tr>\n",
              "\t<tr><th scope=row>87</th><td>12.166667</td><td>F </td><td>245</td><td>150.6   </td></tr>\n",
              "\t<tr><th scope=row>88</th><td>10.666667</td><td>cm</td><td>218</td><td>140.1 cm</td></tr>\n",
              "\t<tr><th scope=row>89</th><td>10.500000</td><td>cm</td><td>238</td><td>144.9 cm</td></tr>\n",
              "\t<tr><th scope=row>90</th><td> 9.750000</td><td>cm</td><td>219</td><td>138 cm  </td></tr>\n",
              "\t<tr><th scope=row>91</th><td>10.000000</td><td>cm</td><td>232</td><td>136.5 cm</td></tr>\n",
              "\t<tr><th scope=row>92</th><td>10.666667</td><td>cm</td><td>232</td><td>139.8 cm</td></tr>\n",
              "\t<tr><th scope=row>93</th><td>12.916667</td><td>cm</td><td>225</td><td>137.5 cm</td></tr>\n",
              "\t<tr><th scope=row>94</th><td>11.333333</td><td>cm</td><td>228</td><td>148 cm  </td></tr>\n",
              "\t<tr><th scope=row>95</th><td>12.166667</td><td>cm</td><td>253</td><td>149 cm  </td></tr>\n",
              "\t<tr><th scope=row>96</th><td>11.166667</td><td>cm</td><td>234</td><td>144.3 cm</td></tr>\n",
              "\t<tr><th scope=row>97</th><td>11.000000</td><td>cm</td><td>257</td><td>154.6 cm</td></tr>\n",
              "\t<tr><th scope=row>98</th><td>11.666667</td><td>cm</td><td>252</td><td>148.7 cm</td></tr>\n",
              "\t<tr><th scope=row>99</th><td>11.833333</td><td>cm</td><td> NA</td><td>145.2 cm</td></tr>\n",
              "</tbody>\n",
              "</table>\n"
            ],
            "text/markdown": "\nA data.frame: 98 × 4\n\n| <!--/--> | age &lt;dbl&gt; | gender &lt;chr&gt; | foot_length &lt;int&gt; | height &lt;chr&gt; |\n|---|---|---|---|---|\n| 2 |  4.250000 | cm | 163 | 103.9 cm |\n| 3 |  4.416667 | F  | 171 | 111.2 cm |\n| 4 |  3.833333 | F  | 163 | 99.7 cm  |\n| 5 |  3.416667 | F  |  NA | 99.7 cm  |\n| 6 |  3.666667 | cm | 164 | 98.7 cm  |\n| 7 |  3.333333 | cm | 150 | 94.1 cm  |\n| 8 |  3.583333 | F  | 150 | 93.3 cm  |\n| 9 |  5.500000 | F  | 175 | 116.4 cm |\n| 10 |  5.166667 | F  | 172 | 110 cm   |\n| 11 |  4.833333 | F  | 177 | 109.4 cm |\n| 12 | 13.500000 | F  | 235 | 149.3 cm |\n| 13 | 13.666667 | F  | 250 | 157.8 cm |\n| 14 | 13.916667 | F  | 243 | 161.8 cm |\n| 15 | 13.333333 | F  | 230 | 157.7 cm |\n| 16 | 13.333333 | F  | 232 | 146.8 cm |\n| 17 | 12.500000 | F  | 241 | 156.3 cm |\n| 18 | 12.583333 | F  | 238 | 156 cm   |\n| 19 | 12.333333 | F  | 234 | 152.8 cm |\n| 20 | 13.833333 | F  | 227 | 148.5 cm |\n| 21 | 12.833333 | F  | 219 | 145.1 cm |\n| 22 | 12.750000 | F  |  NA | 157.6 cm |\n| 23 | 11.916667 | F  | 232 | 149.4 cm |\n| 24 | 12.666667 | F  | 216 | 139.9 cm |\n| 25 | 12.750000 | F  | 233 | 143.9 cm |\n| 26 | 12.083333 | F  | 260 | 152 cm   |\n| 27 | 14.416667 | cm | 268 | 168.7 cm |\n| 28 | 13.500000 | cm |  NA | 174.2 cm |\n| 29 | 12.083333 | cm | 247 | 154.1 cm |\n| 30 | 12.166667 | cm | 245 | 158.9 cm |\n| 31 | 13.750000 | cm | 250 | 155.8 cm |\n| ⋮ | ⋮ | ⋮ | ⋮ | ⋮ |\n| 70 |  8.833333 | F  | 189 | 125.3    |\n| 71 |  8.416667 | F  | 208 | 133.2    |\n| 72 |  7.500000 | F  | 185 | 118.2    |\n| 73 |  7.333333 | F  | 195 | 128      |\n| 74 | 11.916667 | F  | 228 | 148      |\n| 75 |  5.000000 | F  | 173 | 108.7 cm |\n| 76 |  6.750000 | F  | 198 | 123.4    |\n| 77 |  6.750000 | F  | 204 | 126.7    |\n| 78 |  4.916667 | F  | 166 | 114.5    |\n| 79 |  8.333333 | F  | 179 | 111.5    |\n| 80 |  8.750000 | F  | 188 | 126.4    |\n| 81 |  8.833333 | F  | 201 | 136.6    |\n| 82 |  8.000000 | F  | 193 | 123.9    |\n| 83 | 11.333333 | F  | 230 | 149.8    |\n| 84 |  9.666667 | F  | 204 | 127.2    |\n| 85 | 10.416667 | F  | 216 | 143.3    |\n| 86 | 11.416667 | F  | 241 | 150.8    |\n| 87 | 12.166667 | F  | 245 | 150.6    |\n| 88 | 10.666667 | cm | 218 | 140.1 cm |\n| 89 | 10.500000 | cm | 238 | 144.9 cm |\n| 90 |  9.750000 | cm | 219 | 138 cm   |\n| 91 | 10.000000 | cm | 232 | 136.5 cm |\n| 92 | 10.666667 | cm | 232 | 139.8 cm |\n| 93 | 12.916667 | cm | 225 | 137.5 cm |\n| 94 | 11.333333 | cm | 228 | 148 cm   |\n| 95 | 12.166667 | cm | 253 | 149 cm   |\n| 96 | 11.166667 | cm | 234 | 144.3 cm |\n| 97 | 11.000000 | cm | 257 | 154.6 cm |\n| 98 | 11.666667 | cm | 252 | 148.7 cm |\n| 99 | 11.833333 | cm |  NA | 145.2 cm |\n\n",
            "text/latex": "A data.frame: 98 × 4\n\\begin{tabular}{r|llll}\n  & age & gender & foot\\_length & height\\\\\n  & <dbl> & <chr> & <int> & <chr>\\\\\n\\hline\n\t2 &  4.250000 & cm & 163 & 103.9 cm\\\\\n\t3 &  4.416667 & F  & 171 & 111.2 cm\\\\\n\t4 &  3.833333 & F  & 163 & 99.7 cm \\\\\n\t5 &  3.416667 & F  &  NA & 99.7 cm \\\\\n\t6 &  3.666667 & cm & 164 & 98.7 cm \\\\\n\t7 &  3.333333 & cm & 150 & 94.1 cm \\\\\n\t8 &  3.583333 & F  & 150 & 93.3 cm \\\\\n\t9 &  5.500000 & F  & 175 & 116.4 cm\\\\\n\t10 &  5.166667 & F  & 172 & 110 cm  \\\\\n\t11 &  4.833333 & F  & 177 & 109.4 cm\\\\\n\t12 & 13.500000 & F  & 235 & 149.3 cm\\\\\n\t13 & 13.666667 & F  & 250 & 157.8 cm\\\\\n\t14 & 13.916667 & F  & 243 & 161.8 cm\\\\\n\t15 & 13.333333 & F  & 230 & 157.7 cm\\\\\n\t16 & 13.333333 & F  & 232 & 146.8 cm\\\\\n\t17 & 12.500000 & F  & 241 & 156.3 cm\\\\\n\t18 & 12.583333 & F  & 238 & 156 cm  \\\\\n\t19 & 12.333333 & F  & 234 & 152.8 cm\\\\\n\t20 & 13.833333 & F  & 227 & 148.5 cm\\\\\n\t21 & 12.833333 & F  & 219 & 145.1 cm\\\\\n\t22 & 12.750000 & F  &  NA & 157.6 cm\\\\\n\t23 & 11.916667 & F  & 232 & 149.4 cm\\\\\n\t24 & 12.666667 & F  & 216 & 139.9 cm\\\\\n\t25 & 12.750000 & F  & 233 & 143.9 cm\\\\\n\t26 & 12.083333 & F  & 260 & 152 cm  \\\\\n\t27 & 14.416667 & cm & 268 & 168.7 cm\\\\\n\t28 & 13.500000 & cm &  NA & 174.2 cm\\\\\n\t29 & 12.083333 & cm & 247 & 154.1 cm\\\\\n\t30 & 12.166667 & cm & 245 & 158.9 cm\\\\\n\t31 & 13.750000 & cm & 250 & 155.8 cm\\\\\n\t⋮ & ⋮ & ⋮ & ⋮ & ⋮\\\\\n\t70 &  8.833333 & F  & 189 & 125.3   \\\\\n\t71 &  8.416667 & F  & 208 & 133.2   \\\\\n\t72 &  7.500000 & F  & 185 & 118.2   \\\\\n\t73 &  7.333333 & F  & 195 & 128     \\\\\n\t74 & 11.916667 & F  & 228 & 148     \\\\\n\t75 &  5.000000 & F  & 173 & 108.7 cm\\\\\n\t76 &  6.750000 & F  & 198 & 123.4   \\\\\n\t77 &  6.750000 & F  & 204 & 126.7   \\\\\n\t78 &  4.916667 & F  & 166 & 114.5   \\\\\n\t79 &  8.333333 & F  & 179 & 111.5   \\\\\n\t80 &  8.750000 & F  & 188 & 126.4   \\\\\n\t81 &  8.833333 & F  & 201 & 136.6   \\\\\n\t82 &  8.000000 & F  & 193 & 123.9   \\\\\n\t83 & 11.333333 & F  & 230 & 149.8   \\\\\n\t84 &  9.666667 & F  & 204 & 127.2   \\\\\n\t85 & 10.416667 & F  & 216 & 143.3   \\\\\n\t86 & 11.416667 & F  & 241 & 150.8   \\\\\n\t87 & 12.166667 & F  & 245 & 150.6   \\\\\n\t88 & 10.666667 & cm & 218 & 140.1 cm\\\\\n\t89 & 10.500000 & cm & 238 & 144.9 cm\\\\\n\t90 &  9.750000 & cm & 219 & 138 cm  \\\\\n\t91 & 10.000000 & cm & 232 & 136.5 cm\\\\\n\t92 & 10.666667 & cm & 232 & 139.8 cm\\\\\n\t93 & 12.916667 & cm & 225 & 137.5 cm\\\\\n\t94 & 11.333333 & cm & 228 & 148 cm  \\\\\n\t95 & 12.166667 & cm & 253 & 149 cm  \\\\\n\t96 & 11.166667 & cm & 234 & 144.3 cm\\\\\n\t97 & 11.000000 & cm & 257 & 154.6 cm\\\\\n\t98 & 11.666667 & cm & 252 & 148.7 cm\\\\\n\t99 & 11.833333 & cm &  NA & 145.2 cm\\\\\n\\end{tabular}\n",
            "text/plain": [
              "   age       gender foot_length height  \n",
              "2   4.250000 cm     163         103.9 cm\n",
              "3   4.416667 F      171         111.2 cm\n",
              "4   3.833333 F      163         99.7 cm \n",
              "5   3.416667 F       NA         99.7 cm \n",
              "6   3.666667 cm     164         98.7 cm \n",
              "7   3.333333 cm     150         94.1 cm \n",
              "8   3.583333 F      150         93.3 cm \n",
              "9   5.500000 F      175         116.4 cm\n",
              "10  5.166667 F      172         110 cm  \n",
              "11  4.833333 F      177         109.4 cm\n",
              "12 13.500000 F      235         149.3 cm\n",
              "13 13.666667 F      250         157.8 cm\n",
              "14 13.916667 F      243         161.8 cm\n",
              "15 13.333333 F      230         157.7 cm\n",
              "16 13.333333 F      232         146.8 cm\n",
              "17 12.500000 F      241         156.3 cm\n",
              "18 12.583333 F      238         156 cm  \n",
              "19 12.333333 F      234         152.8 cm\n",
              "20 13.833333 F      227         148.5 cm\n",
              "21 12.833333 F      219         145.1 cm\n",
              "22 12.750000 F       NA         157.6 cm\n",
              "23 11.916667 F      232         149.4 cm\n",
              "24 12.666667 F      216         139.9 cm\n",
              "25 12.750000 F      233         143.9 cm\n",
              "26 12.083333 F      260         152 cm  \n",
              "27 14.416667 cm     268         168.7 cm\n",
              "28 13.500000 cm      NA         174.2 cm\n",
              "29 12.083333 cm     247         154.1 cm\n",
              "30 12.166667 cm     245         158.9 cm\n",
              "31 13.750000 cm     250         155.8 cm\n",
              "⋮  ⋮         ⋮      ⋮           ⋮       \n",
              "70  8.833333 F      189         125.3   \n",
              "71  8.416667 F      208         133.2   \n",
              "72  7.500000 F      185         118.2   \n",
              "73  7.333333 F      195         128     \n",
              "74 11.916667 F      228         148     \n",
              "75  5.000000 F      173         108.7 cm\n",
              "76  6.750000 F      198         123.4   \n",
              "77  6.750000 F      204         126.7   \n",
              "78  4.916667 F      166         114.5   \n",
              "79  8.333333 F      179         111.5   \n",
              "80  8.750000 F      188         126.4   \n",
              "81  8.833333 F      201         136.6   \n",
              "82  8.000000 F      193         123.9   \n",
              "83 11.333333 F      230         149.8   \n",
              "84  9.666667 F      204         127.2   \n",
              "85 10.416667 F      216         143.3   \n",
              "86 11.416667 F      241         150.8   \n",
              "87 12.166667 F      245         150.6   \n",
              "88 10.666667 cm     218         140.1 cm\n",
              "89 10.500000 cm     238         144.9 cm\n",
              "90  9.750000 cm     219         138 cm  \n",
              "91 10.000000 cm     232         136.5 cm\n",
              "92 10.666667 cm     232         139.8 cm\n",
              "93 12.916667 cm     225         137.5 cm\n",
              "94 11.333333 cm     228         148 cm  \n",
              "95 12.166667 cm     253         149 cm  \n",
              "96 11.166667 cm     234         144.3 cm\n",
              "97 11.000000 cm     257         154.6 cm\n",
              "98 11.666667 cm     252         148.7 cm\n",
              "99 11.833333 cm      NA         145.2 cm"
            ]
          },
          "metadata": {}
        }
      ]
    },
    {
      "cell_type": "markdown",
      "source": [
        "### All Columns except 1"
      ],
      "metadata": {
        "id": "ZL6avHIh5GEc"
      }
    },
    {
      "cell_type": "code",
      "source": [
        "df[,c(-1)]"
      ],
      "metadata": {
        "colab": {
          "base_uri": "https://localhost:8080/",
          "height": 1000
        },
        "id": "UsZuDvXo4v5Z",
        "outputId": "46e26558-581f-44e1-e75d-350d9b0d3f00"
      },
      "execution_count": 134,
      "outputs": [
        {
          "output_type": "display_data",
          "data": {
            "text/html": [
              "<table class=\"dataframe\">\n",
              "<caption>A data.frame: 99 × 3</caption>\n",
              "<thead>\n",
              "\t<tr><th scope=col>gender</th><th scope=col>foot_length</th><th scope=col>height</th></tr>\n",
              "\t<tr><th scope=col>&lt;chr&gt;</th><th scope=col>&lt;int&gt;</th><th scope=col>&lt;chr&gt;</th></tr>\n",
              "</thead>\n",
              "<tbody>\n",
              "\t<tr><td>F </td><td>163</td><td>103.3 cm</td></tr>\n",
              "\t<tr><td>cm</td><td>163</td><td>103.9 cm</td></tr>\n",
              "\t<tr><td>F </td><td>171</td><td>111.2 cm</td></tr>\n",
              "\t<tr><td>F </td><td>163</td><td>99.7 cm </td></tr>\n",
              "\t<tr><td>F </td><td> NA</td><td>99.7 cm </td></tr>\n",
              "\t<tr><td>cm</td><td>164</td><td>98.7 cm </td></tr>\n",
              "\t<tr><td>cm</td><td>150</td><td>94.1 cm </td></tr>\n",
              "\t<tr><td>F </td><td>150</td><td>93.3 cm </td></tr>\n",
              "\t<tr><td>F </td><td>175</td><td>116.4 cm</td></tr>\n",
              "\t<tr><td>F </td><td>172</td><td>110 cm  </td></tr>\n",
              "\t<tr><td>F </td><td>177</td><td>109.4 cm</td></tr>\n",
              "\t<tr><td>F </td><td>235</td><td>149.3 cm</td></tr>\n",
              "\t<tr><td>F </td><td>250</td><td>157.8 cm</td></tr>\n",
              "\t<tr><td>F </td><td>243</td><td>161.8 cm</td></tr>\n",
              "\t<tr><td>F </td><td>230</td><td>157.7 cm</td></tr>\n",
              "\t<tr><td>F </td><td>232</td><td>146.8 cm</td></tr>\n",
              "\t<tr><td>F </td><td>241</td><td>156.3 cm</td></tr>\n",
              "\t<tr><td>F </td><td>238</td><td>156 cm  </td></tr>\n",
              "\t<tr><td>F </td><td>234</td><td>152.8 cm</td></tr>\n",
              "\t<tr><td>F </td><td>227</td><td>148.5 cm</td></tr>\n",
              "\t<tr><td>F </td><td>219</td><td>145.1 cm</td></tr>\n",
              "\t<tr><td>F </td><td> NA</td><td>157.6 cm</td></tr>\n",
              "\t<tr><td>F </td><td>232</td><td>149.4 cm</td></tr>\n",
              "\t<tr><td>F </td><td>216</td><td>139.9 cm</td></tr>\n",
              "\t<tr><td>F </td><td>233</td><td>143.9 cm</td></tr>\n",
              "\t<tr><td>F </td><td>260</td><td>152 cm  </td></tr>\n",
              "\t<tr><td>cm</td><td>268</td><td>168.7 cm</td></tr>\n",
              "\t<tr><td>cm</td><td> NA</td><td>174.2 cm</td></tr>\n",
              "\t<tr><td>cm</td><td>247</td><td>154.1 cm</td></tr>\n",
              "\t<tr><td>cm</td><td>245</td><td>158.9 cm</td></tr>\n",
              "\t<tr><td>⋮</td><td>⋮</td><td>⋮</td></tr>\n",
              "\t<tr><td>F </td><td>189</td><td>125.3   </td></tr>\n",
              "\t<tr><td>F </td><td>208</td><td>133.2   </td></tr>\n",
              "\t<tr><td>F </td><td>185</td><td>118.2   </td></tr>\n",
              "\t<tr><td>F </td><td>195</td><td>128     </td></tr>\n",
              "\t<tr><td>F </td><td>228</td><td>148     </td></tr>\n",
              "\t<tr><td>F </td><td>173</td><td>108.7 cm</td></tr>\n",
              "\t<tr><td>F </td><td>198</td><td>123.4   </td></tr>\n",
              "\t<tr><td>F </td><td>204</td><td>126.7   </td></tr>\n",
              "\t<tr><td>F </td><td>166</td><td>114.5   </td></tr>\n",
              "\t<tr><td>F </td><td>179</td><td>111.5   </td></tr>\n",
              "\t<tr><td>F </td><td>188</td><td>126.4   </td></tr>\n",
              "\t<tr><td>F </td><td>201</td><td>136.6   </td></tr>\n",
              "\t<tr><td>F </td><td>193</td><td>123.9   </td></tr>\n",
              "\t<tr><td>F </td><td>230</td><td>149.8   </td></tr>\n",
              "\t<tr><td>F </td><td>204</td><td>127.2   </td></tr>\n",
              "\t<tr><td>F </td><td>216</td><td>143.3   </td></tr>\n",
              "\t<tr><td>F </td><td>241</td><td>150.8   </td></tr>\n",
              "\t<tr><td>F </td><td>245</td><td>150.6   </td></tr>\n",
              "\t<tr><td>cm</td><td>218</td><td>140.1 cm</td></tr>\n",
              "\t<tr><td>cm</td><td>238</td><td>144.9 cm</td></tr>\n",
              "\t<tr><td>cm</td><td>219</td><td>138 cm  </td></tr>\n",
              "\t<tr><td>cm</td><td>232</td><td>136.5 cm</td></tr>\n",
              "\t<tr><td>cm</td><td>232</td><td>139.8 cm</td></tr>\n",
              "\t<tr><td>cm</td><td>225</td><td>137.5 cm</td></tr>\n",
              "\t<tr><td>cm</td><td>228</td><td>148 cm  </td></tr>\n",
              "\t<tr><td>cm</td><td>253</td><td>149 cm  </td></tr>\n",
              "\t<tr><td>cm</td><td>234</td><td>144.3 cm</td></tr>\n",
              "\t<tr><td>cm</td><td>257</td><td>154.6 cm</td></tr>\n",
              "\t<tr><td>cm</td><td>252</td><td>148.7 cm</td></tr>\n",
              "\t<tr><td>cm</td><td> NA</td><td>145.2 cm</td></tr>\n",
              "</tbody>\n",
              "</table>\n"
            ],
            "text/markdown": "\nA data.frame: 99 × 3\n\n| gender &lt;chr&gt; | foot_length &lt;int&gt; | height &lt;chr&gt; |\n|---|---|---|\n| F  | 163 | 103.3 cm |\n| cm | 163 | 103.9 cm |\n| F  | 171 | 111.2 cm |\n| F  | 163 | 99.7 cm  |\n| F  |  NA | 99.7 cm  |\n| cm | 164 | 98.7 cm  |\n| cm | 150 | 94.1 cm  |\n| F  | 150 | 93.3 cm  |\n| F  | 175 | 116.4 cm |\n| F  | 172 | 110 cm   |\n| F  | 177 | 109.4 cm |\n| F  | 235 | 149.3 cm |\n| F  | 250 | 157.8 cm |\n| F  | 243 | 161.8 cm |\n| F  | 230 | 157.7 cm |\n| F  | 232 | 146.8 cm |\n| F  | 241 | 156.3 cm |\n| F  | 238 | 156 cm   |\n| F  | 234 | 152.8 cm |\n| F  | 227 | 148.5 cm |\n| F  | 219 | 145.1 cm |\n| F  |  NA | 157.6 cm |\n| F  | 232 | 149.4 cm |\n| F  | 216 | 139.9 cm |\n| F  | 233 | 143.9 cm |\n| F  | 260 | 152 cm   |\n| cm | 268 | 168.7 cm |\n| cm |  NA | 174.2 cm |\n| cm | 247 | 154.1 cm |\n| cm | 245 | 158.9 cm |\n| ⋮ | ⋮ | ⋮ |\n| F  | 189 | 125.3    |\n| F  | 208 | 133.2    |\n| F  | 185 | 118.2    |\n| F  | 195 | 128      |\n| F  | 228 | 148      |\n| F  | 173 | 108.7 cm |\n| F  | 198 | 123.4    |\n| F  | 204 | 126.7    |\n| F  | 166 | 114.5    |\n| F  | 179 | 111.5    |\n| F  | 188 | 126.4    |\n| F  | 201 | 136.6    |\n| F  | 193 | 123.9    |\n| F  | 230 | 149.8    |\n| F  | 204 | 127.2    |\n| F  | 216 | 143.3    |\n| F  | 241 | 150.8    |\n| F  | 245 | 150.6    |\n| cm | 218 | 140.1 cm |\n| cm | 238 | 144.9 cm |\n| cm | 219 | 138 cm   |\n| cm | 232 | 136.5 cm |\n| cm | 232 | 139.8 cm |\n| cm | 225 | 137.5 cm |\n| cm | 228 | 148 cm   |\n| cm | 253 | 149 cm   |\n| cm | 234 | 144.3 cm |\n| cm | 257 | 154.6 cm |\n| cm | 252 | 148.7 cm |\n| cm |  NA | 145.2 cm |\n\n",
            "text/latex": "A data.frame: 99 × 3\n\\begin{tabular}{lll}\n gender & foot\\_length & height\\\\\n <chr> & <int> & <chr>\\\\\n\\hline\n\t F  & 163 & 103.3 cm\\\\\n\t cm & 163 & 103.9 cm\\\\\n\t F  & 171 & 111.2 cm\\\\\n\t F  & 163 & 99.7 cm \\\\\n\t F  &  NA & 99.7 cm \\\\\n\t cm & 164 & 98.7 cm \\\\\n\t cm & 150 & 94.1 cm \\\\\n\t F  & 150 & 93.3 cm \\\\\n\t F  & 175 & 116.4 cm\\\\\n\t F  & 172 & 110 cm  \\\\\n\t F  & 177 & 109.4 cm\\\\\n\t F  & 235 & 149.3 cm\\\\\n\t F  & 250 & 157.8 cm\\\\\n\t F  & 243 & 161.8 cm\\\\\n\t F  & 230 & 157.7 cm\\\\\n\t F  & 232 & 146.8 cm\\\\\n\t F  & 241 & 156.3 cm\\\\\n\t F  & 238 & 156 cm  \\\\\n\t F  & 234 & 152.8 cm\\\\\n\t F  & 227 & 148.5 cm\\\\\n\t F  & 219 & 145.1 cm\\\\\n\t F  &  NA & 157.6 cm\\\\\n\t F  & 232 & 149.4 cm\\\\\n\t F  & 216 & 139.9 cm\\\\\n\t F  & 233 & 143.9 cm\\\\\n\t F  & 260 & 152 cm  \\\\\n\t cm & 268 & 168.7 cm\\\\\n\t cm &  NA & 174.2 cm\\\\\n\t cm & 247 & 154.1 cm\\\\\n\t cm & 245 & 158.9 cm\\\\\n\t ⋮ & ⋮ & ⋮\\\\\n\t F  & 189 & 125.3   \\\\\n\t F  & 208 & 133.2   \\\\\n\t F  & 185 & 118.2   \\\\\n\t F  & 195 & 128     \\\\\n\t F  & 228 & 148     \\\\\n\t F  & 173 & 108.7 cm\\\\\n\t F  & 198 & 123.4   \\\\\n\t F  & 204 & 126.7   \\\\\n\t F  & 166 & 114.5   \\\\\n\t F  & 179 & 111.5   \\\\\n\t F  & 188 & 126.4   \\\\\n\t F  & 201 & 136.6   \\\\\n\t F  & 193 & 123.9   \\\\\n\t F  & 230 & 149.8   \\\\\n\t F  & 204 & 127.2   \\\\\n\t F  & 216 & 143.3   \\\\\n\t F  & 241 & 150.8   \\\\\n\t F  & 245 & 150.6   \\\\\n\t cm & 218 & 140.1 cm\\\\\n\t cm & 238 & 144.9 cm\\\\\n\t cm & 219 & 138 cm  \\\\\n\t cm & 232 & 136.5 cm\\\\\n\t cm & 232 & 139.8 cm\\\\\n\t cm & 225 & 137.5 cm\\\\\n\t cm & 228 & 148 cm  \\\\\n\t cm & 253 & 149 cm  \\\\\n\t cm & 234 & 144.3 cm\\\\\n\t cm & 257 & 154.6 cm\\\\\n\t cm & 252 & 148.7 cm\\\\\n\t cm &  NA & 145.2 cm\\\\\n\\end{tabular}\n",
            "text/plain": [
              "   gender foot_length height  \n",
              "1  F      163         103.3 cm\n",
              "2  cm     163         103.9 cm\n",
              "3  F      171         111.2 cm\n",
              "4  F      163         99.7 cm \n",
              "5  F       NA         99.7 cm \n",
              "6  cm     164         98.7 cm \n",
              "7  cm     150         94.1 cm \n",
              "8  F      150         93.3 cm \n",
              "9  F      175         116.4 cm\n",
              "10 F      172         110 cm  \n",
              "11 F      177         109.4 cm\n",
              "12 F      235         149.3 cm\n",
              "13 F      250         157.8 cm\n",
              "14 F      243         161.8 cm\n",
              "15 F      230         157.7 cm\n",
              "16 F      232         146.8 cm\n",
              "17 F      241         156.3 cm\n",
              "18 F      238         156 cm  \n",
              "19 F      234         152.8 cm\n",
              "20 F      227         148.5 cm\n",
              "21 F      219         145.1 cm\n",
              "22 F       NA         157.6 cm\n",
              "23 F      232         149.4 cm\n",
              "24 F      216         139.9 cm\n",
              "25 F      233         143.9 cm\n",
              "26 F      260         152 cm  \n",
              "27 cm     268         168.7 cm\n",
              "28 cm      NA         174.2 cm\n",
              "29 cm     247         154.1 cm\n",
              "30 cm     245         158.9 cm\n",
              "⋮  ⋮      ⋮           ⋮       \n",
              "70 F      189         125.3   \n",
              "71 F      208         133.2   \n",
              "72 F      185         118.2   \n",
              "73 F      195         128     \n",
              "74 F      228         148     \n",
              "75 F      173         108.7 cm\n",
              "76 F      198         123.4   \n",
              "77 F      204         126.7   \n",
              "78 F      166         114.5   \n",
              "79 F      179         111.5   \n",
              "80 F      188         126.4   \n",
              "81 F      201         136.6   \n",
              "82 F      193         123.9   \n",
              "83 F      230         149.8   \n",
              "84 F      204         127.2   \n",
              "85 F      216         143.3   \n",
              "86 F      241         150.8   \n",
              "87 F      245         150.6   \n",
              "88 cm     218         140.1 cm\n",
              "89 cm     238         144.9 cm\n",
              "90 cm     219         138 cm  \n",
              "91 cm     232         136.5 cm\n",
              "92 cm     232         139.8 cm\n",
              "93 cm     225         137.5 cm\n",
              "94 cm     228         148 cm  \n",
              "95 cm     253         149 cm  \n",
              "96 cm     234         144.3 cm\n",
              "97 cm     257         154.6 cm\n",
              "98 cm     252         148.7 cm\n",
              "99 cm      NA         145.2 cm"
            ]
          },
          "metadata": {}
        }
      ]
    },
    {
      "cell_type": "markdown",
      "source": [
        "### All rows except 1 and column 1"
      ],
      "metadata": {
        "id": "TSCH__ns5LD8"
      }
    },
    {
      "cell_type": "code",
      "source": [
        "df[c(-1), c(-1)]"
      ],
      "metadata": {
        "colab": {
          "base_uri": "https://localhost:8080/",
          "height": 1000
        },
        "id": "k9OezBdN4v3P",
        "outputId": "903a4bae-5a75-46ce-c92c-b80609cb6efd"
      },
      "execution_count": 135,
      "outputs": [
        {
          "output_type": "display_data",
          "data": {
            "text/html": [
              "<table class=\"dataframe\">\n",
              "<caption>A data.frame: 98 × 3</caption>\n",
              "<thead>\n",
              "\t<tr><th></th><th scope=col>gender</th><th scope=col>foot_length</th><th scope=col>height</th></tr>\n",
              "\t<tr><th></th><th scope=col>&lt;chr&gt;</th><th scope=col>&lt;int&gt;</th><th scope=col>&lt;chr&gt;</th></tr>\n",
              "</thead>\n",
              "<tbody>\n",
              "\t<tr><th scope=row>2</th><td>cm</td><td>163</td><td>103.9 cm</td></tr>\n",
              "\t<tr><th scope=row>3</th><td>F </td><td>171</td><td>111.2 cm</td></tr>\n",
              "\t<tr><th scope=row>4</th><td>F </td><td>163</td><td>99.7 cm </td></tr>\n",
              "\t<tr><th scope=row>5</th><td>F </td><td> NA</td><td>99.7 cm </td></tr>\n",
              "\t<tr><th scope=row>6</th><td>cm</td><td>164</td><td>98.7 cm </td></tr>\n",
              "\t<tr><th scope=row>7</th><td>cm</td><td>150</td><td>94.1 cm </td></tr>\n",
              "\t<tr><th scope=row>8</th><td>F </td><td>150</td><td>93.3 cm </td></tr>\n",
              "\t<tr><th scope=row>9</th><td>F </td><td>175</td><td>116.4 cm</td></tr>\n",
              "\t<tr><th scope=row>10</th><td>F </td><td>172</td><td>110 cm  </td></tr>\n",
              "\t<tr><th scope=row>11</th><td>F </td><td>177</td><td>109.4 cm</td></tr>\n",
              "\t<tr><th scope=row>12</th><td>F </td><td>235</td><td>149.3 cm</td></tr>\n",
              "\t<tr><th scope=row>13</th><td>F </td><td>250</td><td>157.8 cm</td></tr>\n",
              "\t<tr><th scope=row>14</th><td>F </td><td>243</td><td>161.8 cm</td></tr>\n",
              "\t<tr><th scope=row>15</th><td>F </td><td>230</td><td>157.7 cm</td></tr>\n",
              "\t<tr><th scope=row>16</th><td>F </td><td>232</td><td>146.8 cm</td></tr>\n",
              "\t<tr><th scope=row>17</th><td>F </td><td>241</td><td>156.3 cm</td></tr>\n",
              "\t<tr><th scope=row>18</th><td>F </td><td>238</td><td>156 cm  </td></tr>\n",
              "\t<tr><th scope=row>19</th><td>F </td><td>234</td><td>152.8 cm</td></tr>\n",
              "\t<tr><th scope=row>20</th><td>F </td><td>227</td><td>148.5 cm</td></tr>\n",
              "\t<tr><th scope=row>21</th><td>F </td><td>219</td><td>145.1 cm</td></tr>\n",
              "\t<tr><th scope=row>22</th><td>F </td><td> NA</td><td>157.6 cm</td></tr>\n",
              "\t<tr><th scope=row>23</th><td>F </td><td>232</td><td>149.4 cm</td></tr>\n",
              "\t<tr><th scope=row>24</th><td>F </td><td>216</td><td>139.9 cm</td></tr>\n",
              "\t<tr><th scope=row>25</th><td>F </td><td>233</td><td>143.9 cm</td></tr>\n",
              "\t<tr><th scope=row>26</th><td>F </td><td>260</td><td>152 cm  </td></tr>\n",
              "\t<tr><th scope=row>27</th><td>cm</td><td>268</td><td>168.7 cm</td></tr>\n",
              "\t<tr><th scope=row>28</th><td>cm</td><td> NA</td><td>174.2 cm</td></tr>\n",
              "\t<tr><th scope=row>29</th><td>cm</td><td>247</td><td>154.1 cm</td></tr>\n",
              "\t<tr><th scope=row>30</th><td>cm</td><td>245</td><td>158.9 cm</td></tr>\n",
              "\t<tr><th scope=row>31</th><td>cm</td><td>250</td><td>155.8 cm</td></tr>\n",
              "\t<tr><th scope=row>⋮</th><td>⋮</td><td>⋮</td><td>⋮</td></tr>\n",
              "\t<tr><th scope=row>70</th><td>F </td><td>189</td><td>125.3   </td></tr>\n",
              "\t<tr><th scope=row>71</th><td>F </td><td>208</td><td>133.2   </td></tr>\n",
              "\t<tr><th scope=row>72</th><td>F </td><td>185</td><td>118.2   </td></tr>\n",
              "\t<tr><th scope=row>73</th><td>F </td><td>195</td><td>128     </td></tr>\n",
              "\t<tr><th scope=row>74</th><td>F </td><td>228</td><td>148     </td></tr>\n",
              "\t<tr><th scope=row>75</th><td>F </td><td>173</td><td>108.7 cm</td></tr>\n",
              "\t<tr><th scope=row>76</th><td>F </td><td>198</td><td>123.4   </td></tr>\n",
              "\t<tr><th scope=row>77</th><td>F </td><td>204</td><td>126.7   </td></tr>\n",
              "\t<tr><th scope=row>78</th><td>F </td><td>166</td><td>114.5   </td></tr>\n",
              "\t<tr><th scope=row>79</th><td>F </td><td>179</td><td>111.5   </td></tr>\n",
              "\t<tr><th scope=row>80</th><td>F </td><td>188</td><td>126.4   </td></tr>\n",
              "\t<tr><th scope=row>81</th><td>F </td><td>201</td><td>136.6   </td></tr>\n",
              "\t<tr><th scope=row>82</th><td>F </td><td>193</td><td>123.9   </td></tr>\n",
              "\t<tr><th scope=row>83</th><td>F </td><td>230</td><td>149.8   </td></tr>\n",
              "\t<tr><th scope=row>84</th><td>F </td><td>204</td><td>127.2   </td></tr>\n",
              "\t<tr><th scope=row>85</th><td>F </td><td>216</td><td>143.3   </td></tr>\n",
              "\t<tr><th scope=row>86</th><td>F </td><td>241</td><td>150.8   </td></tr>\n",
              "\t<tr><th scope=row>87</th><td>F </td><td>245</td><td>150.6   </td></tr>\n",
              "\t<tr><th scope=row>88</th><td>cm</td><td>218</td><td>140.1 cm</td></tr>\n",
              "\t<tr><th scope=row>89</th><td>cm</td><td>238</td><td>144.9 cm</td></tr>\n",
              "\t<tr><th scope=row>90</th><td>cm</td><td>219</td><td>138 cm  </td></tr>\n",
              "\t<tr><th scope=row>91</th><td>cm</td><td>232</td><td>136.5 cm</td></tr>\n",
              "\t<tr><th scope=row>92</th><td>cm</td><td>232</td><td>139.8 cm</td></tr>\n",
              "\t<tr><th scope=row>93</th><td>cm</td><td>225</td><td>137.5 cm</td></tr>\n",
              "\t<tr><th scope=row>94</th><td>cm</td><td>228</td><td>148 cm  </td></tr>\n",
              "\t<tr><th scope=row>95</th><td>cm</td><td>253</td><td>149 cm  </td></tr>\n",
              "\t<tr><th scope=row>96</th><td>cm</td><td>234</td><td>144.3 cm</td></tr>\n",
              "\t<tr><th scope=row>97</th><td>cm</td><td>257</td><td>154.6 cm</td></tr>\n",
              "\t<tr><th scope=row>98</th><td>cm</td><td>252</td><td>148.7 cm</td></tr>\n",
              "\t<tr><th scope=row>99</th><td>cm</td><td> NA</td><td>145.2 cm</td></tr>\n",
              "</tbody>\n",
              "</table>\n"
            ],
            "text/markdown": "\nA data.frame: 98 × 3\n\n| <!--/--> | gender &lt;chr&gt; | foot_length &lt;int&gt; | height &lt;chr&gt; |\n|---|---|---|---|\n| 2 | cm | 163 | 103.9 cm |\n| 3 | F  | 171 | 111.2 cm |\n| 4 | F  | 163 | 99.7 cm  |\n| 5 | F  |  NA | 99.7 cm  |\n| 6 | cm | 164 | 98.7 cm  |\n| 7 | cm | 150 | 94.1 cm  |\n| 8 | F  | 150 | 93.3 cm  |\n| 9 | F  | 175 | 116.4 cm |\n| 10 | F  | 172 | 110 cm   |\n| 11 | F  | 177 | 109.4 cm |\n| 12 | F  | 235 | 149.3 cm |\n| 13 | F  | 250 | 157.8 cm |\n| 14 | F  | 243 | 161.8 cm |\n| 15 | F  | 230 | 157.7 cm |\n| 16 | F  | 232 | 146.8 cm |\n| 17 | F  | 241 | 156.3 cm |\n| 18 | F  | 238 | 156 cm   |\n| 19 | F  | 234 | 152.8 cm |\n| 20 | F  | 227 | 148.5 cm |\n| 21 | F  | 219 | 145.1 cm |\n| 22 | F  |  NA | 157.6 cm |\n| 23 | F  | 232 | 149.4 cm |\n| 24 | F  | 216 | 139.9 cm |\n| 25 | F  | 233 | 143.9 cm |\n| 26 | F  | 260 | 152 cm   |\n| 27 | cm | 268 | 168.7 cm |\n| 28 | cm |  NA | 174.2 cm |\n| 29 | cm | 247 | 154.1 cm |\n| 30 | cm | 245 | 158.9 cm |\n| 31 | cm | 250 | 155.8 cm |\n| ⋮ | ⋮ | ⋮ | ⋮ |\n| 70 | F  | 189 | 125.3    |\n| 71 | F  | 208 | 133.2    |\n| 72 | F  | 185 | 118.2    |\n| 73 | F  | 195 | 128      |\n| 74 | F  | 228 | 148      |\n| 75 | F  | 173 | 108.7 cm |\n| 76 | F  | 198 | 123.4    |\n| 77 | F  | 204 | 126.7    |\n| 78 | F  | 166 | 114.5    |\n| 79 | F  | 179 | 111.5    |\n| 80 | F  | 188 | 126.4    |\n| 81 | F  | 201 | 136.6    |\n| 82 | F  | 193 | 123.9    |\n| 83 | F  | 230 | 149.8    |\n| 84 | F  | 204 | 127.2    |\n| 85 | F  | 216 | 143.3    |\n| 86 | F  | 241 | 150.8    |\n| 87 | F  | 245 | 150.6    |\n| 88 | cm | 218 | 140.1 cm |\n| 89 | cm | 238 | 144.9 cm |\n| 90 | cm | 219 | 138 cm   |\n| 91 | cm | 232 | 136.5 cm |\n| 92 | cm | 232 | 139.8 cm |\n| 93 | cm | 225 | 137.5 cm |\n| 94 | cm | 228 | 148 cm   |\n| 95 | cm | 253 | 149 cm   |\n| 96 | cm | 234 | 144.3 cm |\n| 97 | cm | 257 | 154.6 cm |\n| 98 | cm | 252 | 148.7 cm |\n| 99 | cm |  NA | 145.2 cm |\n\n",
            "text/latex": "A data.frame: 98 × 3\n\\begin{tabular}{r|lll}\n  & gender & foot\\_length & height\\\\\n  & <chr> & <int> & <chr>\\\\\n\\hline\n\t2 & cm & 163 & 103.9 cm\\\\\n\t3 & F  & 171 & 111.2 cm\\\\\n\t4 & F  & 163 & 99.7 cm \\\\\n\t5 & F  &  NA & 99.7 cm \\\\\n\t6 & cm & 164 & 98.7 cm \\\\\n\t7 & cm & 150 & 94.1 cm \\\\\n\t8 & F  & 150 & 93.3 cm \\\\\n\t9 & F  & 175 & 116.4 cm\\\\\n\t10 & F  & 172 & 110 cm  \\\\\n\t11 & F  & 177 & 109.4 cm\\\\\n\t12 & F  & 235 & 149.3 cm\\\\\n\t13 & F  & 250 & 157.8 cm\\\\\n\t14 & F  & 243 & 161.8 cm\\\\\n\t15 & F  & 230 & 157.7 cm\\\\\n\t16 & F  & 232 & 146.8 cm\\\\\n\t17 & F  & 241 & 156.3 cm\\\\\n\t18 & F  & 238 & 156 cm  \\\\\n\t19 & F  & 234 & 152.8 cm\\\\\n\t20 & F  & 227 & 148.5 cm\\\\\n\t21 & F  & 219 & 145.1 cm\\\\\n\t22 & F  &  NA & 157.6 cm\\\\\n\t23 & F  & 232 & 149.4 cm\\\\\n\t24 & F  & 216 & 139.9 cm\\\\\n\t25 & F  & 233 & 143.9 cm\\\\\n\t26 & F  & 260 & 152 cm  \\\\\n\t27 & cm & 268 & 168.7 cm\\\\\n\t28 & cm &  NA & 174.2 cm\\\\\n\t29 & cm & 247 & 154.1 cm\\\\\n\t30 & cm & 245 & 158.9 cm\\\\\n\t31 & cm & 250 & 155.8 cm\\\\\n\t⋮ & ⋮ & ⋮ & ⋮\\\\\n\t70 & F  & 189 & 125.3   \\\\\n\t71 & F  & 208 & 133.2   \\\\\n\t72 & F  & 185 & 118.2   \\\\\n\t73 & F  & 195 & 128     \\\\\n\t74 & F  & 228 & 148     \\\\\n\t75 & F  & 173 & 108.7 cm\\\\\n\t76 & F  & 198 & 123.4   \\\\\n\t77 & F  & 204 & 126.7   \\\\\n\t78 & F  & 166 & 114.5   \\\\\n\t79 & F  & 179 & 111.5   \\\\\n\t80 & F  & 188 & 126.4   \\\\\n\t81 & F  & 201 & 136.6   \\\\\n\t82 & F  & 193 & 123.9   \\\\\n\t83 & F  & 230 & 149.8   \\\\\n\t84 & F  & 204 & 127.2   \\\\\n\t85 & F  & 216 & 143.3   \\\\\n\t86 & F  & 241 & 150.8   \\\\\n\t87 & F  & 245 & 150.6   \\\\\n\t88 & cm & 218 & 140.1 cm\\\\\n\t89 & cm & 238 & 144.9 cm\\\\\n\t90 & cm & 219 & 138 cm  \\\\\n\t91 & cm & 232 & 136.5 cm\\\\\n\t92 & cm & 232 & 139.8 cm\\\\\n\t93 & cm & 225 & 137.5 cm\\\\\n\t94 & cm & 228 & 148 cm  \\\\\n\t95 & cm & 253 & 149 cm  \\\\\n\t96 & cm & 234 & 144.3 cm\\\\\n\t97 & cm & 257 & 154.6 cm\\\\\n\t98 & cm & 252 & 148.7 cm\\\\\n\t99 & cm &  NA & 145.2 cm\\\\\n\\end{tabular}\n",
            "text/plain": [
              "   gender foot_length height  \n",
              "2  cm     163         103.9 cm\n",
              "3  F      171         111.2 cm\n",
              "4  F      163         99.7 cm \n",
              "5  F       NA         99.7 cm \n",
              "6  cm     164         98.7 cm \n",
              "7  cm     150         94.1 cm \n",
              "8  F      150         93.3 cm \n",
              "9  F      175         116.4 cm\n",
              "10 F      172         110 cm  \n",
              "11 F      177         109.4 cm\n",
              "12 F      235         149.3 cm\n",
              "13 F      250         157.8 cm\n",
              "14 F      243         161.8 cm\n",
              "15 F      230         157.7 cm\n",
              "16 F      232         146.8 cm\n",
              "17 F      241         156.3 cm\n",
              "18 F      238         156 cm  \n",
              "19 F      234         152.8 cm\n",
              "20 F      227         148.5 cm\n",
              "21 F      219         145.1 cm\n",
              "22 F       NA         157.6 cm\n",
              "23 F      232         149.4 cm\n",
              "24 F      216         139.9 cm\n",
              "25 F      233         143.9 cm\n",
              "26 F      260         152 cm  \n",
              "27 cm     268         168.7 cm\n",
              "28 cm      NA         174.2 cm\n",
              "29 cm     247         154.1 cm\n",
              "30 cm     245         158.9 cm\n",
              "31 cm     250         155.8 cm\n",
              "⋮  ⋮      ⋮           ⋮       \n",
              "70 F      189         125.3   \n",
              "71 F      208         133.2   \n",
              "72 F      185         118.2   \n",
              "73 F      195         128     \n",
              "74 F      228         148     \n",
              "75 F      173         108.7 cm\n",
              "76 F      198         123.4   \n",
              "77 F      204         126.7   \n",
              "78 F      166         114.5   \n",
              "79 F      179         111.5   \n",
              "80 F      188         126.4   \n",
              "81 F      201         136.6   \n",
              "82 F      193         123.9   \n",
              "83 F      230         149.8   \n",
              "84 F      204         127.2   \n",
              "85 F      216         143.3   \n",
              "86 F      241         150.8   \n",
              "87 F      245         150.6   \n",
              "88 cm     218         140.1 cm\n",
              "89 cm     238         144.9 cm\n",
              "90 cm     219         138 cm  \n",
              "91 cm     232         136.5 cm\n",
              "92 cm     232         139.8 cm\n",
              "93 cm     225         137.5 cm\n",
              "94 cm     228         148 cm  \n",
              "95 cm     253         149 cm  \n",
              "96 cm     234         144.3 cm\n",
              "97 cm     257         154.6 cm\n",
              "98 cm     252         148.7 cm\n",
              "99 cm      NA         145.2 cm"
            ]
          },
          "metadata": {}
        }
      ]
    },
    {
      "cell_type": "markdown",
      "source": [
        "### First row"
      ],
      "metadata": {
        "id": "za38USX2INux"
      }
    },
    {
      "cell_type": "code",
      "source": [
        "df['gender']"
      ],
      "metadata": {
        "colab": {
          "base_uri": "https://localhost:8080/",
          "height": 1000
        },
        "id": "zVgU4szpINdV",
        "outputId": "dec1d91c-0b47-4a48-9978-12d598fc9a41"
      },
      "execution_count": 136,
      "outputs": [
        {
          "output_type": "display_data",
          "data": {
            "text/html": [
              "<table class=\"dataframe\">\n",
              "<caption>A data.frame: 99 × 1</caption>\n",
              "<thead>\n",
              "\t<tr><th scope=col>gender</th></tr>\n",
              "\t<tr><th scope=col>&lt;chr&gt;</th></tr>\n",
              "</thead>\n",
              "<tbody>\n",
              "\t<tr><td>F </td></tr>\n",
              "\t<tr><td>cm</td></tr>\n",
              "\t<tr><td>F </td></tr>\n",
              "\t<tr><td>F </td></tr>\n",
              "\t<tr><td>F </td></tr>\n",
              "\t<tr><td>cm</td></tr>\n",
              "\t<tr><td>cm</td></tr>\n",
              "\t<tr><td>F </td></tr>\n",
              "\t<tr><td>F </td></tr>\n",
              "\t<tr><td>F </td></tr>\n",
              "\t<tr><td>F </td></tr>\n",
              "\t<tr><td>F </td></tr>\n",
              "\t<tr><td>F </td></tr>\n",
              "\t<tr><td>F </td></tr>\n",
              "\t<tr><td>F </td></tr>\n",
              "\t<tr><td>F </td></tr>\n",
              "\t<tr><td>F </td></tr>\n",
              "\t<tr><td>F </td></tr>\n",
              "\t<tr><td>F </td></tr>\n",
              "\t<tr><td>F </td></tr>\n",
              "\t<tr><td>F </td></tr>\n",
              "\t<tr><td>F </td></tr>\n",
              "\t<tr><td>F </td></tr>\n",
              "\t<tr><td>F </td></tr>\n",
              "\t<tr><td>F </td></tr>\n",
              "\t<tr><td>F </td></tr>\n",
              "\t<tr><td>cm</td></tr>\n",
              "\t<tr><td>cm</td></tr>\n",
              "\t<tr><td>cm</td></tr>\n",
              "\t<tr><td>cm</td></tr>\n",
              "\t<tr><td>⋮</td></tr>\n",
              "\t<tr><td>F </td></tr>\n",
              "\t<tr><td>F </td></tr>\n",
              "\t<tr><td>F </td></tr>\n",
              "\t<tr><td>F </td></tr>\n",
              "\t<tr><td>F </td></tr>\n",
              "\t<tr><td>F </td></tr>\n",
              "\t<tr><td>F </td></tr>\n",
              "\t<tr><td>F </td></tr>\n",
              "\t<tr><td>F </td></tr>\n",
              "\t<tr><td>F </td></tr>\n",
              "\t<tr><td>F </td></tr>\n",
              "\t<tr><td>F </td></tr>\n",
              "\t<tr><td>F </td></tr>\n",
              "\t<tr><td>F </td></tr>\n",
              "\t<tr><td>F </td></tr>\n",
              "\t<tr><td>F </td></tr>\n",
              "\t<tr><td>F </td></tr>\n",
              "\t<tr><td>F </td></tr>\n",
              "\t<tr><td>cm</td></tr>\n",
              "\t<tr><td>cm</td></tr>\n",
              "\t<tr><td>cm</td></tr>\n",
              "\t<tr><td>cm</td></tr>\n",
              "\t<tr><td>cm</td></tr>\n",
              "\t<tr><td>cm</td></tr>\n",
              "\t<tr><td>cm</td></tr>\n",
              "\t<tr><td>cm</td></tr>\n",
              "\t<tr><td>cm</td></tr>\n",
              "\t<tr><td>cm</td></tr>\n",
              "\t<tr><td>cm</td></tr>\n",
              "\t<tr><td>cm</td></tr>\n",
              "</tbody>\n",
              "</table>\n"
            ],
            "text/markdown": "\nA data.frame: 99 × 1\n\n| gender &lt;chr&gt; |\n|---|\n| F  |\n| cm |\n| F  |\n| F  |\n| F  |\n| cm |\n| cm |\n| F  |\n| F  |\n| F  |\n| F  |\n| F  |\n| F  |\n| F  |\n| F  |\n| F  |\n| F  |\n| F  |\n| F  |\n| F  |\n| F  |\n| F  |\n| F  |\n| F  |\n| F  |\n| F  |\n| cm |\n| cm |\n| cm |\n| cm |\n| ⋮ |\n| F  |\n| F  |\n| F  |\n| F  |\n| F  |\n| F  |\n| F  |\n| F  |\n| F  |\n| F  |\n| F  |\n| F  |\n| F  |\n| F  |\n| F  |\n| F  |\n| F  |\n| F  |\n| cm |\n| cm |\n| cm |\n| cm |\n| cm |\n| cm |\n| cm |\n| cm |\n| cm |\n| cm |\n| cm |\n| cm |\n\n",
            "text/latex": "A data.frame: 99 × 1\n\\begin{tabular}{l}\n gender\\\\\n <chr>\\\\\n\\hline\n\t F \\\\\n\t cm\\\\\n\t F \\\\\n\t F \\\\\n\t F \\\\\n\t cm\\\\\n\t cm\\\\\n\t F \\\\\n\t F \\\\\n\t F \\\\\n\t F \\\\\n\t F \\\\\n\t F \\\\\n\t F \\\\\n\t F \\\\\n\t F \\\\\n\t F \\\\\n\t F \\\\\n\t F \\\\\n\t F \\\\\n\t F \\\\\n\t F \\\\\n\t F \\\\\n\t F \\\\\n\t F \\\\\n\t F \\\\\n\t cm\\\\\n\t cm\\\\\n\t cm\\\\\n\t cm\\\\\n\t ⋮\\\\\n\t F \\\\\n\t F \\\\\n\t F \\\\\n\t F \\\\\n\t F \\\\\n\t F \\\\\n\t F \\\\\n\t F \\\\\n\t F \\\\\n\t F \\\\\n\t F \\\\\n\t F \\\\\n\t F \\\\\n\t F \\\\\n\t F \\\\\n\t F \\\\\n\t F \\\\\n\t F \\\\\n\t cm\\\\\n\t cm\\\\\n\t cm\\\\\n\t cm\\\\\n\t cm\\\\\n\t cm\\\\\n\t cm\\\\\n\t cm\\\\\n\t cm\\\\\n\t cm\\\\\n\t cm\\\\\n\t cm\\\\\n\\end{tabular}\n",
            "text/plain": [
              "   gender\n",
              "1  F     \n",
              "2  cm    \n",
              "3  F     \n",
              "4  F     \n",
              "5  F     \n",
              "6  cm    \n",
              "7  cm    \n",
              "8  F     \n",
              "9  F     \n",
              "10 F     \n",
              "11 F     \n",
              "12 F     \n",
              "13 F     \n",
              "14 F     \n",
              "15 F     \n",
              "16 F     \n",
              "17 F     \n",
              "18 F     \n",
              "19 F     \n",
              "20 F     \n",
              "21 F     \n",
              "22 F     \n",
              "23 F     \n",
              "24 F     \n",
              "25 F     \n",
              "26 F     \n",
              "27 cm    \n",
              "28 cm    \n",
              "29 cm    \n",
              "30 cm    \n",
              "⋮  ⋮     \n",
              "70 F     \n",
              "71 F     \n",
              "72 F     \n",
              "73 F     \n",
              "74 F     \n",
              "75 F     \n",
              "76 F     \n",
              "77 F     \n",
              "78 F     \n",
              "79 F     \n",
              "80 F     \n",
              "81 F     \n",
              "82 F     \n",
              "83 F     \n",
              "84 F     \n",
              "85 F     \n",
              "86 F     \n",
              "87 F     \n",
              "88 cm    \n",
              "89 cm    \n",
              "90 cm    \n",
              "91 cm    \n",
              "92 cm    \n",
              "93 cm    \n",
              "94 cm    \n",
              "95 cm    \n",
              "96 cm    \n",
              "97 cm    \n",
              "98 cm    \n",
              "99 cm    "
            ]
          },
          "metadata": {}
        }
      ]
    },
    {
      "cell_type": "code",
      "source": [
        "df[['gender']]"
      ],
      "metadata": {
        "colab": {
          "base_uri": "https://localhost:8080/",
          "height": 69
        },
        "id": "3uqABmvdINZ6",
        "outputId": "ee684950-40eb-418f-c7ec-5707a55ecc6a"
      },
      "execution_count": 137,
      "outputs": [
        {
          "output_type": "display_data",
          "data": {
            "text/html": [
              "<style>\n",
              ".list-inline {list-style: none; margin:0; padding: 0}\n",
              ".list-inline>li {display: inline-block}\n",
              ".list-inline>li:not(:last-child)::after {content: \"\\00b7\"; padding: 0 .5ex}\n",
              "</style>\n",
              "<ol class=list-inline><li>'F'</li><li>'cm'</li><li>'F'</li><li>'F'</li><li>'F'</li><li>'cm'</li><li>'cm'</li><li>'F'</li><li>'F'</li><li>'F'</li><li>'F'</li><li>'F'</li><li>'F'</li><li>'F'</li><li>'F'</li><li>'F'</li><li>'F'</li><li>'F'</li><li>'F'</li><li>'F'</li><li>'F'</li><li>'F'</li><li>'F'</li><li>'F'</li><li>'F'</li><li>'F'</li><li>'cm'</li><li>'cm'</li><li>'cm'</li><li>'cm'</li><li>'cm'</li><li>'cm'</li><li>'cm'</li><li>'cm'</li><li>'cm'</li><li>'cm'</li><li>'cm'</li><li>'cm'</li><li>'cm'</li><li>'cm'</li><li>'cm'</li><li>'F'</li><li>'F'</li><li>'F'</li><li>'F'</li><li>'cm'</li><li>'cm'</li><li>'cm'</li><li>'cm'</li><li>'F'</li><li>'F'</li><li>'F'</li><li>'cm'</li><li>'cm'</li><li>'cm'</li><li>'cm'</li><li>'cm'</li><li>'cm'</li><li>'cm'</li><li>'cm'</li><li>'cm'</li><li>'cm'</li><li>'cm'</li><li>'cm'</li><li>'F'</li><li>'F'</li><li>'F'</li><li>'F'</li><li>'F'</li><li>'F'</li><li>'F'</li><li>'F'</li><li>'F'</li><li>'F'</li><li>'F'</li><li>'F'</li><li>'F'</li><li>'F'</li><li>'F'</li><li>'F'</li><li>'F'</li><li>'F'</li><li>'F'</li><li>'F'</li><li>'F'</li><li>'F'</li><li>'F'</li><li>'cm'</li><li>'cm'</li><li>'cm'</li><li>'cm'</li><li>'cm'</li><li>'cm'</li><li>'cm'</li><li>'cm'</li><li>'cm'</li><li>'cm'</li><li>'cm'</li><li>'cm'</li></ol>\n"
            ],
            "text/markdown": "1. 'F'\n2. 'cm'\n3. 'F'\n4. 'F'\n5. 'F'\n6. 'cm'\n7. 'cm'\n8. 'F'\n9. 'F'\n10. 'F'\n11. 'F'\n12. 'F'\n13. 'F'\n14. 'F'\n15. 'F'\n16. 'F'\n17. 'F'\n18. 'F'\n19. 'F'\n20. 'F'\n21. 'F'\n22. 'F'\n23. 'F'\n24. 'F'\n25. 'F'\n26. 'F'\n27. 'cm'\n28. 'cm'\n29. 'cm'\n30. 'cm'\n31. 'cm'\n32. 'cm'\n33. 'cm'\n34. 'cm'\n35. 'cm'\n36. 'cm'\n37. 'cm'\n38. 'cm'\n39. 'cm'\n40. 'cm'\n41. 'cm'\n42. 'F'\n43. 'F'\n44. 'F'\n45. 'F'\n46. 'cm'\n47. 'cm'\n48. 'cm'\n49. 'cm'\n50. 'F'\n51. 'F'\n52. 'F'\n53. 'cm'\n54. 'cm'\n55. 'cm'\n56. 'cm'\n57. 'cm'\n58. 'cm'\n59. 'cm'\n60. 'cm'\n61. 'cm'\n62. 'cm'\n63. 'cm'\n64. 'cm'\n65. 'F'\n66. 'F'\n67. 'F'\n68. 'F'\n69. 'F'\n70. 'F'\n71. 'F'\n72. 'F'\n73. 'F'\n74. 'F'\n75. 'F'\n76. 'F'\n77. 'F'\n78. 'F'\n79. 'F'\n80. 'F'\n81. 'F'\n82. 'F'\n83. 'F'\n84. 'F'\n85. 'F'\n86. 'F'\n87. 'F'\n88. 'cm'\n89. 'cm'\n90. 'cm'\n91. 'cm'\n92. 'cm'\n93. 'cm'\n94. 'cm'\n95. 'cm'\n96. 'cm'\n97. 'cm'\n98. 'cm'\n99. 'cm'\n\n\n",
            "text/latex": "\\begin{enumerate*}\n\\item 'F'\n\\item 'cm'\n\\item 'F'\n\\item 'F'\n\\item 'F'\n\\item 'cm'\n\\item 'cm'\n\\item 'F'\n\\item 'F'\n\\item 'F'\n\\item 'F'\n\\item 'F'\n\\item 'F'\n\\item 'F'\n\\item 'F'\n\\item 'F'\n\\item 'F'\n\\item 'F'\n\\item 'F'\n\\item 'F'\n\\item 'F'\n\\item 'F'\n\\item 'F'\n\\item 'F'\n\\item 'F'\n\\item 'F'\n\\item 'cm'\n\\item 'cm'\n\\item 'cm'\n\\item 'cm'\n\\item 'cm'\n\\item 'cm'\n\\item 'cm'\n\\item 'cm'\n\\item 'cm'\n\\item 'cm'\n\\item 'cm'\n\\item 'cm'\n\\item 'cm'\n\\item 'cm'\n\\item 'cm'\n\\item 'F'\n\\item 'F'\n\\item 'F'\n\\item 'F'\n\\item 'cm'\n\\item 'cm'\n\\item 'cm'\n\\item 'cm'\n\\item 'F'\n\\item 'F'\n\\item 'F'\n\\item 'cm'\n\\item 'cm'\n\\item 'cm'\n\\item 'cm'\n\\item 'cm'\n\\item 'cm'\n\\item 'cm'\n\\item 'cm'\n\\item 'cm'\n\\item 'cm'\n\\item 'cm'\n\\item 'cm'\n\\item 'F'\n\\item 'F'\n\\item 'F'\n\\item 'F'\n\\item 'F'\n\\item 'F'\n\\item 'F'\n\\item 'F'\n\\item 'F'\n\\item 'F'\n\\item 'F'\n\\item 'F'\n\\item 'F'\n\\item 'F'\n\\item 'F'\n\\item 'F'\n\\item 'F'\n\\item 'F'\n\\item 'F'\n\\item 'F'\n\\item 'F'\n\\item 'F'\n\\item 'F'\n\\item 'cm'\n\\item 'cm'\n\\item 'cm'\n\\item 'cm'\n\\item 'cm'\n\\item 'cm'\n\\item 'cm'\n\\item 'cm'\n\\item 'cm'\n\\item 'cm'\n\\item 'cm'\n\\item 'cm'\n\\end{enumerate*}\n",
            "text/plain": [
              " [1] \"F\"  \"cm\" \"F\"  \"F\"  \"F\"  \"cm\" \"cm\" \"F\"  \"F\"  \"F\"  \"F\"  \"F\"  \"F\"  \"F\"  \"F\" \n",
              "[16] \"F\"  \"F\"  \"F\"  \"F\"  \"F\"  \"F\"  \"F\"  \"F\"  \"F\"  \"F\"  \"F\"  \"cm\" \"cm\" \"cm\" \"cm\"\n",
              "[31] \"cm\" \"cm\" \"cm\" \"cm\" \"cm\" \"cm\" \"cm\" \"cm\" \"cm\" \"cm\" \"cm\" \"F\"  \"F\"  \"F\"  \"F\" \n",
              "[46] \"cm\" \"cm\" \"cm\" \"cm\" \"F\"  \"F\"  \"F\"  \"cm\" \"cm\" \"cm\" \"cm\" \"cm\" \"cm\" \"cm\" \"cm\"\n",
              "[61] \"cm\" \"cm\" \"cm\" \"cm\" \"F\"  \"F\"  \"F\"  \"F\"  \"F\"  \"F\"  \"F\"  \"F\"  \"F\"  \"F\"  \"F\" \n",
              "[76] \"F\"  \"F\"  \"F\"  \"F\"  \"F\"  \"F\"  \"F\"  \"F\"  \"F\"  \"F\"  \"F\"  \"F\"  \"cm\" \"cm\" \"cm\"\n",
              "[91] \"cm\" \"cm\" \"cm\" \"cm\" \"cm\" \"cm\" \"cm\" \"cm\" \"cm\""
            ]
          },
          "metadata": {}
        }
      ]
    },
    {
      "cell_type": "code",
      "source": [
        "df[,'gender']"
      ],
      "metadata": {
        "colab": {
          "base_uri": "https://localhost:8080/",
          "height": 69
        },
        "id": "5cf3333QIWxs",
        "outputId": "ea3ab890-8d2c-4c6f-cb43-e97a96f823e6"
      },
      "execution_count": 138,
      "outputs": [
        {
          "output_type": "display_data",
          "data": {
            "text/html": [
              "<style>\n",
              ".list-inline {list-style: none; margin:0; padding: 0}\n",
              ".list-inline>li {display: inline-block}\n",
              ".list-inline>li:not(:last-child)::after {content: \"\\00b7\"; padding: 0 .5ex}\n",
              "</style>\n",
              "<ol class=list-inline><li>'F'</li><li>'cm'</li><li>'F'</li><li>'F'</li><li>'F'</li><li>'cm'</li><li>'cm'</li><li>'F'</li><li>'F'</li><li>'F'</li><li>'F'</li><li>'F'</li><li>'F'</li><li>'F'</li><li>'F'</li><li>'F'</li><li>'F'</li><li>'F'</li><li>'F'</li><li>'F'</li><li>'F'</li><li>'F'</li><li>'F'</li><li>'F'</li><li>'F'</li><li>'F'</li><li>'cm'</li><li>'cm'</li><li>'cm'</li><li>'cm'</li><li>'cm'</li><li>'cm'</li><li>'cm'</li><li>'cm'</li><li>'cm'</li><li>'cm'</li><li>'cm'</li><li>'cm'</li><li>'cm'</li><li>'cm'</li><li>'cm'</li><li>'F'</li><li>'F'</li><li>'F'</li><li>'F'</li><li>'cm'</li><li>'cm'</li><li>'cm'</li><li>'cm'</li><li>'F'</li><li>'F'</li><li>'F'</li><li>'cm'</li><li>'cm'</li><li>'cm'</li><li>'cm'</li><li>'cm'</li><li>'cm'</li><li>'cm'</li><li>'cm'</li><li>'cm'</li><li>'cm'</li><li>'cm'</li><li>'cm'</li><li>'F'</li><li>'F'</li><li>'F'</li><li>'F'</li><li>'F'</li><li>'F'</li><li>'F'</li><li>'F'</li><li>'F'</li><li>'F'</li><li>'F'</li><li>'F'</li><li>'F'</li><li>'F'</li><li>'F'</li><li>'F'</li><li>'F'</li><li>'F'</li><li>'F'</li><li>'F'</li><li>'F'</li><li>'F'</li><li>'F'</li><li>'cm'</li><li>'cm'</li><li>'cm'</li><li>'cm'</li><li>'cm'</li><li>'cm'</li><li>'cm'</li><li>'cm'</li><li>'cm'</li><li>'cm'</li><li>'cm'</li><li>'cm'</li></ol>\n"
            ],
            "text/markdown": "1. 'F'\n2. 'cm'\n3. 'F'\n4. 'F'\n5. 'F'\n6. 'cm'\n7. 'cm'\n8. 'F'\n9. 'F'\n10. 'F'\n11. 'F'\n12. 'F'\n13. 'F'\n14. 'F'\n15. 'F'\n16. 'F'\n17. 'F'\n18. 'F'\n19. 'F'\n20. 'F'\n21. 'F'\n22. 'F'\n23. 'F'\n24. 'F'\n25. 'F'\n26. 'F'\n27. 'cm'\n28. 'cm'\n29. 'cm'\n30. 'cm'\n31. 'cm'\n32. 'cm'\n33. 'cm'\n34. 'cm'\n35. 'cm'\n36. 'cm'\n37. 'cm'\n38. 'cm'\n39. 'cm'\n40. 'cm'\n41. 'cm'\n42. 'F'\n43. 'F'\n44. 'F'\n45. 'F'\n46. 'cm'\n47. 'cm'\n48. 'cm'\n49. 'cm'\n50. 'F'\n51. 'F'\n52. 'F'\n53. 'cm'\n54. 'cm'\n55. 'cm'\n56. 'cm'\n57. 'cm'\n58. 'cm'\n59. 'cm'\n60. 'cm'\n61. 'cm'\n62. 'cm'\n63. 'cm'\n64. 'cm'\n65. 'F'\n66. 'F'\n67. 'F'\n68. 'F'\n69. 'F'\n70. 'F'\n71. 'F'\n72. 'F'\n73. 'F'\n74. 'F'\n75. 'F'\n76. 'F'\n77. 'F'\n78. 'F'\n79. 'F'\n80. 'F'\n81. 'F'\n82. 'F'\n83. 'F'\n84. 'F'\n85. 'F'\n86. 'F'\n87. 'F'\n88. 'cm'\n89. 'cm'\n90. 'cm'\n91. 'cm'\n92. 'cm'\n93. 'cm'\n94. 'cm'\n95. 'cm'\n96. 'cm'\n97. 'cm'\n98. 'cm'\n99. 'cm'\n\n\n",
            "text/latex": "\\begin{enumerate*}\n\\item 'F'\n\\item 'cm'\n\\item 'F'\n\\item 'F'\n\\item 'F'\n\\item 'cm'\n\\item 'cm'\n\\item 'F'\n\\item 'F'\n\\item 'F'\n\\item 'F'\n\\item 'F'\n\\item 'F'\n\\item 'F'\n\\item 'F'\n\\item 'F'\n\\item 'F'\n\\item 'F'\n\\item 'F'\n\\item 'F'\n\\item 'F'\n\\item 'F'\n\\item 'F'\n\\item 'F'\n\\item 'F'\n\\item 'F'\n\\item 'cm'\n\\item 'cm'\n\\item 'cm'\n\\item 'cm'\n\\item 'cm'\n\\item 'cm'\n\\item 'cm'\n\\item 'cm'\n\\item 'cm'\n\\item 'cm'\n\\item 'cm'\n\\item 'cm'\n\\item 'cm'\n\\item 'cm'\n\\item 'cm'\n\\item 'F'\n\\item 'F'\n\\item 'F'\n\\item 'F'\n\\item 'cm'\n\\item 'cm'\n\\item 'cm'\n\\item 'cm'\n\\item 'F'\n\\item 'F'\n\\item 'F'\n\\item 'cm'\n\\item 'cm'\n\\item 'cm'\n\\item 'cm'\n\\item 'cm'\n\\item 'cm'\n\\item 'cm'\n\\item 'cm'\n\\item 'cm'\n\\item 'cm'\n\\item 'cm'\n\\item 'cm'\n\\item 'F'\n\\item 'F'\n\\item 'F'\n\\item 'F'\n\\item 'F'\n\\item 'F'\n\\item 'F'\n\\item 'F'\n\\item 'F'\n\\item 'F'\n\\item 'F'\n\\item 'F'\n\\item 'F'\n\\item 'F'\n\\item 'F'\n\\item 'F'\n\\item 'F'\n\\item 'F'\n\\item 'F'\n\\item 'F'\n\\item 'F'\n\\item 'F'\n\\item 'F'\n\\item 'cm'\n\\item 'cm'\n\\item 'cm'\n\\item 'cm'\n\\item 'cm'\n\\item 'cm'\n\\item 'cm'\n\\item 'cm'\n\\item 'cm'\n\\item 'cm'\n\\item 'cm'\n\\item 'cm'\n\\end{enumerate*}\n",
            "text/plain": [
              " [1] \"F\"  \"cm\" \"F\"  \"F\"  \"F\"  \"cm\" \"cm\" \"F\"  \"F\"  \"F\"  \"F\"  \"F\"  \"F\"  \"F\"  \"F\" \n",
              "[16] \"F\"  \"F\"  \"F\"  \"F\"  \"F\"  \"F\"  \"F\"  \"F\"  \"F\"  \"F\"  \"F\"  \"cm\" \"cm\" \"cm\" \"cm\"\n",
              "[31] \"cm\" \"cm\" \"cm\" \"cm\" \"cm\" \"cm\" \"cm\" \"cm\" \"cm\" \"cm\" \"cm\" \"F\"  \"F\"  \"F\"  \"F\" \n",
              "[46] \"cm\" \"cm\" \"cm\" \"cm\" \"F\"  \"F\"  \"F\"  \"cm\" \"cm\" \"cm\" \"cm\" \"cm\" \"cm\" \"cm\" \"cm\"\n",
              "[61] \"cm\" \"cm\" \"cm\" \"cm\" \"F\"  \"F\"  \"F\"  \"F\"  \"F\"  \"F\"  \"F\"  \"F\"  \"F\"  \"F\"  \"F\" \n",
              "[76] \"F\"  \"F\"  \"F\"  \"F\"  \"F\"  \"F\"  \"F\"  \"F\"  \"F\"  \"F\"  \"F\"  \"F\"  \"cm\" \"cm\" \"cm\"\n",
              "[91] \"cm\" \"cm\" \"cm\" \"cm\" \"cm\" \"cm\" \"cm\" \"cm\" \"cm\""
            ]
          },
          "metadata": {}
        }
      ]
    },
    {
      "cell_type": "code",
      "source": [
        "df[c(1,2), c('gender', 'age')]"
      ],
      "metadata": {
        "colab": {
          "base_uri": "https://localhost:8080/",
          "height": 160
        },
        "id": "cImJpCibIjLU",
        "outputId": "0e283dfa-9606-4109-9fa7-87b3c4d45792"
      },
      "execution_count": 139,
      "outputs": [
        {
          "output_type": "display_data",
          "data": {
            "text/html": [
              "<table class=\"dataframe\">\n",
              "<caption>A data.frame: 2 × 2</caption>\n",
              "<thead>\n",
              "\t<tr><th></th><th scope=col>gender</th><th scope=col>age</th></tr>\n",
              "\t<tr><th></th><th scope=col>&lt;chr&gt;</th><th scope=col>&lt;dbl&gt;</th></tr>\n",
              "</thead>\n",
              "<tbody>\n",
              "\t<tr><th scope=row>1</th><td>F </td><td>4.166667</td></tr>\n",
              "\t<tr><th scope=row>2</th><td>cm</td><td>4.250000</td></tr>\n",
              "</tbody>\n",
              "</table>\n"
            ],
            "text/markdown": "\nA data.frame: 2 × 2\n\n| <!--/--> | gender &lt;chr&gt; | age &lt;dbl&gt; |\n|---|---|---|\n| 1 | F  | 4.166667 |\n| 2 | cm | 4.250000 |\n\n",
            "text/latex": "A data.frame: 2 × 2\n\\begin{tabular}{r|ll}\n  & gender & age\\\\\n  & <chr> & <dbl>\\\\\n\\hline\n\t1 & F  & 4.166667\\\\\n\t2 & cm & 4.250000\\\\\n\\end{tabular}\n",
            "text/plain": [
              "  gender age     \n",
              "1 F      4.166667\n",
              "2 cm     4.250000"
            ]
          },
          "metadata": {}
        }
      ]
    },
    {
      "cell_type": "code",
      "source": [
        "df[c(1:3), c(1:3)]"
      ],
      "metadata": {
        "colab": {
          "base_uri": "https://localhost:8080/",
          "height": 192
        },
        "id": "HbATzljzIjH5",
        "outputId": "9a13e259-2ada-4f86-bd56-58bc9dc67e07"
      },
      "execution_count": 140,
      "outputs": [
        {
          "output_type": "display_data",
          "data": {
            "text/html": [
              "<table class=\"dataframe\">\n",
              "<caption>A data.frame: 3 × 3</caption>\n",
              "<thead>\n",
              "\t<tr><th></th><th scope=col>age</th><th scope=col>gender</th><th scope=col>foot_length</th></tr>\n",
              "\t<tr><th></th><th scope=col>&lt;dbl&gt;</th><th scope=col>&lt;chr&gt;</th><th scope=col>&lt;int&gt;</th></tr>\n",
              "</thead>\n",
              "<tbody>\n",
              "\t<tr><th scope=row>1</th><td>4.166667</td><td>F </td><td>163</td></tr>\n",
              "\t<tr><th scope=row>2</th><td>4.250000</td><td>cm</td><td>163</td></tr>\n",
              "\t<tr><th scope=row>3</th><td>4.416667</td><td>F </td><td>171</td></tr>\n",
              "</tbody>\n",
              "</table>\n"
            ],
            "text/markdown": "\nA data.frame: 3 × 3\n\n| <!--/--> | age &lt;dbl&gt; | gender &lt;chr&gt; | foot_length &lt;int&gt; |\n|---|---|---|---|\n| 1 | 4.166667 | F  | 163 |\n| 2 | 4.250000 | cm | 163 |\n| 3 | 4.416667 | F  | 171 |\n\n",
            "text/latex": "A data.frame: 3 × 3\n\\begin{tabular}{r|lll}\n  & age & gender & foot\\_length\\\\\n  & <dbl> & <chr> & <int>\\\\\n\\hline\n\t1 & 4.166667 & F  & 163\\\\\n\t2 & 4.250000 & cm & 163\\\\\n\t3 & 4.416667 & F  & 171\\\\\n\\end{tabular}\n",
            "text/plain": [
              "  age      gender foot_length\n",
              "1 4.166667 F      163        \n",
              "2 4.250000 cm     163        \n",
              "3 4.416667 F      171        "
            ]
          },
          "metadata": {}
        }
      ]
    },
    {
      "cell_type": "code",
      "source": [
        "head(df[order(df$age),])"
      ],
      "metadata": {
        "colab": {
          "base_uri": "https://localhost:8080/",
          "height": 286
        },
        "id": "dY8ycFoYJCvj",
        "outputId": "9881141d-1d70-48d1-bb7c-d1689f291082"
      },
      "execution_count": 141,
      "outputs": [
        {
          "output_type": "display_data",
          "data": {
            "text/html": [
              "<table class=\"dataframe\">\n",
              "<caption>A data.frame: 6 × 4</caption>\n",
              "<thead>\n",
              "\t<tr><th></th><th scope=col>age</th><th scope=col>gender</th><th scope=col>foot_length</th><th scope=col>height</th></tr>\n",
              "\t<tr><th></th><th scope=col>&lt;dbl&gt;</th><th scope=col>&lt;chr&gt;</th><th scope=col>&lt;int&gt;</th><th scope=col>&lt;chr&gt;</th></tr>\n",
              "</thead>\n",
              "<tbody>\n",
              "\t<tr><th scope=row>7</th><td>3.333333</td><td>cm</td><td>150</td><td>94.1 cm </td></tr>\n",
              "\t<tr><th scope=row>5</th><td>3.416667</td><td>F </td><td> NA</td><td>99.7 cm </td></tr>\n",
              "\t<tr><th scope=row>8</th><td>3.583333</td><td>F </td><td>150</td><td>93.3 cm </td></tr>\n",
              "\t<tr><th scope=row>6</th><td>3.666667</td><td>cm</td><td>164</td><td>98.7 cm </td></tr>\n",
              "\t<tr><th scope=row>4</th><td>3.833333</td><td>F </td><td>163</td><td>99.7 cm </td></tr>\n",
              "\t<tr><th scope=row>1</th><td>4.166667</td><td>F </td><td>163</td><td>103.3 cm</td></tr>\n",
              "</tbody>\n",
              "</table>\n"
            ],
            "text/markdown": "\nA data.frame: 6 × 4\n\n| <!--/--> | age &lt;dbl&gt; | gender &lt;chr&gt; | foot_length &lt;int&gt; | height &lt;chr&gt; |\n|---|---|---|---|---|\n| 7 | 3.333333 | cm | 150 | 94.1 cm  |\n| 5 | 3.416667 | F  |  NA | 99.7 cm  |\n| 8 | 3.583333 | F  | 150 | 93.3 cm  |\n| 6 | 3.666667 | cm | 164 | 98.7 cm  |\n| 4 | 3.833333 | F  | 163 | 99.7 cm  |\n| 1 | 4.166667 | F  | 163 | 103.3 cm |\n\n",
            "text/latex": "A data.frame: 6 × 4\n\\begin{tabular}{r|llll}\n  & age & gender & foot\\_length & height\\\\\n  & <dbl> & <chr> & <int> & <chr>\\\\\n\\hline\n\t7 & 3.333333 & cm & 150 & 94.1 cm \\\\\n\t5 & 3.416667 & F  &  NA & 99.7 cm \\\\\n\t8 & 3.583333 & F  & 150 & 93.3 cm \\\\\n\t6 & 3.666667 & cm & 164 & 98.7 cm \\\\\n\t4 & 3.833333 & F  & 163 & 99.7 cm \\\\\n\t1 & 4.166667 & F  & 163 & 103.3 cm\\\\\n\\end{tabular}\n",
            "text/plain": [
              "  age      gender foot_length height  \n",
              "7 3.333333 cm     150         94.1 cm \n",
              "5 3.416667 F       NA         99.7 cm \n",
              "8 3.583333 F      150         93.3 cm \n",
              "6 3.666667 cm     164         98.7 cm \n",
              "4 3.833333 F      163         99.7 cm \n",
              "1 4.166667 F      163         103.3 cm"
            ]
          },
          "metadata": {}
        }
      ]
    },
    {
      "cell_type": "code",
      "source": [
        "head(df[order(df$gender),])"
      ],
      "metadata": {
        "colab": {
          "base_uri": "https://localhost:8080/",
          "height": 286
        },
        "id": "PBnTIA1eJSxX",
        "outputId": "e20a4419-4d39-49f0-ea87-e25677881bfb"
      },
      "execution_count": 142,
      "outputs": [
        {
          "output_type": "display_data",
          "data": {
            "text/html": [
              "<table class=\"dataframe\">\n",
              "<caption>A data.frame: 6 × 4</caption>\n",
              "<thead>\n",
              "\t<tr><th></th><th scope=col>age</th><th scope=col>gender</th><th scope=col>foot_length</th><th scope=col>height</th></tr>\n",
              "\t<tr><th></th><th scope=col>&lt;dbl&gt;</th><th scope=col>&lt;chr&gt;</th><th scope=col>&lt;int&gt;</th><th scope=col>&lt;chr&gt;</th></tr>\n",
              "</thead>\n",
              "<tbody>\n",
              "\t<tr><th scope=row>2</th><td> 4.250000</td><td>cm</td><td>163</td><td>103.9 cm</td></tr>\n",
              "\t<tr><th scope=row>6</th><td> 3.666667</td><td>cm</td><td>164</td><td>98.7 cm </td></tr>\n",
              "\t<tr><th scope=row>7</th><td> 3.333333</td><td>cm</td><td>150</td><td>94.1 cm </td></tr>\n",
              "\t<tr><th scope=row>27</th><td>14.416667</td><td>cm</td><td>268</td><td>168.7 cm</td></tr>\n",
              "\t<tr><th scope=row>28</th><td>13.500000</td><td>cm</td><td> NA</td><td>174.2 cm</td></tr>\n",
              "\t<tr><th scope=row>29</th><td>12.083333</td><td>cm</td><td>247</td><td>154.1 cm</td></tr>\n",
              "</tbody>\n",
              "</table>\n"
            ],
            "text/markdown": "\nA data.frame: 6 × 4\n\n| <!--/--> | age &lt;dbl&gt; | gender &lt;chr&gt; | foot_length &lt;int&gt; | height &lt;chr&gt; |\n|---|---|---|---|---|\n| 2 |  4.250000 | cm | 163 | 103.9 cm |\n| 6 |  3.666667 | cm | 164 | 98.7 cm  |\n| 7 |  3.333333 | cm | 150 | 94.1 cm  |\n| 27 | 14.416667 | cm | 268 | 168.7 cm |\n| 28 | 13.500000 | cm |  NA | 174.2 cm |\n| 29 | 12.083333 | cm | 247 | 154.1 cm |\n\n",
            "text/latex": "A data.frame: 6 × 4\n\\begin{tabular}{r|llll}\n  & age & gender & foot\\_length & height\\\\\n  & <dbl> & <chr> & <int> & <chr>\\\\\n\\hline\n\t2 &  4.250000 & cm & 163 & 103.9 cm\\\\\n\t6 &  3.666667 & cm & 164 & 98.7 cm \\\\\n\t7 &  3.333333 & cm & 150 & 94.1 cm \\\\\n\t27 & 14.416667 & cm & 268 & 168.7 cm\\\\\n\t28 & 13.500000 & cm &  NA & 174.2 cm\\\\\n\t29 & 12.083333 & cm & 247 & 154.1 cm\\\\\n\\end{tabular}\n",
            "text/plain": [
              "   age       gender foot_length height  \n",
              "2   4.250000 cm     163         103.9 cm\n",
              "6   3.666667 cm     164         98.7 cm \n",
              "7   3.333333 cm     150         94.1 cm \n",
              "27 14.416667 cm     268         168.7 cm\n",
              "28 13.500000 cm      NA         174.2 cm\n",
              "29 12.083333 cm     247         154.1 cm"
            ]
          },
          "metadata": {}
        }
      ]
    },
    {
      "cell_type": "code",
      "source": [
        "tail(df[order(df$gender),])"
      ],
      "metadata": {
        "colab": {
          "base_uri": "https://localhost:8080/",
          "height": 286
        },
        "id": "DGTJMjgxJXFa",
        "outputId": "0bfe955f-2203-40c4-ed45-0b02ec4ee58f"
      },
      "execution_count": 143,
      "outputs": [
        {
          "output_type": "display_data",
          "data": {
            "text/html": [
              "<table class=\"dataframe\">\n",
              "<caption>A data.frame: 6 × 4</caption>\n",
              "<thead>\n",
              "\t<tr><th></th><th scope=col>age</th><th scope=col>gender</th><th scope=col>foot_length</th><th scope=col>height</th></tr>\n",
              "\t<tr><th></th><th scope=col>&lt;dbl&gt;</th><th scope=col>&lt;chr&gt;</th><th scope=col>&lt;int&gt;</th><th scope=col>&lt;chr&gt;</th></tr>\n",
              "</thead>\n",
              "<tbody>\n",
              "\t<tr><th scope=row>82</th><td> 8.000000</td><td>F</td><td>193</td><td>123.9</td></tr>\n",
              "\t<tr><th scope=row>83</th><td>11.333333</td><td>F</td><td>230</td><td>149.8</td></tr>\n",
              "\t<tr><th scope=row>84</th><td> 9.666667</td><td>F</td><td>204</td><td>127.2</td></tr>\n",
              "\t<tr><th scope=row>85</th><td>10.416667</td><td>F</td><td>216</td><td>143.3</td></tr>\n",
              "\t<tr><th scope=row>86</th><td>11.416667</td><td>F</td><td>241</td><td>150.8</td></tr>\n",
              "\t<tr><th scope=row>87</th><td>12.166667</td><td>F</td><td>245</td><td>150.6</td></tr>\n",
              "</tbody>\n",
              "</table>\n"
            ],
            "text/markdown": "\nA data.frame: 6 × 4\n\n| <!--/--> | age &lt;dbl&gt; | gender &lt;chr&gt; | foot_length &lt;int&gt; | height &lt;chr&gt; |\n|---|---|---|---|---|\n| 82 |  8.000000 | F | 193 | 123.9 |\n| 83 | 11.333333 | F | 230 | 149.8 |\n| 84 |  9.666667 | F | 204 | 127.2 |\n| 85 | 10.416667 | F | 216 | 143.3 |\n| 86 | 11.416667 | F | 241 | 150.8 |\n| 87 | 12.166667 | F | 245 | 150.6 |\n\n",
            "text/latex": "A data.frame: 6 × 4\n\\begin{tabular}{r|llll}\n  & age & gender & foot\\_length & height\\\\\n  & <dbl> & <chr> & <int> & <chr>\\\\\n\\hline\n\t82 &  8.000000 & F & 193 & 123.9\\\\\n\t83 & 11.333333 & F & 230 & 149.8\\\\\n\t84 &  9.666667 & F & 204 & 127.2\\\\\n\t85 & 10.416667 & F & 216 & 143.3\\\\\n\t86 & 11.416667 & F & 241 & 150.8\\\\\n\t87 & 12.166667 & F & 245 & 150.6\\\\\n\\end{tabular}\n",
            "text/plain": [
              "   age       gender foot_length height\n",
              "82  8.000000 F      193         123.9 \n",
              "83 11.333333 F      230         149.8 \n",
              "84  9.666667 F      204         127.2 \n",
              "85 10.416667 F      216         143.3 \n",
              "86 11.416667 F      241         150.8 \n",
              "87 12.166667 F      245         150.6 "
            ]
          },
          "metadata": {}
        }
      ]
    },
    {
      "cell_type": "markdown",
      "source": [
        "# Data Cleaning\n",
        "1. Check duplicates\n",
        "2. columns Datatypes\n",
        "2. Check null, choose suitable methods to fill\n",
        "3. Make data in suitable formate"
      ],
      "metadata": {
        "id": "qhrQktfmlKwV"
      }
    },
    {
      "cell_type": "markdown",
      "source": [
        "## Check duplicates"
      ],
      "metadata": {
        "id": "BP9iVZTM0FtB"
      }
    },
    {
      "cell_type": "code",
      "source": [
        "any(duplicated(df))"
      ],
      "metadata": {
        "colab": {
          "base_uri": "https://localhost:8080/",
          "height": 34
        },
        "id": "_75K-p9u0GS3",
        "outputId": "589be6a2-c1b7-4e16-b72c-9f5df621f9b7"
      },
      "execution_count": 144,
      "outputs": [
        {
          "output_type": "display_data",
          "data": {
            "text/html": [
              "FALSE"
            ],
            "text/markdown": "FALSE",
            "text/latex": "FALSE",
            "text/plain": [
              "[1] FALSE"
            ]
          },
          "metadata": {}
        }
      ]
    },
    {
      "cell_type": "markdown",
      "source": [
        "## Columns Datatype and missing values"
      ],
      "metadata": {
        "id": "0IaYaq-EmPu0"
      }
    },
    {
      "cell_type": "code",
      "source": [
        "#df = copy_df"
      ],
      "metadata": {
        "id": "3lubE3AGn76R"
      },
      "execution_count": 145,
      "outputs": []
    },
    {
      "cell_type": "code",
      "source": [
        "sapply(df, typeof)"
      ],
      "metadata": {
        "colab": {
          "base_uri": "https://localhost:8080/",
          "height": 34
        },
        "id": "ESgBFIL77kKW",
        "outputId": "39f9b1fb-2d1b-4bad-d973-736c48ecb65c"
      },
      "execution_count": 146,
      "outputs": [
        {
          "output_type": "display_data",
          "data": {
            "text/html": [
              "<style>\n",
              ".dl-inline {width: auto; margin:0; padding: 0}\n",
              ".dl-inline>dt, .dl-inline>dd {float: none; width: auto; display: inline-block}\n",
              ".dl-inline>dt::after {content: \":\\0020\"; padding-right: .5ex}\n",
              ".dl-inline>dt:not(:first-of-type) {padding-left: .5ex}\n",
              "</style><dl class=dl-inline><dt>age</dt><dd>'double'</dd><dt>gender</dt><dd>'character'</dd><dt>foot_length</dt><dd>'integer'</dd><dt>height</dt><dd>'character'</dd></dl>\n"
            ],
            "text/markdown": "age\n:   'double'gender\n:   'character'foot_length\n:   'integer'height\n:   'character'\n\n",
            "text/latex": "\\begin{description*}\n\\item[age] 'double'\n\\item[gender] 'character'\n\\item[foot\\textbackslash{}\\_length] 'integer'\n\\item[height] 'character'\n\\end{description*}\n",
            "text/plain": [
              "        age      gender foot_length      height \n",
              "   \"double\" \"character\"   \"integer\" \"character\" "
            ]
          },
          "metadata": {}
        }
      ]
    },
    {
      "cell_type": "code",
      "source": [
        "str(df)"
      ],
      "metadata": {
        "colab": {
          "base_uri": "https://localhost:8080/"
        },
        "id": "JzhE1ufOkzXB",
        "outputId": "e62f3343-30d8-4e3a-d231-3f4cbe26faa0"
      },
      "execution_count": 147,
      "outputs": [
        {
          "output_type": "stream",
          "name": "stdout",
          "text": [
            "'data.frame':\t99 obs. of  4 variables:\n",
            " $ age        : num  4.17 4.25 4.42 3.83 3.42 ...\n",
            " $ gender     : chr  \"F\" \"cm\" \"F\" \"F\" ...\n",
            " $ foot_length: int  163 163 171 163 NA 164 150 150 175 172 ...\n",
            " $ height     : chr  \"103.3 cm\" \"103.9 cm\" \"111.2 cm\" \"99.7 cm\" ...\n"
          ]
        }
      ]
    },
    {
      "cell_type": "markdown",
      "source": [
        "### Null values summation"
      ],
      "metadata": {
        "id": "49-87ssPKpBj"
      }
    },
    {
      "cell_type": "code",
      "source": [
        "df_missing <- data.frame(colSums(is.na(df)))\n",
        "df_missing"
      ],
      "metadata": {
        "colab": {
          "base_uri": "https://localhost:8080/",
          "height": 223
        },
        "id": "AURnYZPg8eD0",
        "outputId": "91dbb5ff-5dab-40cb-cf98-d85d0ea83336"
      },
      "execution_count": 148,
      "outputs": [
        {
          "output_type": "display_data",
          "data": {
            "text/html": [
              "<table class=\"dataframe\">\n",
              "<caption>A data.frame: 4 × 1</caption>\n",
              "<thead>\n",
              "\t<tr><th></th><th scope=col>colSums.is.na.df..</th></tr>\n",
              "\t<tr><th></th><th scope=col>&lt;dbl&gt;</th></tr>\n",
              "</thead>\n",
              "<tbody>\n",
              "\t<tr><th scope=row>age</th><td>0</td></tr>\n",
              "\t<tr><th scope=row>gender</th><td>0</td></tr>\n",
              "\t<tr><th scope=row>foot_length</th><td>6</td></tr>\n",
              "\t<tr><th scope=row>height</th><td>0</td></tr>\n",
              "</tbody>\n",
              "</table>\n"
            ],
            "text/markdown": "\nA data.frame: 4 × 1\n\n| <!--/--> | colSums.is.na.df.. &lt;dbl&gt; |\n|---|---|\n| age | 0 |\n| gender | 0 |\n| foot_length | 6 |\n| height | 0 |\n\n",
            "text/latex": "A data.frame: 4 × 1\n\\begin{tabular}{r|l}\n  & colSums.is.na.df..\\\\\n  & <dbl>\\\\\n\\hline\n\tage & 0\\\\\n\tgender & 0\\\\\n\tfoot\\_length & 6\\\\\n\theight & 0\\\\\n\\end{tabular}\n",
            "text/plain": [
              "            colSums.is.na.df..\n",
              "age         0                 \n",
              "gender      0                 \n",
              "foot_length 6                 \n",
              "height      0                 "
            ]
          },
          "metadata": {}
        }
      ]
    },
    {
      "cell_type": "code",
      "source": [
        "# Count the number of missing values in each column of the data frame\n",
        "df %>% summarise_all(~sum(is.na(.)))"
      ],
      "metadata": {
        "colab": {
          "base_uri": "https://localhost:8080/",
          "height": 129
        },
        "id": "4bY9nkGb-3zY",
        "outputId": "6d38f4e0-1540-4459-b47f-0bb3abdee4e9"
      },
      "execution_count": 149,
      "outputs": [
        {
          "output_type": "display_data",
          "data": {
            "text/html": [
              "<table class=\"dataframe\">\n",
              "<caption>A data.frame: 1 × 4</caption>\n",
              "<thead>\n",
              "\t<tr><th scope=col>age</th><th scope=col>gender</th><th scope=col>foot_length</th><th scope=col>height</th></tr>\n",
              "\t<tr><th scope=col>&lt;int&gt;</th><th scope=col>&lt;int&gt;</th><th scope=col>&lt;int&gt;</th><th scope=col>&lt;int&gt;</th></tr>\n",
              "</thead>\n",
              "<tbody>\n",
              "\t<tr><td>0</td><td>0</td><td>6</td><td>0</td></tr>\n",
              "</tbody>\n",
              "</table>\n"
            ],
            "text/markdown": "\nA data.frame: 1 × 4\n\n| age &lt;int&gt; | gender &lt;int&gt; | foot_length &lt;int&gt; | height &lt;int&gt; |\n|---|---|---|---|\n| 0 | 0 | 6 | 0 |\n\n",
            "text/latex": "A data.frame: 1 × 4\n\\begin{tabular}{llll}\n age & gender & foot\\_length & height\\\\\n <int> & <int> & <int> & <int>\\\\\n\\hline\n\t 0 & 0 & 6 & 0\\\\\n\\end{tabular}\n",
            "text/plain": [
              "  age gender foot_length height\n",
              "1 0   0      6           0     "
            ]
          },
          "metadata": {}
        }
      ]
    },
    {
      "cell_type": "code",
      "source": [
        "map(df, ~sum(is.na(.)))"
      ],
      "metadata": {
        "colab": {
          "base_uri": "https://localhost:8080/",
          "height": 184
        },
        "id": "Ux1AA2uO-3wF",
        "outputId": "01246b1c-af17-4fcf-aff6-1ecf0c522171"
      },
      "execution_count": 150,
      "outputs": [
        {
          "output_type": "display_data",
          "data": {
            "text/html": [
              "<dl>\n",
              "\t<dt>$age</dt>\n",
              "\t\t<dd>0</dd>\n",
              "\t<dt>$gender</dt>\n",
              "\t\t<dd>0</dd>\n",
              "\t<dt>$foot_length</dt>\n",
              "\t\t<dd>6</dd>\n",
              "\t<dt>$height</dt>\n",
              "\t\t<dd>0</dd>\n",
              "</dl>\n"
            ],
            "text/markdown": "$age\n:   0\n$gender\n:   0\n$foot_length\n:   6\n$height\n:   0\n\n\n",
            "text/latex": "\\begin{description}\n\\item[\\$age] 0\n\\item[\\$gender] 0\n\\item[\\$foot\\_length] 6\n\\item[\\$height] 0\n\\end{description}\n",
            "text/plain": [
              "$age\n",
              "[1] 0\n",
              "\n",
              "$gender\n",
              "[1] 0\n",
              "\n",
              "$foot_length\n",
              "[1] 6\n",
              "\n",
              "$height\n",
              "[1] 0\n"
            ]
          },
          "metadata": {}
        }
      ]
    },
    {
      "cell_type": "code",
      "source": [
        "# summation of all possible null values\n",
        "sum(is.na(df) | is.null(df))"
      ],
      "metadata": {
        "colab": {
          "base_uri": "https://localhost:8080/",
          "height": 34
        },
        "id": "usMpI27O-3tX",
        "outputId": "c1eb20c4-0bac-4282-f0c1-0a45db6cb1f5"
      },
      "execution_count": 151,
      "outputs": [
        {
          "output_type": "display_data",
          "data": {
            "text/html": [
              "6"
            ],
            "text/markdown": "6",
            "text/latex": "6",
            "text/plain": [
              "[1] 6"
            ]
          },
          "metadata": {}
        }
      ]
    },
    {
      "cell_type": "code",
      "source": [
        "df %>%\n",
        "  summarize(count = sum(is.na(height)))"
      ],
      "metadata": {
        "colab": {
          "base_uri": "https://localhost:8080/",
          "height": 164
        },
        "id": "wYF_d1yz-9dO",
        "outputId": "980fb69c-bd46-4434-8605-f0c25e6f0c2c"
      },
      "execution_count": 153,
      "outputs": [
        {
          "output_type": "display_data",
          "data": {
            "text/html": [
              "<table class=\"dataframe\">\n",
              "<caption>A data.frame: 1 × 1</caption>\n",
              "<thead>\n",
              "\t<tr><th scope=col>count</th></tr>\n",
              "\t<tr><th scope=col>&lt;int&gt;</th></tr>\n",
              "</thead>\n",
              "<tbody>\n",
              "\t<tr><td>0</td></tr>\n",
              "</tbody>\n",
              "</table>\n"
            ],
            "text/markdown": "\nA data.frame: 1 × 1\n\n| count &lt;int&gt; |\n|---|\n| 0 |\n\n",
            "text/latex": "A data.frame: 1 × 1\n\\begin{tabular}{l}\n count\\\\\n <int>\\\\\n\\hline\n\t 0\\\\\n\\end{tabular}\n",
            "text/plain": [
              "  count\n",
              "1 0    "
            ]
          },
          "metadata": {}
        }
      ]
    },
    {
      "cell_type": "code",
      "source": [
        "complete.cases(df)"
      ],
      "metadata": {
        "colab": {
          "base_uri": "https://localhost:8080/",
          "height": 104
        },
        "id": "il0acClU-9Zs",
        "outputId": "72c2533f-310d-438e-f4ae-83e80db069f4"
      },
      "execution_count": 154,
      "outputs": [
        {
          "output_type": "display_data",
          "data": {
            "text/html": [
              "<style>\n",
              ".list-inline {list-style: none; margin:0; padding: 0}\n",
              ".list-inline>li {display: inline-block}\n",
              ".list-inline>li:not(:last-child)::after {content: \"\\00b7\"; padding: 0 .5ex}\n",
              "</style>\n",
              "<ol class=list-inline><li>TRUE</li><li>TRUE</li><li>TRUE</li><li>TRUE</li><li>FALSE</li><li>TRUE</li><li>TRUE</li><li>TRUE</li><li>TRUE</li><li>TRUE</li><li>TRUE</li><li>TRUE</li><li>TRUE</li><li>TRUE</li><li>TRUE</li><li>TRUE</li><li>TRUE</li><li>TRUE</li><li>TRUE</li><li>TRUE</li><li>TRUE</li><li>FALSE</li><li>TRUE</li><li>TRUE</li><li>TRUE</li><li>TRUE</li><li>TRUE</li><li>FALSE</li><li>TRUE</li><li>TRUE</li><li>TRUE</li><li>TRUE</li><li>TRUE</li><li>TRUE</li><li>TRUE</li><li>TRUE</li><li>TRUE</li><li>TRUE</li><li>TRUE</li><li>TRUE</li><li>TRUE</li><li>TRUE</li><li>TRUE</li><li>TRUE</li><li>TRUE</li><li>FALSE</li><li>TRUE</li><li>TRUE</li><li>TRUE</li><li>TRUE</li><li>TRUE</li><li>TRUE</li><li>TRUE</li><li>TRUE</li><li>TRUE</li><li>FALSE</li><li>TRUE</li><li>TRUE</li><li>TRUE</li><li>TRUE</li><li>TRUE</li><li>TRUE</li><li>TRUE</li><li>TRUE</li><li>TRUE</li><li>TRUE</li><li>TRUE</li><li>TRUE</li><li>TRUE</li><li>TRUE</li><li>TRUE</li><li>TRUE</li><li>TRUE</li><li>TRUE</li><li>TRUE</li><li>TRUE</li><li>TRUE</li><li>TRUE</li><li>TRUE</li><li>TRUE</li><li>TRUE</li><li>TRUE</li><li>TRUE</li><li>TRUE</li><li>TRUE</li><li>TRUE</li><li>TRUE</li><li>TRUE</li><li>TRUE</li><li>TRUE</li><li>TRUE</li><li>TRUE</li><li>TRUE</li><li>TRUE</li><li>TRUE</li><li>TRUE</li><li>TRUE</li><li>TRUE</li><li>FALSE</li></ol>\n"
            ],
            "text/markdown": "1. TRUE\n2. TRUE\n3. TRUE\n4. TRUE\n5. FALSE\n6. TRUE\n7. TRUE\n8. TRUE\n9. TRUE\n10. TRUE\n11. TRUE\n12. TRUE\n13. TRUE\n14. TRUE\n15. TRUE\n16. TRUE\n17. TRUE\n18. TRUE\n19. TRUE\n20. TRUE\n21. TRUE\n22. FALSE\n23. TRUE\n24. TRUE\n25. TRUE\n26. TRUE\n27. TRUE\n28. FALSE\n29. TRUE\n30. TRUE\n31. TRUE\n32. TRUE\n33. TRUE\n34. TRUE\n35. TRUE\n36. TRUE\n37. TRUE\n38. TRUE\n39. TRUE\n40. TRUE\n41. TRUE\n42. TRUE\n43. TRUE\n44. TRUE\n45. TRUE\n46. FALSE\n47. TRUE\n48. TRUE\n49. TRUE\n50. TRUE\n51. TRUE\n52. TRUE\n53. TRUE\n54. TRUE\n55. TRUE\n56. FALSE\n57. TRUE\n58. TRUE\n59. TRUE\n60. TRUE\n61. TRUE\n62. TRUE\n63. TRUE\n64. TRUE\n65. TRUE\n66. TRUE\n67. TRUE\n68. TRUE\n69. TRUE\n70. TRUE\n71. TRUE\n72. TRUE\n73. TRUE\n74. TRUE\n75. TRUE\n76. TRUE\n77. TRUE\n78. TRUE\n79. TRUE\n80. TRUE\n81. TRUE\n82. TRUE\n83. TRUE\n84. TRUE\n85. TRUE\n86. TRUE\n87. TRUE\n88. TRUE\n89. TRUE\n90. TRUE\n91. TRUE\n92. TRUE\n93. TRUE\n94. TRUE\n95. TRUE\n96. TRUE\n97. TRUE\n98. TRUE\n99. FALSE\n\n\n",
            "text/latex": "\\begin{enumerate*}\n\\item TRUE\n\\item TRUE\n\\item TRUE\n\\item TRUE\n\\item FALSE\n\\item TRUE\n\\item TRUE\n\\item TRUE\n\\item TRUE\n\\item TRUE\n\\item TRUE\n\\item TRUE\n\\item TRUE\n\\item TRUE\n\\item TRUE\n\\item TRUE\n\\item TRUE\n\\item TRUE\n\\item TRUE\n\\item TRUE\n\\item TRUE\n\\item FALSE\n\\item TRUE\n\\item TRUE\n\\item TRUE\n\\item TRUE\n\\item TRUE\n\\item FALSE\n\\item TRUE\n\\item TRUE\n\\item TRUE\n\\item TRUE\n\\item TRUE\n\\item TRUE\n\\item TRUE\n\\item TRUE\n\\item TRUE\n\\item TRUE\n\\item TRUE\n\\item TRUE\n\\item TRUE\n\\item TRUE\n\\item TRUE\n\\item TRUE\n\\item TRUE\n\\item FALSE\n\\item TRUE\n\\item TRUE\n\\item TRUE\n\\item TRUE\n\\item TRUE\n\\item TRUE\n\\item TRUE\n\\item TRUE\n\\item TRUE\n\\item FALSE\n\\item TRUE\n\\item TRUE\n\\item TRUE\n\\item TRUE\n\\item TRUE\n\\item TRUE\n\\item TRUE\n\\item TRUE\n\\item TRUE\n\\item TRUE\n\\item TRUE\n\\item TRUE\n\\item TRUE\n\\item TRUE\n\\item TRUE\n\\item TRUE\n\\item TRUE\n\\item TRUE\n\\item TRUE\n\\item TRUE\n\\item TRUE\n\\item TRUE\n\\item TRUE\n\\item TRUE\n\\item TRUE\n\\item TRUE\n\\item TRUE\n\\item TRUE\n\\item TRUE\n\\item TRUE\n\\item TRUE\n\\item TRUE\n\\item TRUE\n\\item TRUE\n\\item TRUE\n\\item TRUE\n\\item TRUE\n\\item TRUE\n\\item TRUE\n\\item TRUE\n\\item TRUE\n\\item TRUE\n\\item FALSE\n\\end{enumerate*}\n",
            "text/plain": [
              " [1]  TRUE  TRUE  TRUE  TRUE FALSE  TRUE  TRUE  TRUE  TRUE  TRUE  TRUE  TRUE\n",
              "[13]  TRUE  TRUE  TRUE  TRUE  TRUE  TRUE  TRUE  TRUE  TRUE FALSE  TRUE  TRUE\n",
              "[25]  TRUE  TRUE  TRUE FALSE  TRUE  TRUE  TRUE  TRUE  TRUE  TRUE  TRUE  TRUE\n",
              "[37]  TRUE  TRUE  TRUE  TRUE  TRUE  TRUE  TRUE  TRUE  TRUE FALSE  TRUE  TRUE\n",
              "[49]  TRUE  TRUE  TRUE  TRUE  TRUE  TRUE  TRUE FALSE  TRUE  TRUE  TRUE  TRUE\n",
              "[61]  TRUE  TRUE  TRUE  TRUE  TRUE  TRUE  TRUE  TRUE  TRUE  TRUE  TRUE  TRUE\n",
              "[73]  TRUE  TRUE  TRUE  TRUE  TRUE  TRUE  TRUE  TRUE  TRUE  TRUE  TRUE  TRUE\n",
              "[85]  TRUE  TRUE  TRUE  TRUE  TRUE  TRUE  TRUE  TRUE  TRUE  TRUE  TRUE  TRUE\n",
              "[97]  TRUE  TRUE FALSE"
            ]
          },
          "metadata": {}
        }
      ]
    },
    {
      "cell_type": "markdown",
      "source": [
        "## Output of all null Records"
      ],
      "metadata": {
        "id": "Tu_xhgvu_HG5"
      }
    },
    {
      "cell_type": "code",
      "source": [
        "df[!complete.cases(df),]"
      ],
      "metadata": {
        "colab": {
          "base_uri": "https://localhost:8080/",
          "height": 286
        },
        "id": "w0LeKGmI_FUV",
        "outputId": "9dee685a-6dd2-4e57-b7dd-3176e8167daf"
      },
      "execution_count": 155,
      "outputs": [
        {
          "output_type": "display_data",
          "data": {
            "text/html": [
              "<table class=\"dataframe\">\n",
              "<caption>A data.frame: 6 × 4</caption>\n",
              "<thead>\n",
              "\t<tr><th></th><th scope=col>age</th><th scope=col>gender</th><th scope=col>foot_length</th><th scope=col>height</th></tr>\n",
              "\t<tr><th></th><th scope=col>&lt;dbl&gt;</th><th scope=col>&lt;chr&gt;</th><th scope=col>&lt;int&gt;</th><th scope=col>&lt;chr&gt;</th></tr>\n",
              "</thead>\n",
              "<tbody>\n",
              "\t<tr><th scope=row>5</th><td> 3.416667</td><td>F </td><td>NA</td><td>99.7 cm </td></tr>\n",
              "\t<tr><th scope=row>22</th><td>12.750000</td><td>F </td><td>NA</td><td>157.6 cm</td></tr>\n",
              "\t<tr><th scope=row>28</th><td>13.500000</td><td>cm</td><td>NA</td><td>174.2 cm</td></tr>\n",
              "\t<tr><th scope=row>46</th><td>12.583333</td><td>cm</td><td>NA</td><td>144.3   </td></tr>\n",
              "\t<tr><th scope=row>56</th><td> 6.500000</td><td>cm</td><td>NA</td><td>120.6   </td></tr>\n",
              "\t<tr><th scope=row>99</th><td>11.833333</td><td>cm</td><td>NA</td><td>145.2 cm</td></tr>\n",
              "</tbody>\n",
              "</table>\n"
            ],
            "text/markdown": "\nA data.frame: 6 × 4\n\n| <!--/--> | age &lt;dbl&gt; | gender &lt;chr&gt; | foot_length &lt;int&gt; | height &lt;chr&gt; |\n|---|---|---|---|---|\n| 5 |  3.416667 | F  | NA | 99.7 cm  |\n| 22 | 12.750000 | F  | NA | 157.6 cm |\n| 28 | 13.500000 | cm | NA | 174.2 cm |\n| 46 | 12.583333 | cm | NA | 144.3    |\n| 56 |  6.500000 | cm | NA | 120.6    |\n| 99 | 11.833333 | cm | NA | 145.2 cm |\n\n",
            "text/latex": "A data.frame: 6 × 4\n\\begin{tabular}{r|llll}\n  & age & gender & foot\\_length & height\\\\\n  & <dbl> & <chr> & <int> & <chr>\\\\\n\\hline\n\t5 &  3.416667 & F  & NA & 99.7 cm \\\\\n\t22 & 12.750000 & F  & NA & 157.6 cm\\\\\n\t28 & 13.500000 & cm & NA & 174.2 cm\\\\\n\t46 & 12.583333 & cm & NA & 144.3   \\\\\n\t56 &  6.500000 & cm & NA & 120.6   \\\\\n\t99 & 11.833333 & cm & NA & 145.2 cm\\\\\n\\end{tabular}\n",
            "text/plain": [
              "   age       gender foot_length height  \n",
              "5   3.416667 F      NA          99.7 cm \n",
              "22 12.750000 F      NA          157.6 cm\n",
              "28 13.500000 cm     NA          174.2 cm\n",
              "46 12.583333 cm     NA          144.3   \n",
              "56  6.500000 cm     NA          120.6   \n",
              "99 11.833333 cm     NA          145.2 cm"
            ]
          },
          "metadata": {}
        }
      ]
    },
    {
      "cell_type": "markdown",
      "source": [
        "### Ouput data without any missing values"
      ],
      "metadata": {
        "id": "hET37bOW_NlP"
      }
    },
    {
      "cell_type": "code",
      "source": [
        "head(df[!is.na(df),], 10)"
      ],
      "metadata": {
        "colab": {
          "base_uri": "https://localhost:8080/",
          "height": 411
        },
        "id": "CFxUQsDz_FQ4",
        "outputId": "5a9d2afb-1d0f-4072-eef0-3a66cbe9b41d"
      },
      "execution_count": 156,
      "outputs": [
        {
          "output_type": "display_data",
          "data": {
            "text/html": [
              "<table class=\"dataframe\">\n",
              "<caption>A data.frame: 10 × 4</caption>\n",
              "<thead>\n",
              "\t<tr><th></th><th scope=col>age</th><th scope=col>gender</th><th scope=col>foot_length</th><th scope=col>height</th></tr>\n",
              "\t<tr><th></th><th scope=col>&lt;dbl&gt;</th><th scope=col>&lt;chr&gt;</th><th scope=col>&lt;int&gt;</th><th scope=col>&lt;chr&gt;</th></tr>\n",
              "</thead>\n",
              "<tbody>\n",
              "\t<tr><th scope=row>1</th><td>4.166667</td><td>F </td><td>163</td><td>103.3 cm</td></tr>\n",
              "\t<tr><th scope=row>2</th><td>4.250000</td><td>cm</td><td>163</td><td>103.9 cm</td></tr>\n",
              "\t<tr><th scope=row>3</th><td>4.416667</td><td>F </td><td>171</td><td>111.2 cm</td></tr>\n",
              "\t<tr><th scope=row>4</th><td>3.833333</td><td>F </td><td>163</td><td>99.7 cm </td></tr>\n",
              "\t<tr><th scope=row>5</th><td>3.416667</td><td>F </td><td> NA</td><td>99.7 cm </td></tr>\n",
              "\t<tr><th scope=row>6</th><td>3.666667</td><td>cm</td><td>164</td><td>98.7 cm </td></tr>\n",
              "\t<tr><th scope=row>7</th><td>3.333333</td><td>cm</td><td>150</td><td>94.1 cm </td></tr>\n",
              "\t<tr><th scope=row>8</th><td>3.583333</td><td>F </td><td>150</td><td>93.3 cm </td></tr>\n",
              "\t<tr><th scope=row>9</th><td>5.500000</td><td>F </td><td>175</td><td>116.4 cm</td></tr>\n",
              "\t<tr><th scope=row>10</th><td>5.166667</td><td>F </td><td>172</td><td>110 cm  </td></tr>\n",
              "</tbody>\n",
              "</table>\n"
            ],
            "text/markdown": "\nA data.frame: 10 × 4\n\n| <!--/--> | age &lt;dbl&gt; | gender &lt;chr&gt; | foot_length &lt;int&gt; | height &lt;chr&gt; |\n|---|---|---|---|---|\n| 1 | 4.166667 | F  | 163 | 103.3 cm |\n| 2 | 4.250000 | cm | 163 | 103.9 cm |\n| 3 | 4.416667 | F  | 171 | 111.2 cm |\n| 4 | 3.833333 | F  | 163 | 99.7 cm  |\n| 5 | 3.416667 | F  |  NA | 99.7 cm  |\n| 6 | 3.666667 | cm | 164 | 98.7 cm  |\n| 7 | 3.333333 | cm | 150 | 94.1 cm  |\n| 8 | 3.583333 | F  | 150 | 93.3 cm  |\n| 9 | 5.500000 | F  | 175 | 116.4 cm |\n| 10 | 5.166667 | F  | 172 | 110 cm   |\n\n",
            "text/latex": "A data.frame: 10 × 4\n\\begin{tabular}{r|llll}\n  & age & gender & foot\\_length & height\\\\\n  & <dbl> & <chr> & <int> & <chr>\\\\\n\\hline\n\t1 & 4.166667 & F  & 163 & 103.3 cm\\\\\n\t2 & 4.250000 & cm & 163 & 103.9 cm\\\\\n\t3 & 4.416667 & F  & 171 & 111.2 cm\\\\\n\t4 & 3.833333 & F  & 163 & 99.7 cm \\\\\n\t5 & 3.416667 & F  &  NA & 99.7 cm \\\\\n\t6 & 3.666667 & cm & 164 & 98.7 cm \\\\\n\t7 & 3.333333 & cm & 150 & 94.1 cm \\\\\n\t8 & 3.583333 & F  & 150 & 93.3 cm \\\\\n\t9 & 5.500000 & F  & 175 & 116.4 cm\\\\\n\t10 & 5.166667 & F  & 172 & 110 cm  \\\\\n\\end{tabular}\n",
            "text/plain": [
              "   age      gender foot_length height  \n",
              "1  4.166667 F      163         103.3 cm\n",
              "2  4.250000 cm     163         103.9 cm\n",
              "3  4.416667 F      171         111.2 cm\n",
              "4  3.833333 F      163         99.7 cm \n",
              "5  3.416667 F       NA         99.7 cm \n",
              "6  3.666667 cm     164         98.7 cm \n",
              "7  3.333333 cm     150         94.1 cm \n",
              "8  3.583333 F      150         93.3 cm \n",
              "9  5.500000 F      175         116.4 cm\n",
              "10 5.166667 F      172         110 cm  "
            ]
          },
          "metadata": {}
        }
      ]
    },
    {
      "cell_type": "markdown",
      "source": [
        "## Gender column preprocessing\n",
        "convert to Male and Female"
      ],
      "metadata": {
        "id": "M-torHcIy_yV"
      }
    },
    {
      "cell_type": "code",
      "source": [
        "df$gender     "
      ],
      "metadata": {
        "colab": {
          "base_uri": "https://localhost:8080/",
          "height": 69
        },
        "id": "S9HX4gTfnqrF",
        "outputId": "c759e67b-4be9-459d-b7f6-6b7d196443fe"
      },
      "execution_count": 157,
      "outputs": [
        {
          "output_type": "display_data",
          "data": {
            "text/html": [
              "<style>\n",
              ".list-inline {list-style: none; margin:0; padding: 0}\n",
              ".list-inline>li {display: inline-block}\n",
              ".list-inline>li:not(:last-child)::after {content: \"\\00b7\"; padding: 0 .5ex}\n",
              "</style>\n",
              "<ol class=list-inline><li>'F'</li><li>'cm'</li><li>'F'</li><li>'F'</li><li>'F'</li><li>'cm'</li><li>'cm'</li><li>'F'</li><li>'F'</li><li>'F'</li><li>'F'</li><li>'F'</li><li>'F'</li><li>'F'</li><li>'F'</li><li>'F'</li><li>'F'</li><li>'F'</li><li>'F'</li><li>'F'</li><li>'F'</li><li>'F'</li><li>'F'</li><li>'F'</li><li>'F'</li><li>'F'</li><li>'cm'</li><li>'cm'</li><li>'cm'</li><li>'cm'</li><li>'cm'</li><li>'cm'</li><li>'cm'</li><li>'cm'</li><li>'cm'</li><li>'cm'</li><li>'cm'</li><li>'cm'</li><li>'cm'</li><li>'cm'</li><li>'cm'</li><li>'F'</li><li>'F'</li><li>'F'</li><li>'F'</li><li>'cm'</li><li>'cm'</li><li>'cm'</li><li>'cm'</li><li>'F'</li><li>'F'</li><li>'F'</li><li>'cm'</li><li>'cm'</li><li>'cm'</li><li>'cm'</li><li>'cm'</li><li>'cm'</li><li>'cm'</li><li>'cm'</li><li>'cm'</li><li>'cm'</li><li>'cm'</li><li>'cm'</li><li>'F'</li><li>'F'</li><li>'F'</li><li>'F'</li><li>'F'</li><li>'F'</li><li>'F'</li><li>'F'</li><li>'F'</li><li>'F'</li><li>'F'</li><li>'F'</li><li>'F'</li><li>'F'</li><li>'F'</li><li>'F'</li><li>'F'</li><li>'F'</li><li>'F'</li><li>'F'</li><li>'F'</li><li>'F'</li><li>'F'</li><li>'cm'</li><li>'cm'</li><li>'cm'</li><li>'cm'</li><li>'cm'</li><li>'cm'</li><li>'cm'</li><li>'cm'</li><li>'cm'</li><li>'cm'</li><li>'cm'</li><li>'cm'</li></ol>\n"
            ],
            "text/markdown": "1. 'F'\n2. 'cm'\n3. 'F'\n4. 'F'\n5. 'F'\n6. 'cm'\n7. 'cm'\n8. 'F'\n9. 'F'\n10. 'F'\n11. 'F'\n12. 'F'\n13. 'F'\n14. 'F'\n15. 'F'\n16. 'F'\n17. 'F'\n18. 'F'\n19. 'F'\n20. 'F'\n21. 'F'\n22. 'F'\n23. 'F'\n24. 'F'\n25. 'F'\n26. 'F'\n27. 'cm'\n28. 'cm'\n29. 'cm'\n30. 'cm'\n31. 'cm'\n32. 'cm'\n33. 'cm'\n34. 'cm'\n35. 'cm'\n36. 'cm'\n37. 'cm'\n38. 'cm'\n39. 'cm'\n40. 'cm'\n41. 'cm'\n42. 'F'\n43. 'F'\n44. 'F'\n45. 'F'\n46. 'cm'\n47. 'cm'\n48. 'cm'\n49. 'cm'\n50. 'F'\n51. 'F'\n52. 'F'\n53. 'cm'\n54. 'cm'\n55. 'cm'\n56. 'cm'\n57. 'cm'\n58. 'cm'\n59. 'cm'\n60. 'cm'\n61. 'cm'\n62. 'cm'\n63. 'cm'\n64. 'cm'\n65. 'F'\n66. 'F'\n67. 'F'\n68. 'F'\n69. 'F'\n70. 'F'\n71. 'F'\n72. 'F'\n73. 'F'\n74. 'F'\n75. 'F'\n76. 'F'\n77. 'F'\n78. 'F'\n79. 'F'\n80. 'F'\n81. 'F'\n82. 'F'\n83. 'F'\n84. 'F'\n85. 'F'\n86. 'F'\n87. 'F'\n88. 'cm'\n89. 'cm'\n90. 'cm'\n91. 'cm'\n92. 'cm'\n93. 'cm'\n94. 'cm'\n95. 'cm'\n96. 'cm'\n97. 'cm'\n98. 'cm'\n99. 'cm'\n\n\n",
            "text/latex": "\\begin{enumerate*}\n\\item 'F'\n\\item 'cm'\n\\item 'F'\n\\item 'F'\n\\item 'F'\n\\item 'cm'\n\\item 'cm'\n\\item 'F'\n\\item 'F'\n\\item 'F'\n\\item 'F'\n\\item 'F'\n\\item 'F'\n\\item 'F'\n\\item 'F'\n\\item 'F'\n\\item 'F'\n\\item 'F'\n\\item 'F'\n\\item 'F'\n\\item 'F'\n\\item 'F'\n\\item 'F'\n\\item 'F'\n\\item 'F'\n\\item 'F'\n\\item 'cm'\n\\item 'cm'\n\\item 'cm'\n\\item 'cm'\n\\item 'cm'\n\\item 'cm'\n\\item 'cm'\n\\item 'cm'\n\\item 'cm'\n\\item 'cm'\n\\item 'cm'\n\\item 'cm'\n\\item 'cm'\n\\item 'cm'\n\\item 'cm'\n\\item 'F'\n\\item 'F'\n\\item 'F'\n\\item 'F'\n\\item 'cm'\n\\item 'cm'\n\\item 'cm'\n\\item 'cm'\n\\item 'F'\n\\item 'F'\n\\item 'F'\n\\item 'cm'\n\\item 'cm'\n\\item 'cm'\n\\item 'cm'\n\\item 'cm'\n\\item 'cm'\n\\item 'cm'\n\\item 'cm'\n\\item 'cm'\n\\item 'cm'\n\\item 'cm'\n\\item 'cm'\n\\item 'F'\n\\item 'F'\n\\item 'F'\n\\item 'F'\n\\item 'F'\n\\item 'F'\n\\item 'F'\n\\item 'F'\n\\item 'F'\n\\item 'F'\n\\item 'F'\n\\item 'F'\n\\item 'F'\n\\item 'F'\n\\item 'F'\n\\item 'F'\n\\item 'F'\n\\item 'F'\n\\item 'F'\n\\item 'F'\n\\item 'F'\n\\item 'F'\n\\item 'F'\n\\item 'cm'\n\\item 'cm'\n\\item 'cm'\n\\item 'cm'\n\\item 'cm'\n\\item 'cm'\n\\item 'cm'\n\\item 'cm'\n\\item 'cm'\n\\item 'cm'\n\\item 'cm'\n\\item 'cm'\n\\end{enumerate*}\n",
            "text/plain": [
              " [1] \"F\"  \"cm\" \"F\"  \"F\"  \"F\"  \"cm\" \"cm\" \"F\"  \"F\"  \"F\"  \"F\"  \"F\"  \"F\"  \"F\"  \"F\" \n",
              "[16] \"F\"  \"F\"  \"F\"  \"F\"  \"F\"  \"F\"  \"F\"  \"F\"  \"F\"  \"F\"  \"F\"  \"cm\" \"cm\" \"cm\" \"cm\"\n",
              "[31] \"cm\" \"cm\" \"cm\" \"cm\" \"cm\" \"cm\" \"cm\" \"cm\" \"cm\" \"cm\" \"cm\" \"F\"  \"F\"  \"F\"  \"F\" \n",
              "[46] \"cm\" \"cm\" \"cm\" \"cm\" \"F\"  \"F\"  \"F\"  \"cm\" \"cm\" \"cm\" \"cm\" \"cm\" \"cm\" \"cm\" \"cm\"\n",
              "[61] \"cm\" \"cm\" \"cm\" \"cm\" \"F\"  \"F\"  \"F\"  \"F\"  \"F\"  \"F\"  \"F\"  \"F\"  \"F\"  \"F\"  \"F\" \n",
              "[76] \"F\"  \"F\"  \"F\"  \"F\"  \"F\"  \"F\"  \"F\"  \"F\"  \"F\"  \"F\"  \"F\"  \"F\"  \"cm\" \"cm\" \"cm\"\n",
              "[91] \"cm\" \"cm\" \"cm\" \"cm\" \"cm\" \"cm\" \"cm\" \"cm\" \"cm\""
            ]
          },
          "metadata": {}
        }
      ]
    },
    {
      "cell_type": "code",
      "source": [
        "df$gender = ifelse(df$gender == 'F', 'Female', 'Male')\n",
        "df$gender   "
      ],
      "metadata": {
        "colab": {
          "base_uri": "https://localhost:8080/",
          "height": 104
        },
        "id": "IncnVinowlXT",
        "outputId": "da2b07c5-c6d5-4a08-f5f9-b18ac44d51aa"
      },
      "execution_count": 158,
      "outputs": [
        {
          "output_type": "display_data",
          "data": {
            "text/html": [
              "<style>\n",
              ".list-inline {list-style: none; margin:0; padding: 0}\n",
              ".list-inline>li {display: inline-block}\n",
              ".list-inline>li:not(:last-child)::after {content: \"\\00b7\"; padding: 0 .5ex}\n",
              "</style>\n",
              "<ol class=list-inline><li>'Female'</li><li>'Male'</li><li>'Female'</li><li>'Female'</li><li>'Female'</li><li>'Male'</li><li>'Male'</li><li>'Female'</li><li>'Female'</li><li>'Female'</li><li>'Female'</li><li>'Female'</li><li>'Female'</li><li>'Female'</li><li>'Female'</li><li>'Female'</li><li>'Female'</li><li>'Female'</li><li>'Female'</li><li>'Female'</li><li>'Female'</li><li>'Female'</li><li>'Female'</li><li>'Female'</li><li>'Female'</li><li>'Female'</li><li>'Male'</li><li>'Male'</li><li>'Male'</li><li>'Male'</li><li>'Male'</li><li>'Male'</li><li>'Male'</li><li>'Male'</li><li>'Male'</li><li>'Male'</li><li>'Male'</li><li>'Male'</li><li>'Male'</li><li>'Male'</li><li>'Male'</li><li>'Female'</li><li>'Female'</li><li>'Female'</li><li>'Female'</li><li>'Male'</li><li>'Male'</li><li>'Male'</li><li>'Male'</li><li>'Female'</li><li>'Female'</li><li>'Female'</li><li>'Male'</li><li>'Male'</li><li>'Male'</li><li>'Male'</li><li>'Male'</li><li>'Male'</li><li>'Male'</li><li>'Male'</li><li>'Male'</li><li>'Male'</li><li>'Male'</li><li>'Male'</li><li>'Female'</li><li>'Female'</li><li>'Female'</li><li>'Female'</li><li>'Female'</li><li>'Female'</li><li>'Female'</li><li>'Female'</li><li>'Female'</li><li>'Female'</li><li>'Female'</li><li>'Female'</li><li>'Female'</li><li>'Female'</li><li>'Female'</li><li>'Female'</li><li>'Female'</li><li>'Female'</li><li>'Female'</li><li>'Female'</li><li>'Female'</li><li>'Female'</li><li>'Female'</li><li>'Male'</li><li>'Male'</li><li>'Male'</li><li>'Male'</li><li>'Male'</li><li>'Male'</li><li>'Male'</li><li>'Male'</li><li>'Male'</li><li>'Male'</li><li>'Male'</li><li>'Male'</li></ol>\n"
            ],
            "text/markdown": "1. 'Female'\n2. 'Male'\n3. 'Female'\n4. 'Female'\n5. 'Female'\n6. 'Male'\n7. 'Male'\n8. 'Female'\n9. 'Female'\n10. 'Female'\n11. 'Female'\n12. 'Female'\n13. 'Female'\n14. 'Female'\n15. 'Female'\n16. 'Female'\n17. 'Female'\n18. 'Female'\n19. 'Female'\n20. 'Female'\n21. 'Female'\n22. 'Female'\n23. 'Female'\n24. 'Female'\n25. 'Female'\n26. 'Female'\n27. 'Male'\n28. 'Male'\n29. 'Male'\n30. 'Male'\n31. 'Male'\n32. 'Male'\n33. 'Male'\n34. 'Male'\n35. 'Male'\n36. 'Male'\n37. 'Male'\n38. 'Male'\n39. 'Male'\n40. 'Male'\n41. 'Male'\n42. 'Female'\n43. 'Female'\n44. 'Female'\n45. 'Female'\n46. 'Male'\n47. 'Male'\n48. 'Male'\n49. 'Male'\n50. 'Female'\n51. 'Female'\n52. 'Female'\n53. 'Male'\n54. 'Male'\n55. 'Male'\n56. 'Male'\n57. 'Male'\n58. 'Male'\n59. 'Male'\n60. 'Male'\n61. 'Male'\n62. 'Male'\n63. 'Male'\n64. 'Male'\n65. 'Female'\n66. 'Female'\n67. 'Female'\n68. 'Female'\n69. 'Female'\n70. 'Female'\n71. 'Female'\n72. 'Female'\n73. 'Female'\n74. 'Female'\n75. 'Female'\n76. 'Female'\n77. 'Female'\n78. 'Female'\n79. 'Female'\n80. 'Female'\n81. 'Female'\n82. 'Female'\n83. 'Female'\n84. 'Female'\n85. 'Female'\n86. 'Female'\n87. 'Female'\n88. 'Male'\n89. 'Male'\n90. 'Male'\n91. 'Male'\n92. 'Male'\n93. 'Male'\n94. 'Male'\n95. 'Male'\n96. 'Male'\n97. 'Male'\n98. 'Male'\n99. 'Male'\n\n\n",
            "text/latex": "\\begin{enumerate*}\n\\item 'Female'\n\\item 'Male'\n\\item 'Female'\n\\item 'Female'\n\\item 'Female'\n\\item 'Male'\n\\item 'Male'\n\\item 'Female'\n\\item 'Female'\n\\item 'Female'\n\\item 'Female'\n\\item 'Female'\n\\item 'Female'\n\\item 'Female'\n\\item 'Female'\n\\item 'Female'\n\\item 'Female'\n\\item 'Female'\n\\item 'Female'\n\\item 'Female'\n\\item 'Female'\n\\item 'Female'\n\\item 'Female'\n\\item 'Female'\n\\item 'Female'\n\\item 'Female'\n\\item 'Male'\n\\item 'Male'\n\\item 'Male'\n\\item 'Male'\n\\item 'Male'\n\\item 'Male'\n\\item 'Male'\n\\item 'Male'\n\\item 'Male'\n\\item 'Male'\n\\item 'Male'\n\\item 'Male'\n\\item 'Male'\n\\item 'Male'\n\\item 'Male'\n\\item 'Female'\n\\item 'Female'\n\\item 'Female'\n\\item 'Female'\n\\item 'Male'\n\\item 'Male'\n\\item 'Male'\n\\item 'Male'\n\\item 'Female'\n\\item 'Female'\n\\item 'Female'\n\\item 'Male'\n\\item 'Male'\n\\item 'Male'\n\\item 'Male'\n\\item 'Male'\n\\item 'Male'\n\\item 'Male'\n\\item 'Male'\n\\item 'Male'\n\\item 'Male'\n\\item 'Male'\n\\item 'Male'\n\\item 'Female'\n\\item 'Female'\n\\item 'Female'\n\\item 'Female'\n\\item 'Female'\n\\item 'Female'\n\\item 'Female'\n\\item 'Female'\n\\item 'Female'\n\\item 'Female'\n\\item 'Female'\n\\item 'Female'\n\\item 'Female'\n\\item 'Female'\n\\item 'Female'\n\\item 'Female'\n\\item 'Female'\n\\item 'Female'\n\\item 'Female'\n\\item 'Female'\n\\item 'Female'\n\\item 'Female'\n\\item 'Female'\n\\item 'Male'\n\\item 'Male'\n\\item 'Male'\n\\item 'Male'\n\\item 'Male'\n\\item 'Male'\n\\item 'Male'\n\\item 'Male'\n\\item 'Male'\n\\item 'Male'\n\\item 'Male'\n\\item 'Male'\n\\end{enumerate*}\n",
            "text/plain": [
              " [1] \"Female\" \"Male\"   \"Female\" \"Female\" \"Female\" \"Male\"   \"Male\"   \"Female\"\n",
              " [9] \"Female\" \"Female\" \"Female\" \"Female\" \"Female\" \"Female\" \"Female\" \"Female\"\n",
              "[17] \"Female\" \"Female\" \"Female\" \"Female\" \"Female\" \"Female\" \"Female\" \"Female\"\n",
              "[25] \"Female\" \"Female\" \"Male\"   \"Male\"   \"Male\"   \"Male\"   \"Male\"   \"Male\"  \n",
              "[33] \"Male\"   \"Male\"   \"Male\"   \"Male\"   \"Male\"   \"Male\"   \"Male\"   \"Male\"  \n",
              "[41] \"Male\"   \"Female\" \"Female\" \"Female\" \"Female\" \"Male\"   \"Male\"   \"Male\"  \n",
              "[49] \"Male\"   \"Female\" \"Female\" \"Female\" \"Male\"   \"Male\"   \"Male\"   \"Male\"  \n",
              "[57] \"Male\"   \"Male\"   \"Male\"   \"Male\"   \"Male\"   \"Male\"   \"Male\"   \"Male\"  \n",
              "[65] \"Female\" \"Female\" \"Female\" \"Female\" \"Female\" \"Female\" \"Female\" \"Female\"\n",
              "[73] \"Female\" \"Female\" \"Female\" \"Female\" \"Female\" \"Female\" \"Female\" \"Female\"\n",
              "[81] \"Female\" \"Female\" \"Female\" \"Female\" \"Female\" \"Female\" \"Female\" \"Male\"  \n",
              "[89] \"Male\"   \"Male\"   \"Male\"   \"Male\"   \"Male\"   \"Male\"   \"Male\"   \"Male\"  \n",
              "[97] \"Male\"   \"Male\"   \"Male\"  "
            ]
          },
          "metadata": {}
        }
      ]
    },
    {
      "cell_type": "code",
      "source": [
        "head(df)"
      ],
      "metadata": {
        "id": "G8DTpP0nwlT7",
        "colab": {
          "base_uri": "https://localhost:8080/",
          "height": 286
        },
        "outputId": "b7a9339c-f443-46c9-bc56-49c6011cf80f"
      },
      "execution_count": 159,
      "outputs": [
        {
          "output_type": "display_data",
          "data": {
            "text/html": [
              "<table class=\"dataframe\">\n",
              "<caption>A data.frame: 6 × 4</caption>\n",
              "<thead>\n",
              "\t<tr><th></th><th scope=col>age</th><th scope=col>gender</th><th scope=col>foot_length</th><th scope=col>height</th></tr>\n",
              "\t<tr><th></th><th scope=col>&lt;dbl&gt;</th><th scope=col>&lt;chr&gt;</th><th scope=col>&lt;int&gt;</th><th scope=col>&lt;chr&gt;</th></tr>\n",
              "</thead>\n",
              "<tbody>\n",
              "\t<tr><th scope=row>1</th><td>4.166667</td><td>Female</td><td>163</td><td>103.3 cm</td></tr>\n",
              "\t<tr><th scope=row>2</th><td>4.250000</td><td>Male  </td><td>163</td><td>103.9 cm</td></tr>\n",
              "\t<tr><th scope=row>3</th><td>4.416667</td><td>Female</td><td>171</td><td>111.2 cm</td></tr>\n",
              "\t<tr><th scope=row>4</th><td>3.833333</td><td>Female</td><td>163</td><td>99.7 cm </td></tr>\n",
              "\t<tr><th scope=row>5</th><td>3.416667</td><td>Female</td><td> NA</td><td>99.7 cm </td></tr>\n",
              "\t<tr><th scope=row>6</th><td>3.666667</td><td>Male  </td><td>164</td><td>98.7 cm </td></tr>\n",
              "</tbody>\n",
              "</table>\n"
            ],
            "text/markdown": "\nA data.frame: 6 × 4\n\n| <!--/--> | age &lt;dbl&gt; | gender &lt;chr&gt; | foot_length &lt;int&gt; | height &lt;chr&gt; |\n|---|---|---|---|---|\n| 1 | 4.166667 | Female | 163 | 103.3 cm |\n| 2 | 4.250000 | Male   | 163 | 103.9 cm |\n| 3 | 4.416667 | Female | 171 | 111.2 cm |\n| 4 | 3.833333 | Female | 163 | 99.7 cm  |\n| 5 | 3.416667 | Female |  NA | 99.7 cm  |\n| 6 | 3.666667 | Male   | 164 | 98.7 cm  |\n\n",
            "text/latex": "A data.frame: 6 × 4\n\\begin{tabular}{r|llll}\n  & age & gender & foot\\_length & height\\\\\n  & <dbl> & <chr> & <int> & <chr>\\\\\n\\hline\n\t1 & 4.166667 & Female & 163 & 103.3 cm\\\\\n\t2 & 4.250000 & Male   & 163 & 103.9 cm\\\\\n\t3 & 4.416667 & Female & 171 & 111.2 cm\\\\\n\t4 & 3.833333 & Female & 163 & 99.7 cm \\\\\n\t5 & 3.416667 & Female &  NA & 99.7 cm \\\\\n\t6 & 3.666667 & Male   & 164 & 98.7 cm \\\\\n\\end{tabular}\n",
            "text/plain": [
              "  age      gender foot_length height  \n",
              "1 4.166667 Female 163         103.3 cm\n",
              "2 4.250000 Male   163         103.9 cm\n",
              "3 4.416667 Female 171         111.2 cm\n",
              "4 3.833333 Female 163         99.7 cm \n",
              "5 3.416667 Female  NA         99.7 cm \n",
              "6 3.666667 Male   164         98.7 cm "
            ]
          },
          "metadata": {}
        }
      ]
    },
    {
      "cell_type": "code",
      "source": [
        "table(df$gender)"
      ],
      "metadata": {
        "id": "pIYQybckwlRT",
        "colab": {
          "base_uri": "https://localhost:8080/",
          "height": 71
        },
        "outputId": "e3d97a5c-31d9-4c8b-942a-e6dd93664d85"
      },
      "execution_count": 160,
      "outputs": [
        {
          "output_type": "display_data",
          "data": {
            "text/plain": [
              "\n",
              "Female   Male \n",
              "    53     46 "
            ]
          },
          "metadata": {}
        }
      ]
    },
    {
      "cell_type": "code",
      "source": [
        "max(table(df$gender))"
      ],
      "metadata": {
        "colab": {
          "base_uri": "https://localhost:8080/",
          "height": 34
        },
        "id": "LoIsJhKb_ZKk",
        "outputId": "822432c8-0501-4f29-a202-661f9137636b"
      },
      "execution_count": 161,
      "outputs": [
        {
          "output_type": "display_data",
          "data": {
            "text/html": [
              "53"
            ],
            "text/markdown": "53",
            "text/latex": "53",
            "text/plain": [
              "[1] 53"
            ]
          },
          "metadata": {}
        }
      ]
    },
    {
      "cell_type": "code",
      "source": [
        "which.max(table(df$gender))\n",
        "# female and index is 1 in table"
      ],
      "metadata": {
        "colab": {
          "base_uri": "https://localhost:8080/",
          "height": 34
        },
        "id": "5iWoKiIH_cZJ",
        "outputId": "52450e8b-6878-4604-fc72-956fe15e459d"
      },
      "execution_count": 162,
      "outputs": [
        {
          "output_type": "display_data",
          "data": {
            "text/html": [
              "<strong>Female:</strong> 1"
            ],
            "text/markdown": "**Female:** 1",
            "text/latex": "\\textbf{Female:} 1",
            "text/plain": [
              "Female \n",
              "     1 "
            ]
          },
          "metadata": {}
        }
      ]
    },
    {
      "cell_type": "markdown",
      "source": [
        "## height column preprocessing"
      ],
      "metadata": {
        "id": "FHVMSvxUg0rp"
      }
    },
    {
      "cell_type": "code",
      "source": [
        "# remove cm and ' ' from height\n",
        "df$height = gsub(' cm', '', df$height)"
      ],
      "metadata": {
        "id": "OkQGPwm-wlOe"
      },
      "execution_count": 163,
      "outputs": []
    },
    {
      "cell_type": "code",
      "source": [
        "# '.' not removable, it's for double number\n",
        "head(df$height)"
      ],
      "metadata": {
        "id": "QwI_V_eIx_nI",
        "colab": {
          "base_uri": "https://localhost:8080/",
          "height": 34
        },
        "outputId": "60f0e387-0886-405e-a07b-0737f615f57a"
      },
      "execution_count": 164,
      "outputs": [
        {
          "output_type": "display_data",
          "data": {
            "text/html": [
              "<style>\n",
              ".list-inline {list-style: none; margin:0; padding: 0}\n",
              ".list-inline>li {display: inline-block}\n",
              ".list-inline>li:not(:last-child)::after {content: \"\\00b7\"; padding: 0 .5ex}\n",
              "</style>\n",
              "<ol class=list-inline><li>'103.3'</li><li>'103.9'</li><li>'111.2'</li><li>'99.7'</li><li>'99.7'</li><li>'98.7'</li></ol>\n"
            ],
            "text/markdown": "1. '103.3'\n2. '103.9'\n3. '111.2'\n4. '99.7'\n5. '99.7'\n6. '98.7'\n\n\n",
            "text/latex": "\\begin{enumerate*}\n\\item '103.3'\n\\item '103.9'\n\\item '111.2'\n\\item '99.7'\n\\item '99.7'\n\\item '98.7'\n\\end{enumerate*}\n",
            "text/plain": [
              "[1] \"103.3\" \"103.9\" \"111.2\" \"99.7\"  \"99.7\"  \"98.7\" "
            ]
          },
          "metadata": {}
        }
      ]
    },
    {
      "cell_type": "code",
      "source": [
        "# convert height to numeric\n",
        "df$height = as.numeric(df$height)#gsub('.', '', df$height)"
      ],
      "metadata": {
        "id": "dGlPudtHx_j3"
      },
      "execution_count": 165,
      "outputs": []
    },
    {
      "cell_type": "code",
      "source": [
        "head(df$height)"
      ],
      "metadata": {
        "id": "UpbynAX_x_eS",
        "colab": {
          "base_uri": "https://localhost:8080/",
          "height": 34
        },
        "outputId": "d9b8146a-858a-475b-8094-bbee4c3eced1"
      },
      "execution_count": 166,
      "outputs": [
        {
          "output_type": "display_data",
          "data": {
            "text/html": [
              "<style>\n",
              ".list-inline {list-style: none; margin:0; padding: 0}\n",
              ".list-inline>li {display: inline-block}\n",
              ".list-inline>li:not(:last-child)::after {content: \"\\00b7\"; padding: 0 .5ex}\n",
              "</style>\n",
              "<ol class=list-inline><li>103.3</li><li>103.9</li><li>111.2</li><li>99.7</li><li>99.7</li><li>98.7</li></ol>\n"
            ],
            "text/markdown": "1. 103.3\n2. 103.9\n3. 111.2\n4. 99.7\n5. 99.7\n6. 98.7\n\n\n",
            "text/latex": "\\begin{enumerate*}\n\\item 103.3\n\\item 103.9\n\\item 111.2\n\\item 99.7\n\\item 99.7\n\\item 98.7\n\\end{enumerate*}\n",
            "text/plain": [
              "[1] 103.3 103.9 111.2  99.7  99.7  98.7"
            ]
          },
          "metadata": {}
        }
      ]
    },
    {
      "cell_type": "code",
      "source": [
        "head(df)"
      ],
      "metadata": {
        "id": "1TVnKllRwlLz",
        "colab": {
          "base_uri": "https://localhost:8080/",
          "height": 286
        },
        "outputId": "741c6753-2054-4554-cc89-254f905dc187"
      },
      "execution_count": 167,
      "outputs": [
        {
          "output_type": "display_data",
          "data": {
            "text/html": [
              "<table class=\"dataframe\">\n",
              "<caption>A data.frame: 6 × 4</caption>\n",
              "<thead>\n",
              "\t<tr><th></th><th scope=col>age</th><th scope=col>gender</th><th scope=col>foot_length</th><th scope=col>height</th></tr>\n",
              "\t<tr><th></th><th scope=col>&lt;dbl&gt;</th><th scope=col>&lt;chr&gt;</th><th scope=col>&lt;int&gt;</th><th scope=col>&lt;dbl&gt;</th></tr>\n",
              "</thead>\n",
              "<tbody>\n",
              "\t<tr><th scope=row>1</th><td>4.166667</td><td>Female</td><td>163</td><td>103.3</td></tr>\n",
              "\t<tr><th scope=row>2</th><td>4.250000</td><td>Male  </td><td>163</td><td>103.9</td></tr>\n",
              "\t<tr><th scope=row>3</th><td>4.416667</td><td>Female</td><td>171</td><td>111.2</td></tr>\n",
              "\t<tr><th scope=row>4</th><td>3.833333</td><td>Female</td><td>163</td><td> 99.7</td></tr>\n",
              "\t<tr><th scope=row>5</th><td>3.416667</td><td>Female</td><td> NA</td><td> 99.7</td></tr>\n",
              "\t<tr><th scope=row>6</th><td>3.666667</td><td>Male  </td><td>164</td><td> 98.7</td></tr>\n",
              "</tbody>\n",
              "</table>\n"
            ],
            "text/markdown": "\nA data.frame: 6 × 4\n\n| <!--/--> | age &lt;dbl&gt; | gender &lt;chr&gt; | foot_length &lt;int&gt; | height &lt;dbl&gt; |\n|---|---|---|---|---|\n| 1 | 4.166667 | Female | 163 | 103.3 |\n| 2 | 4.250000 | Male   | 163 | 103.9 |\n| 3 | 4.416667 | Female | 171 | 111.2 |\n| 4 | 3.833333 | Female | 163 |  99.7 |\n| 5 | 3.416667 | Female |  NA |  99.7 |\n| 6 | 3.666667 | Male   | 164 |  98.7 |\n\n",
            "text/latex": "A data.frame: 6 × 4\n\\begin{tabular}{r|llll}\n  & age & gender & foot\\_length & height\\\\\n  & <dbl> & <chr> & <int> & <dbl>\\\\\n\\hline\n\t1 & 4.166667 & Female & 163 & 103.3\\\\\n\t2 & 4.250000 & Male   & 163 & 103.9\\\\\n\t3 & 4.416667 & Female & 171 & 111.2\\\\\n\t4 & 3.833333 & Female & 163 &  99.7\\\\\n\t5 & 3.416667 & Female &  NA &  99.7\\\\\n\t6 & 3.666667 & Male   & 164 &  98.7\\\\\n\\end{tabular}\n",
            "text/plain": [
              "  age      gender foot_length height\n",
              "1 4.166667 Female 163         103.3 \n",
              "2 4.250000 Male   163         103.9 \n",
              "3 4.416667 Female 171         111.2 \n",
              "4 3.833333 Female 163          99.7 \n",
              "5 3.416667 Female  NA          99.7 \n",
              "6 3.666667 Male   164          98.7 "
            ]
          },
          "metadata": {}
        }
      ]
    },
    {
      "cell_type": "markdown",
      "source": [
        "### Fill null of foot_length column"
      ],
      "metadata": {
        "id": "WCX8fzCL7sj4"
      }
    },
    {
      "cell_type": "code",
      "source": [
        "# out the null rows in foot_length\n",
        "df[is.na(df$foot_length), ]"
      ],
      "metadata": {
        "colab": {
          "base_uri": "https://localhost:8080/",
          "height": 286
        },
        "id": "sVwzgMgQAKC2",
        "outputId": "ea0b20bb-0dcb-410a-c903-fae414cc6363"
      },
      "execution_count": 168,
      "outputs": [
        {
          "output_type": "display_data",
          "data": {
            "text/html": [
              "<table class=\"dataframe\">\n",
              "<caption>A data.frame: 6 × 4</caption>\n",
              "<thead>\n",
              "\t<tr><th></th><th scope=col>age</th><th scope=col>gender</th><th scope=col>foot_length</th><th scope=col>height</th></tr>\n",
              "\t<tr><th></th><th scope=col>&lt;dbl&gt;</th><th scope=col>&lt;chr&gt;</th><th scope=col>&lt;int&gt;</th><th scope=col>&lt;dbl&gt;</th></tr>\n",
              "</thead>\n",
              "<tbody>\n",
              "\t<tr><th scope=row>5</th><td> 3.416667</td><td>Female</td><td>NA</td><td> 99.7</td></tr>\n",
              "\t<tr><th scope=row>22</th><td>12.750000</td><td>Female</td><td>NA</td><td>157.6</td></tr>\n",
              "\t<tr><th scope=row>28</th><td>13.500000</td><td>Male  </td><td>NA</td><td>174.2</td></tr>\n",
              "\t<tr><th scope=row>46</th><td>12.583333</td><td>Male  </td><td>NA</td><td>144.3</td></tr>\n",
              "\t<tr><th scope=row>56</th><td> 6.500000</td><td>Male  </td><td>NA</td><td>120.6</td></tr>\n",
              "\t<tr><th scope=row>99</th><td>11.833333</td><td>Male  </td><td>NA</td><td>145.2</td></tr>\n",
              "</tbody>\n",
              "</table>\n"
            ],
            "text/markdown": "\nA data.frame: 6 × 4\n\n| <!--/--> | age &lt;dbl&gt; | gender &lt;chr&gt; | foot_length &lt;int&gt; | height &lt;dbl&gt; |\n|---|---|---|---|---|\n| 5 |  3.416667 | Female | NA |  99.7 |\n| 22 | 12.750000 | Female | NA | 157.6 |\n| 28 | 13.500000 | Male   | NA | 174.2 |\n| 46 | 12.583333 | Male   | NA | 144.3 |\n| 56 |  6.500000 | Male   | NA | 120.6 |\n| 99 | 11.833333 | Male   | NA | 145.2 |\n\n",
            "text/latex": "A data.frame: 6 × 4\n\\begin{tabular}{r|llll}\n  & age & gender & foot\\_length & height\\\\\n  & <dbl> & <chr> & <int> & <dbl>\\\\\n\\hline\n\t5 &  3.416667 & Female & NA &  99.7\\\\\n\t22 & 12.750000 & Female & NA & 157.6\\\\\n\t28 & 13.500000 & Male   & NA & 174.2\\\\\n\t46 & 12.583333 & Male   & NA & 144.3\\\\\n\t56 &  6.500000 & Male   & NA & 120.6\\\\\n\t99 & 11.833333 & Male   & NA & 145.2\\\\\n\\end{tabular}\n",
            "text/plain": [
              "   age       gender foot_length height\n",
              "5   3.416667 Female NA           99.7 \n",
              "22 12.750000 Female NA          157.6 \n",
              "28 13.500000 Male   NA          174.2 \n",
              "46 12.583333 Male   NA          144.3 \n",
              "56  6.500000 Male   NA          120.6 \n",
              "99 11.833333 Male   NA          145.2 "
            ]
          },
          "metadata": {}
        }
      ]
    },
    {
      "cell_type": "code",
      "source": [
        "# Compute mean foot length for males and females separately\n",
        "mean_male <- round(mean(df$foot_length[df$gender == \"Male\"], na.rm = TRUE))\n",
        "mean_female <- round(mean(df$foot_length[df$gender == \"Female\"], na.rm = TRUE))"
      ],
      "metadata": {
        "id": "oEjtzYC6i-mo"
      },
      "execution_count": 169,
      "outputs": []
    },
    {
      "cell_type": "code",
      "source": [
        "mean_male"
      ],
      "metadata": {
        "colab": {
          "base_uri": "https://localhost:8080/",
          "height": 34
        },
        "id": "jhO7QFrM5TzK",
        "outputId": "dd3fc1c9-1dc4-49a3-dc50-717ea53ddab0"
      },
      "execution_count": 170,
      "outputs": [
        {
          "output_type": "display_data",
          "data": {
            "text/html": [
              "229"
            ],
            "text/markdown": "229",
            "text/latex": "229",
            "text/plain": [
              "[1] 229"
            ]
          },
          "metadata": {}
        }
      ]
    },
    {
      "cell_type": "code",
      "source": [
        "mean_female"
      ],
      "metadata": {
        "colab": {
          "base_uri": "https://localhost:8080/",
          "height": 34
        },
        "id": "J9j_4cFI5Vcq",
        "outputId": "08b2146e-0b10-44ee-d3c2-4333717bcebd"
      },
      "execution_count": 171,
      "outputs": [
        {
          "output_type": "display_data",
          "data": {
            "text/html": [
              "211"
            ],
            "text/markdown": "211",
            "text/latex": "211",
            "text/plain": [
              "[1] 211"
            ]
          },
          "metadata": {}
        }
      ]
    },
    {
      "cell_type": "code",
      "source": [
        "# Fill null values for males and females separately\n",
        "df$foot_length <- ifelse(is.na(df$foot_length) & df$gender == \"Male\", mean_male, df$foot_length)\n",
        "df$foot_length <- ifelse(is.na(df$foot_length) & df$gender == \"Female\", mean_female, df$foot_length)"
      ],
      "metadata": {
        "id": "ah3PFpQgmLUb"
      },
      "execution_count": 172,
      "outputs": []
    },
    {
      "cell_type": "code",
      "source": [
        "df$foot_length = round(df$foot_length)"
      ],
      "metadata": {
        "id": "xHX5fAG-3s-7"
      },
      "execution_count": 173,
      "outputs": []
    },
    {
      "cell_type": "code",
      "source": [
        "df$foot_length"
      ],
      "metadata": {
        "colab": {
          "base_uri": "https://localhost:8080/",
          "height": 69
        },
        "id": "RiSAcDMPYEC1",
        "outputId": "d720ee7a-f8f5-4813-f73c-ff267255ab8e"
      },
      "execution_count": 174,
      "outputs": [
        {
          "output_type": "display_data",
          "data": {
            "text/html": [
              "<style>\n",
              ".list-inline {list-style: none; margin:0; padding: 0}\n",
              ".list-inline>li {display: inline-block}\n",
              ".list-inline>li:not(:last-child)::after {content: \"\\00b7\"; padding: 0 .5ex}\n",
              "</style>\n",
              "<ol class=list-inline><li>163</li><li>163</li><li>171</li><li>163</li><li>211</li><li>164</li><li>150</li><li>150</li><li>175</li><li>172</li><li>177</li><li>235</li><li>250</li><li>243</li><li>230</li><li>232</li><li>241</li><li>238</li><li>234</li><li>227</li><li>219</li><li>211</li><li>232</li><li>216</li><li>233</li><li>260</li><li>268</li><li>229</li><li>247</li><li>245</li><li>250</li><li>245</li><li>248</li><li>271</li><li>237</li><li>249</li><li>254</li><li>263</li><li>261</li><li>226</li><li>256</li><li>230</li><li>246</li><li>233</li><li>235</li><li>229</li><li>259</li><li>278</li><li>272</li><li>225</li><li>250</li><li>213</li><li>231</li><li>214</li><li>178</li><li>229</li><li>240</li><li>176</li><li>169</li><li>211</li><li>216</li><li>201</li><li>188</li><li>209</li><li>205</li><li>222</li><li>199</li><li>186</li><li>197</li><li>189</li><li>208</li><li>185</li><li>195</li><li>228</li><li>173</li><li>198</li><li>204</li><li>166</li><li>179</li><li>188</li><li>201</li><li>193</li><li>230</li><li>204</li><li>216</li><li>241</li><li>245</li><li>218</li><li>238</li><li>219</li><li>232</li><li>232</li><li>225</li><li>228</li><li>253</li><li>234</li><li>257</li><li>252</li><li>229</li></ol>\n"
            ],
            "text/markdown": "1. 163\n2. 163\n3. 171\n4. 163\n5. 211\n6. 164\n7. 150\n8. 150\n9. 175\n10. 172\n11. 177\n12. 235\n13. 250\n14. 243\n15. 230\n16. 232\n17. 241\n18. 238\n19. 234\n20. 227\n21. 219\n22. 211\n23. 232\n24. 216\n25. 233\n26. 260\n27. 268\n28. 229\n29. 247\n30. 245\n31. 250\n32. 245\n33. 248\n34. 271\n35. 237\n36. 249\n37. 254\n38. 263\n39. 261\n40. 226\n41. 256\n42. 230\n43. 246\n44. 233\n45. 235\n46. 229\n47. 259\n48. 278\n49. 272\n50. 225\n51. 250\n52. 213\n53. 231\n54. 214\n55. 178\n56. 229\n57. 240\n58. 176\n59. 169\n60. 211\n61. 216\n62. 201\n63. 188\n64. 209\n65. 205\n66. 222\n67. 199\n68. 186\n69. 197\n70. 189\n71. 208\n72. 185\n73. 195\n74. 228\n75. 173\n76. 198\n77. 204\n78. 166\n79. 179\n80. 188\n81. 201\n82. 193\n83. 230\n84. 204\n85. 216\n86. 241\n87. 245\n88. 218\n89. 238\n90. 219\n91. 232\n92. 232\n93. 225\n94. 228\n95. 253\n96. 234\n97. 257\n98. 252\n99. 229\n\n\n",
            "text/latex": "\\begin{enumerate*}\n\\item 163\n\\item 163\n\\item 171\n\\item 163\n\\item 211\n\\item 164\n\\item 150\n\\item 150\n\\item 175\n\\item 172\n\\item 177\n\\item 235\n\\item 250\n\\item 243\n\\item 230\n\\item 232\n\\item 241\n\\item 238\n\\item 234\n\\item 227\n\\item 219\n\\item 211\n\\item 232\n\\item 216\n\\item 233\n\\item 260\n\\item 268\n\\item 229\n\\item 247\n\\item 245\n\\item 250\n\\item 245\n\\item 248\n\\item 271\n\\item 237\n\\item 249\n\\item 254\n\\item 263\n\\item 261\n\\item 226\n\\item 256\n\\item 230\n\\item 246\n\\item 233\n\\item 235\n\\item 229\n\\item 259\n\\item 278\n\\item 272\n\\item 225\n\\item 250\n\\item 213\n\\item 231\n\\item 214\n\\item 178\n\\item 229\n\\item 240\n\\item 176\n\\item 169\n\\item 211\n\\item 216\n\\item 201\n\\item 188\n\\item 209\n\\item 205\n\\item 222\n\\item 199\n\\item 186\n\\item 197\n\\item 189\n\\item 208\n\\item 185\n\\item 195\n\\item 228\n\\item 173\n\\item 198\n\\item 204\n\\item 166\n\\item 179\n\\item 188\n\\item 201\n\\item 193\n\\item 230\n\\item 204\n\\item 216\n\\item 241\n\\item 245\n\\item 218\n\\item 238\n\\item 219\n\\item 232\n\\item 232\n\\item 225\n\\item 228\n\\item 253\n\\item 234\n\\item 257\n\\item 252\n\\item 229\n\\end{enumerate*}\n",
            "text/plain": [
              " [1] 163 163 171 163 211 164 150 150 175 172 177 235 250 243 230 232 241 238 234\n",
              "[20] 227 219 211 232 216 233 260 268 229 247 245 250 245 248 271 237 249 254 263\n",
              "[39] 261 226 256 230 246 233 235 229 259 278 272 225 250 213 231 214 178 229 240\n",
              "[58] 176 169 211 216 201 188 209 205 222 199 186 197 189 208 185 195 228 173 198\n",
              "[77] 204 166 179 188 201 193 230 204 216 241 245 218 238 219 232 232 225 228 253\n",
              "[96] 234 257 252 229"
            ]
          },
          "metadata": {}
        }
      ]
    },
    {
      "cell_type": "code",
      "source": [
        "any(is.null(df$foot_length))"
      ],
      "metadata": {
        "colab": {
          "base_uri": "https://localhost:8080/",
          "height": 34
        },
        "id": "DpwcloQx7yCb",
        "outputId": "07f2d168-5584-4984-b546-cf551e1a922c"
      },
      "execution_count": 175,
      "outputs": [
        {
          "output_type": "display_data",
          "data": {
            "text/html": [
              "FALSE"
            ],
            "text/markdown": "FALSE",
            "text/latex": "FALSE",
            "text/plain": [
              "[1] FALSE"
            ]
          },
          "metadata": {}
        }
      ]
    },
    {
      "cell_type": "markdown",
      "source": [
        "## Ensure that all columns don't contain null values"
      ],
      "metadata": {
        "id": "mMCx0NgnmYx-"
      }
    },
    {
      "cell_type": "code",
      "source": [
        "sum(is.null(df))\n"
      ],
      "metadata": {
        "colab": {
          "base_uri": "https://localhost:8080/",
          "height": 34
        },
        "id": "SErwnrljmNj3",
        "outputId": "fcce5fb0-0fda-4ea4-a437-3130655e374a"
      },
      "execution_count": 176,
      "outputs": [
        {
          "output_type": "display_data",
          "data": {
            "text/html": [
              "0"
            ],
            "text/markdown": "0",
            "text/latex": "0",
            "text/plain": [
              "[1] 0"
            ]
          },
          "metadata": {}
        }
      ]
    },
    {
      "cell_type": "markdown",
      "source": [
        "## Age column preprocessing\n",
        "- columns contains number of years and months(part of year) for each record\n",
        "- age * 12 = number of months\n",
        "- years' age = floor for age\n",
        "- age - years * 12 = month numbers"
      ],
      "metadata": {
        "id": "FmvSziaPoC7s"
      }
    },
    {
      "cell_type": "code",
      "source": [
        "df$age_months <- round(df$age * 12)"
      ],
      "metadata": {
        "id": "-KnYOLsKnorw"
      },
      "execution_count": 177,
      "outputs": []
    },
    {
      "cell_type": "code",
      "source": [
        "df$age_years <- floor(df$age)\n",
        "df$age_months <- round((df$age - df$age_years) * 12)"
      ],
      "metadata": {
        "id": "0H4gHTjjnooD"
      },
      "execution_count": 178,
      "outputs": []
    },
    {
      "cell_type": "code",
      "source": [
        "head(df)"
      ],
      "metadata": {
        "colab": {
          "base_uri": "https://localhost:8080/",
          "height": 286
        },
        "id": "l-U8LaOWnsJH",
        "outputId": "1b8e775c-8bcd-47bf-d4ca-a5e6d38c91d6"
      },
      "execution_count": 179,
      "outputs": [
        {
          "output_type": "display_data",
          "data": {
            "text/html": [
              "<table class=\"dataframe\">\n",
              "<caption>A data.frame: 6 × 6</caption>\n",
              "<thead>\n",
              "\t<tr><th></th><th scope=col>age</th><th scope=col>gender</th><th scope=col>foot_length</th><th scope=col>height</th><th scope=col>age_months</th><th scope=col>age_years</th></tr>\n",
              "\t<tr><th></th><th scope=col>&lt;dbl&gt;</th><th scope=col>&lt;chr&gt;</th><th scope=col>&lt;dbl&gt;</th><th scope=col>&lt;dbl&gt;</th><th scope=col>&lt;dbl&gt;</th><th scope=col>&lt;dbl&gt;</th></tr>\n",
              "</thead>\n",
              "<tbody>\n",
              "\t<tr><th scope=row>1</th><td>4.166667</td><td>Female</td><td>163</td><td>103.3</td><td> 2</td><td>4</td></tr>\n",
              "\t<tr><th scope=row>2</th><td>4.250000</td><td>Male  </td><td>163</td><td>103.9</td><td> 3</td><td>4</td></tr>\n",
              "\t<tr><th scope=row>3</th><td>4.416667</td><td>Female</td><td>171</td><td>111.2</td><td> 5</td><td>4</td></tr>\n",
              "\t<tr><th scope=row>4</th><td>3.833333</td><td>Female</td><td>163</td><td> 99.7</td><td>10</td><td>3</td></tr>\n",
              "\t<tr><th scope=row>5</th><td>3.416667</td><td>Female</td><td>211</td><td> 99.7</td><td> 5</td><td>3</td></tr>\n",
              "\t<tr><th scope=row>6</th><td>3.666667</td><td>Male  </td><td>164</td><td> 98.7</td><td> 8</td><td>3</td></tr>\n",
              "</tbody>\n",
              "</table>\n"
            ],
            "text/markdown": "\nA data.frame: 6 × 6\n\n| <!--/--> | age &lt;dbl&gt; | gender &lt;chr&gt; | foot_length &lt;dbl&gt; | height &lt;dbl&gt; | age_months &lt;dbl&gt; | age_years &lt;dbl&gt; |\n|---|---|---|---|---|---|---|\n| 1 | 4.166667 | Female | 163 | 103.3 |  2 | 4 |\n| 2 | 4.250000 | Male   | 163 | 103.9 |  3 | 4 |\n| 3 | 4.416667 | Female | 171 | 111.2 |  5 | 4 |\n| 4 | 3.833333 | Female | 163 |  99.7 | 10 | 3 |\n| 5 | 3.416667 | Female | 211 |  99.7 |  5 | 3 |\n| 6 | 3.666667 | Male   | 164 |  98.7 |  8 | 3 |\n\n",
            "text/latex": "A data.frame: 6 × 6\n\\begin{tabular}{r|llllll}\n  & age & gender & foot\\_length & height & age\\_months & age\\_years\\\\\n  & <dbl> & <chr> & <dbl> & <dbl> & <dbl> & <dbl>\\\\\n\\hline\n\t1 & 4.166667 & Female & 163 & 103.3 &  2 & 4\\\\\n\t2 & 4.250000 & Male   & 163 & 103.9 &  3 & 4\\\\\n\t3 & 4.416667 & Female & 171 & 111.2 &  5 & 4\\\\\n\t4 & 3.833333 & Female & 163 &  99.7 & 10 & 3\\\\\n\t5 & 3.416667 & Female & 211 &  99.7 &  5 & 3\\\\\n\t6 & 3.666667 & Male   & 164 &  98.7 &  8 & 3\\\\\n\\end{tabular}\n",
            "text/plain": [
              "  age      gender foot_length height age_months age_years\n",
              "1 4.166667 Female 163         103.3   2         4        \n",
              "2 4.250000 Male   163         103.9   3         4        \n",
              "3 4.416667 Female 171         111.2   5         4        \n",
              "4 3.833333 Female 163          99.7  10         3        \n",
              "5 3.416667 Female 211          99.7   5         3        \n",
              "6 3.666667 Male   164          98.7   8         3        "
            ]
          },
          "metadata": {}
        }
      ]
    },
    {
      "cell_type": "markdown",
      "source": [
        "# Analysis & visualization \n",
        "### Data Now is clean and ready for analysis"
      ],
      "metadata": {
        "id": "C0CWP7XOm6bq"
      }
    },
    {
      "cell_type": "markdown",
      "source": [
        "### All females data"
      ],
      "metadata": {
        "id": "32TVa8oj6QOj"
      }
    },
    {
      "cell_type": "code",
      "source": [
        "female_df = df %>% filter(gender == 'Female')\n",
        "head(female_df)"
      ],
      "metadata": {
        "colab": {
          "base_uri": "https://localhost:8080/",
          "height": 286
        },
        "id": "NKv7PSOS5lEb",
        "outputId": "71ed0e60-d8c4-40be-bb67-a3500dbb2eed"
      },
      "execution_count": 180,
      "outputs": [
        {
          "output_type": "display_data",
          "data": {
            "text/html": [
              "<table class=\"dataframe\">\n",
              "<caption>A data.frame: 6 × 6</caption>\n",
              "<thead>\n",
              "\t<tr><th></th><th scope=col>age</th><th scope=col>gender</th><th scope=col>foot_length</th><th scope=col>height</th><th scope=col>age_months</th><th scope=col>age_years</th></tr>\n",
              "\t<tr><th></th><th scope=col>&lt;dbl&gt;</th><th scope=col>&lt;chr&gt;</th><th scope=col>&lt;dbl&gt;</th><th scope=col>&lt;dbl&gt;</th><th scope=col>&lt;dbl&gt;</th><th scope=col>&lt;dbl&gt;</th></tr>\n",
              "</thead>\n",
              "<tbody>\n",
              "\t<tr><th scope=row>1</th><td>4.166667</td><td>Female</td><td>163</td><td>103.3</td><td> 2</td><td>4</td></tr>\n",
              "\t<tr><th scope=row>2</th><td>4.416667</td><td>Female</td><td>171</td><td>111.2</td><td> 5</td><td>4</td></tr>\n",
              "\t<tr><th scope=row>3</th><td>3.833333</td><td>Female</td><td>163</td><td> 99.7</td><td>10</td><td>3</td></tr>\n",
              "\t<tr><th scope=row>4</th><td>3.416667</td><td>Female</td><td>211</td><td> 99.7</td><td> 5</td><td>3</td></tr>\n",
              "\t<tr><th scope=row>5</th><td>3.583333</td><td>Female</td><td>150</td><td> 93.3</td><td> 7</td><td>3</td></tr>\n",
              "\t<tr><th scope=row>6</th><td>5.500000</td><td>Female</td><td>175</td><td>116.4</td><td> 6</td><td>5</td></tr>\n",
              "</tbody>\n",
              "</table>\n"
            ],
            "text/markdown": "\nA data.frame: 6 × 6\n\n| <!--/--> | age &lt;dbl&gt; | gender &lt;chr&gt; | foot_length &lt;dbl&gt; | height &lt;dbl&gt; | age_months &lt;dbl&gt; | age_years &lt;dbl&gt; |\n|---|---|---|---|---|---|---|\n| 1 | 4.166667 | Female | 163 | 103.3 |  2 | 4 |\n| 2 | 4.416667 | Female | 171 | 111.2 |  5 | 4 |\n| 3 | 3.833333 | Female | 163 |  99.7 | 10 | 3 |\n| 4 | 3.416667 | Female | 211 |  99.7 |  5 | 3 |\n| 5 | 3.583333 | Female | 150 |  93.3 |  7 | 3 |\n| 6 | 5.500000 | Female | 175 | 116.4 |  6 | 5 |\n\n",
            "text/latex": "A data.frame: 6 × 6\n\\begin{tabular}{r|llllll}\n  & age & gender & foot\\_length & height & age\\_months & age\\_years\\\\\n  & <dbl> & <chr> & <dbl> & <dbl> & <dbl> & <dbl>\\\\\n\\hline\n\t1 & 4.166667 & Female & 163 & 103.3 &  2 & 4\\\\\n\t2 & 4.416667 & Female & 171 & 111.2 &  5 & 4\\\\\n\t3 & 3.833333 & Female & 163 &  99.7 & 10 & 3\\\\\n\t4 & 3.416667 & Female & 211 &  99.7 &  5 & 3\\\\\n\t5 & 3.583333 & Female & 150 &  93.3 &  7 & 3\\\\\n\t6 & 5.500000 & Female & 175 & 116.4 &  6 & 5\\\\\n\\end{tabular}\n",
            "text/plain": [
              "  age      gender foot_length height age_months age_years\n",
              "1 4.166667 Female 163         103.3   2         4        \n",
              "2 4.416667 Female 171         111.2   5         4        \n",
              "3 3.833333 Female 163          99.7  10         3        \n",
              "4 3.416667 Female 211          99.7   5         3        \n",
              "5 3.583333 Female 150          93.3   7         3        \n",
              "6 5.500000 Female 175         116.4   6         5        "
            ]
          },
          "metadata": {}
        }
      ]
    },
    {
      "cell_type": "markdown",
      "source": [
        "### All Males data"
      ],
      "metadata": {
        "id": "WBUzQ93Z6Tpn"
      }
    },
    {
      "cell_type": "code",
      "source": [
        "male_df = df%>% filter(gender == 'Male')\n",
        "male_df"
      ],
      "metadata": {
        "colab": {
          "base_uri": "https://localhost:8080/",
          "height": 1000
        },
        "id": "JrHBbhTH5lA6",
        "outputId": "c4f19676-ead6-43e6-ce87-2111f0410c96"
      },
      "execution_count": 181,
      "outputs": [
        {
          "output_type": "display_data",
          "data": {
            "text/html": [
              "<table class=\"dataframe\">\n",
              "<caption>A data.frame: 46 × 6</caption>\n",
              "<thead>\n",
              "\t<tr><th scope=col>age</th><th scope=col>gender</th><th scope=col>foot_length</th><th scope=col>height</th><th scope=col>age_months</th><th scope=col>age_years</th></tr>\n",
              "\t<tr><th scope=col>&lt;dbl&gt;</th><th scope=col>&lt;chr&gt;</th><th scope=col>&lt;dbl&gt;</th><th scope=col>&lt;dbl&gt;</th><th scope=col>&lt;dbl&gt;</th><th scope=col>&lt;dbl&gt;</th></tr>\n",
              "</thead>\n",
              "<tbody>\n",
              "\t<tr><td> 4.250000</td><td>Male</td><td>163</td><td>103.9</td><td> 3</td><td> 4</td></tr>\n",
              "\t<tr><td> 3.666667</td><td>Male</td><td>164</td><td> 98.7</td><td> 8</td><td> 3</td></tr>\n",
              "\t<tr><td> 3.333333</td><td>Male</td><td>150</td><td> 94.1</td><td> 4</td><td> 3</td></tr>\n",
              "\t<tr><td>14.416667</td><td>Male</td><td>268</td><td>168.7</td><td> 5</td><td>14</td></tr>\n",
              "\t<tr><td>13.500000</td><td>Male</td><td>229</td><td>174.2</td><td> 6</td><td>13</td></tr>\n",
              "\t<tr><td>12.083333</td><td>Male</td><td>247</td><td>154.1</td><td> 1</td><td>12</td></tr>\n",
              "\t<tr><td>12.166667</td><td>Male</td><td>245</td><td>158.9</td><td> 2</td><td>12</td></tr>\n",
              "\t<tr><td>13.750000</td><td>Male</td><td>250</td><td>155.8</td><td> 9</td><td>13</td></tr>\n",
              "\t<tr><td>12.250000</td><td>Male</td><td>245</td><td>158.8</td><td> 3</td><td>12</td></tr>\n",
              "\t<tr><td>12.916667</td><td>Male</td><td>248</td><td>155.6</td><td>11</td><td>12</td></tr>\n",
              "\t<tr><td>13.333333</td><td>Male</td><td>271</td><td>167.5</td><td> 4</td><td>13</td></tr>\n",
              "\t<tr><td>14.166667</td><td>Male</td><td>237</td><td>153.3</td><td> 2</td><td>14</td></tr>\n",
              "\t<tr><td>13.416667</td><td>Male</td><td>249</td><td>154.4</td><td> 5</td><td>13</td></tr>\n",
              "\t<tr><td>13.500000</td><td>Male</td><td>254</td><td>159.0</td><td> 6</td><td>13</td></tr>\n",
              "\t<tr><td>13.833333</td><td>Male</td><td>263</td><td>161.8</td><td>10</td><td>13</td></tr>\n",
              "\t<tr><td>13.666667</td><td>Male</td><td>261</td><td>165.0</td><td> 8</td><td>13</td></tr>\n",
              "\t<tr><td>14.250000</td><td>Male</td><td>226</td><td>138.8</td><td> 3</td><td>14</td></tr>\n",
              "\t<tr><td>12.916667</td><td>Male</td><td>256</td><td>162.2</td><td>11</td><td>12</td></tr>\n",
              "\t<tr><td>12.583333</td><td>Male</td><td>229</td><td>144.3</td><td> 7</td><td>12</td></tr>\n",
              "\t<tr><td>13.583333</td><td>Male</td><td>259</td><td>175.8</td><td> 7</td><td>13</td></tr>\n",
              "\t<tr><td>13.916667</td><td>Male</td><td>278</td><td>168.3</td><td>11</td><td>13</td></tr>\n",
              "\t<tr><td>13.000000</td><td>Male</td><td>272</td><td>171.2</td><td> 0</td><td>13</td></tr>\n",
              "\t<tr><td>10.083333</td><td>Male</td><td>231</td><td>144.2</td><td> 1</td><td>10</td></tr>\n",
              "\t<tr><td>10.000000</td><td>Male</td><td>214</td><td>136.3</td><td> 0</td><td>10</td></tr>\n",
              "\t<tr><td> 5.916667</td><td>Male</td><td>178</td><td>114.0</td><td>11</td><td> 5</td></tr>\n",
              "\t<tr><td> 6.500000</td><td>Male</td><td>229</td><td>120.6</td><td> 6</td><td> 6</td></tr>\n",
              "\t<tr><td>11.666667</td><td>Male</td><td>240</td><td>147.0</td><td> 8</td><td>11</td></tr>\n",
              "\t<tr><td> 5.750000</td><td>Male</td><td>176</td><td>112.1</td><td> 9</td><td> 5</td></tr>\n",
              "\t<tr><td> 5.000000</td><td>Male</td><td>169</td><td>106.1</td><td> 0</td><td> 5</td></tr>\n",
              "\t<tr><td> 8.750000</td><td>Male</td><td>211</td><td>130.5</td><td> 9</td><td> 8</td></tr>\n",
              "\t<tr><td> 9.083333</td><td>Male</td><td>216</td><td>136.7</td><td> 1</td><td> 9</td></tr>\n",
              "\t<tr><td>10.000000</td><td>Male</td><td>201</td><td>130.4</td><td> 0</td><td>10</td></tr>\n",
              "\t<tr><td> 7.250000</td><td>Male</td><td>188</td><td>120.8</td><td> 3</td><td> 7</td></tr>\n",
              "\t<tr><td> 6.833333</td><td>Male</td><td>209</td><td>120.4</td><td>10</td><td> 6</td></tr>\n",
              "\t<tr><td>10.666667</td><td>Male</td><td>218</td><td>140.1</td><td> 8</td><td>10</td></tr>\n",
              "\t<tr><td>10.500000</td><td>Male</td><td>238</td><td>144.9</td><td> 6</td><td>10</td></tr>\n",
              "\t<tr><td> 9.750000</td><td>Male</td><td>219</td><td>138.0</td><td> 9</td><td> 9</td></tr>\n",
              "\t<tr><td>10.000000</td><td>Male</td><td>232</td><td>136.5</td><td> 0</td><td>10</td></tr>\n",
              "\t<tr><td>10.666667</td><td>Male</td><td>232</td><td>139.8</td><td> 8</td><td>10</td></tr>\n",
              "\t<tr><td>12.916667</td><td>Male</td><td>225</td><td>137.5</td><td>11</td><td>12</td></tr>\n",
              "\t<tr><td>11.333333</td><td>Male</td><td>228</td><td>148.0</td><td> 4</td><td>11</td></tr>\n",
              "\t<tr><td>12.166667</td><td>Male</td><td>253</td><td>149.0</td><td> 2</td><td>12</td></tr>\n",
              "\t<tr><td>11.166667</td><td>Male</td><td>234</td><td>144.3</td><td> 2</td><td>11</td></tr>\n",
              "\t<tr><td>11.000000</td><td>Male</td><td>257</td><td>154.6</td><td> 0</td><td>11</td></tr>\n",
              "\t<tr><td>11.666667</td><td>Male</td><td>252</td><td>148.7</td><td> 8</td><td>11</td></tr>\n",
              "\t<tr><td>11.833333</td><td>Male</td><td>229</td><td>145.2</td><td>10</td><td>11</td></tr>\n",
              "</tbody>\n",
              "</table>\n"
            ],
            "text/markdown": "\nA data.frame: 46 × 6\n\n| age &lt;dbl&gt; | gender &lt;chr&gt; | foot_length &lt;dbl&gt; | height &lt;dbl&gt; | age_months &lt;dbl&gt; | age_years &lt;dbl&gt; |\n|---|---|---|---|---|---|\n|  4.250000 | Male | 163 | 103.9 |  3 |  4 |\n|  3.666667 | Male | 164 |  98.7 |  8 |  3 |\n|  3.333333 | Male | 150 |  94.1 |  4 |  3 |\n| 14.416667 | Male | 268 | 168.7 |  5 | 14 |\n| 13.500000 | Male | 229 | 174.2 |  6 | 13 |\n| 12.083333 | Male | 247 | 154.1 |  1 | 12 |\n| 12.166667 | Male | 245 | 158.9 |  2 | 12 |\n| 13.750000 | Male | 250 | 155.8 |  9 | 13 |\n| 12.250000 | Male | 245 | 158.8 |  3 | 12 |\n| 12.916667 | Male | 248 | 155.6 | 11 | 12 |\n| 13.333333 | Male | 271 | 167.5 |  4 | 13 |\n| 14.166667 | Male | 237 | 153.3 |  2 | 14 |\n| 13.416667 | Male | 249 | 154.4 |  5 | 13 |\n| 13.500000 | Male | 254 | 159.0 |  6 | 13 |\n| 13.833333 | Male | 263 | 161.8 | 10 | 13 |\n| 13.666667 | Male | 261 | 165.0 |  8 | 13 |\n| 14.250000 | Male | 226 | 138.8 |  3 | 14 |\n| 12.916667 | Male | 256 | 162.2 | 11 | 12 |\n| 12.583333 | Male | 229 | 144.3 |  7 | 12 |\n| 13.583333 | Male | 259 | 175.8 |  7 | 13 |\n| 13.916667 | Male | 278 | 168.3 | 11 | 13 |\n| 13.000000 | Male | 272 | 171.2 |  0 | 13 |\n| 10.083333 | Male | 231 | 144.2 |  1 | 10 |\n| 10.000000 | Male | 214 | 136.3 |  0 | 10 |\n|  5.916667 | Male | 178 | 114.0 | 11 |  5 |\n|  6.500000 | Male | 229 | 120.6 |  6 |  6 |\n| 11.666667 | Male | 240 | 147.0 |  8 | 11 |\n|  5.750000 | Male | 176 | 112.1 |  9 |  5 |\n|  5.000000 | Male | 169 | 106.1 |  0 |  5 |\n|  8.750000 | Male | 211 | 130.5 |  9 |  8 |\n|  9.083333 | Male | 216 | 136.7 |  1 |  9 |\n| 10.000000 | Male | 201 | 130.4 |  0 | 10 |\n|  7.250000 | Male | 188 | 120.8 |  3 |  7 |\n|  6.833333 | Male | 209 | 120.4 | 10 |  6 |\n| 10.666667 | Male | 218 | 140.1 |  8 | 10 |\n| 10.500000 | Male | 238 | 144.9 |  6 | 10 |\n|  9.750000 | Male | 219 | 138.0 |  9 |  9 |\n| 10.000000 | Male | 232 | 136.5 |  0 | 10 |\n| 10.666667 | Male | 232 | 139.8 |  8 | 10 |\n| 12.916667 | Male | 225 | 137.5 | 11 | 12 |\n| 11.333333 | Male | 228 | 148.0 |  4 | 11 |\n| 12.166667 | Male | 253 | 149.0 |  2 | 12 |\n| 11.166667 | Male | 234 | 144.3 |  2 | 11 |\n| 11.000000 | Male | 257 | 154.6 |  0 | 11 |\n| 11.666667 | Male | 252 | 148.7 |  8 | 11 |\n| 11.833333 | Male | 229 | 145.2 | 10 | 11 |\n\n",
            "text/latex": "A data.frame: 46 × 6\n\\begin{tabular}{llllll}\n age & gender & foot\\_length & height & age\\_months & age\\_years\\\\\n <dbl> & <chr> & <dbl> & <dbl> & <dbl> & <dbl>\\\\\n\\hline\n\t  4.250000 & Male & 163 & 103.9 &  3 &  4\\\\\n\t  3.666667 & Male & 164 &  98.7 &  8 &  3\\\\\n\t  3.333333 & Male & 150 &  94.1 &  4 &  3\\\\\n\t 14.416667 & Male & 268 & 168.7 &  5 & 14\\\\\n\t 13.500000 & Male & 229 & 174.2 &  6 & 13\\\\\n\t 12.083333 & Male & 247 & 154.1 &  1 & 12\\\\\n\t 12.166667 & Male & 245 & 158.9 &  2 & 12\\\\\n\t 13.750000 & Male & 250 & 155.8 &  9 & 13\\\\\n\t 12.250000 & Male & 245 & 158.8 &  3 & 12\\\\\n\t 12.916667 & Male & 248 & 155.6 & 11 & 12\\\\\n\t 13.333333 & Male & 271 & 167.5 &  4 & 13\\\\\n\t 14.166667 & Male & 237 & 153.3 &  2 & 14\\\\\n\t 13.416667 & Male & 249 & 154.4 &  5 & 13\\\\\n\t 13.500000 & Male & 254 & 159.0 &  6 & 13\\\\\n\t 13.833333 & Male & 263 & 161.8 & 10 & 13\\\\\n\t 13.666667 & Male & 261 & 165.0 &  8 & 13\\\\\n\t 14.250000 & Male & 226 & 138.8 &  3 & 14\\\\\n\t 12.916667 & Male & 256 & 162.2 & 11 & 12\\\\\n\t 12.583333 & Male & 229 & 144.3 &  7 & 12\\\\\n\t 13.583333 & Male & 259 & 175.8 &  7 & 13\\\\\n\t 13.916667 & Male & 278 & 168.3 & 11 & 13\\\\\n\t 13.000000 & Male & 272 & 171.2 &  0 & 13\\\\\n\t 10.083333 & Male & 231 & 144.2 &  1 & 10\\\\\n\t 10.000000 & Male & 214 & 136.3 &  0 & 10\\\\\n\t  5.916667 & Male & 178 & 114.0 & 11 &  5\\\\\n\t  6.500000 & Male & 229 & 120.6 &  6 &  6\\\\\n\t 11.666667 & Male & 240 & 147.0 &  8 & 11\\\\\n\t  5.750000 & Male & 176 & 112.1 &  9 &  5\\\\\n\t  5.000000 & Male & 169 & 106.1 &  0 &  5\\\\\n\t  8.750000 & Male & 211 & 130.5 &  9 &  8\\\\\n\t  9.083333 & Male & 216 & 136.7 &  1 &  9\\\\\n\t 10.000000 & Male & 201 & 130.4 &  0 & 10\\\\\n\t  7.250000 & Male & 188 & 120.8 &  3 &  7\\\\\n\t  6.833333 & Male & 209 & 120.4 & 10 &  6\\\\\n\t 10.666667 & Male & 218 & 140.1 &  8 & 10\\\\\n\t 10.500000 & Male & 238 & 144.9 &  6 & 10\\\\\n\t  9.750000 & Male & 219 & 138.0 &  9 &  9\\\\\n\t 10.000000 & Male & 232 & 136.5 &  0 & 10\\\\\n\t 10.666667 & Male & 232 & 139.8 &  8 & 10\\\\\n\t 12.916667 & Male & 225 & 137.5 & 11 & 12\\\\\n\t 11.333333 & Male & 228 & 148.0 &  4 & 11\\\\\n\t 12.166667 & Male & 253 & 149.0 &  2 & 12\\\\\n\t 11.166667 & Male & 234 & 144.3 &  2 & 11\\\\\n\t 11.000000 & Male & 257 & 154.6 &  0 & 11\\\\\n\t 11.666667 & Male & 252 & 148.7 &  8 & 11\\\\\n\t 11.833333 & Male & 229 & 145.2 & 10 & 11\\\\\n\\end{tabular}\n",
            "text/plain": [
              "   age       gender foot_length height age_months age_years\n",
              "1   4.250000 Male   163         103.9   3          4       \n",
              "2   3.666667 Male   164          98.7   8          3       \n",
              "3   3.333333 Male   150          94.1   4          3       \n",
              "4  14.416667 Male   268         168.7   5         14       \n",
              "5  13.500000 Male   229         174.2   6         13       \n",
              "6  12.083333 Male   247         154.1   1         12       \n",
              "7  12.166667 Male   245         158.9   2         12       \n",
              "8  13.750000 Male   250         155.8   9         13       \n",
              "9  12.250000 Male   245         158.8   3         12       \n",
              "10 12.916667 Male   248         155.6  11         12       \n",
              "11 13.333333 Male   271         167.5   4         13       \n",
              "12 14.166667 Male   237         153.3   2         14       \n",
              "13 13.416667 Male   249         154.4   5         13       \n",
              "14 13.500000 Male   254         159.0   6         13       \n",
              "15 13.833333 Male   263         161.8  10         13       \n",
              "16 13.666667 Male   261         165.0   8         13       \n",
              "17 14.250000 Male   226         138.8   3         14       \n",
              "18 12.916667 Male   256         162.2  11         12       \n",
              "19 12.583333 Male   229         144.3   7         12       \n",
              "20 13.583333 Male   259         175.8   7         13       \n",
              "21 13.916667 Male   278         168.3  11         13       \n",
              "22 13.000000 Male   272         171.2   0         13       \n",
              "23 10.083333 Male   231         144.2   1         10       \n",
              "24 10.000000 Male   214         136.3   0         10       \n",
              "25  5.916667 Male   178         114.0  11          5       \n",
              "26  6.500000 Male   229         120.6   6          6       \n",
              "27 11.666667 Male   240         147.0   8         11       \n",
              "28  5.750000 Male   176         112.1   9          5       \n",
              "29  5.000000 Male   169         106.1   0          5       \n",
              "30  8.750000 Male   211         130.5   9          8       \n",
              "31  9.083333 Male   216         136.7   1          9       \n",
              "32 10.000000 Male   201         130.4   0         10       \n",
              "33  7.250000 Male   188         120.8   3          7       \n",
              "34  6.833333 Male   209         120.4  10          6       \n",
              "35 10.666667 Male   218         140.1   8         10       \n",
              "36 10.500000 Male   238         144.9   6         10       \n",
              "37  9.750000 Male   219         138.0   9          9       \n",
              "38 10.000000 Male   232         136.5   0         10       \n",
              "39 10.666667 Male   232         139.8   8         10       \n",
              "40 12.916667 Male   225         137.5  11         12       \n",
              "41 11.333333 Male   228         148.0   4         11       \n",
              "42 12.166667 Male   253         149.0   2         12       \n",
              "43 11.166667 Male   234         144.3   2         11       \n",
              "44 11.000000 Male   257         154.6   0         11       \n",
              "45 11.666667 Male   252         148.7   8         11       \n",
              "46 11.833333 Male   229         145.2  10         11       "
            ]
          },
          "metadata": {}
        }
      ]
    },
    {
      "cell_type": "markdown",
      "source": [
        "### foot_length > 200"
      ],
      "metadata": {
        "id": "6wCt1pK76hE-"
      }
    },
    {
      "cell_type": "code",
      "source": [
        "foot_length200 = df %>% filter(foot_length > 200)\n",
        "foot_length200"
      ],
      "metadata": {
        "colab": {
          "base_uri": "https://localhost:8080/",
          "height": 1000
        },
        "id": "yRNRBylg5k-l",
        "outputId": "adb8e089-6676-4c6e-a34a-e03bebbd9baa"
      },
      "execution_count": 182,
      "outputs": [
        {
          "output_type": "display_data",
          "data": {
            "text/html": [
              "<table class=\"dataframe\">\n",
              "<caption>A data.frame: 73 × 6</caption>\n",
              "<thead>\n",
              "\t<tr><th scope=col>age</th><th scope=col>gender</th><th scope=col>foot_length</th><th scope=col>height</th><th scope=col>age_months</th><th scope=col>age_years</th></tr>\n",
              "\t<tr><th scope=col>&lt;dbl&gt;</th><th scope=col>&lt;chr&gt;</th><th scope=col>&lt;dbl&gt;</th><th scope=col>&lt;dbl&gt;</th><th scope=col>&lt;dbl&gt;</th><th scope=col>&lt;dbl&gt;</th></tr>\n",
              "</thead>\n",
              "<tbody>\n",
              "\t<tr><td> 3.416667</td><td>Female</td><td>211</td><td> 99.7</td><td> 5</td><td> 3</td></tr>\n",
              "\t<tr><td>13.500000</td><td>Female</td><td>235</td><td>149.3</td><td> 6</td><td>13</td></tr>\n",
              "\t<tr><td>13.666667</td><td>Female</td><td>250</td><td>157.8</td><td> 8</td><td>13</td></tr>\n",
              "\t<tr><td>13.916667</td><td>Female</td><td>243</td><td>161.8</td><td>11</td><td>13</td></tr>\n",
              "\t<tr><td>13.333333</td><td>Female</td><td>230</td><td>157.7</td><td> 4</td><td>13</td></tr>\n",
              "\t<tr><td>13.333333</td><td>Female</td><td>232</td><td>146.8</td><td> 4</td><td>13</td></tr>\n",
              "\t<tr><td>12.500000</td><td>Female</td><td>241</td><td>156.3</td><td> 6</td><td>12</td></tr>\n",
              "\t<tr><td>12.583333</td><td>Female</td><td>238</td><td>156.0</td><td> 7</td><td>12</td></tr>\n",
              "\t<tr><td>12.333333</td><td>Female</td><td>234</td><td>152.8</td><td> 4</td><td>12</td></tr>\n",
              "\t<tr><td>13.833333</td><td>Female</td><td>227</td><td>148.5</td><td>10</td><td>13</td></tr>\n",
              "\t<tr><td>12.833333</td><td>Female</td><td>219</td><td>145.1</td><td>10</td><td>12</td></tr>\n",
              "\t<tr><td>12.750000</td><td>Female</td><td>211</td><td>157.6</td><td> 9</td><td>12</td></tr>\n",
              "\t<tr><td>11.916667</td><td>Female</td><td>232</td><td>149.4</td><td>11</td><td>11</td></tr>\n",
              "\t<tr><td>12.666667</td><td>Female</td><td>216</td><td>139.9</td><td> 8</td><td>12</td></tr>\n",
              "\t<tr><td>12.750000</td><td>Female</td><td>233</td><td>143.9</td><td> 9</td><td>12</td></tr>\n",
              "\t<tr><td>12.083333</td><td>Female</td><td>260</td><td>152.0</td><td> 1</td><td>12</td></tr>\n",
              "\t<tr><td>14.416667</td><td>Male  </td><td>268</td><td>168.7</td><td> 5</td><td>14</td></tr>\n",
              "\t<tr><td>13.500000</td><td>Male  </td><td>229</td><td>174.2</td><td> 6</td><td>13</td></tr>\n",
              "\t<tr><td>12.083333</td><td>Male  </td><td>247</td><td>154.1</td><td> 1</td><td>12</td></tr>\n",
              "\t<tr><td>12.166667</td><td>Male  </td><td>245</td><td>158.9</td><td> 2</td><td>12</td></tr>\n",
              "\t<tr><td>13.750000</td><td>Male  </td><td>250</td><td>155.8</td><td> 9</td><td>13</td></tr>\n",
              "\t<tr><td>12.250000</td><td>Male  </td><td>245</td><td>158.8</td><td> 3</td><td>12</td></tr>\n",
              "\t<tr><td>12.916667</td><td>Male  </td><td>248</td><td>155.6</td><td>11</td><td>12</td></tr>\n",
              "\t<tr><td>13.333333</td><td>Male  </td><td>271</td><td>167.5</td><td> 4</td><td>13</td></tr>\n",
              "\t<tr><td>14.166667</td><td>Male  </td><td>237</td><td>153.3</td><td> 2</td><td>14</td></tr>\n",
              "\t<tr><td>13.416667</td><td>Male  </td><td>249</td><td>154.4</td><td> 5</td><td>13</td></tr>\n",
              "\t<tr><td>13.500000</td><td>Male  </td><td>254</td><td>159.0</td><td> 6</td><td>13</td></tr>\n",
              "\t<tr><td>13.833333</td><td>Male  </td><td>263</td><td>161.8</td><td>10</td><td>13</td></tr>\n",
              "\t<tr><td>13.666667</td><td>Male  </td><td>261</td><td>165.0</td><td> 8</td><td>13</td></tr>\n",
              "\t<tr><td>14.250000</td><td>Male  </td><td>226</td><td>138.8</td><td> 3</td><td>14</td></tr>\n",
              "\t<tr><td>⋮</td><td>⋮</td><td>⋮</td><td>⋮</td><td>⋮</td><td>⋮</td></tr>\n",
              "\t<tr><td>10.000000</td><td>Male  </td><td>214</td><td>136.3</td><td> 0</td><td>10</td></tr>\n",
              "\t<tr><td> 6.500000</td><td>Male  </td><td>229</td><td>120.6</td><td> 6</td><td> 6</td></tr>\n",
              "\t<tr><td>11.666667</td><td>Male  </td><td>240</td><td>147.0</td><td> 8</td><td>11</td></tr>\n",
              "\t<tr><td> 8.750000</td><td>Male  </td><td>211</td><td>130.5</td><td> 9</td><td> 8</td></tr>\n",
              "\t<tr><td> 9.083333</td><td>Male  </td><td>216</td><td>136.7</td><td> 1</td><td> 9</td></tr>\n",
              "\t<tr><td>10.000000</td><td>Male  </td><td>201</td><td>130.4</td><td> 0</td><td>10</td></tr>\n",
              "\t<tr><td> 6.833333</td><td>Male  </td><td>209</td><td>120.4</td><td>10</td><td> 6</td></tr>\n",
              "\t<tr><td>11.166667</td><td>Female</td><td>205</td><td>138.3</td><td> 2</td><td>11</td></tr>\n",
              "\t<tr><td> 8.666667</td><td>Female</td><td>222</td><td>140.3</td><td> 8</td><td> 8</td></tr>\n",
              "\t<tr><td> 8.416667</td><td>Female</td><td>208</td><td>133.2</td><td> 5</td><td> 8</td></tr>\n",
              "\t<tr><td>11.916667</td><td>Female</td><td>228</td><td>148.0</td><td>11</td><td>11</td></tr>\n",
              "\t<tr><td> 6.750000</td><td>Female</td><td>204</td><td>126.7</td><td> 9</td><td> 6</td></tr>\n",
              "\t<tr><td> 8.833333</td><td>Female</td><td>201</td><td>136.6</td><td>10</td><td> 8</td></tr>\n",
              "\t<tr><td>11.333333</td><td>Female</td><td>230</td><td>149.8</td><td> 4</td><td>11</td></tr>\n",
              "\t<tr><td> 9.666667</td><td>Female</td><td>204</td><td>127.2</td><td> 8</td><td> 9</td></tr>\n",
              "\t<tr><td>10.416667</td><td>Female</td><td>216</td><td>143.3</td><td> 5</td><td>10</td></tr>\n",
              "\t<tr><td>11.416667</td><td>Female</td><td>241</td><td>150.8</td><td> 5</td><td>11</td></tr>\n",
              "\t<tr><td>12.166667</td><td>Female</td><td>245</td><td>150.6</td><td> 2</td><td>12</td></tr>\n",
              "\t<tr><td>10.666667</td><td>Male  </td><td>218</td><td>140.1</td><td> 8</td><td>10</td></tr>\n",
              "\t<tr><td>10.500000</td><td>Male  </td><td>238</td><td>144.9</td><td> 6</td><td>10</td></tr>\n",
              "\t<tr><td> 9.750000</td><td>Male  </td><td>219</td><td>138.0</td><td> 9</td><td> 9</td></tr>\n",
              "\t<tr><td>10.000000</td><td>Male  </td><td>232</td><td>136.5</td><td> 0</td><td>10</td></tr>\n",
              "\t<tr><td>10.666667</td><td>Male  </td><td>232</td><td>139.8</td><td> 8</td><td>10</td></tr>\n",
              "\t<tr><td>12.916667</td><td>Male  </td><td>225</td><td>137.5</td><td>11</td><td>12</td></tr>\n",
              "\t<tr><td>11.333333</td><td>Male  </td><td>228</td><td>148.0</td><td> 4</td><td>11</td></tr>\n",
              "\t<tr><td>12.166667</td><td>Male  </td><td>253</td><td>149.0</td><td> 2</td><td>12</td></tr>\n",
              "\t<tr><td>11.166667</td><td>Male  </td><td>234</td><td>144.3</td><td> 2</td><td>11</td></tr>\n",
              "\t<tr><td>11.000000</td><td>Male  </td><td>257</td><td>154.6</td><td> 0</td><td>11</td></tr>\n",
              "\t<tr><td>11.666667</td><td>Male  </td><td>252</td><td>148.7</td><td> 8</td><td>11</td></tr>\n",
              "\t<tr><td>11.833333</td><td>Male  </td><td>229</td><td>145.2</td><td>10</td><td>11</td></tr>\n",
              "</tbody>\n",
              "</table>\n"
            ],
            "text/markdown": "\nA data.frame: 73 × 6\n\n| age &lt;dbl&gt; | gender &lt;chr&gt; | foot_length &lt;dbl&gt; | height &lt;dbl&gt; | age_months &lt;dbl&gt; | age_years &lt;dbl&gt; |\n|---|---|---|---|---|---|\n|  3.416667 | Female | 211 |  99.7 |  5 |  3 |\n| 13.500000 | Female | 235 | 149.3 |  6 | 13 |\n| 13.666667 | Female | 250 | 157.8 |  8 | 13 |\n| 13.916667 | Female | 243 | 161.8 | 11 | 13 |\n| 13.333333 | Female | 230 | 157.7 |  4 | 13 |\n| 13.333333 | Female | 232 | 146.8 |  4 | 13 |\n| 12.500000 | Female | 241 | 156.3 |  6 | 12 |\n| 12.583333 | Female | 238 | 156.0 |  7 | 12 |\n| 12.333333 | Female | 234 | 152.8 |  4 | 12 |\n| 13.833333 | Female | 227 | 148.5 | 10 | 13 |\n| 12.833333 | Female | 219 | 145.1 | 10 | 12 |\n| 12.750000 | Female | 211 | 157.6 |  9 | 12 |\n| 11.916667 | Female | 232 | 149.4 | 11 | 11 |\n| 12.666667 | Female | 216 | 139.9 |  8 | 12 |\n| 12.750000 | Female | 233 | 143.9 |  9 | 12 |\n| 12.083333 | Female | 260 | 152.0 |  1 | 12 |\n| 14.416667 | Male   | 268 | 168.7 |  5 | 14 |\n| 13.500000 | Male   | 229 | 174.2 |  6 | 13 |\n| 12.083333 | Male   | 247 | 154.1 |  1 | 12 |\n| 12.166667 | Male   | 245 | 158.9 |  2 | 12 |\n| 13.750000 | Male   | 250 | 155.8 |  9 | 13 |\n| 12.250000 | Male   | 245 | 158.8 |  3 | 12 |\n| 12.916667 | Male   | 248 | 155.6 | 11 | 12 |\n| 13.333333 | Male   | 271 | 167.5 |  4 | 13 |\n| 14.166667 | Male   | 237 | 153.3 |  2 | 14 |\n| 13.416667 | Male   | 249 | 154.4 |  5 | 13 |\n| 13.500000 | Male   | 254 | 159.0 |  6 | 13 |\n| 13.833333 | Male   | 263 | 161.8 | 10 | 13 |\n| 13.666667 | Male   | 261 | 165.0 |  8 | 13 |\n| 14.250000 | Male   | 226 | 138.8 |  3 | 14 |\n| ⋮ | ⋮ | ⋮ | ⋮ | ⋮ | ⋮ |\n| 10.000000 | Male   | 214 | 136.3 |  0 | 10 |\n|  6.500000 | Male   | 229 | 120.6 |  6 |  6 |\n| 11.666667 | Male   | 240 | 147.0 |  8 | 11 |\n|  8.750000 | Male   | 211 | 130.5 |  9 |  8 |\n|  9.083333 | Male   | 216 | 136.7 |  1 |  9 |\n| 10.000000 | Male   | 201 | 130.4 |  0 | 10 |\n|  6.833333 | Male   | 209 | 120.4 | 10 |  6 |\n| 11.166667 | Female | 205 | 138.3 |  2 | 11 |\n|  8.666667 | Female | 222 | 140.3 |  8 |  8 |\n|  8.416667 | Female | 208 | 133.2 |  5 |  8 |\n| 11.916667 | Female | 228 | 148.0 | 11 | 11 |\n|  6.750000 | Female | 204 | 126.7 |  9 |  6 |\n|  8.833333 | Female | 201 | 136.6 | 10 |  8 |\n| 11.333333 | Female | 230 | 149.8 |  4 | 11 |\n|  9.666667 | Female | 204 | 127.2 |  8 |  9 |\n| 10.416667 | Female | 216 | 143.3 |  5 | 10 |\n| 11.416667 | Female | 241 | 150.8 |  5 | 11 |\n| 12.166667 | Female | 245 | 150.6 |  2 | 12 |\n| 10.666667 | Male   | 218 | 140.1 |  8 | 10 |\n| 10.500000 | Male   | 238 | 144.9 |  6 | 10 |\n|  9.750000 | Male   | 219 | 138.0 |  9 |  9 |\n| 10.000000 | Male   | 232 | 136.5 |  0 | 10 |\n| 10.666667 | Male   | 232 | 139.8 |  8 | 10 |\n| 12.916667 | Male   | 225 | 137.5 | 11 | 12 |\n| 11.333333 | Male   | 228 | 148.0 |  4 | 11 |\n| 12.166667 | Male   | 253 | 149.0 |  2 | 12 |\n| 11.166667 | Male   | 234 | 144.3 |  2 | 11 |\n| 11.000000 | Male   | 257 | 154.6 |  0 | 11 |\n| 11.666667 | Male   | 252 | 148.7 |  8 | 11 |\n| 11.833333 | Male   | 229 | 145.2 | 10 | 11 |\n\n",
            "text/latex": "A data.frame: 73 × 6\n\\begin{tabular}{llllll}\n age & gender & foot\\_length & height & age\\_months & age\\_years\\\\\n <dbl> & <chr> & <dbl> & <dbl> & <dbl> & <dbl>\\\\\n\\hline\n\t  3.416667 & Female & 211 &  99.7 &  5 &  3\\\\\n\t 13.500000 & Female & 235 & 149.3 &  6 & 13\\\\\n\t 13.666667 & Female & 250 & 157.8 &  8 & 13\\\\\n\t 13.916667 & Female & 243 & 161.8 & 11 & 13\\\\\n\t 13.333333 & Female & 230 & 157.7 &  4 & 13\\\\\n\t 13.333333 & Female & 232 & 146.8 &  4 & 13\\\\\n\t 12.500000 & Female & 241 & 156.3 &  6 & 12\\\\\n\t 12.583333 & Female & 238 & 156.0 &  7 & 12\\\\\n\t 12.333333 & Female & 234 & 152.8 &  4 & 12\\\\\n\t 13.833333 & Female & 227 & 148.5 & 10 & 13\\\\\n\t 12.833333 & Female & 219 & 145.1 & 10 & 12\\\\\n\t 12.750000 & Female & 211 & 157.6 &  9 & 12\\\\\n\t 11.916667 & Female & 232 & 149.4 & 11 & 11\\\\\n\t 12.666667 & Female & 216 & 139.9 &  8 & 12\\\\\n\t 12.750000 & Female & 233 & 143.9 &  9 & 12\\\\\n\t 12.083333 & Female & 260 & 152.0 &  1 & 12\\\\\n\t 14.416667 & Male   & 268 & 168.7 &  5 & 14\\\\\n\t 13.500000 & Male   & 229 & 174.2 &  6 & 13\\\\\n\t 12.083333 & Male   & 247 & 154.1 &  1 & 12\\\\\n\t 12.166667 & Male   & 245 & 158.9 &  2 & 12\\\\\n\t 13.750000 & Male   & 250 & 155.8 &  9 & 13\\\\\n\t 12.250000 & Male   & 245 & 158.8 &  3 & 12\\\\\n\t 12.916667 & Male   & 248 & 155.6 & 11 & 12\\\\\n\t 13.333333 & Male   & 271 & 167.5 &  4 & 13\\\\\n\t 14.166667 & Male   & 237 & 153.3 &  2 & 14\\\\\n\t 13.416667 & Male   & 249 & 154.4 &  5 & 13\\\\\n\t 13.500000 & Male   & 254 & 159.0 &  6 & 13\\\\\n\t 13.833333 & Male   & 263 & 161.8 & 10 & 13\\\\\n\t 13.666667 & Male   & 261 & 165.0 &  8 & 13\\\\\n\t 14.250000 & Male   & 226 & 138.8 &  3 & 14\\\\\n\t ⋮ & ⋮ & ⋮ & ⋮ & ⋮ & ⋮\\\\\n\t 10.000000 & Male   & 214 & 136.3 &  0 & 10\\\\\n\t  6.500000 & Male   & 229 & 120.6 &  6 &  6\\\\\n\t 11.666667 & Male   & 240 & 147.0 &  8 & 11\\\\\n\t  8.750000 & Male   & 211 & 130.5 &  9 &  8\\\\\n\t  9.083333 & Male   & 216 & 136.7 &  1 &  9\\\\\n\t 10.000000 & Male   & 201 & 130.4 &  0 & 10\\\\\n\t  6.833333 & Male   & 209 & 120.4 & 10 &  6\\\\\n\t 11.166667 & Female & 205 & 138.3 &  2 & 11\\\\\n\t  8.666667 & Female & 222 & 140.3 &  8 &  8\\\\\n\t  8.416667 & Female & 208 & 133.2 &  5 &  8\\\\\n\t 11.916667 & Female & 228 & 148.0 & 11 & 11\\\\\n\t  6.750000 & Female & 204 & 126.7 &  9 &  6\\\\\n\t  8.833333 & Female & 201 & 136.6 & 10 &  8\\\\\n\t 11.333333 & Female & 230 & 149.8 &  4 & 11\\\\\n\t  9.666667 & Female & 204 & 127.2 &  8 &  9\\\\\n\t 10.416667 & Female & 216 & 143.3 &  5 & 10\\\\\n\t 11.416667 & Female & 241 & 150.8 &  5 & 11\\\\\n\t 12.166667 & Female & 245 & 150.6 &  2 & 12\\\\\n\t 10.666667 & Male   & 218 & 140.1 &  8 & 10\\\\\n\t 10.500000 & Male   & 238 & 144.9 &  6 & 10\\\\\n\t  9.750000 & Male   & 219 & 138.0 &  9 &  9\\\\\n\t 10.000000 & Male   & 232 & 136.5 &  0 & 10\\\\\n\t 10.666667 & Male   & 232 & 139.8 &  8 & 10\\\\\n\t 12.916667 & Male   & 225 & 137.5 & 11 & 12\\\\\n\t 11.333333 & Male   & 228 & 148.0 &  4 & 11\\\\\n\t 12.166667 & Male   & 253 & 149.0 &  2 & 12\\\\\n\t 11.166667 & Male   & 234 & 144.3 &  2 & 11\\\\\n\t 11.000000 & Male   & 257 & 154.6 &  0 & 11\\\\\n\t 11.666667 & Male   & 252 & 148.7 &  8 & 11\\\\\n\t 11.833333 & Male   & 229 & 145.2 & 10 & 11\\\\\n\\end{tabular}\n",
            "text/plain": [
              "   age       gender foot_length height age_months age_years\n",
              "1   3.416667 Female 211          99.7   5          3       \n",
              "2  13.500000 Female 235         149.3   6         13       \n",
              "3  13.666667 Female 250         157.8   8         13       \n",
              "4  13.916667 Female 243         161.8  11         13       \n",
              "5  13.333333 Female 230         157.7   4         13       \n",
              "6  13.333333 Female 232         146.8   4         13       \n",
              "7  12.500000 Female 241         156.3   6         12       \n",
              "8  12.583333 Female 238         156.0   7         12       \n",
              "9  12.333333 Female 234         152.8   4         12       \n",
              "10 13.833333 Female 227         148.5  10         13       \n",
              "11 12.833333 Female 219         145.1  10         12       \n",
              "12 12.750000 Female 211         157.6   9         12       \n",
              "13 11.916667 Female 232         149.4  11         11       \n",
              "14 12.666667 Female 216         139.9   8         12       \n",
              "15 12.750000 Female 233         143.9   9         12       \n",
              "16 12.083333 Female 260         152.0   1         12       \n",
              "17 14.416667 Male   268         168.7   5         14       \n",
              "18 13.500000 Male   229         174.2   6         13       \n",
              "19 12.083333 Male   247         154.1   1         12       \n",
              "20 12.166667 Male   245         158.9   2         12       \n",
              "21 13.750000 Male   250         155.8   9         13       \n",
              "22 12.250000 Male   245         158.8   3         12       \n",
              "23 12.916667 Male   248         155.6  11         12       \n",
              "24 13.333333 Male   271         167.5   4         13       \n",
              "25 14.166667 Male   237         153.3   2         14       \n",
              "26 13.416667 Male   249         154.4   5         13       \n",
              "27 13.500000 Male   254         159.0   6         13       \n",
              "28 13.833333 Male   263         161.8  10         13       \n",
              "29 13.666667 Male   261         165.0   8         13       \n",
              "30 14.250000 Male   226         138.8   3         14       \n",
              "⋮  ⋮         ⋮      ⋮           ⋮      ⋮          ⋮        \n",
              "44 10.000000 Male   214         136.3   0         10       \n",
              "45  6.500000 Male   229         120.6   6          6       \n",
              "46 11.666667 Male   240         147.0   8         11       \n",
              "47  8.750000 Male   211         130.5   9          8       \n",
              "48  9.083333 Male   216         136.7   1          9       \n",
              "49 10.000000 Male   201         130.4   0         10       \n",
              "50  6.833333 Male   209         120.4  10          6       \n",
              "51 11.166667 Female 205         138.3   2         11       \n",
              "52  8.666667 Female 222         140.3   8          8       \n",
              "53  8.416667 Female 208         133.2   5          8       \n",
              "54 11.916667 Female 228         148.0  11         11       \n",
              "55  6.750000 Female 204         126.7   9          6       \n",
              "56  8.833333 Female 201         136.6  10          8       \n",
              "57 11.333333 Female 230         149.8   4         11       \n",
              "58  9.666667 Female 204         127.2   8          9       \n",
              "59 10.416667 Female 216         143.3   5         10       \n",
              "60 11.416667 Female 241         150.8   5         11       \n",
              "61 12.166667 Female 245         150.6   2         12       \n",
              "62 10.666667 Male   218         140.1   8         10       \n",
              "63 10.500000 Male   238         144.9   6         10       \n",
              "64  9.750000 Male   219         138.0   9          9       \n",
              "65 10.000000 Male   232         136.5   0         10       \n",
              "66 10.666667 Male   232         139.8   8         10       \n",
              "67 12.916667 Male   225         137.5  11         12       \n",
              "68 11.333333 Male   228         148.0   4         11       \n",
              "69 12.166667 Male   253         149.0   2         12       \n",
              "70 11.166667 Male   234         144.3   2         11       \n",
              "71 11.000000 Male   257         154.6   0         11       \n",
              "72 11.666667 Male   252         148.7   8         11       \n",
              "73 11.833333 Male   229         145.2  10         11       "
            ]
          },
          "metadata": {}
        }
      ]
    },
    {
      "cell_type": "markdown",
      "source": [
        "### Age years > 10"
      ],
      "metadata": {
        "id": "dSUoHc8Z6voP"
      }
    },
    {
      "cell_type": "code",
      "source": [
        "age_years10 = df%>% filter(age_years > 10) %>% arrange(age_years)\n",
        "age_years10\n"
      ],
      "metadata": {
        "colab": {
          "base_uri": "https://localhost:8080/",
          "height": 1000
        },
        "id": "ey_yrGwb5k8h",
        "outputId": "cdf4b49f-ea06-4a1f-c9f0-d80d43329a10"
      },
      "execution_count": 183,
      "outputs": [
        {
          "output_type": "display_data",
          "data": {
            "text/html": [
              "<table class=\"dataframe\">\n",
              "<caption>A data.frame: 54 × 6</caption>\n",
              "<thead>\n",
              "\t<tr><th scope=col>age</th><th scope=col>gender</th><th scope=col>foot_length</th><th scope=col>height</th><th scope=col>age_months</th><th scope=col>age_years</th></tr>\n",
              "\t<tr><th scope=col>&lt;dbl&gt;</th><th scope=col>&lt;chr&gt;</th><th scope=col>&lt;dbl&gt;</th><th scope=col>&lt;dbl&gt;</th><th scope=col>&lt;dbl&gt;</th><th scope=col>&lt;dbl&gt;</th></tr>\n",
              "</thead>\n",
              "<tbody>\n",
              "\t<tr><td>11.91667</td><td>Female</td><td>232</td><td>149.4</td><td>11</td><td>11</td></tr>\n",
              "\t<tr><td>11.66667</td><td>Male  </td><td>240</td><td>147.0</td><td> 8</td><td>11</td></tr>\n",
              "\t<tr><td>11.16667</td><td>Female</td><td>205</td><td>138.3</td><td> 2</td><td>11</td></tr>\n",
              "\t<tr><td>11.91667</td><td>Female</td><td>228</td><td>148.0</td><td>11</td><td>11</td></tr>\n",
              "\t<tr><td>11.33333</td><td>Female</td><td>230</td><td>149.8</td><td> 4</td><td>11</td></tr>\n",
              "\t<tr><td>11.41667</td><td>Female</td><td>241</td><td>150.8</td><td> 5</td><td>11</td></tr>\n",
              "\t<tr><td>11.33333</td><td>Male  </td><td>228</td><td>148.0</td><td> 4</td><td>11</td></tr>\n",
              "\t<tr><td>11.16667</td><td>Male  </td><td>234</td><td>144.3</td><td> 2</td><td>11</td></tr>\n",
              "\t<tr><td>11.00000</td><td>Male  </td><td>257</td><td>154.6</td><td> 0</td><td>11</td></tr>\n",
              "\t<tr><td>11.66667</td><td>Male  </td><td>252</td><td>148.7</td><td> 8</td><td>11</td></tr>\n",
              "\t<tr><td>11.83333</td><td>Male  </td><td>229</td><td>145.2</td><td>10</td><td>11</td></tr>\n",
              "\t<tr><td>12.50000</td><td>Female</td><td>241</td><td>156.3</td><td> 6</td><td>12</td></tr>\n",
              "\t<tr><td>12.58333</td><td>Female</td><td>238</td><td>156.0</td><td> 7</td><td>12</td></tr>\n",
              "\t<tr><td>12.33333</td><td>Female</td><td>234</td><td>152.8</td><td> 4</td><td>12</td></tr>\n",
              "\t<tr><td>12.83333</td><td>Female</td><td>219</td><td>145.1</td><td>10</td><td>12</td></tr>\n",
              "\t<tr><td>12.75000</td><td>Female</td><td>211</td><td>157.6</td><td> 9</td><td>12</td></tr>\n",
              "\t<tr><td>12.66667</td><td>Female</td><td>216</td><td>139.9</td><td> 8</td><td>12</td></tr>\n",
              "\t<tr><td>12.75000</td><td>Female</td><td>233</td><td>143.9</td><td> 9</td><td>12</td></tr>\n",
              "\t<tr><td>12.08333</td><td>Female</td><td>260</td><td>152.0</td><td> 1</td><td>12</td></tr>\n",
              "\t<tr><td>12.08333</td><td>Male  </td><td>247</td><td>154.1</td><td> 1</td><td>12</td></tr>\n",
              "\t<tr><td>12.16667</td><td>Male  </td><td>245</td><td>158.9</td><td> 2</td><td>12</td></tr>\n",
              "\t<tr><td>12.25000</td><td>Male  </td><td>245</td><td>158.8</td><td> 3</td><td>12</td></tr>\n",
              "\t<tr><td>12.91667</td><td>Male  </td><td>248</td><td>155.6</td><td>11</td><td>12</td></tr>\n",
              "\t<tr><td>12.91667</td><td>Male  </td><td>256</td><td>162.2</td><td>11</td><td>12</td></tr>\n",
              "\t<tr><td>12.83333</td><td>Female</td><td>246</td><td>155.6</td><td>10</td><td>12</td></tr>\n",
              "\t<tr><td>12.58333</td><td>Male  </td><td>229</td><td>144.3</td><td> 7</td><td>12</td></tr>\n",
              "\t<tr><td>12.08333</td><td>Female</td><td>225</td><td>142.2</td><td> 1</td><td>12</td></tr>\n",
              "\t<tr><td>12.16667</td><td>Female</td><td>250</td><td>154.2</td><td> 2</td><td>12</td></tr>\n",
              "\t<tr><td>12.66667</td><td>Female</td><td>213</td><td>144.7</td><td> 8</td><td>12</td></tr>\n",
              "\t<tr><td>12.16667</td><td>Female</td><td>245</td><td>150.6</td><td> 2</td><td>12</td></tr>\n",
              "\t<tr><td>12.91667</td><td>Male  </td><td>225</td><td>137.5</td><td>11</td><td>12</td></tr>\n",
              "\t<tr><td>12.16667</td><td>Male  </td><td>253</td><td>149.0</td><td> 2</td><td>12</td></tr>\n",
              "\t<tr><td>13.50000</td><td>Female</td><td>235</td><td>149.3</td><td> 6</td><td>13</td></tr>\n",
              "\t<tr><td>13.66667</td><td>Female</td><td>250</td><td>157.8</td><td> 8</td><td>13</td></tr>\n",
              "\t<tr><td>13.91667</td><td>Female</td><td>243</td><td>161.8</td><td>11</td><td>13</td></tr>\n",
              "\t<tr><td>13.33333</td><td>Female</td><td>230</td><td>157.7</td><td> 4</td><td>13</td></tr>\n",
              "\t<tr><td>13.33333</td><td>Female</td><td>232</td><td>146.8</td><td> 4</td><td>13</td></tr>\n",
              "\t<tr><td>13.83333</td><td>Female</td><td>227</td><td>148.5</td><td>10</td><td>13</td></tr>\n",
              "\t<tr><td>13.50000</td><td>Male  </td><td>229</td><td>174.2</td><td> 6</td><td>13</td></tr>\n",
              "\t<tr><td>13.75000</td><td>Male  </td><td>250</td><td>155.8</td><td> 9</td><td>13</td></tr>\n",
              "\t<tr><td>13.33333</td><td>Male  </td><td>271</td><td>167.5</td><td> 4</td><td>13</td></tr>\n",
              "\t<tr><td>13.41667</td><td>Male  </td><td>249</td><td>154.4</td><td> 5</td><td>13</td></tr>\n",
              "\t<tr><td>13.50000</td><td>Male  </td><td>254</td><td>159.0</td><td> 6</td><td>13</td></tr>\n",
              "\t<tr><td>13.83333</td><td>Male  </td><td>263</td><td>161.8</td><td>10</td><td>13</td></tr>\n",
              "\t<tr><td>13.66667</td><td>Male  </td><td>261</td><td>165.0</td><td> 8</td><td>13</td></tr>\n",
              "\t<tr><td>13.66667</td><td>Female</td><td>230</td><td>151.4</td><td> 8</td><td>13</td></tr>\n",
              "\t<tr><td>13.91667</td><td>Female</td><td>233</td><td>154.4</td><td>11</td><td>13</td></tr>\n",
              "\t<tr><td>13.58333</td><td>Female</td><td>235</td><td>155.0</td><td> 7</td><td>13</td></tr>\n",
              "\t<tr><td>13.58333</td><td>Male  </td><td>259</td><td>175.8</td><td> 7</td><td>13</td></tr>\n",
              "\t<tr><td>13.91667</td><td>Male  </td><td>278</td><td>168.3</td><td>11</td><td>13</td></tr>\n",
              "\t<tr><td>13.00000</td><td>Male  </td><td>272</td><td>171.2</td><td> 0</td><td>13</td></tr>\n",
              "\t<tr><td>14.41667</td><td>Male  </td><td>268</td><td>168.7</td><td> 5</td><td>14</td></tr>\n",
              "\t<tr><td>14.16667</td><td>Male  </td><td>237</td><td>153.3</td><td> 2</td><td>14</td></tr>\n",
              "\t<tr><td>14.25000</td><td>Male  </td><td>226</td><td>138.8</td><td> 3</td><td>14</td></tr>\n",
              "</tbody>\n",
              "</table>\n"
            ],
            "text/markdown": "\nA data.frame: 54 × 6\n\n| age &lt;dbl&gt; | gender &lt;chr&gt; | foot_length &lt;dbl&gt; | height &lt;dbl&gt; | age_months &lt;dbl&gt; | age_years &lt;dbl&gt; |\n|---|---|---|---|---|---|\n| 11.91667 | Female | 232 | 149.4 | 11 | 11 |\n| 11.66667 | Male   | 240 | 147.0 |  8 | 11 |\n| 11.16667 | Female | 205 | 138.3 |  2 | 11 |\n| 11.91667 | Female | 228 | 148.0 | 11 | 11 |\n| 11.33333 | Female | 230 | 149.8 |  4 | 11 |\n| 11.41667 | Female | 241 | 150.8 |  5 | 11 |\n| 11.33333 | Male   | 228 | 148.0 |  4 | 11 |\n| 11.16667 | Male   | 234 | 144.3 |  2 | 11 |\n| 11.00000 | Male   | 257 | 154.6 |  0 | 11 |\n| 11.66667 | Male   | 252 | 148.7 |  8 | 11 |\n| 11.83333 | Male   | 229 | 145.2 | 10 | 11 |\n| 12.50000 | Female | 241 | 156.3 |  6 | 12 |\n| 12.58333 | Female | 238 | 156.0 |  7 | 12 |\n| 12.33333 | Female | 234 | 152.8 |  4 | 12 |\n| 12.83333 | Female | 219 | 145.1 | 10 | 12 |\n| 12.75000 | Female | 211 | 157.6 |  9 | 12 |\n| 12.66667 | Female | 216 | 139.9 |  8 | 12 |\n| 12.75000 | Female | 233 | 143.9 |  9 | 12 |\n| 12.08333 | Female | 260 | 152.0 |  1 | 12 |\n| 12.08333 | Male   | 247 | 154.1 |  1 | 12 |\n| 12.16667 | Male   | 245 | 158.9 |  2 | 12 |\n| 12.25000 | Male   | 245 | 158.8 |  3 | 12 |\n| 12.91667 | Male   | 248 | 155.6 | 11 | 12 |\n| 12.91667 | Male   | 256 | 162.2 | 11 | 12 |\n| 12.83333 | Female | 246 | 155.6 | 10 | 12 |\n| 12.58333 | Male   | 229 | 144.3 |  7 | 12 |\n| 12.08333 | Female | 225 | 142.2 |  1 | 12 |\n| 12.16667 | Female | 250 | 154.2 |  2 | 12 |\n| 12.66667 | Female | 213 | 144.7 |  8 | 12 |\n| 12.16667 | Female | 245 | 150.6 |  2 | 12 |\n| 12.91667 | Male   | 225 | 137.5 | 11 | 12 |\n| 12.16667 | Male   | 253 | 149.0 |  2 | 12 |\n| 13.50000 | Female | 235 | 149.3 |  6 | 13 |\n| 13.66667 | Female | 250 | 157.8 |  8 | 13 |\n| 13.91667 | Female | 243 | 161.8 | 11 | 13 |\n| 13.33333 | Female | 230 | 157.7 |  4 | 13 |\n| 13.33333 | Female | 232 | 146.8 |  4 | 13 |\n| 13.83333 | Female | 227 | 148.5 | 10 | 13 |\n| 13.50000 | Male   | 229 | 174.2 |  6 | 13 |\n| 13.75000 | Male   | 250 | 155.8 |  9 | 13 |\n| 13.33333 | Male   | 271 | 167.5 |  4 | 13 |\n| 13.41667 | Male   | 249 | 154.4 |  5 | 13 |\n| 13.50000 | Male   | 254 | 159.0 |  6 | 13 |\n| 13.83333 | Male   | 263 | 161.8 | 10 | 13 |\n| 13.66667 | Male   | 261 | 165.0 |  8 | 13 |\n| 13.66667 | Female | 230 | 151.4 |  8 | 13 |\n| 13.91667 | Female | 233 | 154.4 | 11 | 13 |\n| 13.58333 | Female | 235 | 155.0 |  7 | 13 |\n| 13.58333 | Male   | 259 | 175.8 |  7 | 13 |\n| 13.91667 | Male   | 278 | 168.3 | 11 | 13 |\n| 13.00000 | Male   | 272 | 171.2 |  0 | 13 |\n| 14.41667 | Male   | 268 | 168.7 |  5 | 14 |\n| 14.16667 | Male   | 237 | 153.3 |  2 | 14 |\n| 14.25000 | Male   | 226 | 138.8 |  3 | 14 |\n\n",
            "text/latex": "A data.frame: 54 × 6\n\\begin{tabular}{llllll}\n age & gender & foot\\_length & height & age\\_months & age\\_years\\\\\n <dbl> & <chr> & <dbl> & <dbl> & <dbl> & <dbl>\\\\\n\\hline\n\t 11.91667 & Female & 232 & 149.4 & 11 & 11\\\\\n\t 11.66667 & Male   & 240 & 147.0 &  8 & 11\\\\\n\t 11.16667 & Female & 205 & 138.3 &  2 & 11\\\\\n\t 11.91667 & Female & 228 & 148.0 & 11 & 11\\\\\n\t 11.33333 & Female & 230 & 149.8 &  4 & 11\\\\\n\t 11.41667 & Female & 241 & 150.8 &  5 & 11\\\\\n\t 11.33333 & Male   & 228 & 148.0 &  4 & 11\\\\\n\t 11.16667 & Male   & 234 & 144.3 &  2 & 11\\\\\n\t 11.00000 & Male   & 257 & 154.6 &  0 & 11\\\\\n\t 11.66667 & Male   & 252 & 148.7 &  8 & 11\\\\\n\t 11.83333 & Male   & 229 & 145.2 & 10 & 11\\\\\n\t 12.50000 & Female & 241 & 156.3 &  6 & 12\\\\\n\t 12.58333 & Female & 238 & 156.0 &  7 & 12\\\\\n\t 12.33333 & Female & 234 & 152.8 &  4 & 12\\\\\n\t 12.83333 & Female & 219 & 145.1 & 10 & 12\\\\\n\t 12.75000 & Female & 211 & 157.6 &  9 & 12\\\\\n\t 12.66667 & Female & 216 & 139.9 &  8 & 12\\\\\n\t 12.75000 & Female & 233 & 143.9 &  9 & 12\\\\\n\t 12.08333 & Female & 260 & 152.0 &  1 & 12\\\\\n\t 12.08333 & Male   & 247 & 154.1 &  1 & 12\\\\\n\t 12.16667 & Male   & 245 & 158.9 &  2 & 12\\\\\n\t 12.25000 & Male   & 245 & 158.8 &  3 & 12\\\\\n\t 12.91667 & Male   & 248 & 155.6 & 11 & 12\\\\\n\t 12.91667 & Male   & 256 & 162.2 & 11 & 12\\\\\n\t 12.83333 & Female & 246 & 155.6 & 10 & 12\\\\\n\t 12.58333 & Male   & 229 & 144.3 &  7 & 12\\\\\n\t 12.08333 & Female & 225 & 142.2 &  1 & 12\\\\\n\t 12.16667 & Female & 250 & 154.2 &  2 & 12\\\\\n\t 12.66667 & Female & 213 & 144.7 &  8 & 12\\\\\n\t 12.16667 & Female & 245 & 150.6 &  2 & 12\\\\\n\t 12.91667 & Male   & 225 & 137.5 & 11 & 12\\\\\n\t 12.16667 & Male   & 253 & 149.0 &  2 & 12\\\\\n\t 13.50000 & Female & 235 & 149.3 &  6 & 13\\\\\n\t 13.66667 & Female & 250 & 157.8 &  8 & 13\\\\\n\t 13.91667 & Female & 243 & 161.8 & 11 & 13\\\\\n\t 13.33333 & Female & 230 & 157.7 &  4 & 13\\\\\n\t 13.33333 & Female & 232 & 146.8 &  4 & 13\\\\\n\t 13.83333 & Female & 227 & 148.5 & 10 & 13\\\\\n\t 13.50000 & Male   & 229 & 174.2 &  6 & 13\\\\\n\t 13.75000 & Male   & 250 & 155.8 &  9 & 13\\\\\n\t 13.33333 & Male   & 271 & 167.5 &  4 & 13\\\\\n\t 13.41667 & Male   & 249 & 154.4 &  5 & 13\\\\\n\t 13.50000 & Male   & 254 & 159.0 &  6 & 13\\\\\n\t 13.83333 & Male   & 263 & 161.8 & 10 & 13\\\\\n\t 13.66667 & Male   & 261 & 165.0 &  8 & 13\\\\\n\t 13.66667 & Female & 230 & 151.4 &  8 & 13\\\\\n\t 13.91667 & Female & 233 & 154.4 & 11 & 13\\\\\n\t 13.58333 & Female & 235 & 155.0 &  7 & 13\\\\\n\t 13.58333 & Male   & 259 & 175.8 &  7 & 13\\\\\n\t 13.91667 & Male   & 278 & 168.3 & 11 & 13\\\\\n\t 13.00000 & Male   & 272 & 171.2 &  0 & 13\\\\\n\t 14.41667 & Male   & 268 & 168.7 &  5 & 14\\\\\n\t 14.16667 & Male   & 237 & 153.3 &  2 & 14\\\\\n\t 14.25000 & Male   & 226 & 138.8 &  3 & 14\\\\\n\\end{tabular}\n",
            "text/plain": [
              "   age      gender foot_length height age_months age_years\n",
              "1  11.91667 Female 232         149.4  11         11       \n",
              "2  11.66667 Male   240         147.0   8         11       \n",
              "3  11.16667 Female 205         138.3   2         11       \n",
              "4  11.91667 Female 228         148.0  11         11       \n",
              "5  11.33333 Female 230         149.8   4         11       \n",
              "6  11.41667 Female 241         150.8   5         11       \n",
              "7  11.33333 Male   228         148.0   4         11       \n",
              "8  11.16667 Male   234         144.3   2         11       \n",
              "9  11.00000 Male   257         154.6   0         11       \n",
              "10 11.66667 Male   252         148.7   8         11       \n",
              "11 11.83333 Male   229         145.2  10         11       \n",
              "12 12.50000 Female 241         156.3   6         12       \n",
              "13 12.58333 Female 238         156.0   7         12       \n",
              "14 12.33333 Female 234         152.8   4         12       \n",
              "15 12.83333 Female 219         145.1  10         12       \n",
              "16 12.75000 Female 211         157.6   9         12       \n",
              "17 12.66667 Female 216         139.9   8         12       \n",
              "18 12.75000 Female 233         143.9   9         12       \n",
              "19 12.08333 Female 260         152.0   1         12       \n",
              "20 12.08333 Male   247         154.1   1         12       \n",
              "21 12.16667 Male   245         158.9   2         12       \n",
              "22 12.25000 Male   245         158.8   3         12       \n",
              "23 12.91667 Male   248         155.6  11         12       \n",
              "24 12.91667 Male   256         162.2  11         12       \n",
              "25 12.83333 Female 246         155.6  10         12       \n",
              "26 12.58333 Male   229         144.3   7         12       \n",
              "27 12.08333 Female 225         142.2   1         12       \n",
              "28 12.16667 Female 250         154.2   2         12       \n",
              "29 12.66667 Female 213         144.7   8         12       \n",
              "30 12.16667 Female 245         150.6   2         12       \n",
              "31 12.91667 Male   225         137.5  11         12       \n",
              "32 12.16667 Male   253         149.0   2         12       \n",
              "33 13.50000 Female 235         149.3   6         13       \n",
              "34 13.66667 Female 250         157.8   8         13       \n",
              "35 13.91667 Female 243         161.8  11         13       \n",
              "36 13.33333 Female 230         157.7   4         13       \n",
              "37 13.33333 Female 232         146.8   4         13       \n",
              "38 13.83333 Female 227         148.5  10         13       \n",
              "39 13.50000 Male   229         174.2   6         13       \n",
              "40 13.75000 Male   250         155.8   9         13       \n",
              "41 13.33333 Male   271         167.5   4         13       \n",
              "42 13.41667 Male   249         154.4   5         13       \n",
              "43 13.50000 Male   254         159.0   6         13       \n",
              "44 13.83333 Male   263         161.8  10         13       \n",
              "45 13.66667 Male   261         165.0   8         13       \n",
              "46 13.66667 Female 230         151.4   8         13       \n",
              "47 13.91667 Female 233         154.4  11         13       \n",
              "48 13.58333 Female 235         155.0   7         13       \n",
              "49 13.58333 Male   259         175.8   7         13       \n",
              "50 13.91667 Male   278         168.3  11         13       \n",
              "51 13.00000 Male   272         171.2   0         13       \n",
              "52 14.41667 Male   268         168.7   5         14       \n",
              "53 14.16667 Male   237         153.3   2         14       \n",
              "54 14.25000 Male   226         138.8   3         14       "
            ]
          },
          "metadata": {}
        }
      ]
    },
    {
      "cell_type": "code",
      "source": [],
      "metadata": {
        "id": "INaA08rO5k6M"
      },
      "execution_count": 184,
      "outputs": []
    },
    {
      "cell_type": "code",
      "source": [
        "# number of males and females in gender column \n",
        "table(df$gender)"
      ],
      "metadata": {
        "colab": {
          "base_uri": "https://localhost:8080/",
          "height": 71
        },
        "id": "ibRmvX7x1abF",
        "outputId": "0a0981f4-0f3f-412f-818f-5f02fbcfc682"
      },
      "execution_count": 185,
      "outputs": [
        {
          "output_type": "display_data",
          "data": {
            "text/plain": [
              "\n",
              "Female   Male \n",
              "    53     46 "
            ]
          },
          "metadata": {}
        }
      ]
    },
    {
      "cell_type": "code",
      "source": [
        "# Bar chart of age distribution\n",
        "ggplot(df, aes(x = \"\", fill = gender)) + \n",
        "  geom_bar(width = 1) + \n",
        "  coord_polar(theta = \"y\") + \n",
        "  labs(title = \"Gender Distribution\")"
      ],
      "metadata": {
        "colab": {
          "base_uri": "https://localhost:8080/",
          "height": 437
        },
        "id": "oyAVmtQ-m7J6",
        "outputId": "54b7056c-ffd9-409f-a16f-ad4216e9331d"
      },
      "execution_count": 186,
      "outputs": [
        {
          "output_type": "display_data",
          "data": {
            "text/plain": [
              "plot without title"
            ],
            "image/png": "[encoded data removed]"
          },
          "metadata": {
            "image/png": {
              "width": 420,
              "height": 420
            }
          }
        }
      ]
    },
    {
      "cell_type": "code",
      "source": [
        "# another chart for age distribution\n",
        "ggplot(df, aes(x = gender, fill = gender)) + \n",
        "  geom_bar() + \n",
        "  scale_fill_manual(values = c(\"purple\", \"pink\")) +\n",
        "  labs(title = \"Gender Distribution\")"
      ],
      "metadata": {
        "colab": {
          "base_uri": "https://localhost:8080/",
          "height": 437
        },
        "id": "7-axCKrBm7Hj",
        "outputId": "d255a4b0-5429-4e51-c6a7-76355adafb61"
      },
      "execution_count": 187,
      "outputs": [
        {
          "output_type": "display_data",
          "data": {
            "text/plain": [
              "plot without title"
            ],
            "image/png": "[encoded data removed]"
          },
          "metadata": {
            "image/png": {
              "width": 420,
              "height": 420
            }
          }
        }
      ]
    },
    {
      "cell_type": "markdown",
      "source": [
        "## Observation:\n",
        "- Number of females is more than males"
      ],
      "metadata": {
        "id": "I1qUIJI-rt4D"
      }
    },
    {
      "cell_type": "markdown",
      "source": [
        "## Gender and Age"
      ],
      "metadata": {
        "id": "e2ZKaW6Fq-3f"
      }
    },
    {
      "cell_type": "code",
      "source": [
        "ggplot(df, aes(x = age, fill = gender)) + \n",
        "  geom_density(alpha = 0.5) + \n",
        "  labs(title = \"Age Distribution by Gender\")"
      ],
      "metadata": {
        "colab": {
          "base_uri": "https://localhost:8080/",
          "height": 437
        },
        "id": "xjCpiCbBm7FV",
        "outputId": "5d31013a-b6cb-40b6-9ece-d8a41e58c9f8"
      },
      "execution_count": 188,
      "outputs": [
        {
          "output_type": "display_data",
          "data": {
            "text/plain": [
              "plot without title"
            ],
            "image/png": "[encoded data removed]"
          },
          "metadata": {
            "image/png": {
              "width": 420,
              "height": 420
            }
          }
        }
      ]
    },
    {
      "cell_type": "markdown",
      "source": [
        "## **Observation**:\n",
        "- In each age number of males and females is differents."
      ],
      "metadata": {
        "id": "GP4eBMQBr4ID"
      }
    },
    {
      "cell_type": "markdown",
      "source": [
        "## Age Years Distributions"
      ],
      "metadata": {
        "id": "wKsGEfRrt21p"
      }
    },
    {
      "cell_type": "code",
      "source": [
        "ggplot(df, aes(x = age_years, fill = age_years)) + \n",
        "  geom_bar() + \n",
        "  scale_x_continuous(breaks = unique(as.integer(df$age_years))) +\n",
        "  labs(title = \"Age Years Distribution\")"
      ],
      "metadata": {
        "colab": {
          "base_uri": "https://localhost:8080/",
          "height": 545
        },
        "id": "a2s6PreOqX4r",
        "outputId": "88657b79-1ccd-485b-eb63-b9530104c579"
      },
      "execution_count": 189,
      "outputs": [
        {
          "output_type": "stream",
          "name": "stderr",
          "text": [
            "Warning message:\n",
            "“\u001b[1m\u001b[22mThe following aesthetics were dropped during statistical transformation: \u001b[32mfill\u001b[39m\n",
            "\u001b[36mℹ\u001b[39m This can happen when ggplot fails to infer the correct grouping structure in\n",
            "  the data.\n",
            "\u001b[36mℹ\u001b[39m Did you forget to specify a `group` aesthetic or to convert a numerical\n",
            "  variable into a factor?”\n"
          ]
        },
        {
          "output_type": "display_data",
          "data": {
            "text/plain": [
              "plot without title"
            ],
            "image/png": "[encoded data removed]"
          },
          "metadata": {
            "image/png": {
              "width": 420,
              "height": 420
            }
          }
        }
      ]
    },
    {
      "cell_type": "code",
      "source": [
        "# Min years of age\n",
        "min(df$age_years)"
      ],
      "metadata": {
        "colab": {
          "base_uri": "https://localhost:8080/",
          "height": 34
        },
        "id": "Zik_S23SrphA",
        "outputId": "04bca51a-eb36-4e18-fd17-13f2854518e3"
      },
      "execution_count": 190,
      "outputs": [
        {
          "output_type": "display_data",
          "data": {
            "text/html": [
              "3"
            ],
            "text/markdown": "3",
            "text/latex": "3",
            "text/plain": [
              "[1] 3"
            ]
          },
          "metadata": {}
        }
      ]
    },
    {
      "cell_type": "code",
      "source": [
        "# Max years of age\n",
        "max(df$age_years)"
      ],
      "metadata": {
        "colab": {
          "base_uri": "https://localhost:8080/",
          "height": 34
        },
        "id": "COTYI6gsrpdc",
        "outputId": "0819f101-8932-4bb0-a2a1-26a0645b6036"
      },
      "execution_count": 191,
      "outputs": [
        {
          "output_type": "display_data",
          "data": {
            "text/html": [
              "14"
            ],
            "text/markdown": "14",
            "text/latex": "14",
            "text/plain": [
              "[1] 14"
            ]
          },
          "metadata": {}
        }
      ]
    },
    {
      "cell_type": "code",
      "source": [
        "# Average of years of age\n",
        "round(mean(df$age_years))"
      ],
      "metadata": {
        "colab": {
          "base_uri": "https://localhost:8080/",
          "height": 34
        },
        "id": "dcKrTN-erpU3",
        "outputId": "de6450de-d70f-4f7c-9ccf-0c6d6c521f4a"
      },
      "execution_count": 192,
      "outputs": [
        {
          "output_type": "display_data",
          "data": {
            "text/html": [
              "10"
            ],
            "text/markdown": "10",
            "text/latex": "10",
            "text/plain": [
              "[1] 10"
            ]
          },
          "metadata": {}
        }
      ]
    },
    {
      "cell_type": "code",
      "source": [
        "# Dinsity of age \n",
        "ggplot(df, aes(x = age)) + \n",
        "  geom_density() + \n",
        "  labs(title = \"Density Plot of Age\")"
      ],
      "metadata": {
        "colab": {
          "base_uri": "https://localhost:8080/",
          "height": 437
        },
        "id": "30fpFtxV1j-f",
        "outputId": "c063fa9d-9f7e-45bf-fc90-aaa81d9c0c96"
      },
      "execution_count": 193,
      "outputs": [
        {
          "output_type": "display_data",
          "data": {
            "text/plain": [
              "plot without title"
            ],
            "image/png": "[encoded data removed]"
          },
          "metadata": {
            "image/png": {
              "width": 420,
              "height": 420
            }
          }
        }
      ]
    },
    {
      "cell_type": "markdown",
      "source": [
        "## Age-Height Relationship by Gender\n",
        "using scatterplots or boxplots:"
      ],
      "metadata": {
        "id": "I5-BWmWZzaT2"
      }
    },
    {
      "cell_type": "code",
      "source": [
        "ggplot(df, aes(x = age, y = height, color = gender)) + \n",
        "  geom_point() + \n",
        "  labs(title = \"Age-Height Relationship by Gender\")"
      ],
      "metadata": {
        "colab": {
          "base_uri": "https://localhost:8080/",
          "height": 437
        },
        "id": "GWIMm1FTwE59",
        "outputId": "72464854-5215-458c-a4ca-444220d38bd0"
      },
      "execution_count": 194,
      "outputs": [
        {
          "output_type": "display_data",
          "data": {
            "text/plain": [
              "plot without title"
            ],
            "image/png": "[encoded data removed]"
          },
          "metadata": {
            "image/png": {
              "width": 420,
              "height": 420
            }
          }
        }
      ]
    },
    {
      "cell_type": "code",
      "source": [
        "ggplot(df, aes(x = age_years, y = height, fill = gender)) + \n",
        "  geom_boxplot() + \n",
        "  labs(title = \"Age-Height Distribution by Gender\") "
      ],
      "metadata": {
        "colab": {
          "base_uri": "https://localhost:8080/",
          "height": 437
        },
        "id": "30YT8XzqzNOW",
        "outputId": "52a38600-7c66-4387-d685-cadbd657ef6b"
      },
      "execution_count": 195,
      "outputs": [
        {
          "output_type": "display_data",
          "data": {
            "text/plain": [
              "plot without title"
            ],
            "image/png": "[encoded data removed]"
          },
          "metadata": {
            "image/png": {
              "width": 420,
              "height": 420
            }
          }
        }
      ]
    },
    {
      "cell_type": "markdown",
      "source": [
        "## Density of Height\n"
      ],
      "metadata": {
        "id": "jfbtEk4b0ghd"
      }
    },
    {
      "cell_type": "code",
      "source": [
        "ggplot(df, aes(x = height)) + \n",
        "  geom_density() + \n",
        "  labs(title = \"Density Plot of Height\")"
      ],
      "metadata": {
        "colab": {
          "base_uri": "https://localhost:8080/",
          "height": 437
        },
        "id": "QTf9lsxAzgEJ",
        "outputId": "155975bd-8a4c-4785-ce9c-630239ec70e1"
      },
      "execution_count": 196,
      "outputs": [
        {
          "output_type": "display_data",
          "data": {
            "text/plain": [
              "plot without title"
            ],
            "image/png": "[encoded data removed]"
          },
          "metadata": {
            "image/png": {
              "width": 420,
              "height": 420
            }
          }
        }
      ]
    },
    {
      "cell_type": "code",
      "source": [
        "min(df$height)"
      ],
      "metadata": {
        "colab": {
          "base_uri": "https://localhost:8080/",
          "height": 34
        },
        "id": "GS0pso2f0o6A",
        "outputId": "34a189c6-6f81-432c-d430-22d88c2fbcb5"
      },
      "execution_count": 197,
      "outputs": [
        {
          "output_type": "display_data",
          "data": {
            "text/html": [
              "93.3"
            ],
            "text/markdown": "93.3",
            "text/latex": "93.3",
            "text/plain": [
              "[1] 93.3"
            ]
          },
          "metadata": {}
        }
      ]
    },
    {
      "cell_type": "code",
      "source": [
        "max(df$height)"
      ],
      "metadata": {
        "colab": {
          "base_uri": "https://localhost:8080/",
          "height": 34
        },
        "id": "JkDWqYWv0tKX",
        "outputId": "2ab338d6-6d42-462d-b4cb-0ee9788d153b"
      },
      "execution_count": 198,
      "outputs": [
        {
          "output_type": "display_data",
          "data": {
            "text/html": [
              "175.8"
            ],
            "text/markdown": "175.8",
            "text/latex": "175.8",
            "text/plain": [
              "[1] 175.8"
            ]
          },
          "metadata": {}
        }
      ]
    },
    {
      "cell_type": "code",
      "source": [
        "round(mean(df$height))"
      ],
      "metadata": {
        "colab": {
          "base_uri": "https://localhost:8080/",
          "height": 34
        },
        "id": "VlZjygxo0uu9",
        "outputId": "5505b8c8-e333-42bd-977c-fdbed5d63471"
      },
      "execution_count": 199,
      "outputs": [
        {
          "output_type": "display_data",
          "data": {
            "text/html": [
              "139"
            ],
            "text/markdown": "139",
            "text/latex": "139",
            "text/plain": [
              "[1] 139"
            ]
          },
          "metadata": {}
        }
      ]
    },
    {
      "cell_type": "code",
      "source": [
        "# using gender and height columns in density\n",
        "ggplot(df, aes(x = height, fill = gender)) +\n",
        "  geom_density(alpha = .3) +\n",
        "  labs(title = \"Density Plot of Height by Gender\")"
      ],
      "metadata": {
        "colab": {
          "base_uri": "https://localhost:8080/",
          "height": 437
        },
        "id": "VXhvoJhy0xBt",
        "outputId": "46556fca-1ebb-43d5-82a6-468117a7a6e3"
      },
      "execution_count": 200,
      "outputs": [
        {
          "output_type": "display_data",
          "data": {
            "text/plain": [
              "plot without title"
            ],
            "image/png": "[encoded data removed]"
          },
          "metadata": {
            "image/png": {
              "width": 420,
              "height": 420
            }
          }
        }
      ]
    },
    {
      "cell_type": "code",
      "source": [
        "# using density Foot_length chart\n",
        "ggplot(df, aes(x = foot_length)) +\n",
        "  geom_density() +\n",
        "  labs(title = \"Density Plot of Foot_length\")"
      ],
      "metadata": {
        "colab": {
          "base_uri": "https://localhost:8080/",
          "height": 437
        },
        "id": "jWq4fO6418CR",
        "outputId": "cf5feb64-81cd-4485-e5f3-50e6a9ed6a37"
      },
      "execution_count": 201,
      "outputs": [
        {
          "output_type": "display_data",
          "data": {
            "text/plain": [
              "plot without title"
            ],
            "image/png": "[encoded data removed]"
          },
          "metadata": {
            "image/png": {
              "width": 420,
              "height": 420
            }
          }
        }
      ]
    },
    {
      "cell_type": "code",
      "source": [
        "library(ggplot2)\n",
        "ggplot(df, aes(x = gender, y = foot_length, fill = gender)) + \n",
        "  geom_boxplot(alpha = .8) + \n",
        "  labs(title = \"Foot Length Distribution by Gender\") "
      ],
      "metadata": {
        "colab": {
          "base_uri": "https://localhost:8080/",
          "height": 437
        },
        "id": "XAM7PSRQ28fy",
        "outputId": "ea9758b1-e761-4111-e725-86dc4ba5b871"
      },
      "execution_count": 202,
      "outputs": [
        {
          "output_type": "display_data",
          "data": {
            "text/plain": [
              "plot without title"
            ],
            "image/png": "[encoded data removed]"
          },
          "metadata": {
            "image/png": {
              "width": 420,
              "height": 420
            }
          }
        }
      ]
    },
    {
      "cell_type": "code",
      "source": [
        "mean(df$foot_length)"
      ],
      "metadata": {
        "colab": {
          "base_uri": "https://localhost:8080/",
          "height": 34
        },
        "id": "_SyZrF-P3Lyw",
        "outputId": "b2089f85-83b7-43df-80bf-3ec7c4b63b35"
      },
      "execution_count": 203,
      "outputs": [
        {
          "output_type": "display_data",
          "data": {
            "text/html": [
              "219.292929292929"
            ],
            "text/markdown": "219.292929292929",
            "text/latex": "219.292929292929",
            "text/plain": [
              "[1] 219.2929"
            ]
          },
          "metadata": {}
        }
      ]
    },
    {
      "cell_type": "code",
      "source": [
        "max(df$foot_length)"
      ],
      "metadata": {
        "colab": {
          "base_uri": "https://localhost:8080/",
          "height": 34
        },
        "id": "hGID7w9i3bMA",
        "outputId": "eba0771b-d36d-40d3-acc1-9c17480ab23b"
      },
      "execution_count": 204,
      "outputs": [
        {
          "output_type": "display_data",
          "data": {
            "text/html": [
              "278"
            ],
            "text/markdown": "278",
            "text/latex": "278",
            "text/plain": [
              "[1] 278"
            ]
          },
          "metadata": {}
        }
      ]
    },
    {
      "cell_type": "code",
      "source": [
        "min(df$foot_length)"
      ],
      "metadata": {
        "colab": {
          "base_uri": "https://localhost:8080/",
          "height": 34
        },
        "id": "1knt1QFR3che",
        "outputId": "45208b67-3677-4446-e9ed-b1fedae3b284"
      },
      "execution_count": 205,
      "outputs": [
        {
          "output_type": "display_data",
          "data": {
            "text/html": [
              "150"
            ],
            "text/markdown": "150",
            "text/latex": "150",
            "text/plain": [
              "[1] 150"
            ]
          },
          "metadata": {}
        }
      ]
    },
    {
      "cell_type": "code",
      "source": [
        "head(df)"
      ],
      "metadata": {
        "colab": {
          "base_uri": "https://localhost:8080/",
          "height": 286
        },
        "id": "SBVs1NHuYh7e",
        "outputId": "7198f8c2-09de-46e7-d5c1-3c2c91faf100"
      },
      "execution_count": 206,
      "outputs": [
        {
          "output_type": "display_data",
          "data": {
            "text/html": [
              "<table class=\"dataframe\">\n",
              "<caption>A data.frame: 6 × 6</caption>\n",
              "<thead>\n",
              "\t<tr><th></th><th scope=col>age</th><th scope=col>gender</th><th scope=col>foot_length</th><th scope=col>height</th><th scope=col>age_months</th><th scope=col>age_years</th></tr>\n",
              "\t<tr><th></th><th scope=col>&lt;dbl&gt;</th><th scope=col>&lt;chr&gt;</th><th scope=col>&lt;dbl&gt;</th><th scope=col>&lt;dbl&gt;</th><th scope=col>&lt;dbl&gt;</th><th scope=col>&lt;dbl&gt;</th></tr>\n",
              "</thead>\n",
              "<tbody>\n",
              "\t<tr><th scope=row>1</th><td>4.166667</td><td>Female</td><td>163</td><td>103.3</td><td> 2</td><td>4</td></tr>\n",
              "\t<tr><th scope=row>2</th><td>4.250000</td><td>Male  </td><td>163</td><td>103.9</td><td> 3</td><td>4</td></tr>\n",
              "\t<tr><th scope=row>3</th><td>4.416667</td><td>Female</td><td>171</td><td>111.2</td><td> 5</td><td>4</td></tr>\n",
              "\t<tr><th scope=row>4</th><td>3.833333</td><td>Female</td><td>163</td><td> 99.7</td><td>10</td><td>3</td></tr>\n",
              "\t<tr><th scope=row>5</th><td>3.416667</td><td>Female</td><td>211</td><td> 99.7</td><td> 5</td><td>3</td></tr>\n",
              "\t<tr><th scope=row>6</th><td>3.666667</td><td>Male  </td><td>164</td><td> 98.7</td><td> 8</td><td>3</td></tr>\n",
              "</tbody>\n",
              "</table>\n"
            ],
            "text/markdown": "\nA data.frame: 6 × 6\n\n| <!--/--> | age &lt;dbl&gt; | gender &lt;chr&gt; | foot_length &lt;dbl&gt; | height &lt;dbl&gt; | age_months &lt;dbl&gt; | age_years &lt;dbl&gt; |\n|---|---|---|---|---|---|---|\n| 1 | 4.166667 | Female | 163 | 103.3 |  2 | 4 |\n| 2 | 4.250000 | Male   | 163 | 103.9 |  3 | 4 |\n| 3 | 4.416667 | Female | 171 | 111.2 |  5 | 4 |\n| 4 | 3.833333 | Female | 163 |  99.7 | 10 | 3 |\n| 5 | 3.416667 | Female | 211 |  99.7 |  5 | 3 |\n| 6 | 3.666667 | Male   | 164 |  98.7 |  8 | 3 |\n\n",
            "text/latex": "A data.frame: 6 × 6\n\\begin{tabular}{r|llllll}\n  & age & gender & foot\\_length & height & age\\_months & age\\_years\\\\\n  & <dbl> & <chr> & <dbl> & <dbl> & <dbl> & <dbl>\\\\\n\\hline\n\t1 & 4.166667 & Female & 163 & 103.3 &  2 & 4\\\\\n\t2 & 4.250000 & Male   & 163 & 103.9 &  3 & 4\\\\\n\t3 & 4.416667 & Female & 171 & 111.2 &  5 & 4\\\\\n\t4 & 3.833333 & Female & 163 &  99.7 & 10 & 3\\\\\n\t5 & 3.416667 & Female & 211 &  99.7 &  5 & 3\\\\\n\t6 & 3.666667 & Male   & 164 &  98.7 &  8 & 3\\\\\n\\end{tabular}\n",
            "text/plain": [
              "  age      gender foot_length height age_months age_years\n",
              "1 4.166667 Female 163         103.3   2         4        \n",
              "2 4.250000 Male   163         103.9   3         4        \n",
              "3 4.416667 Female 171         111.2   5         4        \n",
              "4 3.833333 Female 163          99.7  10         3        \n",
              "5 3.416667 Female 211          99.7   5         3        \n",
              "6 3.666667 Male   164          98.7   8         3        "
            ]
          },
          "metadata": {}
        }
      ]
    }
  ]
}