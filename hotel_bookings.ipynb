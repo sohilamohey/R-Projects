{
 "cells": [
  {
   "cell_type": "code",
   "execution_count": 1,
   "metadata": {
    "vscode": {
     "languageId": "r"
    }
   },
   "outputs": [
    {
     "name": "stderr",
     "output_type": "stream",
     "text": [
      "Warning message:\n",
      "\"package 'skimr' was built under R version 4.2.3\"\n",
      "Warning message:\n",
      "\"package 'here' was built under R version 4.2.3\"\n",
      "here() starts at E:/Track/R/Google/Clean hotel booking\n",
      "\n",
      "Warning message:\n",
      "\"package 'janitor' was built under R version 4.2.3\"\n",
      "\n",
      "Attaching package: 'janitor'\n",
      "\n",
      "\n",
      "The following objects are masked from 'package:stats':\n",
      "\n",
      "    chisq.test, fisher.test\n",
      "\n",
      "\n",
      "\n",
      "Attaching package: 'dplyr'\n",
      "\n",
      "\n",
      "The following objects are masked from 'package:stats':\n",
      "\n",
      "    filter, lag\n",
      "\n",
      "\n",
      "The following objects are masked from 'package:base':\n",
      "\n",
      "    intersect, setdiff, setequal, union\n",
      "\n",
      "\n",
      "Warning message:\n",
      "\"package 'tidyverse' was built under R version 4.2.3\"\n",
      "── \u001b[1mAttaching core tidyverse packages\u001b[22m ──────────────────────── tidyverse 2.0.0 ──\n",
      "\u001b[32m✔\u001b[39m \u001b[34mforcats  \u001b[39m 1.0.0     \u001b[32m✔\u001b[39m \u001b[34mstringr  \u001b[39m 1.5.0\n",
      "\u001b[32m✔\u001b[39m \u001b[34mggplot2  \u001b[39m 3.4.1     \u001b[32m✔\u001b[39m \u001b[34mtibble   \u001b[39m 3.2.0\n",
      "\u001b[32m✔\u001b[39m \u001b[34mlubridate\u001b[39m 1.9.2     \u001b[32m✔\u001b[39m \u001b[34mtidyr    \u001b[39m 1.3.0\n",
      "\u001b[32m✔\u001b[39m \u001b[34mpurrr    \u001b[39m 1.0.1     \n",
      "── \u001b[1mConflicts\u001b[22m ────────────────────────────────────────── tidyverse_conflicts() ──\n",
      "\u001b[31m✖\u001b[39m \u001b[34mdplyr\u001b[39m::\u001b[32mfilter()\u001b[39m masks \u001b[34mstats\u001b[39m::filter()\n",
      "\u001b[31m✖\u001b[39m \u001b[34mdplyr\u001b[39m::\u001b[32mlag()\u001b[39m    masks \u001b[34mstats\u001b[39m::lag()\n",
      "\u001b[36mℹ\u001b[39m Use the conflicted package (\u001b[3m\u001b[34m<http://conflicted.r-lib.org/>\u001b[39m\u001b[23m) to force all conflicts to become errors\n"
     ]
    }
   ],
   "source": [
    "library(readr)\n",
    "library(skimr)\n",
    "library(here)\n",
    "library(janitor)\n",
    "library(dplyr)\n",
    "library(tidyverse)"
   ]
  },
  {
   "cell_type": "code",
   "execution_count": 2,
   "metadata": {
    "vscode": {
     "languageId": "r"
    }
   },
   "outputs": [
    {
     "name": "stderr",
     "output_type": "stream",
     "text": [
      "\u001b[1mRows: \u001b[22m\u001b[34m119390\u001b[39m \u001b[1mColumns: \u001b[22m\u001b[34m32\u001b[39m\n",
      "\u001b[36m──\u001b[39m \u001b[1mColumn specification\u001b[22m \u001b[36m────────────────────────────────────────────────────────\u001b[39m\n",
      "\u001b[1mDelimiter:\u001b[22m \",\"\n",
      "\u001b[31mchr\u001b[39m  (13): hotel, arrival_date_month, meal, country, market_segment, distrib...\n",
      "\u001b[32mdbl\u001b[39m  (18): is_canceled, lead_time, arrival_date_year, arrival_date_week_numb...\n",
      "\u001b[34mdate\u001b[39m  (1): reservation_status_date\n",
      "\n",
      "\u001b[36mℹ\u001b[39m Use `spec()` to retrieve the full column specification for this data.\n",
      "\u001b[36mℹ\u001b[39m Specify the column types or set `show_col_types = FALSE` to quiet this message.\n"
     ]
    }
   ],
   "source": [
    "# load data\n",
    "data = read_csv('hotel_bookings.csv')"
   ]
  },
  {
   "cell_type": "code",
   "execution_count": 17,
   "metadata": {
    "vscode": {
     "languageId": "r"
    }
   },
   "outputs": [],
   "source": [
    "#View(data)"
   ]
  },
  {
   "cell_type": "code",
   "execution_count": 4,
   "metadata": {
    "vscode": {
     "languageId": "r"
    }
   },
   "outputs": [
    {
     "name": "stdout",
     "output_type": "stream",
     "text": [
      "spc_tbl_ [119,390 × 32] (S3: spec_tbl_df/tbl_df/tbl/data.frame)\n",
      " $ hotel                         : chr [1:119390] \"Resort Hotel\" \"Resort Hotel\" \"Resort Hotel\" \"Resort Hotel\" ...\n",
      " $ is_canceled                   : num [1:119390] 0 0 0 0 0 0 0 0 1 1 ...\n",
      " $ lead_time                     : num [1:119390] 342 737 7 13 14 14 0 9 85 75 ...\n",
      " $ arrival_date_year             : num [1:119390] 2015 2015 2015 2015 2015 ...\n",
      " $ arrival_date_month            : chr [1:119390] \"July\" \"July\" \"July\" \"July\" ...\n",
      " $ arrival_date_week_number      : num [1:119390] 27 27 27 27 27 27 27 27 27 27 ...\n",
      " $ arrival_date_day_of_month     : num [1:119390] 1 1 1 1 1 1 1 1 1 1 ...\n",
      " $ stays_in_weekend_nights       : num [1:119390] 0 0 0 0 0 0 0 0 0 0 ...\n",
      " $ stays_in_week_nights          : num [1:119390] 0 0 1 1 2 2 2 2 3 3 ...\n",
      " $ adults                        : num [1:119390] 2 2 1 1 2 2 2 2 2 2 ...\n",
      " $ children                      : num [1:119390] 0 0 0 0 0 0 0 0 0 0 ...\n",
      " $ babies                        : num [1:119390] 0 0 0 0 0 0 0 0 0 0 ...\n",
      " $ meal                          : chr [1:119390] \"BB\" \"BB\" \"BB\" \"BB\" ...\n",
      " $ country                       : chr [1:119390] \"PRT\" \"PRT\" \"GBR\" \"GBR\" ...\n",
      " $ market_segment                : chr [1:119390] \"Direct\" \"Direct\" \"Direct\" \"Corporate\" ...\n",
      " $ distribution_channel          : chr [1:119390] \"Direct\" \"Direct\" \"Direct\" \"Corporate\" ...\n",
      " $ is_repeated_guest             : num [1:119390] 0 0 0 0 0 0 0 0 0 0 ...\n",
      " $ previous_cancellations        : num [1:119390] 0 0 0 0 0 0 0 0 0 0 ...\n",
      " $ previous_bookings_not_canceled: num [1:119390] 0 0 0 0 0 0 0 0 0 0 ...\n",
      " $ reserved_room_type            : chr [1:119390] \"C\" \"C\" \"A\" \"A\" ...\n",
      " $ assigned_room_type            : chr [1:119390] \"C\" \"C\" \"C\" \"A\" ...\n",
      " $ booking_changes               : num [1:119390] 3 4 0 0 0 0 0 0 0 0 ...\n",
      " $ deposit_type                  : chr [1:119390] \"No Deposit\" \"No Deposit\" \"No Deposit\" \"No Deposit\" ...\n",
      " $ agent                         : chr [1:119390] \"NULL\" \"NULL\" \"NULL\" \"304\" ...\n",
      " $ company                       : chr [1:119390] \"NULL\" \"NULL\" \"NULL\" \"NULL\" ...\n",
      " $ days_in_waiting_list          : num [1:119390] 0 0 0 0 0 0 0 0 0 0 ...\n",
      " $ customer_type                 : chr [1:119390] \"Transient\" \"Transient\" \"Transient\" \"Transient\" ...\n",
      " $ adr                           : num [1:119390] 0 0 75 75 98 ...\n",
      " $ required_car_parking_spaces   : num [1:119390] 0 0 0 0 0 0 0 0 0 0 ...\n",
      " $ total_of_special_requests     : num [1:119390] 0 0 0 0 1 1 0 1 1 0 ...\n",
      " $ reservation_status            : chr [1:119390] \"Check-Out\" \"Check-Out\" \"Check-Out\" \"Check-Out\" ...\n",
      " $ reservation_status_date       : Date[1:119390], format: \"2015-07-01\" \"2015-07-01\" ...\n",
      " - attr(*, \"spec\")=\n",
      "  .. cols(\n",
      "  ..   hotel = \u001b[31mcol_character()\u001b[39m,\n",
      "  ..   is_canceled = \u001b[32mcol_double()\u001b[39m,\n",
      "  ..   lead_time = \u001b[32mcol_double()\u001b[39m,\n",
      "  ..   arrival_date_year = \u001b[32mcol_double()\u001b[39m,\n",
      "  ..   arrival_date_month = \u001b[31mcol_character()\u001b[39m,\n",
      "  ..   arrival_date_week_number = \u001b[32mcol_double()\u001b[39m,\n",
      "  ..   arrival_date_day_of_month = \u001b[32mcol_double()\u001b[39m,\n",
      "  ..   stays_in_weekend_nights = \u001b[32mcol_double()\u001b[39m,\n",
      "  ..   stays_in_week_nights = \u001b[32mcol_double()\u001b[39m,\n",
      "  ..   adults = \u001b[32mcol_double()\u001b[39m,\n",
      "  ..   children = \u001b[32mcol_double()\u001b[39m,\n",
      "  ..   babies = \u001b[32mcol_double()\u001b[39m,\n",
      "  ..   meal = \u001b[31mcol_character()\u001b[39m,\n",
      "  ..   country = \u001b[31mcol_character()\u001b[39m,\n",
      "  ..   market_segment = \u001b[31mcol_character()\u001b[39m,\n",
      "  ..   distribution_channel = \u001b[31mcol_character()\u001b[39m,\n",
      "  ..   is_repeated_guest = \u001b[32mcol_double()\u001b[39m,\n",
      "  ..   previous_cancellations = \u001b[32mcol_double()\u001b[39m,\n",
      "  ..   previous_bookings_not_canceled = \u001b[32mcol_double()\u001b[39m,\n",
      "  ..   reserved_room_type = \u001b[31mcol_character()\u001b[39m,\n",
      "  ..   assigned_room_type = \u001b[31mcol_character()\u001b[39m,\n",
      "  ..   booking_changes = \u001b[32mcol_double()\u001b[39m,\n",
      "  ..   deposit_type = \u001b[31mcol_character()\u001b[39m,\n",
      "  ..   agent = \u001b[31mcol_character()\u001b[39m,\n",
      "  ..   company = \u001b[31mcol_character()\u001b[39m,\n",
      "  ..   days_in_waiting_list = \u001b[32mcol_double()\u001b[39m,\n",
      "  ..   customer_type = \u001b[31mcol_character()\u001b[39m,\n",
      "  ..   adr = \u001b[32mcol_double()\u001b[39m,\n",
      "  ..   required_car_parking_spaces = \u001b[32mcol_double()\u001b[39m,\n",
      "  ..   total_of_special_requests = \u001b[32mcol_double()\u001b[39m,\n",
      "  ..   reservation_status = \u001b[31mcol_character()\u001b[39m,\n",
      "  ..   reservation_status_date = \u001b[34mcol_date(format = \"\")\u001b[39m\n",
      "  .. )\n",
      " - attr(*, \"problems\")=<externalptr> \n"
     ]
    }
   ],
   "source": [
    "str(data)"
   ]
  },
  {
   "cell_type": "code",
   "execution_count": 5,
   "metadata": {
    "vscode": {
     "languageId": "r"
    }
   },
   "outputs": [
    {
     "name": "stdout",
     "output_type": "stream",
     "text": [
      "Rows: 119,390\n",
      "Columns: 32\n",
      "$ hotel                          \u001b[3m\u001b[90m<chr>\u001b[39m\u001b[23m \"Resort Hotel\", \"Resort Hotel\", \"Resort…\n",
      "$ is_canceled                    \u001b[3m\u001b[90m<dbl>\u001b[39m\u001b[23m 0, 0, 0, 0, 0, 0, 0, 0, 1, 1, 1, 0, 0, …\n",
      "$ lead_time                      \u001b[3m\u001b[90m<dbl>\u001b[39m\u001b[23m 342, 737, 7, 13, 14, 14, 0, 9, 85, 75, …\n",
      "$ arrival_date_year              \u001b[3m\u001b[90m<dbl>\u001b[39m\u001b[23m 2015, 2015, 2015, 2015, 2015, 2015, 201…\n",
      "$ arrival_date_month             \u001b[3m\u001b[90m<chr>\u001b[39m\u001b[23m \"July\", \"July\", \"July\", \"July\", \"July\",…\n",
      "$ arrival_date_week_number       \u001b[3m\u001b[90m<dbl>\u001b[39m\u001b[23m 27, 27, 27, 27, 27, 27, 27, 27, 27, 27,…\n",
      "$ arrival_date_day_of_month      \u001b[3m\u001b[90m<dbl>\u001b[39m\u001b[23m 1, 1, 1, 1, 1, 1, 1, 1, 1, 1, 1, 1, 1, …\n",
      "$ stays_in_weekend_nights        \u001b[3m\u001b[90m<dbl>\u001b[39m\u001b[23m 0, 0, 0, 0, 0, 0, 0, 0, 0, 0, 0, 0, 0, …\n",
      "$ stays_in_week_nights           \u001b[3m\u001b[90m<dbl>\u001b[39m\u001b[23m 0, 0, 1, 1, 2, 2, 2, 2, 3, 3, 4, 4, 4, …\n",
      "$ adults                         \u001b[3m\u001b[90m<dbl>\u001b[39m\u001b[23m 2, 2, 1, 1, 2, 2, 2, 2, 2, 2, 2, 2, 2, …\n",
      "$ children                       \u001b[3m\u001b[90m<dbl>\u001b[39m\u001b[23m 0, 0, 0, 0, 0, 0, 0, 0, 0, 0, 0, 0, 0, …\n",
      "$ babies                         \u001b[3m\u001b[90m<dbl>\u001b[39m\u001b[23m 0, 0, 0, 0, 0, 0, 0, 0, 0, 0, 0, 0, 0, …\n",
      "$ meal                           \u001b[3m\u001b[90m<chr>\u001b[39m\u001b[23m \"BB\", \"BB\", \"BB\", \"BB\", \"BB\", \"BB\", \"BB…\n",
      "$ country                        \u001b[3m\u001b[90m<chr>\u001b[39m\u001b[23m \"PRT\", \"PRT\", \"GBR\", \"GBR\", \"GBR\", \"GBR…\n",
      "$ market_segment                 \u001b[3m\u001b[90m<chr>\u001b[39m\u001b[23m \"Direct\", \"Direct\", \"Direct\", \"Corporat…\n",
      "$ distribution_channel           \u001b[3m\u001b[90m<chr>\u001b[39m\u001b[23m \"Direct\", \"Direct\", \"Direct\", \"Corporat…\n",
      "$ is_repeated_guest              \u001b[3m\u001b[90m<dbl>\u001b[39m\u001b[23m 0, 0, 0, 0, 0, 0, 0, 0, 0, 0, 0, 0, 0, …\n",
      "$ previous_cancellations         \u001b[3m\u001b[90m<dbl>\u001b[39m\u001b[23m 0, 0, 0, 0, 0, 0, 0, 0, 0, 0, 0, 0, 0, …\n",
      "$ previous_bookings_not_canceled \u001b[3m\u001b[90m<dbl>\u001b[39m\u001b[23m 0, 0, 0, 0, 0, 0, 0, 0, 0, 0, 0, 0, 0, …\n",
      "$ reserved_room_type             \u001b[3m\u001b[90m<chr>\u001b[39m\u001b[23m \"C\", \"C\", \"A\", \"A\", \"A\", \"A\", \"C\", \"C\",…\n",
      "$ assigned_room_type             \u001b[3m\u001b[90m<chr>\u001b[39m\u001b[23m \"C\", \"C\", \"C\", \"A\", \"A\", \"A\", \"C\", \"C\",…\n",
      "$ booking_changes                \u001b[3m\u001b[90m<dbl>\u001b[39m\u001b[23m 3, 4, 0, 0, 0, 0, 0, 0, 0, 0, 0, 0, 0, …\n",
      "$ deposit_type                   \u001b[3m\u001b[90m<chr>\u001b[39m\u001b[23m \"No Deposit\", \"No Deposit\", \"No Deposit…\n",
      "$ agent                          \u001b[3m\u001b[90m<chr>\u001b[39m\u001b[23m \"NULL\", \"NULL\", \"NULL\", \"304\", \"240\", \"…\n",
      "$ company                        \u001b[3m\u001b[90m<chr>\u001b[39m\u001b[23m \"NULL\", \"NULL\", \"NULL\", \"NULL\", \"NULL\",…\n",
      "$ days_in_waiting_list           \u001b[3m\u001b[90m<dbl>\u001b[39m\u001b[23m 0, 0, 0, 0, 0, 0, 0, 0, 0, 0, 0, 0, 0, …\n",
      "$ customer_type                  \u001b[3m\u001b[90m<chr>\u001b[39m\u001b[23m \"Transient\", \"Transient\", \"Transient\", …\n",
      "$ adr                            \u001b[3m\u001b[90m<dbl>\u001b[39m\u001b[23m 0.00, 0.00, 75.00, 75.00, 98.00, 98.00,…\n",
      "$ required_car_parking_spaces    \u001b[3m\u001b[90m<dbl>\u001b[39m\u001b[23m 0, 0, 0, 0, 0, 0, 0, 0, 0, 0, 0, 0, 0, …\n",
      "$ total_of_special_requests      \u001b[3m\u001b[90m<dbl>\u001b[39m\u001b[23m 0, 0, 0, 0, 1, 1, 0, 1, 1, 0, 0, 0, 3, …\n",
      "$ reservation_status             \u001b[3m\u001b[90m<chr>\u001b[39m\u001b[23m \"Check-Out\", \"Check-Out\", \"Check-Out\", …\n",
      "$ reservation_status_date        \u001b[3m\u001b[90m<date>\u001b[39m\u001b[23m 2015-07-01, 2015-07-01, 2015-07-02, 20…\n"
     ]
    }
   ],
   "source": [
    "glimpse(data)"
   ]
  },
  {
   "cell_type": "code",
   "execution_count": 6,
   "metadata": {
    "vscode": {
     "languageId": "r"
    }
   },
   "outputs": [
    {
     "data": {
      "text/html": [
       "<style>\n",
       ".list-inline {list-style: none; margin:0; padding: 0}\n",
       ".list-inline>li {display: inline-block}\n",
       ".list-inline>li:not(:last-child)::after {content: \"\\00b7\"; padding: 0 .5ex}\n",
       "</style>\n",
       "<ol class=list-inline><li>'hotel'</li><li>'is_canceled'</li><li>'lead_time'</li><li>'arrival_date_year'</li><li>'arrival_date_month'</li><li>'arrival_date_week_number'</li><li>'arrival_date_day_of_month'</li><li>'stays_in_weekend_nights'</li><li>'stays_in_week_nights'</li><li>'adults'</li><li>'children'</li><li>'babies'</li><li>'meal'</li><li>'country'</li><li>'market_segment'</li><li>'distribution_channel'</li><li>'is_repeated_guest'</li><li>'previous_cancellations'</li><li>'previous_bookings_not_canceled'</li><li>'reserved_room_type'</li><li>'assigned_room_type'</li><li>'booking_changes'</li><li>'deposit_type'</li><li>'agent'</li><li>'company'</li><li>'days_in_waiting_list'</li><li>'customer_type'</li><li>'adr'</li><li>'required_car_parking_spaces'</li><li>'total_of_special_requests'</li><li>'reservation_status'</li><li>'reservation_status_date'</li></ol>\n"
      ],
      "text/latex": [
       "\\begin{enumerate*}\n",
       "\\item 'hotel'\n",
       "\\item 'is\\_canceled'\n",
       "\\item 'lead\\_time'\n",
       "\\item 'arrival\\_date\\_year'\n",
       "\\item 'arrival\\_date\\_month'\n",
       "\\item 'arrival\\_date\\_week\\_number'\n",
       "\\item 'arrival\\_date\\_day\\_of\\_month'\n",
       "\\item 'stays\\_in\\_weekend\\_nights'\n",
       "\\item 'stays\\_in\\_week\\_nights'\n",
       "\\item 'adults'\n",
       "\\item 'children'\n",
       "\\item 'babies'\n",
       "\\item 'meal'\n",
       "\\item 'country'\n",
       "\\item 'market\\_segment'\n",
       "\\item 'distribution\\_channel'\n",
       "\\item 'is\\_repeated\\_guest'\n",
       "\\item 'previous\\_cancellations'\n",
       "\\item 'previous\\_bookings\\_not\\_canceled'\n",
       "\\item 'reserved\\_room\\_type'\n",
       "\\item 'assigned\\_room\\_type'\n",
       "\\item 'booking\\_changes'\n",
       "\\item 'deposit\\_type'\n",
       "\\item 'agent'\n",
       "\\item 'company'\n",
       "\\item 'days\\_in\\_waiting\\_list'\n",
       "\\item 'customer\\_type'\n",
       "\\item 'adr'\n",
       "\\item 'required\\_car\\_parking\\_spaces'\n",
       "\\item 'total\\_of\\_special\\_requests'\n",
       "\\item 'reservation\\_status'\n",
       "\\item 'reservation\\_status\\_date'\n",
       "\\end{enumerate*}\n"
      ],
      "text/markdown": [
       "1. 'hotel'\n",
       "2. 'is_canceled'\n",
       "3. 'lead_time'\n",
       "4. 'arrival_date_year'\n",
       "5. 'arrival_date_month'\n",
       "6. 'arrival_date_week_number'\n",
       "7. 'arrival_date_day_of_month'\n",
       "8. 'stays_in_weekend_nights'\n",
       "9. 'stays_in_week_nights'\n",
       "10. 'adults'\n",
       "11. 'children'\n",
       "12. 'babies'\n",
       "13. 'meal'\n",
       "14. 'country'\n",
       "15. 'market_segment'\n",
       "16. 'distribution_channel'\n",
       "17. 'is_repeated_guest'\n",
       "18. 'previous_cancellations'\n",
       "19. 'previous_bookings_not_canceled'\n",
       "20. 'reserved_room_type'\n",
       "21. 'assigned_room_type'\n",
       "22. 'booking_changes'\n",
       "23. 'deposit_type'\n",
       "24. 'agent'\n",
       "25. 'company'\n",
       "26. 'days_in_waiting_list'\n",
       "27. 'customer_type'\n",
       "28. 'adr'\n",
       "29. 'required_car_parking_spaces'\n",
       "30. 'total_of_special_requests'\n",
       "31. 'reservation_status'\n",
       "32. 'reservation_status_date'\n",
       "\n",
       "\n"
      ],
      "text/plain": [
       " [1] \"hotel\"                          \"is_canceled\"                   \n",
       " [3] \"lead_time\"                      \"arrival_date_year\"             \n",
       " [5] \"arrival_date_month\"             \"arrival_date_week_number\"      \n",
       " [7] \"arrival_date_day_of_month\"      \"stays_in_weekend_nights\"       \n",
       " [9] \"stays_in_week_nights\"           \"adults\"                        \n",
       "[11] \"children\"                       \"babies\"                        \n",
       "[13] \"meal\"                           \"country\"                       \n",
       "[15] \"market_segment\"                 \"distribution_channel\"          \n",
       "[17] \"is_repeated_guest\"              \"previous_cancellations\"        \n",
       "[19] \"previous_bookings_not_canceled\" \"reserved_room_type\"            \n",
       "[21] \"assigned_room_type\"             \"booking_changes\"               \n",
       "[23] \"deposit_type\"                   \"agent\"                         \n",
       "[25] \"company\"                        \"days_in_waiting_list\"          \n",
       "[27] \"customer_type\"                  \"adr\"                           \n",
       "[29] \"required_car_parking_spaces\"    \"total_of_special_requests\"     \n",
       "[31] \"reservation_status\"             \"reservation_status_date\"       "
      ]
     },
     "metadata": {},
     "output_type": "display_data"
    }
   ],
   "source": [
    "colnames(data)"
   ]
  },
  {
   "cell_type": "code",
   "execution_count": 7,
   "metadata": {
    "vscode": {
     "languageId": "r"
    }
   },
   "outputs": [
    {
     "name": "stdout",
     "output_type": "stream",
     "text": [
      "── Data Summary ────────────────────────\n",
      "                           Values\n",
      "Name                       data  \n",
      "Number of rows             119390\n",
      "Number of columns          32    \n",
      "_______________________          \n",
      "Column type frequency:           \n",
      "  character                13    \n",
      "  Date                     1     \n",
      "  numeric                  18    \n",
      "________________________         \n",
      "Group variables            None  \n",
      "\n",
      "── Variable type: character ────────────────────────────────────────────────────\n",
      "   skim_variable        n_missing complete_rate min max empty n_unique\n",
      "\u001b[90m 1\u001b[39m hotel                        0             1  10  12     0        2\n",
      "\u001b[90m 2\u001b[39m arrival_date_month           0             1   3   9     0       12\n",
      "\u001b[90m 3\u001b[39m meal                         0             1   2   9     0        5\n",
      "\u001b[90m 4\u001b[39m country                      0             1   2   4     0      178\n",
      "\u001b[90m 5\u001b[39m market_segment               0             1   6  13     0        8\n",
      "\u001b[90m 6\u001b[39m distribution_channel         0             1   3   9     0        5\n",
      "\u001b[90m 7\u001b[39m reserved_room_type           0             1   1   1     0       10\n",
      "\u001b[90m 8\u001b[39m assigned_room_type           0             1   1   1     0       12\n",
      "\u001b[90m 9\u001b[39m deposit_type                 0             1  10  10     0        3\n",
      "\u001b[90m10\u001b[39m agent                        0             1   1   4     0      334\n",
      "\u001b[90m11\u001b[39m company                      0             1   1   4     0      353\n",
      "\u001b[90m12\u001b[39m customer_type                0             1   5  15     0        4\n",
      "\u001b[90m13\u001b[39m reservation_status           0             1   7   9     0        3\n",
      "   whitespace\n",
      "\u001b[90m 1\u001b[39m          0\n",
      "\u001b[90m 2\u001b[39m          0\n",
      "\u001b[90m 3\u001b[39m          0\n",
      "\u001b[90m 4\u001b[39m          0\n",
      "\u001b[90m 5\u001b[39m          0\n",
      "\u001b[90m 6\u001b[39m          0\n",
      "\u001b[90m 7\u001b[39m          0\n",
      "\u001b[90m 8\u001b[39m          0\n",
      "\u001b[90m 9\u001b[39m          0\n",
      "\u001b[90m10\u001b[39m          0\n",
      "\u001b[90m11\u001b[39m          0\n",
      "\u001b[90m12\u001b[39m          0\n",
      "\u001b[90m13\u001b[39m          0\n",
      "\n",
      "── Variable type: Date ─────────────────────────────────────────────────────────\n",
      "  skim_variable           n_missing complete_rate min        max       \n",
      "\u001b[90m1\u001b[39m reservation_status_date         0             1 2014-10-17 2017-09-14\n",
      "  median     n_unique\n",
      "\u001b[90m1\u001b[39m 2016-08-07      926\n",
      "\n",
      "── Variable type: numeric ──────────────────────────────────────────────────────\n",
      "   skim_variable                  n_missing complete_rate       mean       sd\n",
      "\u001b[90m 1\u001b[39m is_canceled                            0          1       0.370     0.483 \n",
      "\u001b[90m 2\u001b[39m lead_time                              0          1     104.      107.    \n",
      "\u001b[90m 3\u001b[39m arrival_date_year                      0          1    \u001b[4m2\u001b[24m016.        0.707 \n",
      "\u001b[90m 4\u001b[39m arrival_date_week_number               0          1      27.2      13.6   \n",
      "\u001b[90m 5\u001b[39m arrival_date_day_of_month              0          1      15.8       8.78  \n",
      "\u001b[90m 6\u001b[39m stays_in_weekend_nights                0          1       0.928     0.999 \n",
      "\u001b[90m 7\u001b[39m stays_in_week_nights                   0          1       2.50      1.91  \n",
      "\u001b[90m 8\u001b[39m adults                                 0          1       1.86      0.579 \n",
      "\u001b[90m 9\u001b[39m children                               4          1.00    0.104     0.399 \n",
      "\u001b[90m10\u001b[39m babies                                 0          1       0.007\u001b[4m9\u001b[24m\u001b[4m5\u001b[24m   0.097\u001b[4m4\u001b[24m\n",
      "\u001b[90m11\u001b[39m is_repeated_guest                      0          1       0.031\u001b[4m9\u001b[24m    0.176 \n",
      "\u001b[90m12\u001b[39m previous_cancellations                 0          1       0.087\u001b[4m1\u001b[24m    0.844 \n",
      "\u001b[90m13\u001b[39m previous_bookings_not_canceled         0          1       0.137     1.50  \n",
      "\u001b[90m14\u001b[39m booking_changes                        0          1       0.221     0.652 \n",
      "\u001b[90m15\u001b[39m days_in_waiting_list                   0          1       2.32     17.6   \n",
      "\u001b[90m16\u001b[39m adr                                    0          1     102.       50.5   \n",
      "\u001b[90m17\u001b[39m required_car_parking_spaces            0          1       0.062\u001b[4m5\u001b[24m    0.245 \n",
      "\u001b[90m18\u001b[39m total_of_special_requests              0          1       0.571     0.793 \n",
      "        p0    p25    p50  p75 p100\n",
      "\u001b[90m 1\u001b[39m    0       0      0      1    1\n",
      "\u001b[90m 2\u001b[39m    0      18     69    160  737\n",
      "\u001b[90m 3\u001b[39m \u001b[4m2\u001b[24m015    \u001b[4m2\u001b[24m016   \u001b[4m2\u001b[24m016   \u001b[4m2\u001b[24m017 \u001b[4m2\u001b[24m017\n",
      "\u001b[90m 4\u001b[39m    1      16     28     38   53\n",
      "\u001b[90m 5\u001b[39m    1       8     16     23   31\n",
      "\u001b[90m 6\u001b[39m    0       0      1      2   19\n",
      "\u001b[90m 7\u001b[39m    0       1      2      3   50\n",
      "\u001b[90m 8\u001b[39m    0       2      2      2   55\n",
      "\u001b[90m 9\u001b[39m    0       0      0      0   10\n",
      "\u001b[90m10\u001b[39m    0       0      0      0   10\n",
      "\u001b[90m11\u001b[39m    0       0      0      0    1\n",
      "\u001b[90m12\u001b[39m    0       0      0      0   26\n",
      "\u001b[90m13\u001b[39m    0       0      0      0   72\n",
      "\u001b[90m14\u001b[39m    0       0      0      0   21\n",
      "\u001b[90m15\u001b[39m    0       0      0      0  391\n",
      "\u001b[90m16\u001b[39m   -\u001b[31m6\u001b[39m\u001b[31m.\u001b[39m\u001b[31m38\u001b[39m   69.3   94.6  126 \u001b[4m5\u001b[24m400\n",
      "\u001b[90m17\u001b[39m    0       0      0      0    8\n",
      "\u001b[90m18\u001b[39m    0       0      0      1    5\n"
     ]
    },
    {
     "name": "stderr",
     "output_type": "stream",
     "text": [
      "Warning message in is.null(text_repr) || nchar(text_repr) == 0L:\n",
      "\"'length(x) = 20 > 1' in coercion to 'logical(1)'\"\n"
     ]
    },
    {
     "data": {
      "text/html": [
       "<table class=\"dataframe\">\n",
       "<caption>A skim_df: 32 × 20</caption>\n",
       "<thead>\n",
       "\t<tr><th></th><th scope=col>skim_type</th><th scope=col>skim_variable</th><th scope=col>n_missing</th><th scope=col>complete_rate</th><th scope=col>Date.min</th><th scope=col>Date.max</th><th scope=col>Date.median</th><th scope=col>Date.n_unique</th><th scope=col>character.min</th><th scope=col>character.max</th><th scope=col>character.empty</th><th scope=col>character.n_unique</th><th scope=col>character.whitespace</th><th scope=col>numeric.mean</th><th scope=col>numeric.sd</th><th scope=col>numeric.p0</th><th scope=col>numeric.p25</th><th scope=col>numeric.p50</th><th scope=col>numeric.p75</th><th scope=col>numeric.p100</th></tr>\n",
       "\t<tr><th></th><th scope=col>&lt;chr&gt;</th><th scope=col>&lt;chr&gt;</th><th scope=col>&lt;int&gt;</th><th scope=col>&lt;dbl&gt;</th><th scope=col>&lt;date&gt;</th><th scope=col>&lt;date&gt;</th><th scope=col>&lt;date&gt;</th><th scope=col>&lt;int&gt;</th><th scope=col>&lt;int&gt;</th><th scope=col>&lt;int&gt;</th><th scope=col>&lt;int&gt;</th><th scope=col>&lt;int&gt;</th><th scope=col>&lt;int&gt;</th><th scope=col>&lt;dbl&gt;</th><th scope=col>&lt;dbl&gt;</th><th scope=col>&lt;dbl&gt;</th><th scope=col>&lt;dbl&gt;</th><th scope=col>&lt;dbl&gt;</th><th scope=col>&lt;dbl&gt;</th><th scope=col>&lt;dbl&gt;</th></tr>\n",
       "</thead>\n",
       "<tbody>\n",
       "\t<tr><th scope=row>1</th><td>Date     </td><td>reservation_status_date       </td><td>0</td><td>1.0000000</td><td>2014-10-17</td><td>2017-09-14</td><td>2016-08-07</td><td>926</td><td>NA</td><td>NA</td><td>NA</td><td> NA</td><td>NA</td><td>          NA</td><td>          NA</td><td>     NA</td><td>     NA</td><td>      NA</td><td>  NA</td><td>  NA</td></tr>\n",
       "\t<tr><th scope=row>2</th><td>character</td><td>hotel                         </td><td>0</td><td>1.0000000</td><td>NA</td><td>NA</td><td>NA</td><td> NA</td><td>10</td><td>12</td><td> 0</td><td>  2</td><td> 0</td><td>          NA</td><td>          NA</td><td>     NA</td><td>     NA</td><td>      NA</td><td>  NA</td><td>  NA</td></tr>\n",
       "\t<tr><th scope=row>3</th><td>character</td><td>arrival_date_month            </td><td>0</td><td>1.0000000</td><td>NA</td><td>NA</td><td>NA</td><td> NA</td><td> 3</td><td> 9</td><td> 0</td><td> 12</td><td> 0</td><td>          NA</td><td>          NA</td><td>     NA</td><td>     NA</td><td>      NA</td><td>  NA</td><td>  NA</td></tr>\n",
       "\t<tr><th scope=row>4</th><td>character</td><td>meal                          </td><td>0</td><td>1.0000000</td><td>NA</td><td>NA</td><td>NA</td><td> NA</td><td> 2</td><td> 9</td><td> 0</td><td>  5</td><td> 0</td><td>          NA</td><td>          NA</td><td>     NA</td><td>     NA</td><td>      NA</td><td>  NA</td><td>  NA</td></tr>\n",
       "\t<tr><th scope=row>5</th><td>character</td><td>country                       </td><td>0</td><td>1.0000000</td><td>NA</td><td>NA</td><td>NA</td><td> NA</td><td> 2</td><td> 4</td><td> 0</td><td>178</td><td> 0</td><td>          NA</td><td>          NA</td><td>     NA</td><td>     NA</td><td>      NA</td><td>  NA</td><td>  NA</td></tr>\n",
       "\t<tr><th scope=row>6</th><td>character</td><td>market_segment                </td><td>0</td><td>1.0000000</td><td>NA</td><td>NA</td><td>NA</td><td> NA</td><td> 6</td><td>13</td><td> 0</td><td>  8</td><td> 0</td><td>          NA</td><td>          NA</td><td>     NA</td><td>     NA</td><td>      NA</td><td>  NA</td><td>  NA</td></tr>\n",
       "\t<tr><th scope=row>7</th><td>character</td><td>distribution_channel          </td><td>0</td><td>1.0000000</td><td>NA</td><td>NA</td><td>NA</td><td> NA</td><td> 3</td><td> 9</td><td> 0</td><td>  5</td><td> 0</td><td>          NA</td><td>          NA</td><td>     NA</td><td>     NA</td><td>      NA</td><td>  NA</td><td>  NA</td></tr>\n",
       "\t<tr><th scope=row>8</th><td>character</td><td>reserved_room_type            </td><td>0</td><td>1.0000000</td><td>NA</td><td>NA</td><td>NA</td><td> NA</td><td> 1</td><td> 1</td><td> 0</td><td> 10</td><td> 0</td><td>          NA</td><td>          NA</td><td>     NA</td><td>     NA</td><td>      NA</td><td>  NA</td><td>  NA</td></tr>\n",
       "\t<tr><th scope=row>9</th><td>character</td><td>assigned_room_type            </td><td>0</td><td>1.0000000</td><td>NA</td><td>NA</td><td>NA</td><td> NA</td><td> 1</td><td> 1</td><td> 0</td><td> 12</td><td> 0</td><td>          NA</td><td>          NA</td><td>     NA</td><td>     NA</td><td>      NA</td><td>  NA</td><td>  NA</td></tr>\n",
       "\t<tr><th scope=row>10</th><td>character</td><td>deposit_type                  </td><td>0</td><td>1.0000000</td><td>NA</td><td>NA</td><td>NA</td><td> NA</td><td>10</td><td>10</td><td> 0</td><td>  3</td><td> 0</td><td>          NA</td><td>          NA</td><td>     NA</td><td>     NA</td><td>      NA</td><td>  NA</td><td>  NA</td></tr>\n",
       "\t<tr><th scope=row>11</th><td>character</td><td>agent                         </td><td>0</td><td>1.0000000</td><td>NA</td><td>NA</td><td>NA</td><td> NA</td><td> 1</td><td> 4</td><td> 0</td><td>334</td><td> 0</td><td>          NA</td><td>          NA</td><td>     NA</td><td>     NA</td><td>      NA</td><td>  NA</td><td>  NA</td></tr>\n",
       "\t<tr><th scope=row>12</th><td>character</td><td>company                       </td><td>0</td><td>1.0000000</td><td>NA</td><td>NA</td><td>NA</td><td> NA</td><td> 1</td><td> 4</td><td> 0</td><td>353</td><td> 0</td><td>          NA</td><td>          NA</td><td>     NA</td><td>     NA</td><td>      NA</td><td>  NA</td><td>  NA</td></tr>\n",
       "\t<tr><th scope=row>13</th><td>character</td><td>customer_type                 </td><td>0</td><td>1.0000000</td><td>NA</td><td>NA</td><td>NA</td><td> NA</td><td> 5</td><td>15</td><td> 0</td><td>  4</td><td> 0</td><td>          NA</td><td>          NA</td><td>     NA</td><td>     NA</td><td>      NA</td><td>  NA</td><td>  NA</td></tr>\n",
       "\t<tr><th scope=row>14</th><td>character</td><td>reservation_status            </td><td>0</td><td>1.0000000</td><td>NA</td><td>NA</td><td>NA</td><td> NA</td><td> 7</td><td> 9</td><td> 0</td><td>  3</td><td> 0</td><td>          NA</td><td>          NA</td><td>     NA</td><td>     NA</td><td>      NA</td><td>  NA</td><td>  NA</td></tr>\n",
       "\t<tr><th scope=row>15</th><td>numeric  </td><td>is_canceled                   </td><td>0</td><td>1.0000000</td><td>NA</td><td>NA</td><td>NA</td><td> NA</td><td>NA</td><td>NA</td><td>NA</td><td> NA</td><td>NA</td><td>3.704163e-01</td><td>  0.48291823</td><td>   0.00</td><td>   0.00</td><td>   0.000</td><td>   1</td><td>   1</td></tr>\n",
       "\t<tr><th scope=row>16</th><td>numeric  </td><td>lead_time                     </td><td>0</td><td>1.0000000</td><td>NA</td><td>NA</td><td>NA</td><td> NA</td><td>NA</td><td>NA</td><td>NA</td><td> NA</td><td>NA</td><td>1.040114e+02</td><td>106.86309705</td><td>   0.00</td><td>  18.00</td><td>  69.000</td><td> 160</td><td> 737</td></tr>\n",
       "\t<tr><th scope=row>17</th><td>numeric  </td><td>arrival_date_year             </td><td>0</td><td>1.0000000</td><td>NA</td><td>NA</td><td>NA</td><td> NA</td><td>NA</td><td>NA</td><td>NA</td><td> NA</td><td>NA</td><td>2.016157e+03</td><td>  0.70747594</td><td>2015.00</td><td>2016.00</td><td>2016.000</td><td>2017</td><td>2017</td></tr>\n",
       "\t<tr><th scope=row>18</th><td>numeric  </td><td>arrival_date_week_number      </td><td>0</td><td>1.0000000</td><td>NA</td><td>NA</td><td>NA</td><td> NA</td><td>NA</td><td>NA</td><td>NA</td><td> NA</td><td>NA</td><td>2.716517e+01</td><td> 13.60513836</td><td>   1.00</td><td>  16.00</td><td>  28.000</td><td>  38</td><td>  53</td></tr>\n",
       "\t<tr><th scope=row>19</th><td>numeric  </td><td>arrival_date_day_of_month     </td><td>0</td><td>1.0000000</td><td>NA</td><td>NA</td><td>NA</td><td> NA</td><td>NA</td><td>NA</td><td>NA</td><td> NA</td><td>NA</td><td>1.579824e+01</td><td>  8.78082947</td><td>   1.00</td><td>   8.00</td><td>  16.000</td><td>  23</td><td>  31</td></tr>\n",
       "\t<tr><th scope=row>20</th><td>numeric  </td><td>stays_in_weekend_nights       </td><td>0</td><td>1.0000000</td><td>NA</td><td>NA</td><td>NA</td><td> NA</td><td>NA</td><td>NA</td><td>NA</td><td> NA</td><td>NA</td><td>9.275986e-01</td><td>  0.99861349</td><td>   0.00</td><td>   0.00</td><td>   1.000</td><td>   2</td><td>  19</td></tr>\n",
       "\t<tr><th scope=row>21</th><td>numeric  </td><td>stays_in_week_nights          </td><td>0</td><td>1.0000000</td><td>NA</td><td>NA</td><td>NA</td><td> NA</td><td>NA</td><td>NA</td><td>NA</td><td> NA</td><td>NA</td><td>2.500302e+00</td><td>  1.90828562</td><td>   0.00</td><td>   1.00</td><td>   2.000</td><td>   3</td><td>  50</td></tr>\n",
       "\t<tr><th scope=row>22</th><td>numeric  </td><td>adults                        </td><td>0</td><td>1.0000000</td><td>NA</td><td>NA</td><td>NA</td><td> NA</td><td>NA</td><td>NA</td><td>NA</td><td> NA</td><td>NA</td><td>1.856403e+00</td><td>  0.57926100</td><td>   0.00</td><td>   2.00</td><td>   2.000</td><td>   2</td><td>  55</td></tr>\n",
       "\t<tr><th scope=row>23</th><td>numeric  </td><td>children                      </td><td>4</td><td>0.9999665</td><td>NA</td><td>NA</td><td>NA</td><td> NA</td><td>NA</td><td>NA</td><td>NA</td><td> NA</td><td>NA</td><td>1.038899e-01</td><td>  0.39856144</td><td>   0.00</td><td>   0.00</td><td>   0.000</td><td>   0</td><td>  10</td></tr>\n",
       "\t<tr><th scope=row>24</th><td>numeric  </td><td>babies                        </td><td>0</td><td>1.0000000</td><td>NA</td><td>NA</td><td>NA</td><td> NA</td><td>NA</td><td>NA</td><td>NA</td><td> NA</td><td>NA</td><td>7.948739e-03</td><td>  0.09743619</td><td>   0.00</td><td>   0.00</td><td>   0.000</td><td>   0</td><td>  10</td></tr>\n",
       "\t<tr><th scope=row>25</th><td>numeric  </td><td>is_repeated_guest             </td><td>0</td><td>1.0000000</td><td>NA</td><td>NA</td><td>NA</td><td> NA</td><td>NA</td><td>NA</td><td>NA</td><td> NA</td><td>NA</td><td>3.191222e-02</td><td>  0.17576715</td><td>   0.00</td><td>   0.00</td><td>   0.000</td><td>   0</td><td>   1</td></tr>\n",
       "\t<tr><th scope=row>26</th><td>numeric  </td><td>previous_cancellations        </td><td>0</td><td>1.0000000</td><td>NA</td><td>NA</td><td>NA</td><td> NA</td><td>NA</td><td>NA</td><td>NA</td><td> NA</td><td>NA</td><td>8.711785e-02</td><td>  0.84433638</td><td>   0.00</td><td>   0.00</td><td>   0.000</td><td>   0</td><td>  26</td></tr>\n",
       "\t<tr><th scope=row>27</th><td>numeric  </td><td>previous_bookings_not_canceled</td><td>0</td><td>1.0000000</td><td>NA</td><td>NA</td><td>NA</td><td> NA</td><td>NA</td><td>NA</td><td>NA</td><td> NA</td><td>NA</td><td>1.370969e-01</td><td>  1.49743685</td><td>   0.00</td><td>   0.00</td><td>   0.000</td><td>   0</td><td>  72</td></tr>\n",
       "\t<tr><th scope=row>28</th><td>numeric  </td><td>booking_changes               </td><td>0</td><td>1.0000000</td><td>NA</td><td>NA</td><td>NA</td><td> NA</td><td>NA</td><td>NA</td><td>NA</td><td> NA</td><td>NA</td><td>2.211240e-01</td><td>  0.65230557</td><td>   0.00</td><td>   0.00</td><td>   0.000</td><td>   0</td><td>  21</td></tr>\n",
       "\t<tr><th scope=row>29</th><td>numeric  </td><td>days_in_waiting_list          </td><td>0</td><td>1.0000000</td><td>NA</td><td>NA</td><td>NA</td><td> NA</td><td>NA</td><td>NA</td><td>NA</td><td> NA</td><td>NA</td><td>2.321149e+00</td><td> 17.59472088</td><td>   0.00</td><td>   0.00</td><td>   0.000</td><td>   0</td><td> 391</td></tr>\n",
       "\t<tr><th scope=row>30</th><td>numeric  </td><td>adr                           </td><td>0</td><td>1.0000000</td><td>NA</td><td>NA</td><td>NA</td><td> NA</td><td>NA</td><td>NA</td><td>NA</td><td> NA</td><td>NA</td><td>1.018311e+02</td><td> 50.53579029</td><td>  -6.38</td><td>  69.29</td><td>  94.575</td><td> 126</td><td>5400</td></tr>\n",
       "\t<tr><th scope=row>31</th><td>numeric  </td><td>required_car_parking_spaces   </td><td>0</td><td>1.0000000</td><td>NA</td><td>NA</td><td>NA</td><td> NA</td><td>NA</td><td>NA</td><td>NA</td><td> NA</td><td>NA</td><td>6.251780e-02</td><td>  0.24529115</td><td>   0.00</td><td>   0.00</td><td>   0.000</td><td>   0</td><td>   8</td></tr>\n",
       "\t<tr><th scope=row>32</th><td>numeric  </td><td>total_of_special_requests     </td><td>0</td><td>1.0000000</td><td>NA</td><td>NA</td><td>NA</td><td> NA</td><td>NA</td><td>NA</td><td>NA</td><td> NA</td><td>NA</td><td>5.713628e-01</td><td>  0.79279842</td><td>   0.00</td><td>   0.00</td><td>   0.000</td><td>   1</td><td>   5</td></tr>\n",
       "</tbody>\n",
       "</table>\n"
      ],
      "text/latex": [
       "A skim\\_df: 32 × 20\n",
       "\\begin{tabular}{r|llllllllllllllllllll}\n",
       "  & skim\\_type & skim\\_variable & n\\_missing & complete\\_rate & Date.min & Date.max & Date.median & Date.n\\_unique & character.min & character.max & character.empty & character.n\\_unique & character.whitespace & numeric.mean & numeric.sd & numeric.p0 & numeric.p25 & numeric.p50 & numeric.p75 & numeric.p100\\\\\n",
       "  & <chr> & <chr> & <int> & <dbl> & <date> & <date> & <date> & <int> & <int> & <int> & <int> & <int> & <int> & <dbl> & <dbl> & <dbl> & <dbl> & <dbl> & <dbl> & <dbl>\\\\\n",
       "\\hline\n",
       "\t1 & Date      & reservation\\_status\\_date        & 0 & 1.0000000 & 2014-10-17 & 2017-09-14 & 2016-08-07 & 926 & NA & NA & NA &  NA & NA &           NA &           NA &      NA &      NA &       NA &   NA &   NA\\\\\n",
       "\t2 & character & hotel                          & 0 & 1.0000000 & NA & NA & NA &  NA & 10 & 12 &  0 &   2 &  0 &           NA &           NA &      NA &      NA &       NA &   NA &   NA\\\\\n",
       "\t3 & character & arrival\\_date\\_month             & 0 & 1.0000000 & NA & NA & NA &  NA &  3 &  9 &  0 &  12 &  0 &           NA &           NA &      NA &      NA &       NA &   NA &   NA\\\\\n",
       "\t4 & character & meal                           & 0 & 1.0000000 & NA & NA & NA &  NA &  2 &  9 &  0 &   5 &  0 &           NA &           NA &      NA &      NA &       NA &   NA &   NA\\\\\n",
       "\t5 & character & country                        & 0 & 1.0000000 & NA & NA & NA &  NA &  2 &  4 &  0 & 178 &  0 &           NA &           NA &      NA &      NA &       NA &   NA &   NA\\\\\n",
       "\t6 & character & market\\_segment                 & 0 & 1.0000000 & NA & NA & NA &  NA &  6 & 13 &  0 &   8 &  0 &           NA &           NA &      NA &      NA &       NA &   NA &   NA\\\\\n",
       "\t7 & character & distribution\\_channel           & 0 & 1.0000000 & NA & NA & NA &  NA &  3 &  9 &  0 &   5 &  0 &           NA &           NA &      NA &      NA &       NA &   NA &   NA\\\\\n",
       "\t8 & character & reserved\\_room\\_type             & 0 & 1.0000000 & NA & NA & NA &  NA &  1 &  1 &  0 &  10 &  0 &           NA &           NA &      NA &      NA &       NA &   NA &   NA\\\\\n",
       "\t9 & character & assigned\\_room\\_type             & 0 & 1.0000000 & NA & NA & NA &  NA &  1 &  1 &  0 &  12 &  0 &           NA &           NA &      NA &      NA &       NA &   NA &   NA\\\\\n",
       "\t10 & character & deposit\\_type                   & 0 & 1.0000000 & NA & NA & NA &  NA & 10 & 10 &  0 &   3 &  0 &           NA &           NA &      NA &      NA &       NA &   NA &   NA\\\\\n",
       "\t11 & character & agent                          & 0 & 1.0000000 & NA & NA & NA &  NA &  1 &  4 &  0 & 334 &  0 &           NA &           NA &      NA &      NA &       NA &   NA &   NA\\\\\n",
       "\t12 & character & company                        & 0 & 1.0000000 & NA & NA & NA &  NA &  1 &  4 &  0 & 353 &  0 &           NA &           NA &      NA &      NA &       NA &   NA &   NA\\\\\n",
       "\t13 & character & customer\\_type                  & 0 & 1.0000000 & NA & NA & NA &  NA &  5 & 15 &  0 &   4 &  0 &           NA &           NA &      NA &      NA &       NA &   NA &   NA\\\\\n",
       "\t14 & character & reservation\\_status             & 0 & 1.0000000 & NA & NA & NA &  NA &  7 &  9 &  0 &   3 &  0 &           NA &           NA &      NA &      NA &       NA &   NA &   NA\\\\\n",
       "\t15 & numeric   & is\\_canceled                    & 0 & 1.0000000 & NA & NA & NA &  NA & NA & NA & NA &  NA & NA & 3.704163e-01 &   0.48291823 &    0.00 &    0.00 &    0.000 &    1 &    1\\\\\n",
       "\t16 & numeric   & lead\\_time                      & 0 & 1.0000000 & NA & NA & NA &  NA & NA & NA & NA &  NA & NA & 1.040114e+02 & 106.86309705 &    0.00 &   18.00 &   69.000 &  160 &  737\\\\\n",
       "\t17 & numeric   & arrival\\_date\\_year              & 0 & 1.0000000 & NA & NA & NA &  NA & NA & NA & NA &  NA & NA & 2.016157e+03 &   0.70747594 & 2015.00 & 2016.00 & 2016.000 & 2017 & 2017\\\\\n",
       "\t18 & numeric   & arrival\\_date\\_week\\_number       & 0 & 1.0000000 & NA & NA & NA &  NA & NA & NA & NA &  NA & NA & 2.716517e+01 &  13.60513836 &    1.00 &   16.00 &   28.000 &   38 &   53\\\\\n",
       "\t19 & numeric   & arrival\\_date\\_day\\_of\\_month      & 0 & 1.0000000 & NA & NA & NA &  NA & NA & NA & NA &  NA & NA & 1.579824e+01 &   8.78082947 &    1.00 &    8.00 &   16.000 &   23 &   31\\\\\n",
       "\t20 & numeric   & stays\\_in\\_weekend\\_nights        & 0 & 1.0000000 & NA & NA & NA &  NA & NA & NA & NA &  NA & NA & 9.275986e-01 &   0.99861349 &    0.00 &    0.00 &    1.000 &    2 &   19\\\\\n",
       "\t21 & numeric   & stays\\_in\\_week\\_nights           & 0 & 1.0000000 & NA & NA & NA &  NA & NA & NA & NA &  NA & NA & 2.500302e+00 &   1.90828562 &    0.00 &    1.00 &    2.000 &    3 &   50\\\\\n",
       "\t22 & numeric   & adults                         & 0 & 1.0000000 & NA & NA & NA &  NA & NA & NA & NA &  NA & NA & 1.856403e+00 &   0.57926100 &    0.00 &    2.00 &    2.000 &    2 &   55\\\\\n",
       "\t23 & numeric   & children                       & 4 & 0.9999665 & NA & NA & NA &  NA & NA & NA & NA &  NA & NA & 1.038899e-01 &   0.39856144 &    0.00 &    0.00 &    0.000 &    0 &   10\\\\\n",
       "\t24 & numeric   & babies                         & 0 & 1.0000000 & NA & NA & NA &  NA & NA & NA & NA &  NA & NA & 7.948739e-03 &   0.09743619 &    0.00 &    0.00 &    0.000 &    0 &   10\\\\\n",
       "\t25 & numeric   & is\\_repeated\\_guest              & 0 & 1.0000000 & NA & NA & NA &  NA & NA & NA & NA &  NA & NA & 3.191222e-02 &   0.17576715 &    0.00 &    0.00 &    0.000 &    0 &    1\\\\\n",
       "\t26 & numeric   & previous\\_cancellations         & 0 & 1.0000000 & NA & NA & NA &  NA & NA & NA & NA &  NA & NA & 8.711785e-02 &   0.84433638 &    0.00 &    0.00 &    0.000 &    0 &   26\\\\\n",
       "\t27 & numeric   & previous\\_bookings\\_not\\_canceled & 0 & 1.0000000 & NA & NA & NA &  NA & NA & NA & NA &  NA & NA & 1.370969e-01 &   1.49743685 &    0.00 &    0.00 &    0.000 &    0 &   72\\\\\n",
       "\t28 & numeric   & booking\\_changes                & 0 & 1.0000000 & NA & NA & NA &  NA & NA & NA & NA &  NA & NA & 2.211240e-01 &   0.65230557 &    0.00 &    0.00 &    0.000 &    0 &   21\\\\\n",
       "\t29 & numeric   & days\\_in\\_waiting\\_list           & 0 & 1.0000000 & NA & NA & NA &  NA & NA & NA & NA &  NA & NA & 2.321149e+00 &  17.59472088 &    0.00 &    0.00 &    0.000 &    0 &  391\\\\\n",
       "\t30 & numeric   & adr                            & 0 & 1.0000000 & NA & NA & NA &  NA & NA & NA & NA &  NA & NA & 1.018311e+02 &  50.53579029 &   -6.38 &   69.29 &   94.575 &  126 & 5400\\\\\n",
       "\t31 & numeric   & required\\_car\\_parking\\_spaces    & 0 & 1.0000000 & NA & NA & NA &  NA & NA & NA & NA &  NA & NA & 6.251780e-02 &   0.24529115 &    0.00 &    0.00 &    0.000 &    0 &    8\\\\\n",
       "\t32 & numeric   & total\\_of\\_special\\_requests      & 0 & 1.0000000 & NA & NA & NA &  NA & NA & NA & NA &  NA & NA & 5.713628e-01 &   0.79279842 &    0.00 &    0.00 &    0.000 &    1 &    5\\\\\n",
       "\\end{tabular}\n"
      ],
      "text/markdown": [
       "\n",
       "A skim_df: 32 × 20\n",
       "\n",
       "| <!--/--> | skim_type &lt;chr&gt; | skim_variable &lt;chr&gt; | n_missing &lt;int&gt; | complete_rate &lt;dbl&gt; | Date.min &lt;date&gt; | Date.max &lt;date&gt; | Date.median &lt;date&gt; | Date.n_unique &lt;int&gt; | character.min &lt;int&gt; | character.max &lt;int&gt; | character.empty &lt;int&gt; | character.n_unique &lt;int&gt; | character.whitespace &lt;int&gt; | numeric.mean &lt;dbl&gt; | numeric.sd &lt;dbl&gt; | numeric.p0 &lt;dbl&gt; | numeric.p25 &lt;dbl&gt; | numeric.p50 &lt;dbl&gt; | numeric.p75 &lt;dbl&gt; | numeric.p100 &lt;dbl&gt; |\n",
       "|---|---|---|---|---|---|---|---|---|---|---|---|---|---|---|---|---|---|---|---|---|\n",
       "| 1 | Date      | reservation_status_date        | 0 | 1.0000000 | 2014-10-17 | 2017-09-14 | 2016-08-07 | 926 | NA | NA | NA |  NA | NA |           NA |           NA |      NA |      NA |       NA |   NA |   NA |\n",
       "| 2 | character | hotel                          | 0 | 1.0000000 | NA | NA | NA |  NA | 10 | 12 |  0 |   2 |  0 |           NA |           NA |      NA |      NA |       NA |   NA |   NA |\n",
       "| 3 | character | arrival_date_month             | 0 | 1.0000000 | NA | NA | NA |  NA |  3 |  9 |  0 |  12 |  0 |           NA |           NA |      NA |      NA |       NA |   NA |   NA |\n",
       "| 4 | character | meal                           | 0 | 1.0000000 | NA | NA | NA |  NA |  2 |  9 |  0 |   5 |  0 |           NA |           NA |      NA |      NA |       NA |   NA |   NA |\n",
       "| 5 | character | country                        | 0 | 1.0000000 | NA | NA | NA |  NA |  2 |  4 |  0 | 178 |  0 |           NA |           NA |      NA |      NA |       NA |   NA |   NA |\n",
       "| 6 | character | market_segment                 | 0 | 1.0000000 | NA | NA | NA |  NA |  6 | 13 |  0 |   8 |  0 |           NA |           NA |      NA |      NA |       NA |   NA |   NA |\n",
       "| 7 | character | distribution_channel           | 0 | 1.0000000 | NA | NA | NA |  NA |  3 |  9 |  0 |   5 |  0 |           NA |           NA |      NA |      NA |       NA |   NA |   NA |\n",
       "| 8 | character | reserved_room_type             | 0 | 1.0000000 | NA | NA | NA |  NA |  1 |  1 |  0 |  10 |  0 |           NA |           NA |      NA |      NA |       NA |   NA |   NA |\n",
       "| 9 | character | assigned_room_type             | 0 | 1.0000000 | NA | NA | NA |  NA |  1 |  1 |  0 |  12 |  0 |           NA |           NA |      NA |      NA |       NA |   NA |   NA |\n",
       "| 10 | character | deposit_type                   | 0 | 1.0000000 | NA | NA | NA |  NA | 10 | 10 |  0 |   3 |  0 |           NA |           NA |      NA |      NA |       NA |   NA |   NA |\n",
       "| 11 | character | agent                          | 0 | 1.0000000 | NA | NA | NA |  NA |  1 |  4 |  0 | 334 |  0 |           NA |           NA |      NA |      NA |       NA |   NA |   NA |\n",
       "| 12 | character | company                        | 0 | 1.0000000 | NA | NA | NA |  NA |  1 |  4 |  0 | 353 |  0 |           NA |           NA |      NA |      NA |       NA |   NA |   NA |\n",
       "| 13 | character | customer_type                  | 0 | 1.0000000 | NA | NA | NA |  NA |  5 | 15 |  0 |   4 |  0 |           NA |           NA |      NA |      NA |       NA |   NA |   NA |\n",
       "| 14 | character | reservation_status             | 0 | 1.0000000 | NA | NA | NA |  NA |  7 |  9 |  0 |   3 |  0 |           NA |           NA |      NA |      NA |       NA |   NA |   NA |\n",
       "| 15 | numeric   | is_canceled                    | 0 | 1.0000000 | NA | NA | NA |  NA | NA | NA | NA |  NA | NA | 3.704163e-01 |   0.48291823 |    0.00 |    0.00 |    0.000 |    1 |    1 |\n",
       "| 16 | numeric   | lead_time                      | 0 | 1.0000000 | NA | NA | NA |  NA | NA | NA | NA |  NA | NA | 1.040114e+02 | 106.86309705 |    0.00 |   18.00 |   69.000 |  160 |  737 |\n",
       "| 17 | numeric   | arrival_date_year              | 0 | 1.0000000 | NA | NA | NA |  NA | NA | NA | NA |  NA | NA | 2.016157e+03 |   0.70747594 | 2015.00 | 2016.00 | 2016.000 | 2017 | 2017 |\n",
       "| 18 | numeric   | arrival_date_week_number       | 0 | 1.0000000 | NA | NA | NA |  NA | NA | NA | NA |  NA | NA | 2.716517e+01 |  13.60513836 |    1.00 |   16.00 |   28.000 |   38 |   53 |\n",
       "| 19 | numeric   | arrival_date_day_of_month      | 0 | 1.0000000 | NA | NA | NA |  NA | NA | NA | NA |  NA | NA | 1.579824e+01 |   8.78082947 |    1.00 |    8.00 |   16.000 |   23 |   31 |\n",
       "| 20 | numeric   | stays_in_weekend_nights        | 0 | 1.0000000 | NA | NA | NA |  NA | NA | NA | NA |  NA | NA | 9.275986e-01 |   0.99861349 |    0.00 |    0.00 |    1.000 |    2 |   19 |\n",
       "| 21 | numeric   | stays_in_week_nights           | 0 | 1.0000000 | NA | NA | NA |  NA | NA | NA | NA |  NA | NA | 2.500302e+00 |   1.90828562 |    0.00 |    1.00 |    2.000 |    3 |   50 |\n",
       "| 22 | numeric   | adults                         | 0 | 1.0000000 | NA | NA | NA |  NA | NA | NA | NA |  NA | NA | 1.856403e+00 |   0.57926100 |    0.00 |    2.00 |    2.000 |    2 |   55 |\n",
       "| 23 | numeric   | children                       | 4 | 0.9999665 | NA | NA | NA |  NA | NA | NA | NA |  NA | NA | 1.038899e-01 |   0.39856144 |    0.00 |    0.00 |    0.000 |    0 |   10 |\n",
       "| 24 | numeric   | babies                         | 0 | 1.0000000 | NA | NA | NA |  NA | NA | NA | NA |  NA | NA | 7.948739e-03 |   0.09743619 |    0.00 |    0.00 |    0.000 |    0 |   10 |\n",
       "| 25 | numeric   | is_repeated_guest              | 0 | 1.0000000 | NA | NA | NA |  NA | NA | NA | NA |  NA | NA | 3.191222e-02 |   0.17576715 |    0.00 |    0.00 |    0.000 |    0 |    1 |\n",
       "| 26 | numeric   | previous_cancellations         | 0 | 1.0000000 | NA | NA | NA |  NA | NA | NA | NA |  NA | NA | 8.711785e-02 |   0.84433638 |    0.00 |    0.00 |    0.000 |    0 |   26 |\n",
       "| 27 | numeric   | previous_bookings_not_canceled | 0 | 1.0000000 | NA | NA | NA |  NA | NA | NA | NA |  NA | NA | 1.370969e-01 |   1.49743685 |    0.00 |    0.00 |    0.000 |    0 |   72 |\n",
       "| 28 | numeric   | booking_changes                | 0 | 1.0000000 | NA | NA | NA |  NA | NA | NA | NA |  NA | NA | 2.211240e-01 |   0.65230557 |    0.00 |    0.00 |    0.000 |    0 |   21 |\n",
       "| 29 | numeric   | days_in_waiting_list           | 0 | 1.0000000 | NA | NA | NA |  NA | NA | NA | NA |  NA | NA | 2.321149e+00 |  17.59472088 |    0.00 |    0.00 |    0.000 |    0 |  391 |\n",
       "| 30 | numeric   | adr                            | 0 | 1.0000000 | NA | NA | NA |  NA | NA | NA | NA |  NA | NA | 1.018311e+02 |  50.53579029 |   -6.38 |   69.29 |   94.575 |  126 | 5400 |\n",
       "| 31 | numeric   | required_car_parking_spaces    | 0 | 1.0000000 | NA | NA | NA |  NA | NA | NA | NA |  NA | NA | 6.251780e-02 |   0.24529115 |    0.00 |    0.00 |    0.000 |    0 |    8 |\n",
       "| 32 | numeric   | total_of_special_requests      | 0 | 1.0000000 | NA | NA | NA |  NA | NA | NA | NA |  NA | NA | 5.713628e-01 |   0.79279842 |    0.00 |    0.00 |    0.000 |    1 |    5 |\n",
       "\n"
      ],
      "text/plain": []
     },
     "metadata": {},
     "output_type": "display_data"
    }
   ],
   "source": [
    "skim_without_charts(data)"
   ]
  },
  {
   "attachments": {},
   "cell_type": "markdown",
   "metadata": {},
   "source": [
    "<h1> Clean the data"
   ]
  },
  {
   "attachments": {},
   "cell_type": "markdown",
   "metadata": {},
   "source": [
    "### Create a new data frame with just those columns, calling it `trimmed_df`."
   ]
  },
  {
   "cell_type": "code",
   "execution_count": 8,
   "metadata": {
    "vscode": {
     "languageId": "r"
    }
   },
   "outputs": [],
   "source": [
    "trimmed_df = data %>% select(hotel, is_canceled, lead_time)"
   ]
  },
  {
   "cell_type": "code",
   "execution_count": 9,
   "metadata": {
    "vscode": {
     "languageId": "r"
    }
   },
   "outputs": [
    {
     "data": {
      "text/html": [
       "<table class=\"dataframe\">\n",
       "<caption>A tibble: 6 × 3</caption>\n",
       "<thead>\n",
       "\t<tr><th scope=col>hotel</th><th scope=col>is_canceled</th><th scope=col>lead_time</th></tr>\n",
       "\t<tr><th scope=col>&lt;chr&gt;</th><th scope=col>&lt;dbl&gt;</th><th scope=col>&lt;dbl&gt;</th></tr>\n",
       "</thead>\n",
       "<tbody>\n",
       "\t<tr><td>Resort Hotel</td><td>0</td><td>342</td></tr>\n",
       "\t<tr><td>Resort Hotel</td><td>0</td><td>737</td></tr>\n",
       "\t<tr><td>Resort Hotel</td><td>0</td><td>  7</td></tr>\n",
       "\t<tr><td>Resort Hotel</td><td>0</td><td> 13</td></tr>\n",
       "\t<tr><td>Resort Hotel</td><td>0</td><td> 14</td></tr>\n",
       "\t<tr><td>Resort Hotel</td><td>0</td><td> 14</td></tr>\n",
       "</tbody>\n",
       "</table>\n"
      ],
      "text/latex": [
       "A tibble: 6 × 3\n",
       "\\begin{tabular}{lll}\n",
       " hotel & is\\_canceled & lead\\_time\\\\\n",
       " <chr> & <dbl> & <dbl>\\\\\n",
       "\\hline\n",
       "\t Resort Hotel & 0 & 342\\\\\n",
       "\t Resort Hotel & 0 & 737\\\\\n",
       "\t Resort Hotel & 0 &   7\\\\\n",
       "\t Resort Hotel & 0 &  13\\\\\n",
       "\t Resort Hotel & 0 &  14\\\\\n",
       "\t Resort Hotel & 0 &  14\\\\\n",
       "\\end{tabular}\n"
      ],
      "text/markdown": [
       "\n",
       "A tibble: 6 × 3\n",
       "\n",
       "| hotel &lt;chr&gt; | is_canceled &lt;dbl&gt; | lead_time &lt;dbl&gt; |\n",
       "|---|---|---|\n",
       "| Resort Hotel | 0 | 342 |\n",
       "| Resort Hotel | 0 | 737 |\n",
       "| Resort Hotel | 0 |   7 |\n",
       "| Resort Hotel | 0 |  13 |\n",
       "| Resort Hotel | 0 |  14 |\n",
       "| Resort Hotel | 0 |  14 |\n",
       "\n"
      ],
      "text/plain": [
       "  hotel        is_canceled lead_time\n",
       "1 Resort Hotel 0           342      \n",
       "2 Resort Hotel 0           737      \n",
       "3 Resort Hotel 0             7      \n",
       "4 Resort Hotel 0            13      \n",
       "5 Resort Hotel 0            14      \n",
       "6 Resort Hotel 0            14      "
      ]
     },
     "metadata": {},
     "output_type": "display_data"
    }
   ],
   "source": [
    "head(trimmed_df)"
   ]
  },
  {
   "attachments": {},
   "cell_type": "markdown",
   "metadata": {},
   "source": [
    "### Rename the variable 'hotel' to be named 'hotel_type' to be crystal clear on what the data is about:"
   ]
  },
  {
   "cell_type": "code",
   "execution_count": 10,
   "metadata": {
    "vscode": {
     "languageId": "r"
    }
   },
   "outputs": [],
   "source": [
    "trimmed_df = data %>% rename(hotel_type = hotel)"
   ]
  },
  {
   "attachments": {},
   "cell_type": "markdown",
   "metadata": {},
   "source": [
    "### Combination of arrival month and year into one column using the unite() function:\n"
   ]
  },
  {
   "cell_type": "code",
   "execution_count": 18,
   "metadata": {
    "vscode": {
     "languageId": "r"
    }
   },
   "outputs": [
    {
     "data": {
      "text/html": [
       "<table class=\"dataframe\">\n",
       "<caption>A tibble: 6 × 1</caption>\n",
       "<thead>\n",
       "\t<tr><th scope=col>arrival_month_year</th></tr>\n",
       "\t<tr><th scope=col>&lt;chr&gt;</th></tr>\n",
       "</thead>\n",
       "<tbody>\n",
       "\t<tr><td>July 2015</td></tr>\n",
       "\t<tr><td>July 2015</td></tr>\n",
       "\t<tr><td>July 2015</td></tr>\n",
       "\t<tr><td>July 2015</td></tr>\n",
       "\t<tr><td>July 2015</td></tr>\n",
       "\t<tr><td>July 2015</td></tr>\n",
       "</tbody>\n",
       "</table>\n"
      ],
      "text/latex": [
       "A tibble: 6 × 1\n",
       "\\begin{tabular}{l}\n",
       " arrival\\_month\\_year\\\\\n",
       " <chr>\\\\\n",
       "\\hline\n",
       "\t July 2015\\\\\n",
       "\t July 2015\\\\\n",
       "\t July 2015\\\\\n",
       "\t July 2015\\\\\n",
       "\t July 2015\\\\\n",
       "\t July 2015\\\\\n",
       "\\end{tabular}\n"
      ],
      "text/markdown": [
       "\n",
       "A tibble: 6 × 1\n",
       "\n",
       "| arrival_month_year &lt;chr&gt; |\n",
       "|---|\n",
       "| July 2015 |\n",
       "| July 2015 |\n",
       "| July 2015 |\n",
       "| July 2015 |\n",
       "| July 2015 |\n",
       "| July 2015 |\n",
       "\n"
      ],
      "text/plain": [
       "  arrival_month_year\n",
       "1 July 2015         \n",
       "2 July 2015         \n",
       "3 July 2015         \n",
       "4 July 2015         \n",
       "5 July 2015         \n",
       "6 July 2015         "
      ]
     },
     "metadata": {},
     "output_type": "display_data"
    }
   ],
   "source": [
    "head(data %>% select(arrival_date_year, arrival_date_month) %>% unite(arrival_month_year, c('arrival_date_month', 'arrival_date_year'), sep = ' '))"
   ]
  },
  {
   "cell_type": "code",
   "execution_count": 12,
   "metadata": {
    "vscode": {
     "languageId": "r"
    }
   },
   "outputs": [
    {
     "data": {
      "text/html": [
       "<style>\n",
       ".list-inline {list-style: none; margin:0; padding: 0}\n",
       ".list-inline>li {display: inline-block}\n",
       ".list-inline>li:not(:last-child)::after {content: \"\\00b7\"; padding: 0 .5ex}\n",
       "</style>\n",
       "<ol class=list-inline><li>'hotel'</li><li>'is_canceled'</li><li>'lead_time'</li><li>'arrival_date_year'</li><li>'arrival_date_month'</li><li>'arrival_date_week_number'</li><li>'arrival_date_day_of_month'</li><li>'stays_in_weekend_nights'</li><li>'stays_in_week_nights'</li><li>'adults'</li><li>'children'</li><li>'babies'</li><li>'meal'</li><li>'country'</li><li>'market_segment'</li><li>'distribution_channel'</li><li>'is_repeated_guest'</li><li>'previous_cancellations'</li><li>'previous_bookings_not_canceled'</li><li>'reserved_room_type'</li><li>'assigned_room_type'</li><li>'booking_changes'</li><li>'deposit_type'</li><li>'agent'</li><li>'company'</li><li>'days_in_waiting_list'</li><li>'customer_type'</li><li>'adr'</li><li>'required_car_parking_spaces'</li><li>'total_of_special_requests'</li><li>'reservation_status'</li><li>'reservation_status_date'</li></ol>\n"
      ],
      "text/latex": [
       "\\begin{enumerate*}\n",
       "\\item 'hotel'\n",
       "\\item 'is\\_canceled'\n",
       "\\item 'lead\\_time'\n",
       "\\item 'arrival\\_date\\_year'\n",
       "\\item 'arrival\\_date\\_month'\n",
       "\\item 'arrival\\_date\\_week\\_number'\n",
       "\\item 'arrival\\_date\\_day\\_of\\_month'\n",
       "\\item 'stays\\_in\\_weekend\\_nights'\n",
       "\\item 'stays\\_in\\_week\\_nights'\n",
       "\\item 'adults'\n",
       "\\item 'children'\n",
       "\\item 'babies'\n",
       "\\item 'meal'\n",
       "\\item 'country'\n",
       "\\item 'market\\_segment'\n",
       "\\item 'distribution\\_channel'\n",
       "\\item 'is\\_repeated\\_guest'\n",
       "\\item 'previous\\_cancellations'\n",
       "\\item 'previous\\_bookings\\_not\\_canceled'\n",
       "\\item 'reserved\\_room\\_type'\n",
       "\\item 'assigned\\_room\\_type'\n",
       "\\item 'booking\\_changes'\n",
       "\\item 'deposit\\_type'\n",
       "\\item 'agent'\n",
       "\\item 'company'\n",
       "\\item 'days\\_in\\_waiting\\_list'\n",
       "\\item 'customer\\_type'\n",
       "\\item 'adr'\n",
       "\\item 'required\\_car\\_parking\\_spaces'\n",
       "\\item 'total\\_of\\_special\\_requests'\n",
       "\\item 'reservation\\_status'\n",
       "\\item 'reservation\\_status\\_date'\n",
       "\\end{enumerate*}\n"
      ],
      "text/markdown": [
       "1. 'hotel'\n",
       "2. 'is_canceled'\n",
       "3. 'lead_time'\n",
       "4. 'arrival_date_year'\n",
       "5. 'arrival_date_month'\n",
       "6. 'arrival_date_week_number'\n",
       "7. 'arrival_date_day_of_month'\n",
       "8. 'stays_in_weekend_nights'\n",
       "9. 'stays_in_week_nights'\n",
       "10. 'adults'\n",
       "11. 'children'\n",
       "12. 'babies'\n",
       "13. 'meal'\n",
       "14. 'country'\n",
       "15. 'market_segment'\n",
       "16. 'distribution_channel'\n",
       "17. 'is_repeated_guest'\n",
       "18. 'previous_cancellations'\n",
       "19. 'previous_bookings_not_canceled'\n",
       "20. 'reserved_room_type'\n",
       "21. 'assigned_room_type'\n",
       "22. 'booking_changes'\n",
       "23. 'deposit_type'\n",
       "24. 'agent'\n",
       "25. 'company'\n",
       "26. 'days_in_waiting_list'\n",
       "27. 'customer_type'\n",
       "28. 'adr'\n",
       "29. 'required_car_parking_spaces'\n",
       "30. 'total_of_special_requests'\n",
       "31. 'reservation_status'\n",
       "32. 'reservation_status_date'\n",
       "\n",
       "\n"
      ],
      "text/plain": [
       " [1] \"hotel\"                          \"is_canceled\"                   \n",
       " [3] \"lead_time\"                      \"arrival_date_year\"             \n",
       " [5] \"arrival_date_month\"             \"arrival_date_week_number\"      \n",
       " [7] \"arrival_date_day_of_month\"      \"stays_in_weekend_nights\"       \n",
       " [9] \"stays_in_week_nights\"           \"adults\"                        \n",
       "[11] \"children\"                       \"babies\"                        \n",
       "[13] \"meal\"                           \"country\"                       \n",
       "[15] \"market_segment\"                 \"distribution_channel\"          \n",
       "[17] \"is_repeated_guest\"              \"previous_cancellations\"        \n",
       "[19] \"previous_bookings_not_canceled\" \"reserved_room_type\"            \n",
       "[21] \"assigned_room_type\"             \"booking_changes\"               \n",
       "[23] \"deposit_type\"                   \"agent\"                         \n",
       "[25] \"company\"                        \"days_in_waiting_list\"          \n",
       "[27] \"customer_type\"                  \"adr\"                           \n",
       "[29] \"required_car_parking_spaces\"    \"total_of_special_requests\"     \n",
       "[31] \"reservation_status\"             \"reservation_status_date\"       "
      ]
     },
     "metadata": {},
     "output_type": "display_data"
    }
   ],
   "source": [
    "colnames(data)"
   ]
  },
  {
   "attachments": {},
   "cell_type": "markdown",
   "metadata": {},
   "source": [
    "### Total gusts in hotel "
   ]
  },
  {
   "cell_type": "code",
   "execution_count": 13,
   "metadata": {
    "vscode": {
     "languageId": "r"
    }
   },
   "outputs": [
    {
     "data": {
      "text/html": [
       "<table class=\"dataframe\">\n",
       "<caption>A tibble: 6 × 3</caption>\n",
       "<thead>\n",
       "\t<tr><th scope=col>adults</th><th scope=col>children</th><th scope=col>babies</th></tr>\n",
       "\t<tr><th scope=col>&lt;dbl&gt;</th><th scope=col>&lt;dbl&gt;</th><th scope=col>&lt;dbl&gt;</th></tr>\n",
       "</thead>\n",
       "<tbody>\n",
       "\t<tr><td>2</td><td>0</td><td>0</td></tr>\n",
       "\t<tr><td>2</td><td>0</td><td>0</td></tr>\n",
       "\t<tr><td>1</td><td>0</td><td>0</td></tr>\n",
       "\t<tr><td>1</td><td>0</td><td>0</td></tr>\n",
       "\t<tr><td>2</td><td>0</td><td>0</td></tr>\n",
       "\t<tr><td>2</td><td>0</td><td>0</td></tr>\n",
       "</tbody>\n",
       "</table>\n"
      ],
      "text/latex": [
       "A tibble: 6 × 3\n",
       "\\begin{tabular}{lll}\n",
       " adults & children & babies\\\\\n",
       " <dbl> & <dbl> & <dbl>\\\\\n",
       "\\hline\n",
       "\t 2 & 0 & 0\\\\\n",
       "\t 2 & 0 & 0\\\\\n",
       "\t 1 & 0 & 0\\\\\n",
       "\t 1 & 0 & 0\\\\\n",
       "\t 2 & 0 & 0\\\\\n",
       "\t 2 & 0 & 0\\\\\n",
       "\\end{tabular}\n"
      ],
      "text/markdown": [
       "\n",
       "A tibble: 6 × 3\n",
       "\n",
       "| adults &lt;dbl&gt; | children &lt;dbl&gt; | babies &lt;dbl&gt; |\n",
       "|---|---|---|\n",
       "| 2 | 0 | 0 |\n",
       "| 2 | 0 | 0 |\n",
       "| 1 | 0 | 0 |\n",
       "| 1 | 0 | 0 |\n",
       "| 2 | 0 | 0 |\n",
       "| 2 | 0 | 0 |\n",
       "\n"
      ],
      "text/plain": [
       "  adults children babies\n",
       "1 2      0        0     \n",
       "2 2      0        0     \n",
       "3 1      0        0     \n",
       "4 1      0        0     \n",
       "5 2      0        0     \n",
       "6 2      0        0     "
      ]
     },
     "metadata": {},
     "output_type": "display_data"
    }
   ],
   "source": [
    "head(data %>% select('adults', 'children', 'babies'))"
   ]
  },
  {
   "cell_type": "code",
   "execution_count": 14,
   "metadata": {
    "vscode": {
     "languageId": "r"
    }
   },
   "outputs": [],
   "source": [
    "data = data %>% mutate(guests = adults + children + babies)"
   ]
  },
  {
   "cell_type": "code",
   "execution_count": 15,
   "metadata": {
    "vscode": {
     "languageId": "r"
    }
   },
   "outputs": [
    {
     "data": {
      "text/html": [
       "<table class=\"dataframe\">\n",
       "<caption>A tibble: 6 × 33</caption>\n",
       "<thead>\n",
       "\t<tr><th scope=col>hotel</th><th scope=col>is_canceled</th><th scope=col>lead_time</th><th scope=col>arrival_date_year</th><th scope=col>arrival_date_month</th><th scope=col>arrival_date_week_number</th><th scope=col>arrival_date_day_of_month</th><th scope=col>stays_in_weekend_nights</th><th scope=col>stays_in_week_nights</th><th scope=col>adults</th><th scope=col>⋯</th><th scope=col>agent</th><th scope=col>company</th><th scope=col>days_in_waiting_list</th><th scope=col>customer_type</th><th scope=col>adr</th><th scope=col>required_car_parking_spaces</th><th scope=col>total_of_special_requests</th><th scope=col>reservation_status</th><th scope=col>reservation_status_date</th><th scope=col>guests</th></tr>\n",
       "\t<tr><th scope=col>&lt;chr&gt;</th><th scope=col>&lt;dbl&gt;</th><th scope=col>&lt;dbl&gt;</th><th scope=col>&lt;dbl&gt;</th><th scope=col>&lt;chr&gt;</th><th scope=col>&lt;dbl&gt;</th><th scope=col>&lt;dbl&gt;</th><th scope=col>&lt;dbl&gt;</th><th scope=col>&lt;dbl&gt;</th><th scope=col>&lt;dbl&gt;</th><th scope=col>⋯</th><th scope=col>&lt;chr&gt;</th><th scope=col>&lt;chr&gt;</th><th scope=col>&lt;dbl&gt;</th><th scope=col>&lt;chr&gt;</th><th scope=col>&lt;dbl&gt;</th><th scope=col>&lt;dbl&gt;</th><th scope=col>&lt;dbl&gt;</th><th scope=col>&lt;chr&gt;</th><th scope=col>&lt;date&gt;</th><th scope=col>&lt;dbl&gt;</th></tr>\n",
       "</thead>\n",
       "<tbody>\n",
       "\t<tr><td>Resort Hotel</td><td>0</td><td>342</td><td>2015</td><td>July</td><td>27</td><td>1</td><td>0</td><td>0</td><td>2</td><td>⋯</td><td>NULL</td><td>NULL</td><td>0</td><td>Transient</td><td> 0</td><td>0</td><td>0</td><td>Check-Out</td><td>2015-07-01</td><td>2</td></tr>\n",
       "\t<tr><td>Resort Hotel</td><td>0</td><td>737</td><td>2015</td><td>July</td><td>27</td><td>1</td><td>0</td><td>0</td><td>2</td><td>⋯</td><td>NULL</td><td>NULL</td><td>0</td><td>Transient</td><td> 0</td><td>0</td><td>0</td><td>Check-Out</td><td>2015-07-01</td><td>2</td></tr>\n",
       "\t<tr><td>Resort Hotel</td><td>0</td><td>  7</td><td>2015</td><td>July</td><td>27</td><td>1</td><td>0</td><td>1</td><td>1</td><td>⋯</td><td>NULL</td><td>NULL</td><td>0</td><td>Transient</td><td>75</td><td>0</td><td>0</td><td>Check-Out</td><td>2015-07-02</td><td>1</td></tr>\n",
       "\t<tr><td>Resort Hotel</td><td>0</td><td> 13</td><td>2015</td><td>July</td><td>27</td><td>1</td><td>0</td><td>1</td><td>1</td><td>⋯</td><td>304 </td><td>NULL</td><td>0</td><td>Transient</td><td>75</td><td>0</td><td>0</td><td>Check-Out</td><td>2015-07-02</td><td>1</td></tr>\n",
       "\t<tr><td>Resort Hotel</td><td>0</td><td> 14</td><td>2015</td><td>July</td><td>27</td><td>1</td><td>0</td><td>2</td><td>2</td><td>⋯</td><td>240 </td><td>NULL</td><td>0</td><td>Transient</td><td>98</td><td>0</td><td>1</td><td>Check-Out</td><td>2015-07-03</td><td>2</td></tr>\n",
       "\t<tr><td>Resort Hotel</td><td>0</td><td> 14</td><td>2015</td><td>July</td><td>27</td><td>1</td><td>0</td><td>2</td><td>2</td><td>⋯</td><td>240 </td><td>NULL</td><td>0</td><td>Transient</td><td>98</td><td>0</td><td>1</td><td>Check-Out</td><td>2015-07-03</td><td>2</td></tr>\n",
       "</tbody>\n",
       "</table>\n"
      ],
      "text/latex": [
       "A tibble: 6 × 33\n",
       "\\begin{tabular}{lllllllllllllllllllll}\n",
       " hotel & is\\_canceled & lead\\_time & arrival\\_date\\_year & arrival\\_date\\_month & arrival\\_date\\_week\\_number & arrival\\_date\\_day\\_of\\_month & stays\\_in\\_weekend\\_nights & stays\\_in\\_week\\_nights & adults & ⋯ & agent & company & days\\_in\\_waiting\\_list & customer\\_type & adr & required\\_car\\_parking\\_spaces & total\\_of\\_special\\_requests & reservation\\_status & reservation\\_status\\_date & guests\\\\\n",
       " <chr> & <dbl> & <dbl> & <dbl> & <chr> & <dbl> & <dbl> & <dbl> & <dbl> & <dbl> & ⋯ & <chr> & <chr> & <dbl> & <chr> & <dbl> & <dbl> & <dbl> & <chr> & <date> & <dbl>\\\\\n",
       "\\hline\n",
       "\t Resort Hotel & 0 & 342 & 2015 & July & 27 & 1 & 0 & 0 & 2 & ⋯ & NULL & NULL & 0 & Transient &  0 & 0 & 0 & Check-Out & 2015-07-01 & 2\\\\\n",
       "\t Resort Hotel & 0 & 737 & 2015 & July & 27 & 1 & 0 & 0 & 2 & ⋯ & NULL & NULL & 0 & Transient &  0 & 0 & 0 & Check-Out & 2015-07-01 & 2\\\\\n",
       "\t Resort Hotel & 0 &   7 & 2015 & July & 27 & 1 & 0 & 1 & 1 & ⋯ & NULL & NULL & 0 & Transient & 75 & 0 & 0 & Check-Out & 2015-07-02 & 1\\\\\n",
       "\t Resort Hotel & 0 &  13 & 2015 & July & 27 & 1 & 0 & 1 & 1 & ⋯ & 304  & NULL & 0 & Transient & 75 & 0 & 0 & Check-Out & 2015-07-02 & 1\\\\\n",
       "\t Resort Hotel & 0 &  14 & 2015 & July & 27 & 1 & 0 & 2 & 2 & ⋯ & 240  & NULL & 0 & Transient & 98 & 0 & 1 & Check-Out & 2015-07-03 & 2\\\\\n",
       "\t Resort Hotel & 0 &  14 & 2015 & July & 27 & 1 & 0 & 2 & 2 & ⋯ & 240  & NULL & 0 & Transient & 98 & 0 & 1 & Check-Out & 2015-07-03 & 2\\\\\n",
       "\\end{tabular}\n"
      ],
      "text/markdown": [
       "\n",
       "A tibble: 6 × 33\n",
       "\n",
       "| hotel &lt;chr&gt; | is_canceled &lt;dbl&gt; | lead_time &lt;dbl&gt; | arrival_date_year &lt;dbl&gt; | arrival_date_month &lt;chr&gt; | arrival_date_week_number &lt;dbl&gt; | arrival_date_day_of_month &lt;dbl&gt; | stays_in_weekend_nights &lt;dbl&gt; | stays_in_week_nights &lt;dbl&gt; | adults &lt;dbl&gt; | ⋯ ⋯ | agent &lt;chr&gt; | company &lt;chr&gt; | days_in_waiting_list &lt;dbl&gt; | customer_type &lt;chr&gt; | adr &lt;dbl&gt; | required_car_parking_spaces &lt;dbl&gt; | total_of_special_requests &lt;dbl&gt; | reservation_status &lt;chr&gt; | reservation_status_date &lt;date&gt; | guests &lt;dbl&gt; |\n",
       "|---|---|---|---|---|---|---|---|---|---|---|---|---|---|---|---|---|---|---|---|---|\n",
       "| Resort Hotel | 0 | 342 | 2015 | July | 27 | 1 | 0 | 0 | 2 | ⋯ | NULL | NULL | 0 | Transient |  0 | 0 | 0 | Check-Out | 2015-07-01 | 2 |\n",
       "| Resort Hotel | 0 | 737 | 2015 | July | 27 | 1 | 0 | 0 | 2 | ⋯ | NULL | NULL | 0 | Transient |  0 | 0 | 0 | Check-Out | 2015-07-01 | 2 |\n",
       "| Resort Hotel | 0 |   7 | 2015 | July | 27 | 1 | 0 | 1 | 1 | ⋯ | NULL | NULL | 0 | Transient | 75 | 0 | 0 | Check-Out | 2015-07-02 | 1 |\n",
       "| Resort Hotel | 0 |  13 | 2015 | July | 27 | 1 | 0 | 1 | 1 | ⋯ | 304  | NULL | 0 | Transient | 75 | 0 | 0 | Check-Out | 2015-07-02 | 1 |\n",
       "| Resort Hotel | 0 |  14 | 2015 | July | 27 | 1 | 0 | 2 | 2 | ⋯ | 240  | NULL | 0 | Transient | 98 | 0 | 1 | Check-Out | 2015-07-03 | 2 |\n",
       "| Resort Hotel | 0 |  14 | 2015 | July | 27 | 1 | 0 | 2 | 2 | ⋯ | 240  | NULL | 0 | Transient | 98 | 0 | 1 | Check-Out | 2015-07-03 | 2 |\n",
       "\n"
      ],
      "text/plain": [
       "  hotel        is_canceled lead_time arrival_date_year arrival_date_month\n",
       "1 Resort Hotel 0           342       2015              July              \n",
       "2 Resort Hotel 0           737       2015              July              \n",
       "3 Resort Hotel 0             7       2015              July              \n",
       "4 Resort Hotel 0            13       2015              July              \n",
       "5 Resort Hotel 0            14       2015              July              \n",
       "6 Resort Hotel 0            14       2015              July              \n",
       "  arrival_date_week_number arrival_date_day_of_month stays_in_weekend_nights\n",
       "1 27                       1                         0                      \n",
       "2 27                       1                         0                      \n",
       "3 27                       1                         0                      \n",
       "4 27                       1                         0                      \n",
       "5 27                       1                         0                      \n",
       "6 27                       1                         0                      \n",
       "  stays_in_week_nights adults ⋯ agent company days_in_waiting_list\n",
       "1 0                    2      ⋯ NULL  NULL    0                   \n",
       "2 0                    2      ⋯ NULL  NULL    0                   \n",
       "3 1                    1      ⋯ NULL  NULL    0                   \n",
       "4 1                    1      ⋯ 304   NULL    0                   \n",
       "5 2                    2      ⋯ 240   NULL    0                   \n",
       "6 2                    2      ⋯ 240   NULL    0                   \n",
       "  customer_type adr required_car_parking_spaces total_of_special_requests\n",
       "1 Transient      0  0                           0                        \n",
       "2 Transient      0  0                           0                        \n",
       "3 Transient     75  0                           0                        \n",
       "4 Transient     75  0                           0                        \n",
       "5 Transient     98  0                           1                        \n",
       "6 Transient     98  0                           1                        \n",
       "  reservation_status reservation_status_date guests\n",
       "1 Check-Out          2015-07-01              2     \n",
       "2 Check-Out          2015-07-01              2     \n",
       "3 Check-Out          2015-07-02              1     \n",
       "4 Check-Out          2015-07-02              1     \n",
       "5 Check-Out          2015-07-03              2     \n",
       "6 Check-Out          2015-07-03              2     "
      ]
     },
     "metadata": {},
     "output_type": "display_data"
    }
   ],
   "source": [
    "head(data)"
   ]
  },
  {
   "attachments": {},
   "cell_type": "markdown",
   "metadata": {},
   "source": [
    "### Summary statistics:\n",
    "####  Calculate the total number of canceled bookings and the average lead time for booking"
   ]
  },
  {
   "cell_type": "code",
   "execution_count": 16,
   "metadata": {
    "vscode": {
     "languageId": "r"
    }
   },
   "outputs": [
    {
     "data": {
      "text/html": [
       "<table class=\"dataframe\">\n",
       "<caption>A tibble: 1 × 2</caption>\n",
       "<thead>\n",
       "\t<tr><th scope=col>number_canceled</th><th scope=col>average_Lead_time</th></tr>\n",
       "\t<tr><th scope=col>&lt;dbl&gt;</th><th scope=col>&lt;dbl&gt;</th></tr>\n",
       "</thead>\n",
       "<tbody>\n",
       "\t<tr><td>44224</td><td>104.0114</td></tr>\n",
       "</tbody>\n",
       "</table>\n"
      ],
      "text/latex": [
       "A tibble: 1 × 2\n",
       "\\begin{tabular}{ll}\n",
       " number\\_canceled & average\\_Lead\\_time\\\\\n",
       " <dbl> & <dbl>\\\\\n",
       "\\hline\n",
       "\t 44224 & 104.0114\\\\\n",
       "\\end{tabular}\n"
      ],
      "text/markdown": [
       "\n",
       "A tibble: 1 × 2\n",
       "\n",
       "| number_canceled &lt;dbl&gt; | average_Lead_time &lt;dbl&gt; |\n",
       "|---|---|\n",
       "| 44224 | 104.0114 |\n",
       "\n"
      ],
      "text/plain": [
       "  number_canceled average_Lead_time\n",
       "1 44224           104.0114         "
      ]
     },
     "metadata": {},
     "output_type": "display_data"
    }
   ],
   "source": [
    "data %>% summarize(number_canceled = sum(is_canceled), average_Lead_time = mean(lead_time))"
   ]
  },
  {
   "attachments": {},
   "cell_type": "markdown",
   "metadata": {},
   "source": [
    "### 1. How many columns are in this data set?\n",
    "### 33 columns after add one columns"
   ]
  },
  {
   "cell_type": "code",
   "execution_count": 20,
   "metadata": {
    "vscode": {
     "languageId": "r"
    }
   },
   "outputs": [
    {
     "name": "stdout",
     "output_type": "stream",
     "text": [
      "tibble [119,390 × 33] (S3: tbl_df/tbl/data.frame)\n",
      " $ hotel                         : chr [1:119390] \"Resort Hotel\" \"Resort Hotel\" \"Resort Hotel\" \"Resort Hotel\" ...\n",
      " $ is_canceled                   : num [1:119390] 0 0 0 0 0 0 0 0 1 1 ...\n",
      " $ lead_time                     : num [1:119390] 342 737 7 13 14 14 0 9 85 75 ...\n",
      " $ arrival_date_year             : num [1:119390] 2015 2015 2015 2015 2015 ...\n",
      " $ arrival_date_month            : chr [1:119390] \"July\" \"July\" \"July\" \"July\" ...\n",
      " $ arrival_date_week_number      : num [1:119390] 27 27 27 27 27 27 27 27 27 27 ...\n",
      " $ arrival_date_day_of_month     : num [1:119390] 1 1 1 1 1 1 1 1 1 1 ...\n",
      " $ stays_in_weekend_nights       : num [1:119390] 0 0 0 0 0 0 0 0 0 0 ...\n",
      " $ stays_in_week_nights          : num [1:119390] 0 0 1 1 2 2 2 2 3 3 ...\n",
      " $ adults                        : num [1:119390] 2 2 1 1 2 2 2 2 2 2 ...\n",
      " $ children                      : num [1:119390] 0 0 0 0 0 0 0 0 0 0 ...\n",
      " $ babies                        : num [1:119390] 0 0 0 0 0 0 0 0 0 0 ...\n",
      " $ meal                          : chr [1:119390] \"BB\" \"BB\" \"BB\" \"BB\" ...\n",
      " $ country                       : chr [1:119390] \"PRT\" \"PRT\" \"GBR\" \"GBR\" ...\n",
      " $ market_segment                : chr [1:119390] \"Direct\" \"Direct\" \"Direct\" \"Corporate\" ...\n",
      " $ distribution_channel          : chr [1:119390] \"Direct\" \"Direct\" \"Direct\" \"Corporate\" ...\n",
      " $ is_repeated_guest             : num [1:119390] 0 0 0 0 0 0 0 0 0 0 ...\n",
      " $ previous_cancellations        : num [1:119390] 0 0 0 0 0 0 0 0 0 0 ...\n",
      " $ previous_bookings_not_canceled: num [1:119390] 0 0 0 0 0 0 0 0 0 0 ...\n",
      " $ reserved_room_type            : chr [1:119390] \"C\" \"C\" \"A\" \"A\" ...\n",
      " $ assigned_room_type            : chr [1:119390] \"C\" \"C\" \"C\" \"A\" ...\n",
      " $ booking_changes               : num [1:119390] 3 4 0 0 0 0 0 0 0 0 ...\n",
      " $ deposit_type                  : chr [1:119390] \"No Deposit\" \"No Deposit\" \"No Deposit\" \"No Deposit\" ...\n",
      " $ agent                         : chr [1:119390] \"NULL\" \"NULL\" \"NULL\" \"304\" ...\n",
      " $ company                       : chr [1:119390] \"NULL\" \"NULL\" \"NULL\" \"NULL\" ...\n",
      " $ days_in_waiting_list          : num [1:119390] 0 0 0 0 0 0 0 0 0 0 ...\n",
      " $ customer_type                 : chr [1:119390] \"Transient\" \"Transient\" \"Transient\" \"Transient\" ...\n",
      " $ adr                           : num [1:119390] 0 0 75 75 98 ...\n",
      " $ required_car_parking_spaces   : num [1:119390] 0 0 0 0 0 0 0 0 0 0 ...\n",
      " $ total_of_special_requests     : num [1:119390] 0 0 0 0 1 1 0 1 1 0 ...\n",
      " $ reservation_status            : chr [1:119390] \"Check-Out\" \"Check-Out\" \"Check-Out\" \"Check-Out\" ...\n",
      " $ reservation_status_date       : Date[1:119390], format: \"2015-07-01\" \"2015-07-01\" ...\n",
      " $ guests                        : num [1:119390] 2 2 1 1 2 2 2 2 2 2 ...\n"
     ]
    }
   ],
   "source": [
    "str(data)"
   ]
  },
  {
   "attachments": {},
   "cell_type": "markdown",
   "metadata": {},
   "source": [
    "### 2. The 'arrival_date_month' variable is chr or character type data. \n",
    "### True "
   ]
  },
  {
   "cell_type": "code",
   "execution_count": 24,
   "metadata": {
    "vscode": {
     "languageId": "r"
    }
   },
   "outputs": [
    {
     "data": {
      "text/html": [
       "<style>\n",
       ".list-inline {list-style: none; margin:0; padding: 0}\n",
       ".list-inline>li {display: inline-block}\n",
       ".list-inline>li:not(:last-child)::after {content: \"\\00b7\"; padding: 0 .5ex}\n",
       "</style>\n",
       "<ol class=list-inline><li>'hotel'</li><li>'is_canceled'</li><li>'lead_time'</li><li>'arrival_date_year'</li><li>'arrival_date_month'</li><li>'arrival_date_week_number'</li><li>'arrival_date_day_of_month'</li><li>'stays_in_weekend_nights'</li><li>'stays_in_week_nights'</li><li>'adults'</li><li>'children'</li><li>'babies'</li><li>'meal'</li><li>'country'</li><li>'market_segment'</li><li>'distribution_channel'</li><li>'is_repeated_guest'</li><li>'previous_cancellations'</li><li>'previous_bookings_not_canceled'</li><li>'reserved_room_type'</li><li>'assigned_room_type'</li><li>'booking_changes'</li><li>'deposit_type'</li><li>'agent'</li><li>'company'</li><li>'days_in_waiting_list'</li><li>'customer_type'</li><li>'adr'</li><li>'required_car_parking_spaces'</li><li>'total_of_special_requests'</li><li>'reservation_status'</li><li>'reservation_status_date'</li><li>'guests'</li></ol>\n"
      ],
      "text/latex": [
       "\\begin{enumerate*}\n",
       "\\item 'hotel'\n",
       "\\item 'is\\_canceled'\n",
       "\\item 'lead\\_time'\n",
       "\\item 'arrival\\_date\\_year'\n",
       "\\item 'arrival\\_date\\_month'\n",
       "\\item 'arrival\\_date\\_week\\_number'\n",
       "\\item 'arrival\\_date\\_day\\_of\\_month'\n",
       "\\item 'stays\\_in\\_weekend\\_nights'\n",
       "\\item 'stays\\_in\\_week\\_nights'\n",
       "\\item 'adults'\n",
       "\\item 'children'\n",
       "\\item 'babies'\n",
       "\\item 'meal'\n",
       "\\item 'country'\n",
       "\\item 'market\\_segment'\n",
       "\\item 'distribution\\_channel'\n",
       "\\item 'is\\_repeated\\_guest'\n",
       "\\item 'previous\\_cancellations'\n",
       "\\item 'previous\\_bookings\\_not\\_canceled'\n",
       "\\item 'reserved\\_room\\_type'\n",
       "\\item 'assigned\\_room\\_type'\n",
       "\\item 'booking\\_changes'\n",
       "\\item 'deposit\\_type'\n",
       "\\item 'agent'\n",
       "\\item 'company'\n",
       "\\item 'days\\_in\\_waiting\\_list'\n",
       "\\item 'customer\\_type'\n",
       "\\item 'adr'\n",
       "\\item 'required\\_car\\_parking\\_spaces'\n",
       "\\item 'total\\_of\\_special\\_requests'\n",
       "\\item 'reservation\\_status'\n",
       "\\item 'reservation\\_status\\_date'\n",
       "\\item 'guests'\n",
       "\\end{enumerate*}\n"
      ],
      "text/markdown": [
       "1. 'hotel'\n",
       "2. 'is_canceled'\n",
       "3. 'lead_time'\n",
       "4. 'arrival_date_year'\n",
       "5. 'arrival_date_month'\n",
       "6. 'arrival_date_week_number'\n",
       "7. 'arrival_date_day_of_month'\n",
       "8. 'stays_in_weekend_nights'\n",
       "9. 'stays_in_week_nights'\n",
       "10. 'adults'\n",
       "11. 'children'\n",
       "12. 'babies'\n",
       "13. 'meal'\n",
       "14. 'country'\n",
       "15. 'market_segment'\n",
       "16. 'distribution_channel'\n",
       "17. 'is_repeated_guest'\n",
       "18. 'previous_cancellations'\n",
       "19. 'previous_bookings_not_canceled'\n",
       "20. 'reserved_room_type'\n",
       "21. 'assigned_room_type'\n",
       "22. 'booking_changes'\n",
       "23. 'deposit_type'\n",
       "24. 'agent'\n",
       "25. 'company'\n",
       "26. 'days_in_waiting_list'\n",
       "27. 'customer_type'\n",
       "28. 'adr'\n",
       "29. 'required_car_parking_spaces'\n",
       "30. 'total_of_special_requests'\n",
       "31. 'reservation_status'\n",
       "32. 'reservation_status_date'\n",
       "33. 'guests'\n",
       "\n",
       "\n"
      ],
      "text/plain": [
       " [1] \"hotel\"                          \"is_canceled\"                   \n",
       " [3] \"lead_time\"                      \"arrival_date_year\"             \n",
       " [5] \"arrival_date_month\"             \"arrival_date_week_number\"      \n",
       " [7] \"arrival_date_day_of_month\"      \"stays_in_weekend_nights\"       \n",
       " [9] \"stays_in_week_nights\"           \"adults\"                        \n",
       "[11] \"children\"                       \"babies\"                        \n",
       "[13] \"meal\"                           \"country\"                       \n",
       "[15] \"market_segment\"                 \"distribution_channel\"          \n",
       "[17] \"is_repeated_guest\"              \"previous_cancellations\"        \n",
       "[19] \"previous_bookings_not_canceled\" \"reserved_room_type\"            \n",
       "[21] \"assigned_room_type\"             \"booking_changes\"               \n",
       "[23] \"deposit_type\"                   \"agent\"                         \n",
       "[25] \"company\"                        \"days_in_waiting_list\"          \n",
       "[27] \"customer_type\"                  \"adr\"                           \n",
       "[29] \"required_car_parking_spaces\"    \"total_of_special_requests\"     \n",
       "[31] \"reservation_status\"             \"reservation_status_date\"       \n",
       "[33] \"guests\"                        "
      ]
     },
     "metadata": {},
     "output_type": "display_data"
    }
   ],
   "source": [
    "colnames(data)"
   ]
  },
  {
   "cell_type": "code",
   "execution_count": 30,
   "metadata": {
    "vscode": {
     "languageId": "r"
    }
   },
   "outputs": [
    {
     "data": {
      "text/html": [
       "<table class=\"dataframe\">\n",
       "<caption>A tibble: 6 × 33</caption>\n",
       "<thead>\n",
       "\t<tr><th scope=col>hotel</th><th scope=col>is_canceled</th><th scope=col>lead_time</th><th scope=col>arrival_date_year</th><th scope=col>arrival_date_month</th><th scope=col>arrival_date_week_number</th><th scope=col>arrival_date_day_of_month</th><th scope=col>stays_in_weekend_nights</th><th scope=col>stays_in_week_nights</th><th scope=col>adults</th><th scope=col>⋯</th><th scope=col>agent</th><th scope=col>company</th><th scope=col>days_in_waiting_list</th><th scope=col>customer_type</th><th scope=col>adr</th><th scope=col>required_car_parking_spaces</th><th scope=col>total_of_special_requests</th><th scope=col>reservation_status</th><th scope=col>reservation_status_date</th><th scope=col>guests</th></tr>\n",
       "\t<tr><th scope=col>&lt;chr&gt;</th><th scope=col>&lt;dbl&gt;</th><th scope=col>&lt;dbl&gt;</th><th scope=col>&lt;dbl&gt;</th><th scope=col>&lt;chr&gt;</th><th scope=col>&lt;dbl&gt;</th><th scope=col>&lt;dbl&gt;</th><th scope=col>&lt;dbl&gt;</th><th scope=col>&lt;dbl&gt;</th><th scope=col>&lt;dbl&gt;</th><th scope=col>⋯</th><th scope=col>&lt;chr&gt;</th><th scope=col>&lt;chr&gt;</th><th scope=col>&lt;dbl&gt;</th><th scope=col>&lt;chr&gt;</th><th scope=col>&lt;dbl&gt;</th><th scope=col>&lt;dbl&gt;</th><th scope=col>&lt;dbl&gt;</th><th scope=col>&lt;chr&gt;</th><th scope=col>&lt;date&gt;</th><th scope=col>&lt;dbl&gt;</th></tr>\n",
       "</thead>\n",
       "<tbody>\n",
       "\t<tr><td>Resort Hotel</td><td>0</td><td>0</td><td>2015</td><td>July</td><td>27</td><td>1</td><td>0</td><td>2</td><td>2</td><td>⋯</td><td>NULL</td><td>NULL</td><td>0</td><td>Transient</td><td>107.00</td><td>0</td><td>0</td><td>Check-Out</td><td>2015-07-03</td><td>2</td></tr>\n",
       "\t<tr><td>Resort Hotel</td><td>0</td><td>0</td><td>2015</td><td>July</td><td>27</td><td>1</td><td>0</td><td>1</td><td>2</td><td>⋯</td><td>NULL</td><td>110 </td><td>0</td><td>Transient</td><td>107.42</td><td>0</td><td>0</td><td>Check-Out</td><td>2015-07-02</td><td>2</td></tr>\n",
       "\t<tr><td>Resort Hotel</td><td>0</td><td>0</td><td>2015</td><td>July</td><td>27</td><td>2</td><td>0</td><td>1</td><td>2</td><td>⋯</td><td>NULL</td><td>NULL</td><td>0</td><td>Transient</td><td>147.00</td><td>0</td><td>0</td><td>Check-Out</td><td>2015-07-03</td><td>2</td></tr>\n",
       "\t<tr><td>Resort Hotel</td><td>0</td><td>0</td><td>2015</td><td>July</td><td>27</td><td>2</td><td>0</td><td>1</td><td>2</td><td>⋯</td><td>240 </td><td>NULL</td><td>0</td><td>Transient</td><td>117.90</td><td>0</td><td>2</td><td>Check-Out</td><td>2015-07-03</td><td>2</td></tr>\n",
       "\t<tr><td>Resort Hotel</td><td>0</td><td>0</td><td>2015</td><td>July</td><td>27</td><td>2</td><td>0</td><td>1</td><td>2</td><td>⋯</td><td>NULL</td><td>NULL</td><td>0</td><td>Transient</td><td>123.00</td><td>0</td><td>0</td><td>Check-Out</td><td>2015-07-03</td><td>2</td></tr>\n",
       "\t<tr><td>Resort Hotel</td><td>0</td><td>0</td><td>2015</td><td>July</td><td>28</td><td>5</td><td>1</td><td>0</td><td>2</td><td>⋯</td><td>306 </td><td>NULL</td><td>0</td><td>Transient</td><td> 85.10</td><td>0</td><td>0</td><td>Check-Out</td><td>2015-07-06</td><td>2</td></tr>\n",
       "</tbody>\n",
       "</table>\n"
      ],
      "text/latex": [
       "A tibble: 6 × 33\n",
       "\\begin{tabular}{lllllllllllllllllllll}\n",
       " hotel & is\\_canceled & lead\\_time & arrival\\_date\\_year & arrival\\_date\\_month & arrival\\_date\\_week\\_number & arrival\\_date\\_day\\_of\\_month & stays\\_in\\_weekend\\_nights & stays\\_in\\_week\\_nights & adults & ⋯ & agent & company & days\\_in\\_waiting\\_list & customer\\_type & adr & required\\_car\\_parking\\_spaces & total\\_of\\_special\\_requests & reservation\\_status & reservation\\_status\\_date & guests\\\\\n",
       " <chr> & <dbl> & <dbl> & <dbl> & <chr> & <dbl> & <dbl> & <dbl> & <dbl> & <dbl> & ⋯ & <chr> & <chr> & <dbl> & <chr> & <dbl> & <dbl> & <dbl> & <chr> & <date> & <dbl>\\\\\n",
       "\\hline\n",
       "\t Resort Hotel & 0 & 0 & 2015 & July & 27 & 1 & 0 & 2 & 2 & ⋯ & NULL & NULL & 0 & Transient & 107.00 & 0 & 0 & Check-Out & 2015-07-03 & 2\\\\\n",
       "\t Resort Hotel & 0 & 0 & 2015 & July & 27 & 1 & 0 & 1 & 2 & ⋯ & NULL & 110  & 0 & Transient & 107.42 & 0 & 0 & Check-Out & 2015-07-02 & 2\\\\\n",
       "\t Resort Hotel & 0 & 0 & 2015 & July & 27 & 2 & 0 & 1 & 2 & ⋯ & NULL & NULL & 0 & Transient & 147.00 & 0 & 0 & Check-Out & 2015-07-03 & 2\\\\\n",
       "\t Resort Hotel & 0 & 0 & 2015 & July & 27 & 2 & 0 & 1 & 2 & ⋯ & 240  & NULL & 0 & Transient & 117.90 & 0 & 2 & Check-Out & 2015-07-03 & 2\\\\\n",
       "\t Resort Hotel & 0 & 0 & 2015 & July & 27 & 2 & 0 & 1 & 2 & ⋯ & NULL & NULL & 0 & Transient & 123.00 & 0 & 0 & Check-Out & 2015-07-03 & 2\\\\\n",
       "\t Resort Hotel & 0 & 0 & 2015 & July & 28 & 5 & 1 & 0 & 2 & ⋯ & 306  & NULL & 0 & Transient &  85.10 & 0 & 0 & Check-Out & 2015-07-06 & 2\\\\\n",
       "\\end{tabular}\n"
      ],
      "text/markdown": [
       "\n",
       "A tibble: 6 × 33\n",
       "\n",
       "| hotel &lt;chr&gt; | is_canceled &lt;dbl&gt; | lead_time &lt;dbl&gt; | arrival_date_year &lt;dbl&gt; | arrival_date_month &lt;chr&gt; | arrival_date_week_number &lt;dbl&gt; | arrival_date_day_of_month &lt;dbl&gt; | stays_in_weekend_nights &lt;dbl&gt; | stays_in_week_nights &lt;dbl&gt; | adults &lt;dbl&gt; | ⋯ ⋯ | agent &lt;chr&gt; | company &lt;chr&gt; | days_in_waiting_list &lt;dbl&gt; | customer_type &lt;chr&gt; | adr &lt;dbl&gt; | required_car_parking_spaces &lt;dbl&gt; | total_of_special_requests &lt;dbl&gt; | reservation_status &lt;chr&gt; | reservation_status_date &lt;date&gt; | guests &lt;dbl&gt; |\n",
       "|---|---|---|---|---|---|---|---|---|---|---|---|---|---|---|---|---|---|---|---|---|\n",
       "| Resort Hotel | 0 | 0 | 2015 | July | 27 | 1 | 0 | 2 | 2 | ⋯ | NULL | NULL | 0 | Transient | 107.00 | 0 | 0 | Check-Out | 2015-07-03 | 2 |\n",
       "| Resort Hotel | 0 | 0 | 2015 | July | 27 | 1 | 0 | 1 | 2 | ⋯ | NULL | 110  | 0 | Transient | 107.42 | 0 | 0 | Check-Out | 2015-07-02 | 2 |\n",
       "| Resort Hotel | 0 | 0 | 2015 | July | 27 | 2 | 0 | 1 | 2 | ⋯ | NULL | NULL | 0 | Transient | 147.00 | 0 | 0 | Check-Out | 2015-07-03 | 2 |\n",
       "| Resort Hotel | 0 | 0 | 2015 | July | 27 | 2 | 0 | 1 | 2 | ⋯ | 240  | NULL | 0 | Transient | 117.90 | 0 | 2 | Check-Out | 2015-07-03 | 2 |\n",
       "| Resort Hotel | 0 | 0 | 2015 | July | 27 | 2 | 0 | 1 | 2 | ⋯ | NULL | NULL | 0 | Transient | 123.00 | 0 | 0 | Check-Out | 2015-07-03 | 2 |\n",
       "| Resort Hotel | 0 | 0 | 2015 | July | 28 | 5 | 1 | 0 | 2 | ⋯ | 306  | NULL | 0 | Transient |  85.10 | 0 | 0 | Check-Out | 2015-07-06 | 2 |\n",
       "\n"
      ],
      "text/plain": [
       "  hotel        is_canceled lead_time arrival_date_year arrival_date_month\n",
       "1 Resort Hotel 0           0         2015              July              \n",
       "2 Resort Hotel 0           0         2015              July              \n",
       "3 Resort Hotel 0           0         2015              July              \n",
       "4 Resort Hotel 0           0         2015              July              \n",
       "5 Resort Hotel 0           0         2015              July              \n",
       "6 Resort Hotel 0           0         2015              July              \n",
       "  arrival_date_week_number arrival_date_day_of_month stays_in_weekend_nights\n",
       "1 27                       1                         0                      \n",
       "2 27                       1                         0                      \n",
       "3 27                       2                         0                      \n",
       "4 27                       2                         0                      \n",
       "5 27                       2                         0                      \n",
       "6 28                       5                         1                      \n",
       "  stays_in_week_nights adults ⋯ agent company days_in_waiting_list\n",
       "1 2                    2      ⋯ NULL  NULL    0                   \n",
       "2 1                    2      ⋯ NULL  110     0                   \n",
       "3 1                    2      ⋯ NULL  NULL    0                   \n",
       "4 1                    2      ⋯ 240   NULL    0                   \n",
       "5 1                    2      ⋯ NULL  NULL    0                   \n",
       "6 0                    2      ⋯ 306   NULL    0                   \n",
       "  customer_type adr    required_car_parking_spaces total_of_special_requests\n",
       "1 Transient     107.00 0                           0                        \n",
       "2 Transient     107.42 0                           0                        \n",
       "3 Transient     147.00 0                           0                        \n",
       "4 Transient     117.90 0                           2                        \n",
       "5 Transient     123.00 0                           0                        \n",
       "6 Transient      85.10 0                           0                        \n",
       "  reservation_status reservation_status_date guests\n",
       "1 Check-Out          2015-07-03              2     \n",
       "2 Check-Out          2015-07-02              2     \n",
       "3 Check-Out          2015-07-03              2     \n",
       "4 Check-Out          2015-07-03              2     \n",
       "5 Check-Out          2015-07-03              2     \n",
       "6 Check-Out          2015-07-06              2     "
      ]
     },
     "metadata": {},
     "output_type": "display_data"
    }
   ],
   "source": [
    "head(data %>% arrange(lead_time))"
   ]
  },
  {
   "attachments": {},
   "cell_type": "markdown",
   "metadata": {},
   "source": [
    "### What is the highest lead time for a hotel booking in this data set?\n",
    "#### 737"
   ]
  },
  {
   "cell_type": "code",
   "execution_count": 29,
   "metadata": {
    "vscode": {
     "languageId": "r"
    }
   },
   "outputs": [
    {
     "data": {
      "text/html": [
       "<table class=\"dataframe\">\n",
       "<caption>A tibble: 6 × 33</caption>\n",
       "<thead>\n",
       "\t<tr><th scope=col>hotel</th><th scope=col>is_canceled</th><th scope=col>lead_time</th><th scope=col>arrival_date_year</th><th scope=col>arrival_date_month</th><th scope=col>arrival_date_week_number</th><th scope=col>arrival_date_day_of_month</th><th scope=col>stays_in_weekend_nights</th><th scope=col>stays_in_week_nights</th><th scope=col>adults</th><th scope=col>⋯</th><th scope=col>agent</th><th scope=col>company</th><th scope=col>days_in_waiting_list</th><th scope=col>customer_type</th><th scope=col>adr</th><th scope=col>required_car_parking_spaces</th><th scope=col>total_of_special_requests</th><th scope=col>reservation_status</th><th scope=col>reservation_status_date</th><th scope=col>guests</th></tr>\n",
       "\t<tr><th scope=col>&lt;chr&gt;</th><th scope=col>&lt;dbl&gt;</th><th scope=col>&lt;dbl&gt;</th><th scope=col>&lt;dbl&gt;</th><th scope=col>&lt;chr&gt;</th><th scope=col>&lt;dbl&gt;</th><th scope=col>&lt;dbl&gt;</th><th scope=col>&lt;dbl&gt;</th><th scope=col>&lt;dbl&gt;</th><th scope=col>&lt;dbl&gt;</th><th scope=col>⋯</th><th scope=col>&lt;chr&gt;</th><th scope=col>&lt;chr&gt;</th><th scope=col>&lt;dbl&gt;</th><th scope=col>&lt;chr&gt;</th><th scope=col>&lt;dbl&gt;</th><th scope=col>&lt;dbl&gt;</th><th scope=col>&lt;dbl&gt;</th><th scope=col>&lt;chr&gt;</th><th scope=col>&lt;date&gt;</th><th scope=col>&lt;dbl&gt;</th></tr>\n",
       "</thead>\n",
       "<tbody>\n",
       "\t<tr><td>Resort Hotel</td><td>0</td><td>737</td><td>2015</td><td>July    </td><td>27</td><td> 1</td><td>0</td><td> 0</td><td>2</td><td>⋯</td><td>NULL</td><td>NULL</td><td>0</td><td>Transient</td><td> 0</td><td>0</td><td>0</td><td>Check-Out</td><td>2015-07-01</td><td>2</td></tr>\n",
       "\t<tr><td>Resort Hotel</td><td>0</td><td>709</td><td>2016</td><td>February</td><td> 9</td><td>25</td><td>8</td><td>20</td><td>2</td><td>⋯</td><td>NULL</td><td>NULL</td><td>0</td><td>Transient</td><td>68</td><td>0</td><td>0</td><td>Check-Out</td><td>2016-03-24</td><td>2</td></tr>\n",
       "\t<tr><td>City Hotel  </td><td>1</td><td>629</td><td>2017</td><td>March   </td><td>13</td><td>30</td><td>0</td><td> 1</td><td>1</td><td>⋯</td><td>1   </td><td>NULL</td><td>0</td><td>Transient</td><td>59</td><td>0</td><td>0</td><td>Canceled </td><td>2015-10-21</td><td>1</td></tr>\n",
       "\t<tr><td>City Hotel  </td><td>1</td><td>629</td><td>2017</td><td>March   </td><td>13</td><td>30</td><td>0</td><td> 1</td><td>1</td><td>⋯</td><td>1   </td><td>NULL</td><td>0</td><td>Transient</td><td>59</td><td>0</td><td>0</td><td>Canceled </td><td>2015-10-21</td><td>1</td></tr>\n",
       "\t<tr><td>City Hotel  </td><td>1</td><td>629</td><td>2017</td><td>March   </td><td>13</td><td>30</td><td>0</td><td> 2</td><td>2</td><td>⋯</td><td>1   </td><td>NULL</td><td>0</td><td>Transient</td><td>62</td><td>0</td><td>0</td><td>Canceled </td><td>2015-10-21</td><td>2</td></tr>\n",
       "\t<tr><td>City Hotel  </td><td>1</td><td>629</td><td>2017</td><td>March   </td><td>13</td><td>30</td><td>0</td><td> 2</td><td>2</td><td>⋯</td><td>1   </td><td>NULL</td><td>0</td><td>Transient</td><td>62</td><td>0</td><td>0</td><td>Canceled </td><td>2015-10-21</td><td>2</td></tr>\n",
       "</tbody>\n",
       "</table>\n"
      ],
      "text/latex": [
       "A tibble: 6 × 33\n",
       "\\begin{tabular}{lllllllllllllllllllll}\n",
       " hotel & is\\_canceled & lead\\_time & arrival\\_date\\_year & arrival\\_date\\_month & arrival\\_date\\_week\\_number & arrival\\_date\\_day\\_of\\_month & stays\\_in\\_weekend\\_nights & stays\\_in\\_week\\_nights & adults & ⋯ & agent & company & days\\_in\\_waiting\\_list & customer\\_type & adr & required\\_car\\_parking\\_spaces & total\\_of\\_special\\_requests & reservation\\_status & reservation\\_status\\_date & guests\\\\\n",
       " <chr> & <dbl> & <dbl> & <dbl> & <chr> & <dbl> & <dbl> & <dbl> & <dbl> & <dbl> & ⋯ & <chr> & <chr> & <dbl> & <chr> & <dbl> & <dbl> & <dbl> & <chr> & <date> & <dbl>\\\\\n",
       "\\hline\n",
       "\t Resort Hotel & 0 & 737 & 2015 & July     & 27 &  1 & 0 &  0 & 2 & ⋯ & NULL & NULL & 0 & Transient &  0 & 0 & 0 & Check-Out & 2015-07-01 & 2\\\\\n",
       "\t Resort Hotel & 0 & 709 & 2016 & February &  9 & 25 & 8 & 20 & 2 & ⋯ & NULL & NULL & 0 & Transient & 68 & 0 & 0 & Check-Out & 2016-03-24 & 2\\\\\n",
       "\t City Hotel   & 1 & 629 & 2017 & March    & 13 & 30 & 0 &  1 & 1 & ⋯ & 1    & NULL & 0 & Transient & 59 & 0 & 0 & Canceled  & 2015-10-21 & 1\\\\\n",
       "\t City Hotel   & 1 & 629 & 2017 & March    & 13 & 30 & 0 &  1 & 1 & ⋯ & 1    & NULL & 0 & Transient & 59 & 0 & 0 & Canceled  & 2015-10-21 & 1\\\\\n",
       "\t City Hotel   & 1 & 629 & 2017 & March    & 13 & 30 & 0 &  2 & 2 & ⋯ & 1    & NULL & 0 & Transient & 62 & 0 & 0 & Canceled  & 2015-10-21 & 2\\\\\n",
       "\t City Hotel   & 1 & 629 & 2017 & March    & 13 & 30 & 0 &  2 & 2 & ⋯ & 1    & NULL & 0 & Transient & 62 & 0 & 0 & Canceled  & 2015-10-21 & 2\\\\\n",
       "\\end{tabular}\n"
      ],
      "text/markdown": [
       "\n",
       "A tibble: 6 × 33\n",
       "\n",
       "| hotel &lt;chr&gt; | is_canceled &lt;dbl&gt; | lead_time &lt;dbl&gt; | arrival_date_year &lt;dbl&gt; | arrival_date_month &lt;chr&gt; | arrival_date_week_number &lt;dbl&gt; | arrival_date_day_of_month &lt;dbl&gt; | stays_in_weekend_nights &lt;dbl&gt; | stays_in_week_nights &lt;dbl&gt; | adults &lt;dbl&gt; | ⋯ ⋯ | agent &lt;chr&gt; | company &lt;chr&gt; | days_in_waiting_list &lt;dbl&gt; | customer_type &lt;chr&gt; | adr &lt;dbl&gt; | required_car_parking_spaces &lt;dbl&gt; | total_of_special_requests &lt;dbl&gt; | reservation_status &lt;chr&gt; | reservation_status_date &lt;date&gt; | guests &lt;dbl&gt; |\n",
       "|---|---|---|---|---|---|---|---|---|---|---|---|---|---|---|---|---|---|---|---|---|\n",
       "| Resort Hotel | 0 | 737 | 2015 | July     | 27 |  1 | 0 |  0 | 2 | ⋯ | NULL | NULL | 0 | Transient |  0 | 0 | 0 | Check-Out | 2015-07-01 | 2 |\n",
       "| Resort Hotel | 0 | 709 | 2016 | February |  9 | 25 | 8 | 20 | 2 | ⋯ | NULL | NULL | 0 | Transient | 68 | 0 | 0 | Check-Out | 2016-03-24 | 2 |\n",
       "| City Hotel   | 1 | 629 | 2017 | March    | 13 | 30 | 0 |  1 | 1 | ⋯ | 1    | NULL | 0 | Transient | 59 | 0 | 0 | Canceled  | 2015-10-21 | 1 |\n",
       "| City Hotel   | 1 | 629 | 2017 | March    | 13 | 30 | 0 |  1 | 1 | ⋯ | 1    | NULL | 0 | Transient | 59 | 0 | 0 | Canceled  | 2015-10-21 | 1 |\n",
       "| City Hotel   | 1 | 629 | 2017 | March    | 13 | 30 | 0 |  2 | 2 | ⋯ | 1    | NULL | 0 | Transient | 62 | 0 | 0 | Canceled  | 2015-10-21 | 2 |\n",
       "| City Hotel   | 1 | 629 | 2017 | March    | 13 | 30 | 0 |  2 | 2 | ⋯ | 1    | NULL | 0 | Transient | 62 | 0 | 0 | Canceled  | 2015-10-21 | 2 |\n",
       "\n"
      ],
      "text/plain": [
       "  hotel        is_canceled lead_time arrival_date_year arrival_date_month\n",
       "1 Resort Hotel 0           737       2015              July              \n",
       "2 Resort Hotel 0           709       2016              February          \n",
       "3 City Hotel   1           629       2017              March             \n",
       "4 City Hotel   1           629       2017              March             \n",
       "5 City Hotel   1           629       2017              March             \n",
       "6 City Hotel   1           629       2017              March             \n",
       "  arrival_date_week_number arrival_date_day_of_month stays_in_weekend_nights\n",
       "1 27                        1                        0                      \n",
       "2  9                       25                        8                      \n",
       "3 13                       30                        0                      \n",
       "4 13                       30                        0                      \n",
       "5 13                       30                        0                      \n",
       "6 13                       30                        0                      \n",
       "  stays_in_week_nights adults ⋯ agent company days_in_waiting_list\n",
       "1  0                   2      ⋯ NULL  NULL    0                   \n",
       "2 20                   2      ⋯ NULL  NULL    0                   \n",
       "3  1                   1      ⋯ 1     NULL    0                   \n",
       "4  1                   1      ⋯ 1     NULL    0                   \n",
       "5  2                   2      ⋯ 1     NULL    0                   \n",
       "6  2                   2      ⋯ 1     NULL    0                   \n",
       "  customer_type adr required_car_parking_spaces total_of_special_requests\n",
       "1 Transient      0  0                           0                        \n",
       "2 Transient     68  0                           0                        \n",
       "3 Transient     59  0                           0                        \n",
       "4 Transient     59  0                           0                        \n",
       "5 Transient     62  0                           0                        \n",
       "6 Transient     62  0                           0                        \n",
       "  reservation_status reservation_status_date guests\n",
       "1 Check-Out          2015-07-01              2     \n",
       "2 Check-Out          2016-03-24              2     \n",
       "3 Canceled           2015-10-21              1     \n",
       "4 Canceled           2015-10-21              1     \n",
       "5 Canceled           2015-10-21              2     \n",
       "6 Canceled           2015-10-21              2     "
      ]
     },
     "metadata": {},
     "output_type": "display_data"
    }
   ],
   "source": [
    "head(data %>% arrange(desc(lead_time)))"
   ]
  },
  {
   "attachments": {},
   "cell_type": "markdown",
   "metadata": {},
   "source": [
    "### Average of lead_time"
   ]
  },
  {
   "cell_type": "code",
   "execution_count": 31,
   "metadata": {
    "vscode": {
     "languageId": "r"
    }
   },
   "outputs": [
    {
     "data": {
      "text/html": [
       "104.01141636653"
      ],
      "text/latex": [
       "104.01141636653"
      ],
      "text/markdown": [
       "104.01141636653"
      ],
      "text/plain": [
       "[1] 104.0114"
      ]
     },
     "metadata": {},
     "output_type": "display_data"
    }
   ],
   "source": [
    "mean(data$lead_time)"
   ]
  },
  {
   "attachments": {},
   "cell_type": "markdown",
   "metadata": {},
   "source": [
    "### what the average lead time before booking is for just city hotels?"
   ]
  },
  {
   "cell_type": "code",
   "execution_count": 33,
   "metadata": {
    "vscode": {
     "languageId": "r"
    }
   },
   "outputs": [
    {
     "data": {
      "text/html": [
       "<table class=\"dataframe\">\n",
       "<caption>A tibble: 6 × 33</caption>\n",
       "<thead>\n",
       "\t<tr><th scope=col>hotel</th><th scope=col>is_canceled</th><th scope=col>lead_time</th><th scope=col>arrival_date_year</th><th scope=col>arrival_date_month</th><th scope=col>arrival_date_week_number</th><th scope=col>arrival_date_day_of_month</th><th scope=col>stays_in_weekend_nights</th><th scope=col>stays_in_week_nights</th><th scope=col>adults</th><th scope=col>⋯</th><th scope=col>agent</th><th scope=col>company</th><th scope=col>days_in_waiting_list</th><th scope=col>customer_type</th><th scope=col>adr</th><th scope=col>required_car_parking_spaces</th><th scope=col>total_of_special_requests</th><th scope=col>reservation_status</th><th scope=col>reservation_status_date</th><th scope=col>guests</th></tr>\n",
       "\t<tr><th scope=col>&lt;chr&gt;</th><th scope=col>&lt;dbl&gt;</th><th scope=col>&lt;dbl&gt;</th><th scope=col>&lt;dbl&gt;</th><th scope=col>&lt;chr&gt;</th><th scope=col>&lt;dbl&gt;</th><th scope=col>&lt;dbl&gt;</th><th scope=col>&lt;dbl&gt;</th><th scope=col>&lt;dbl&gt;</th><th scope=col>&lt;dbl&gt;</th><th scope=col>⋯</th><th scope=col>&lt;chr&gt;</th><th scope=col>&lt;chr&gt;</th><th scope=col>&lt;dbl&gt;</th><th scope=col>&lt;chr&gt;</th><th scope=col>&lt;dbl&gt;</th><th scope=col>&lt;dbl&gt;</th><th scope=col>&lt;dbl&gt;</th><th scope=col>&lt;chr&gt;</th><th scope=col>&lt;date&gt;</th><th scope=col>&lt;dbl&gt;</th></tr>\n",
       "</thead>\n",
       "<tbody>\n",
       "\t<tr><td>City Hotel</td><td>0</td><td>  6</td><td>2015</td><td>July</td><td>27</td><td>1</td><td>0</td><td>2</td><td>1</td><td>⋯</td><td>6</td><td>NULL</td><td>0</td><td>Transient</td><td> 0.0</td><td>0</td><td>0</td><td>Check-Out</td><td>2015-07-03</td><td>1</td></tr>\n",
       "\t<tr><td>City Hotel</td><td>1</td><td> 88</td><td>2015</td><td>July</td><td>27</td><td>1</td><td>0</td><td>4</td><td>2</td><td>⋯</td><td>9</td><td>NULL</td><td>0</td><td>Transient</td><td>76.5</td><td>0</td><td>1</td><td>Canceled </td><td>2015-07-01</td><td>2</td></tr>\n",
       "\t<tr><td>City Hotel</td><td>1</td><td> 65</td><td>2015</td><td>July</td><td>27</td><td>1</td><td>0</td><td>4</td><td>1</td><td>⋯</td><td>9</td><td>NULL</td><td>0</td><td>Transient</td><td>68.0</td><td>0</td><td>1</td><td>Canceled </td><td>2015-04-30</td><td>1</td></tr>\n",
       "\t<tr><td>City Hotel</td><td>1</td><td> 92</td><td>2015</td><td>July</td><td>27</td><td>1</td><td>2</td><td>4</td><td>2</td><td>⋯</td><td>9</td><td>NULL</td><td>0</td><td>Transient</td><td>76.5</td><td>0</td><td>2</td><td>Canceled </td><td>2015-06-23</td><td>2</td></tr>\n",
       "\t<tr><td>City Hotel</td><td>1</td><td>100</td><td>2015</td><td>July</td><td>27</td><td>2</td><td>0</td><td>2</td><td>2</td><td>⋯</td><td>9</td><td>NULL</td><td>0</td><td>Transient</td><td>76.5</td><td>0</td><td>1</td><td>Canceled </td><td>2015-04-02</td><td>2</td></tr>\n",
       "\t<tr><td>City Hotel</td><td>1</td><td> 79</td><td>2015</td><td>July</td><td>27</td><td>2</td><td>0</td><td>3</td><td>2</td><td>⋯</td><td>9</td><td>NULL</td><td>0</td><td>Transient</td><td>76.5</td><td>0</td><td>1</td><td>Canceled </td><td>2015-06-25</td><td>2</td></tr>\n",
       "</tbody>\n",
       "</table>\n"
      ],
      "text/latex": [
       "A tibble: 6 × 33\n",
       "\\begin{tabular}{lllllllllllllllllllll}\n",
       " hotel & is\\_canceled & lead\\_time & arrival\\_date\\_year & arrival\\_date\\_month & arrival\\_date\\_week\\_number & arrival\\_date\\_day\\_of\\_month & stays\\_in\\_weekend\\_nights & stays\\_in\\_week\\_nights & adults & ⋯ & agent & company & days\\_in\\_waiting\\_list & customer\\_type & adr & required\\_car\\_parking\\_spaces & total\\_of\\_special\\_requests & reservation\\_status & reservation\\_status\\_date & guests\\\\\n",
       " <chr> & <dbl> & <dbl> & <dbl> & <chr> & <dbl> & <dbl> & <dbl> & <dbl> & <dbl> & ⋯ & <chr> & <chr> & <dbl> & <chr> & <dbl> & <dbl> & <dbl> & <chr> & <date> & <dbl>\\\\\n",
       "\\hline\n",
       "\t City Hotel & 0 &   6 & 2015 & July & 27 & 1 & 0 & 2 & 1 & ⋯ & 6 & NULL & 0 & Transient &  0.0 & 0 & 0 & Check-Out & 2015-07-03 & 1\\\\\n",
       "\t City Hotel & 1 &  88 & 2015 & July & 27 & 1 & 0 & 4 & 2 & ⋯ & 9 & NULL & 0 & Transient & 76.5 & 0 & 1 & Canceled  & 2015-07-01 & 2\\\\\n",
       "\t City Hotel & 1 &  65 & 2015 & July & 27 & 1 & 0 & 4 & 1 & ⋯ & 9 & NULL & 0 & Transient & 68.0 & 0 & 1 & Canceled  & 2015-04-30 & 1\\\\\n",
       "\t City Hotel & 1 &  92 & 2015 & July & 27 & 1 & 2 & 4 & 2 & ⋯ & 9 & NULL & 0 & Transient & 76.5 & 0 & 2 & Canceled  & 2015-06-23 & 2\\\\\n",
       "\t City Hotel & 1 & 100 & 2015 & July & 27 & 2 & 0 & 2 & 2 & ⋯ & 9 & NULL & 0 & Transient & 76.5 & 0 & 1 & Canceled  & 2015-04-02 & 2\\\\\n",
       "\t City Hotel & 1 &  79 & 2015 & July & 27 & 2 & 0 & 3 & 2 & ⋯ & 9 & NULL & 0 & Transient & 76.5 & 0 & 1 & Canceled  & 2015-06-25 & 2\\\\\n",
       "\\end{tabular}\n"
      ],
      "text/markdown": [
       "\n",
       "A tibble: 6 × 33\n",
       "\n",
       "| hotel &lt;chr&gt; | is_canceled &lt;dbl&gt; | lead_time &lt;dbl&gt; | arrival_date_year &lt;dbl&gt; | arrival_date_month &lt;chr&gt; | arrival_date_week_number &lt;dbl&gt; | arrival_date_day_of_month &lt;dbl&gt; | stays_in_weekend_nights &lt;dbl&gt; | stays_in_week_nights &lt;dbl&gt; | adults &lt;dbl&gt; | ⋯ ⋯ | agent &lt;chr&gt; | company &lt;chr&gt; | days_in_waiting_list &lt;dbl&gt; | customer_type &lt;chr&gt; | adr &lt;dbl&gt; | required_car_parking_spaces &lt;dbl&gt; | total_of_special_requests &lt;dbl&gt; | reservation_status &lt;chr&gt; | reservation_status_date &lt;date&gt; | guests &lt;dbl&gt; |\n",
       "|---|---|---|---|---|---|---|---|---|---|---|---|---|---|---|---|---|---|---|---|---|\n",
       "| City Hotel | 0 |   6 | 2015 | July | 27 | 1 | 0 | 2 | 1 | ⋯ | 6 | NULL | 0 | Transient |  0.0 | 0 | 0 | Check-Out | 2015-07-03 | 1 |\n",
       "| City Hotel | 1 |  88 | 2015 | July | 27 | 1 | 0 | 4 | 2 | ⋯ | 9 | NULL | 0 | Transient | 76.5 | 0 | 1 | Canceled  | 2015-07-01 | 2 |\n",
       "| City Hotel | 1 |  65 | 2015 | July | 27 | 1 | 0 | 4 | 1 | ⋯ | 9 | NULL | 0 | Transient | 68.0 | 0 | 1 | Canceled  | 2015-04-30 | 1 |\n",
       "| City Hotel | 1 |  92 | 2015 | July | 27 | 1 | 2 | 4 | 2 | ⋯ | 9 | NULL | 0 | Transient | 76.5 | 0 | 2 | Canceled  | 2015-06-23 | 2 |\n",
       "| City Hotel | 1 | 100 | 2015 | July | 27 | 2 | 0 | 2 | 2 | ⋯ | 9 | NULL | 0 | Transient | 76.5 | 0 | 1 | Canceled  | 2015-04-02 | 2 |\n",
       "| City Hotel | 1 |  79 | 2015 | July | 27 | 2 | 0 | 3 | 2 | ⋯ | 9 | NULL | 0 | Transient | 76.5 | 0 | 1 | Canceled  | 2015-06-25 | 2 |\n",
       "\n"
      ],
      "text/plain": [
       "  hotel      is_canceled lead_time arrival_date_year arrival_date_month\n",
       "1 City Hotel 0             6       2015              July              \n",
       "2 City Hotel 1            88       2015              July              \n",
       "3 City Hotel 1            65       2015              July              \n",
       "4 City Hotel 1            92       2015              July              \n",
       "5 City Hotel 1           100       2015              July              \n",
       "6 City Hotel 1            79       2015              July              \n",
       "  arrival_date_week_number arrival_date_day_of_month stays_in_weekend_nights\n",
       "1 27                       1                         0                      \n",
       "2 27                       1                         0                      \n",
       "3 27                       1                         0                      \n",
       "4 27                       1                         2                      \n",
       "5 27                       2                         0                      \n",
       "6 27                       2                         0                      \n",
       "  stays_in_week_nights adults ⋯ agent company days_in_waiting_list\n",
       "1 2                    1      ⋯ 6     NULL    0                   \n",
       "2 4                    2      ⋯ 9     NULL    0                   \n",
       "3 4                    1      ⋯ 9     NULL    0                   \n",
       "4 4                    2      ⋯ 9     NULL    0                   \n",
       "5 2                    2      ⋯ 9     NULL    0                   \n",
       "6 3                    2      ⋯ 9     NULL    0                   \n",
       "  customer_type adr  required_car_parking_spaces total_of_special_requests\n",
       "1 Transient      0.0 0                           0                        \n",
       "2 Transient     76.5 0                           1                        \n",
       "3 Transient     68.0 0                           1                        \n",
       "4 Transient     76.5 0                           2                        \n",
       "5 Transient     76.5 0                           1                        \n",
       "6 Transient     76.5 0                           1                        \n",
       "  reservation_status reservation_status_date guests\n",
       "1 Check-Out          2015-07-03              1     \n",
       "2 Canceled           2015-07-01              2     \n",
       "3 Canceled           2015-04-30              1     \n",
       "4 Canceled           2015-06-23              2     \n",
       "5 Canceled           2015-04-02              2     \n",
       "6 Canceled           2015-06-25              2     "
      ]
     },
     "metadata": {},
     "output_type": "display_data"
    }
   ],
   "source": [
    "head(data %>% filter(hotel == 'City Hotel'))"
   ]
  },
  {
   "cell_type": "code",
   "execution_count": 37,
   "metadata": {
    "vscode": {
     "languageId": "r"
    }
   },
   "outputs": [
    {
     "data": {
      "text/html": [
       "<table class=\"dataframe\">\n",
       "<caption>A tibble: 1 × 1</caption>\n",
       "<thead>\n",
       "\t<tr><th scope=col>average_lead_time_before_booking_is_for_just_city_hotels</th></tr>\n",
       "\t<tr><th scope=col>&lt;dbl&gt;</th></tr>\n",
       "</thead>\n",
       "<tbody>\n",
       "\t<tr><td>109.7357</td></tr>\n",
       "</tbody>\n",
       "</table>\n"
      ],
      "text/latex": [
       "A tibble: 1 × 1\n",
       "\\begin{tabular}{l}\n",
       " average\\_lead\\_time\\_before\\_booking\\_is\\_for\\_just\\_city\\_hotels\\\\\n",
       " <dbl>\\\\\n",
       "\\hline\n",
       "\t 109.7357\\\\\n",
       "\\end{tabular}\n"
      ],
      "text/markdown": [
       "\n",
       "A tibble: 1 × 1\n",
       "\n",
       "| average_lead_time_before_booking_is_for_just_city_hotels &lt;dbl&gt; |\n",
       "|---|\n",
       "| 109.7357 |\n",
       "\n"
      ],
      "text/plain": [
       "  average_lead_time_before_booking_is_for_just_city_hotels\n",
       "1 109.7357                                                "
      ]
     },
     "metadata": {},
     "output_type": "display_data"
    }
   ],
   "source": [
    "data %>% filter(hotel == 'City Hotel') %>% summarize(average_lead_time_before_booking_is_for_just_city_hotels = mean(lead_time))"
   ]
  },
  {
   "attachments": {},
   "cell_type": "markdown",
   "metadata": {},
   "source": [
    "#### Know a lot more information about city hotels, including the maximum and minimum lead time. \n",
    "They are also interested in how they are different from resort hotels. You don't want to run each line of code over and over again, so you decide to use the `group_by()`and`summarize()` functions. You can also use the pipe operator to make your code easier to follow. You will store the new data set in a data frame named 'hotel_summary':"
   ]
  },
  {
   "cell_type": "code",
   "execution_count": 38,
   "metadata": {
    "vscode": {
     "languageId": "r"
    }
   },
   "outputs": [
    {
     "data": {
      "text/html": [
       "<table class=\"dataframe\">\n",
       "<caption>A tibble: 2 × 4</caption>\n",
       "<thead>\n",
       "\t<tr><th scope=col>hotel</th><th scope=col>average_Lead_time</th><th scope=col>max_lead_time</th><th scope=col>min_lead_time</th></tr>\n",
       "\t<tr><th scope=col>&lt;chr&gt;</th><th scope=col>&lt;dbl&gt;</th><th scope=col>&lt;dbl&gt;</th><th scope=col>&lt;dbl&gt;</th></tr>\n",
       "</thead>\n",
       "<tbody>\n",
       "\t<tr><td>City Hotel  </td><td>109.73572</td><td>629</td><td>0</td></tr>\n",
       "\t<tr><td>Resort Hotel</td><td> 92.67569</td><td>737</td><td>0</td></tr>\n",
       "</tbody>\n",
       "</table>\n"
      ],
      "text/latex": [
       "A tibble: 2 × 4\n",
       "\\begin{tabular}{llll}\n",
       " hotel & average\\_Lead\\_time & max\\_lead\\_time & min\\_lead\\_time\\\\\n",
       " <chr> & <dbl> & <dbl> & <dbl>\\\\\n",
       "\\hline\n",
       "\t City Hotel   & 109.73572 & 629 & 0\\\\\n",
       "\t Resort Hotel &  92.67569 & 737 & 0\\\\\n",
       "\\end{tabular}\n"
      ],
      "text/markdown": [
       "\n",
       "A tibble: 2 × 4\n",
       "\n",
       "| hotel &lt;chr&gt; | average_Lead_time &lt;dbl&gt; | max_lead_time &lt;dbl&gt; | min_lead_time &lt;dbl&gt; |\n",
       "|---|---|---|---|\n",
       "| City Hotel   | 109.73572 | 629 | 0 |\n",
       "| Resort Hotel |  92.67569 | 737 | 0 |\n",
       "\n"
      ],
      "text/plain": [
       "  hotel        average_Lead_time max_lead_time min_lead_time\n",
       "1 City Hotel   109.73572         629           0            \n",
       "2 Resort Hotel  92.67569         737           0            "
      ]
     },
     "metadata": {},
     "output_type": "display_data"
    }
   ],
   "source": [
    "data %>% group_by(hotel) %>% summarize(\n",
    "    average_Lead_time = mean(lead_time),\n",
    "    max_lead_time = max(lead_time),\n",
    "    min_lead_time = min(lead_time)\n",
    ") "
   ]
  },
  {
   "cell_type": "code",
   "execution_count": null,
   "metadata": {
    "vscode": {
     "languageId": "r"
    }
   },
   "outputs": [],
   "source": []
  }
 ],
 "metadata": {
  "kernelspec": {
   "display_name": "R",
   "language": "R",
   "name": "ir"
  },
  "language_info": {
   "codemirror_mode": "r",
   "file_extension": ".r",
   "mimetype": "text/x-r-source",
   "name": "R",
   "pygments_lexer": "r",
   "version": "4.2.2"
  },
  "orig_nbformat": 4
 },
 "nbformat": 4,
 "nbformat_minor": 2
}
