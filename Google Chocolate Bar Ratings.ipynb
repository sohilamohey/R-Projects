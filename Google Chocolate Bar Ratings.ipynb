{
 "cells": [
  {
   "cell_type": "code",
   "execution_count": 1,
   "id": "1073940f",
   "metadata": {
    "execution": {
     "iopub.execute_input": "2023-06-06T21:42:19.829942Z",
     "iopub.status.busy": "2023-06-06T21:42:19.828194Z",
     "iopub.status.idle": "2023-06-06T21:42:21.144331Z",
     "shell.execute_reply": "2023-06-06T21:42:21.143035Z"
    },
    "papermill": {
     "duration": 1.323172,
     "end_time": "2023-06-06T21:42:21.146117",
     "exception": false,
     "start_time": "2023-06-06T21:42:19.822945",
     "status": "completed"
    },
    "tags": []
   },
   "outputs": [
    {
     "name": "stderr",
     "output_type": "stream",
     "text": [
      "── \u001b[1mAttaching core tidyverse packages\u001b[22m ──────────────────────── tidyverse 2.0.0 ──\n",
      "\u001b[32m✔\u001b[39m \u001b[34mdplyr    \u001b[39m 1.1.2     \u001b[32m✔\u001b[39m \u001b[34mreadr    \u001b[39m 2.1.4\n",
      "\u001b[32m✔\u001b[39m \u001b[34mforcats  \u001b[39m 1.0.0     \u001b[32m✔\u001b[39m \u001b[34mstringr  \u001b[39m 1.5.0\n",
      "\u001b[32m✔\u001b[39m \u001b[34mggplot2  \u001b[39m 3.4.2     \u001b[32m✔\u001b[39m \u001b[34mtibble   \u001b[39m 3.2.1\n",
      "\u001b[32m✔\u001b[39m \u001b[34mlubridate\u001b[39m 1.9.2     \u001b[32m✔\u001b[39m \u001b[34mtidyr    \u001b[39m 1.3.0\n",
      "\u001b[32m✔\u001b[39m \u001b[34mpurrr    \u001b[39m 1.0.1     \n",
      "── \u001b[1mConflicts\u001b[22m ────────────────────────────────────────── tidyverse_conflicts() ──\n",
      "\u001b[31m✖\u001b[39m \u001b[34mdplyr\u001b[39m::\u001b[32mfilter()\u001b[39m masks \u001b[34mstats\u001b[39m::filter()\n",
      "\u001b[31m✖\u001b[39m \u001b[34mdplyr\u001b[39m::\u001b[32mlag()\u001b[39m    masks \u001b[34mstats\u001b[39m::lag()\n",
      "\u001b[36mℹ\u001b[39m Use the conflicted package (\u001b[3m\u001b[34m<http://conflicted.r-lib.org/>\u001b[39m\u001b[23m) to force all conflicts to become errors\n",
      "\n",
      "Attaching package: ‘data.table’\n",
      "\n",
      "\n",
      "The following objects are masked from ‘package:lubridate’:\n",
      "\n",
      "    hour, isoweek, mday, minute, month, quarter, second, wday, week,\n",
      "    yday, year\n",
      "\n",
      "\n",
      "The following objects are masked from ‘package:dplyr’:\n",
      "\n",
      "    between, first, last\n",
      "\n",
      "\n",
      "The following object is masked from ‘package:purrr’:\n",
      "\n",
      "    transpose\n",
      "\n",
      "\n",
      "corrplot 0.92 loaded\n",
      "\n",
      "\n",
      "Attaching package: ‘psych’\n",
      "\n",
      "\n",
      "The following objects are masked from ‘package:ggplot2’:\n",
      "\n",
      "    %+%, alpha\n",
      "\n",
      "\n"
     ]
    }
   ],
   "source": [
    "library(tidyverse)\n",
    "library(ggplot2)\n",
    "library(dplyr)\n",
    "library(data.table)\n",
    "library(corrplot)\n",
    "library(lubridate)\n",
    "library(RColorBrewer)\n",
    "library(psych)"
   ]
  },
  {
   "cell_type": "code",
   "execution_count": 2,
   "id": "1564d6ec",
   "metadata": {
    "execution": {
     "iopub.execute_input": "2023-06-06T21:42:21.175867Z",
     "iopub.status.busy": "2023-06-06T21:42:21.153427Z",
     "iopub.status.idle": "2023-06-06T21:42:21.216032Z",
     "shell.execute_reply": "2023-06-06T21:42:21.214460Z"
    },
    "papermill": {
     "duration": 0.068676,
     "end_time": "2023-06-06T21:42:21.217924",
     "exception": false,
     "start_time": "2023-06-06T21:42:21.149248",
     "status": "completed"
    },
    "tags": []
   },
   "outputs": [],
   "source": [
    "df <- read.csv(\"/kaggle/input/chocolate-bar-ratings/flavors_of_cacao.csv\")"
   ]
  },
  {
   "cell_type": "code",
   "execution_count": 3,
   "id": "a078fb47",
   "metadata": {
    "execution": {
     "iopub.execute_input": "2023-06-06T21:42:21.226724Z",
     "iopub.status.busy": "2023-06-06T21:42:21.225544Z",
     "iopub.status.idle": "2023-06-06T21:42:21.253832Z",
     "shell.execute_reply": "2023-06-06T21:42:21.251795Z"
    },
    "papermill": {
     "duration": 0.035276,
     "end_time": "2023-06-06T21:42:21.256325",
     "exception": false,
     "start_time": "2023-06-06T21:42:21.221049",
     "status": "completed"
    },
    "tags": []
   },
   "outputs": [
    {
     "data": {
      "text/html": [
       "<table class=\"dataframe\">\n",
       "<caption>A data.frame: 6 × 9</caption>\n",
       "<thead>\n",
       "\t<tr><th></th><th scope=col>Company...Maker.if.known.</th><th scope=col>Specific.Bean.Origin.or.Bar.Name</th><th scope=col>REF</th><th scope=col>Review.Date</th><th scope=col>Cocoa.Percent</th><th scope=col>Company.Location</th><th scope=col>Rating</th><th scope=col>Bean.Type</th><th scope=col>Broad.Bean.Origin</th></tr>\n",
       "\t<tr><th></th><th scope=col>&lt;chr&gt;</th><th scope=col>&lt;chr&gt;</th><th scope=col>&lt;int&gt;</th><th scope=col>&lt;int&gt;</th><th scope=col>&lt;chr&gt;</th><th scope=col>&lt;chr&gt;</th><th scope=col>&lt;dbl&gt;</th><th scope=col>&lt;chr&gt;</th><th scope=col>&lt;chr&gt;</th></tr>\n",
       "</thead>\n",
       "<tbody>\n",
       "\t<tr><th scope=row>1</th><td>A. Morin</td><td>Agua Grande</td><td>1876</td><td>2016</td><td>63%</td><td>France</td><td>3.75</td><td>       </td><td>Sao Tome </td></tr>\n",
       "\t<tr><th scope=row>2</th><td>A. Morin</td><td>Kpime      </td><td>1676</td><td>2015</td><td>70%</td><td>France</td><td>2.75</td><td>       </td><td>Togo     </td></tr>\n",
       "\t<tr><th scope=row>3</th><td>A. Morin</td><td>Atsane     </td><td>1676</td><td>2015</td><td>70%</td><td>France</td><td>3.00</td><td>       </td><td>Togo     </td></tr>\n",
       "\t<tr><th scope=row>4</th><td>A. Morin</td><td>Akata      </td><td>1680</td><td>2015</td><td>70%</td><td>France</td><td>3.50</td><td>       </td><td>Togo     </td></tr>\n",
       "\t<tr><th scope=row>5</th><td>A. Morin</td><td>Quilla     </td><td>1704</td><td>2015</td><td>70%</td><td>France</td><td>3.50</td><td>       </td><td>Peru     </td></tr>\n",
       "\t<tr><th scope=row>6</th><td>A. Morin</td><td>Carenero   </td><td>1315</td><td>2014</td><td>70%</td><td>France</td><td>2.75</td><td>Criollo</td><td>Venezuela</td></tr>\n",
       "</tbody>\n",
       "</table>\n"
      ],
      "text/latex": [
       "A data.frame: 6 × 9\n",
       "\\begin{tabular}{r|lllllllll}\n",
       "  & Company...Maker.if.known. & Specific.Bean.Origin.or.Bar.Name & REF & Review.Date & Cocoa.Percent & Company.Location & Rating & Bean.Type & Broad.Bean.Origin\\\\\n",
       "  & <chr> & <chr> & <int> & <int> & <chr> & <chr> & <dbl> & <chr> & <chr>\\\\\n",
       "\\hline\n",
       "\t1 & A. Morin & Agua Grande & 1876 & 2016 & 63\\% & France & 3.75 &         & Sao Tome \\\\\n",
       "\t2 & A. Morin & Kpime       & 1676 & 2015 & 70\\% & France & 2.75 &         & Togo     \\\\\n",
       "\t3 & A. Morin & Atsane      & 1676 & 2015 & 70\\% & France & 3.00 &         & Togo     \\\\\n",
       "\t4 & A. Morin & Akata       & 1680 & 2015 & 70\\% & France & 3.50 &         & Togo     \\\\\n",
       "\t5 & A. Morin & Quilla      & 1704 & 2015 & 70\\% & France & 3.50 &         & Peru     \\\\\n",
       "\t6 & A. Morin & Carenero    & 1315 & 2014 & 70\\% & France & 2.75 & Criollo & Venezuela\\\\\n",
       "\\end{tabular}\n"
      ],
      "text/markdown": [
       "\n",
       "A data.frame: 6 × 9\n",
       "\n",
       "| <!--/--> | Company...Maker.if.known. &lt;chr&gt; | Specific.Bean.Origin.or.Bar.Name &lt;chr&gt; | REF &lt;int&gt; | Review.Date &lt;int&gt; | Cocoa.Percent &lt;chr&gt; | Company.Location &lt;chr&gt; | Rating &lt;dbl&gt; | Bean.Type &lt;chr&gt; | Broad.Bean.Origin &lt;chr&gt; |\n",
       "|---|---|---|---|---|---|---|---|---|---|\n",
       "| 1 | A. Morin | Agua Grande | 1876 | 2016 | 63% | France | 3.75 |         | Sao Tome  |\n",
       "| 2 | A. Morin | Kpime       | 1676 | 2015 | 70% | France | 2.75 |         | Togo      |\n",
       "| 3 | A. Morin | Atsane      | 1676 | 2015 | 70% | France | 3.00 |         | Togo      |\n",
       "| 4 | A. Morin | Akata       | 1680 | 2015 | 70% | France | 3.50 |         | Togo      |\n",
       "| 5 | A. Morin | Quilla      | 1704 | 2015 | 70% | France | 3.50 |         | Peru      |\n",
       "| 6 | A. Morin | Carenero    | 1315 | 2014 | 70% | France | 2.75 | Criollo | Venezuela |\n",
       "\n"
      ],
      "text/plain": [
       "  Company...Maker.if.known. Specific.Bean.Origin.or.Bar.Name REF  Review.Date\n",
       "1 A. Morin                  Agua Grande                      1876 2016       \n",
       "2 A. Morin                  Kpime                            1676 2015       \n",
       "3 A. Morin                  Atsane                           1676 2015       \n",
       "4 A. Morin                  Akata                            1680 2015       \n",
       "5 A. Morin                  Quilla                           1704 2015       \n",
       "6 A. Morin                  Carenero                         1315 2014       \n",
       "  Cocoa.Percent Company.Location Rating Bean.Type Broad.Bean.Origin\n",
       "1 63%           France           3.75             Sao Tome         \n",
       "2 70%           France           2.75             Togo             \n",
       "3 70%           France           3.00             Togo             \n",
       "4 70%           France           3.50             Togo             \n",
       "5 70%           France           3.50             Peru             \n",
       "6 70%           France           2.75   Criollo   Venezuela        "
      ]
     },
     "metadata": {},
     "output_type": "display_data"
    }
   ],
   "source": [
    "head(df)"
   ]
  },
  {
   "cell_type": "code",
   "execution_count": 4,
   "id": "56cbf494",
   "metadata": {
    "execution": {
     "iopub.execute_input": "2023-06-06T21:42:21.265921Z",
     "iopub.status.busy": "2023-06-06T21:42:21.264625Z",
     "iopub.status.idle": "2023-06-06T21:42:21.332441Z",
     "shell.execute_reply": "2023-06-06T21:42:21.330997Z"
    },
    "papermill": {
     "duration": 0.075288,
     "end_time": "2023-06-06T21:42:21.334935",
     "exception": false,
     "start_time": "2023-06-06T21:42:21.259647",
     "status": "completed"
    },
    "tags": []
   },
   "outputs": [],
   "source": [
    "trimmed_flavors_df <- df %>% select(Rating, Cocoa.Percent, Company...Maker.if.known.)"
   ]
  },
  {
   "cell_type": "code",
   "execution_count": 5,
   "id": "24d5fefc",
   "metadata": {
    "execution": {
     "iopub.execute_input": "2023-06-06T21:42:21.344276Z",
     "iopub.status.busy": "2023-06-06T21:42:21.343042Z",
     "iopub.status.idle": "2023-06-06T21:42:21.389256Z",
     "shell.execute_reply": "2023-06-06T21:42:21.387330Z"
    },
    "papermill": {
     "duration": 0.053356,
     "end_time": "2023-06-06T21:42:21.391641",
     "exception": false,
     "start_time": "2023-06-06T21:42:21.338285",
     "status": "completed"
    },
    "tags": []
   },
   "outputs": [
    {
     "data": {
      "text/html": [
       "<table class=\"dataframe\">\n",
       "<caption>A data.frame: 1795 × 3</caption>\n",
       "<thead>\n",
       "\t<tr><th scope=col>Rating</th><th scope=col>Cocoa.Percent</th><th scope=col>Company...Maker.if.known.</th></tr>\n",
       "\t<tr><th scope=col>&lt;dbl&gt;</th><th scope=col>&lt;chr&gt;</th><th scope=col>&lt;chr&gt;</th></tr>\n",
       "</thead>\n",
       "<tbody>\n",
       "\t<tr><td>3.75</td><td>63%</td><td>A. Morin          </td></tr>\n",
       "\t<tr><td>2.75</td><td>70%</td><td>A. Morin          </td></tr>\n",
       "\t<tr><td>3.00</td><td>70%</td><td>A. Morin          </td></tr>\n",
       "\t<tr><td>3.50</td><td>70%</td><td>A. Morin          </td></tr>\n",
       "\t<tr><td>3.50</td><td>70%</td><td>A. Morin          </td></tr>\n",
       "\t<tr><td>2.75</td><td>70%</td><td>A. Morin          </td></tr>\n",
       "\t<tr><td>3.50</td><td>70%</td><td>A. Morin          </td></tr>\n",
       "\t<tr><td>3.50</td><td>70%</td><td>A. Morin          </td></tr>\n",
       "\t<tr><td>3.75</td><td>70%</td><td>A. Morin          </td></tr>\n",
       "\t<tr><td>4.00</td><td>70%</td><td>A. Morin          </td></tr>\n",
       "\t<tr><td>2.75</td><td>70%</td><td>A. Morin          </td></tr>\n",
       "\t<tr><td>3.00</td><td>70%</td><td>A. Morin          </td></tr>\n",
       "\t<tr><td>3.25</td><td>70%</td><td>A. Morin          </td></tr>\n",
       "\t<tr><td>3.75</td><td>70%</td><td>A. Morin          </td></tr>\n",
       "\t<tr><td>2.75</td><td>70%</td><td>A. Morin          </td></tr>\n",
       "\t<tr><td>3.00</td><td>70%</td><td>A. Morin          </td></tr>\n",
       "\t<tr><td>3.25</td><td>70%</td><td>A. Morin          </td></tr>\n",
       "\t<tr><td>4.00</td><td>70%</td><td>A. Morin          </td></tr>\n",
       "\t<tr><td>3.25</td><td>70%</td><td>A. Morin          </td></tr>\n",
       "\t<tr><td>3.50</td><td>70%</td><td>A. Morin          </td></tr>\n",
       "\t<tr><td>4.00</td><td>63%</td><td>A. Morin          </td></tr>\n",
       "\t<tr><td>3.50</td><td>70%</td><td>A. Morin          </td></tr>\n",
       "\t<tr><td>3.75</td><td>63%</td><td>A. Morin          </td></tr>\n",
       "\t<tr><td>3.75</td><td>70%</td><td>Acalli            </td></tr>\n",
       "\t<tr><td>3.75</td><td>70%</td><td>Acalli            </td></tr>\n",
       "\t<tr><td>2.75</td><td>60%</td><td>Adi               </td></tr>\n",
       "\t<tr><td>3.25</td><td>80%</td><td>Adi               </td></tr>\n",
       "\t<tr><td>3.50</td><td>88%</td><td>Adi               </td></tr>\n",
       "\t<tr><td>3.50</td><td>72%</td><td>Adi               </td></tr>\n",
       "\t<tr><td>2.75</td><td>55%</td><td>Aequare (Gianduja)</td></tr>\n",
       "\t<tr><td>⋮</td><td>⋮</td><td>⋮</td></tr>\n",
       "\t<tr><td>3.50</td><td>70%</td><td>Zak's        </td></tr>\n",
       "\t<tr><td>3.00</td><td>60%</td><td>Zak's        </td></tr>\n",
       "\t<tr><td>3.50</td><td>70%</td><td>Zart Pralinen</td></tr>\n",
       "\t<tr><td>2.75</td><td>70%</td><td>Zart Pralinen</td></tr>\n",
       "\t<tr><td>2.75</td><td>85%</td><td>Zart Pralinen</td></tr>\n",
       "\t<tr><td>3.00</td><td>85%</td><td>Zart Pralinen</td></tr>\n",
       "\t<tr><td>3.50</td><td>70%</td><td>Zart Pralinen</td></tr>\n",
       "\t<tr><td>3.50</td><td>78%</td><td>Zart Pralinen</td></tr>\n",
       "\t<tr><td>3.75</td><td>78%</td><td>Zokoko       </td></tr>\n",
       "\t<tr><td>3.25</td><td>65%</td><td>Zokoko       </td></tr>\n",
       "\t<tr><td>3.50</td><td>68%</td><td>Zokoko       </td></tr>\n",
       "\t<tr><td>3.50</td><td>66%</td><td>Zokoko       </td></tr>\n",
       "\t<tr><td>3.75</td><td>72%</td><td>Zokoko       </td></tr>\n",
       "\t<tr><td>2.75</td><td>80%</td><td>Zotter       </td></tr>\n",
       "\t<tr><td>3.50</td><td>72%</td><td>Zotter       </td></tr>\n",
       "\t<tr><td>3.50</td><td>65%</td><td>Zotter       </td></tr>\n",
       "\t<tr><td>3.00</td><td>70%</td><td>Zotter       </td></tr>\n",
       "\t<tr><td>3.50</td><td>70%</td><td>Zotter       </td></tr>\n",
       "\t<tr><td>3.75</td><td>62%</td><td>Zotter       </td></tr>\n",
       "\t<tr><td>3.00</td><td>75%</td><td>Zotter       </td></tr>\n",
       "\t<tr><td>3.00</td><td>75%</td><td>Zotter       </td></tr>\n",
       "\t<tr><td>3.25</td><td>90%</td><td>Zotter       </td></tr>\n",
       "\t<tr><td>3.75</td><td>70%</td><td>Zotter       </td></tr>\n",
       "\t<tr><td>3.25</td><td>68%</td><td>Zotter       </td></tr>\n",
       "\t<tr><td>3.50</td><td>58%</td><td>Zotter       </td></tr>\n",
       "\t<tr><td>3.75</td><td>70%</td><td>Zotter       </td></tr>\n",
       "\t<tr><td>3.00</td><td>65%</td><td>Zotter       </td></tr>\n",
       "\t<tr><td>3.50</td><td>65%</td><td>Zotter       </td></tr>\n",
       "\t<tr><td>3.25</td><td>62%</td><td>Zotter       </td></tr>\n",
       "\t<tr><td>3.00</td><td>65%</td><td>Zotter       </td></tr>\n",
       "</tbody>\n",
       "</table>\n"
      ],
      "text/latex": [
       "A data.frame: 1795 × 3\n",
       "\\begin{tabular}{lll}\n",
       " Rating & Cocoa.Percent & Company...Maker.if.known.\\\\\n",
       " <dbl> & <chr> & <chr>\\\\\n",
       "\\hline\n",
       "\t 3.75 & 63\\% & A. Morin          \\\\\n",
       "\t 2.75 & 70\\% & A. Morin          \\\\\n",
       "\t 3.00 & 70\\% & A. Morin          \\\\\n",
       "\t 3.50 & 70\\% & A. Morin          \\\\\n",
       "\t 3.50 & 70\\% & A. Morin          \\\\\n",
       "\t 2.75 & 70\\% & A. Morin          \\\\\n",
       "\t 3.50 & 70\\% & A. Morin          \\\\\n",
       "\t 3.50 & 70\\% & A. Morin          \\\\\n",
       "\t 3.75 & 70\\% & A. Morin          \\\\\n",
       "\t 4.00 & 70\\% & A. Morin          \\\\\n",
       "\t 2.75 & 70\\% & A. Morin          \\\\\n",
       "\t 3.00 & 70\\% & A. Morin          \\\\\n",
       "\t 3.25 & 70\\% & A. Morin          \\\\\n",
       "\t 3.75 & 70\\% & A. Morin          \\\\\n",
       "\t 2.75 & 70\\% & A. Morin          \\\\\n",
       "\t 3.00 & 70\\% & A. Morin          \\\\\n",
       "\t 3.25 & 70\\% & A. Morin          \\\\\n",
       "\t 4.00 & 70\\% & A. Morin          \\\\\n",
       "\t 3.25 & 70\\% & A. Morin          \\\\\n",
       "\t 3.50 & 70\\% & A. Morin          \\\\\n",
       "\t 4.00 & 63\\% & A. Morin          \\\\\n",
       "\t 3.50 & 70\\% & A. Morin          \\\\\n",
       "\t 3.75 & 63\\% & A. Morin          \\\\\n",
       "\t 3.75 & 70\\% & Acalli            \\\\\n",
       "\t 3.75 & 70\\% & Acalli            \\\\\n",
       "\t 2.75 & 60\\% & Adi               \\\\\n",
       "\t 3.25 & 80\\% & Adi               \\\\\n",
       "\t 3.50 & 88\\% & Adi               \\\\\n",
       "\t 3.50 & 72\\% & Adi               \\\\\n",
       "\t 2.75 & 55\\% & Aequare (Gianduja)\\\\\n",
       "\t ⋮ & ⋮ & ⋮\\\\\n",
       "\t 3.50 & 70\\% & Zak's        \\\\\n",
       "\t 3.00 & 60\\% & Zak's        \\\\\n",
       "\t 3.50 & 70\\% & Zart Pralinen\\\\\n",
       "\t 2.75 & 70\\% & Zart Pralinen\\\\\n",
       "\t 2.75 & 85\\% & Zart Pralinen\\\\\n",
       "\t 3.00 & 85\\% & Zart Pralinen\\\\\n",
       "\t 3.50 & 70\\% & Zart Pralinen\\\\\n",
       "\t 3.50 & 78\\% & Zart Pralinen\\\\\n",
       "\t 3.75 & 78\\% & Zokoko       \\\\\n",
       "\t 3.25 & 65\\% & Zokoko       \\\\\n",
       "\t 3.50 & 68\\% & Zokoko       \\\\\n",
       "\t 3.50 & 66\\% & Zokoko       \\\\\n",
       "\t 3.75 & 72\\% & Zokoko       \\\\\n",
       "\t 2.75 & 80\\% & Zotter       \\\\\n",
       "\t 3.50 & 72\\% & Zotter       \\\\\n",
       "\t 3.50 & 65\\% & Zotter       \\\\\n",
       "\t 3.00 & 70\\% & Zotter       \\\\\n",
       "\t 3.50 & 70\\% & Zotter       \\\\\n",
       "\t 3.75 & 62\\% & Zotter       \\\\\n",
       "\t 3.00 & 75\\% & Zotter       \\\\\n",
       "\t 3.00 & 75\\% & Zotter       \\\\\n",
       "\t 3.25 & 90\\% & Zotter       \\\\\n",
       "\t 3.75 & 70\\% & Zotter       \\\\\n",
       "\t 3.25 & 68\\% & Zotter       \\\\\n",
       "\t 3.50 & 58\\% & Zotter       \\\\\n",
       "\t 3.75 & 70\\% & Zotter       \\\\\n",
       "\t 3.00 & 65\\% & Zotter       \\\\\n",
       "\t 3.50 & 65\\% & Zotter       \\\\\n",
       "\t 3.25 & 62\\% & Zotter       \\\\\n",
       "\t 3.00 & 65\\% & Zotter       \\\\\n",
       "\\end{tabular}\n"
      ],
      "text/markdown": [
       "\n",
       "A data.frame: 1795 × 3\n",
       "\n",
       "| Rating &lt;dbl&gt; | Cocoa.Percent &lt;chr&gt; | Company...Maker.if.known. &lt;chr&gt; |\n",
       "|---|---|---|\n",
       "| 3.75 | 63% | A. Morin           |\n",
       "| 2.75 | 70% | A. Morin           |\n",
       "| 3.00 | 70% | A. Morin           |\n",
       "| 3.50 | 70% | A. Morin           |\n",
       "| 3.50 | 70% | A. Morin           |\n",
       "| 2.75 | 70% | A. Morin           |\n",
       "| 3.50 | 70% | A. Morin           |\n",
       "| 3.50 | 70% | A. Morin           |\n",
       "| 3.75 | 70% | A. Morin           |\n",
       "| 4.00 | 70% | A. Morin           |\n",
       "| 2.75 | 70% | A. Morin           |\n",
       "| 3.00 | 70% | A. Morin           |\n",
       "| 3.25 | 70% | A. Morin           |\n",
       "| 3.75 | 70% | A. Morin           |\n",
       "| 2.75 | 70% | A. Morin           |\n",
       "| 3.00 | 70% | A. Morin           |\n",
       "| 3.25 | 70% | A. Morin           |\n",
       "| 4.00 | 70% | A. Morin           |\n",
       "| 3.25 | 70% | A. Morin           |\n",
       "| 3.50 | 70% | A. Morin           |\n",
       "| 4.00 | 63% | A. Morin           |\n",
       "| 3.50 | 70% | A. Morin           |\n",
       "| 3.75 | 63% | A. Morin           |\n",
       "| 3.75 | 70% | Acalli             |\n",
       "| 3.75 | 70% | Acalli             |\n",
       "| 2.75 | 60% | Adi                |\n",
       "| 3.25 | 80% | Adi                |\n",
       "| 3.50 | 88% | Adi                |\n",
       "| 3.50 | 72% | Adi                |\n",
       "| 2.75 | 55% | Aequare (Gianduja) |\n",
       "| ⋮ | ⋮ | ⋮ |\n",
       "| 3.50 | 70% | Zak's         |\n",
       "| 3.00 | 60% | Zak's         |\n",
       "| 3.50 | 70% | Zart Pralinen |\n",
       "| 2.75 | 70% | Zart Pralinen |\n",
       "| 2.75 | 85% | Zart Pralinen |\n",
       "| 3.00 | 85% | Zart Pralinen |\n",
       "| 3.50 | 70% | Zart Pralinen |\n",
       "| 3.50 | 78% | Zart Pralinen |\n",
       "| 3.75 | 78% | Zokoko        |\n",
       "| 3.25 | 65% | Zokoko        |\n",
       "| 3.50 | 68% | Zokoko        |\n",
       "| 3.50 | 66% | Zokoko        |\n",
       "| 3.75 | 72% | Zokoko        |\n",
       "| 2.75 | 80% | Zotter        |\n",
       "| 3.50 | 72% | Zotter        |\n",
       "| 3.50 | 65% | Zotter        |\n",
       "| 3.00 | 70% | Zotter        |\n",
       "| 3.50 | 70% | Zotter        |\n",
       "| 3.75 | 62% | Zotter        |\n",
       "| 3.00 | 75% | Zotter        |\n",
       "| 3.00 | 75% | Zotter        |\n",
       "| 3.25 | 90% | Zotter        |\n",
       "| 3.75 | 70% | Zotter        |\n",
       "| 3.25 | 68% | Zotter        |\n",
       "| 3.50 | 58% | Zotter        |\n",
       "| 3.75 | 70% | Zotter        |\n",
       "| 3.00 | 65% | Zotter        |\n",
       "| 3.50 | 65% | Zotter        |\n",
       "| 3.25 | 62% | Zotter        |\n",
       "| 3.00 | 65% | Zotter        |\n",
       "\n"
      ],
      "text/plain": [
       "     Rating Cocoa.Percent Company...Maker.if.known.\n",
       "1    3.75   63%           A. Morin                 \n",
       "2    2.75   70%           A. Morin                 \n",
       "3    3.00   70%           A. Morin                 \n",
       "4    3.50   70%           A. Morin                 \n",
       "5    3.50   70%           A. Morin                 \n",
       "6    2.75   70%           A. Morin                 \n",
       "7    3.50   70%           A. Morin                 \n",
       "8    3.50   70%           A. Morin                 \n",
       "9    3.75   70%           A. Morin                 \n",
       "10   4.00   70%           A. Morin                 \n",
       "11   2.75   70%           A. Morin                 \n",
       "12   3.00   70%           A. Morin                 \n",
       "13   3.25   70%           A. Morin                 \n",
       "14   3.75   70%           A. Morin                 \n",
       "15   2.75   70%           A. Morin                 \n",
       "16   3.00   70%           A. Morin                 \n",
       "17   3.25   70%           A. Morin                 \n",
       "18   4.00   70%           A. Morin                 \n",
       "19   3.25   70%           A. Morin                 \n",
       "20   3.50   70%           A. Morin                 \n",
       "21   4.00   63%           A. Morin                 \n",
       "22   3.50   70%           A. Morin                 \n",
       "23   3.75   63%           A. Morin                 \n",
       "24   3.75   70%           Acalli                   \n",
       "25   3.75   70%           Acalli                   \n",
       "26   2.75   60%           Adi                      \n",
       "27   3.25   80%           Adi                      \n",
       "28   3.50   88%           Adi                      \n",
       "29   3.50   72%           Adi                      \n",
       "30   2.75   55%           Aequare (Gianduja)       \n",
       "⋮    ⋮      ⋮             ⋮                        \n",
       "1766 3.50   70%           Zak's                    \n",
       "1767 3.00   60%           Zak's                    \n",
       "1768 3.50   70%           Zart Pralinen            \n",
       "1769 2.75   70%           Zart Pralinen            \n",
       "1770 2.75   85%           Zart Pralinen            \n",
       "1771 3.00   85%           Zart Pralinen            \n",
       "1772 3.50   70%           Zart Pralinen            \n",
       "1773 3.50   78%           Zart Pralinen            \n",
       "1774 3.75   78%           Zokoko                   \n",
       "1775 3.25   65%           Zokoko                   \n",
       "1776 3.50   68%           Zokoko                   \n",
       "1777 3.50   66%           Zokoko                   \n",
       "1778 3.75   72%           Zokoko                   \n",
       "1779 2.75   80%           Zotter                   \n",
       "1780 3.50   72%           Zotter                   \n",
       "1781 3.50   65%           Zotter                   \n",
       "1782 3.00   70%           Zotter                   \n",
       "1783 3.50   70%           Zotter                   \n",
       "1784 3.75   62%           Zotter                   \n",
       "1785 3.00   75%           Zotter                   \n",
       "1786 3.00   75%           Zotter                   \n",
       "1787 3.25   90%           Zotter                   \n",
       "1788 3.75   70%           Zotter                   \n",
       "1789 3.25   68%           Zotter                   \n",
       "1790 3.50   58%           Zotter                   \n",
       "1791 3.75   70%           Zotter                   \n",
       "1792 3.00   65%           Zotter                   \n",
       "1793 3.50   65%           Zotter                   \n",
       "1794 3.25   62%           Zotter                   \n",
       "1795 3.00   65%           Zotter                   "
      ]
     },
     "metadata": {},
     "output_type": "display_data"
    }
   ],
   "source": [
    "trimmed_flavors_df"
   ]
  },
  {
   "cell_type": "code",
   "execution_count": 6,
   "id": "b5ba62ce",
   "metadata": {
    "execution": {
     "iopub.execute_input": "2023-06-06T21:42:21.401609Z",
     "iopub.status.busy": "2023-06-06T21:42:21.400424Z",
     "iopub.status.idle": "2023-06-06T21:42:21.426240Z",
     "shell.execute_reply": "2023-06-06T21:42:21.424397Z"
    },
    "papermill": {
     "duration": 0.033103,
     "end_time": "2023-06-06T21:42:21.428464",
     "exception": false,
     "start_time": "2023-06-06T21:42:21.395361",
     "status": "completed"
    },
    "tags": []
   },
   "outputs": [
    {
     "data": {
      "text/html": [
       "<table class=\"dataframe\">\n",
       "<caption>A data.frame: 1 × 1</caption>\n",
       "<thead>\n",
       "\t<tr><th scope=col>mean_rating</th></tr>\n",
       "\t<tr><th scope=col>&lt;dbl&gt;</th></tr>\n",
       "</thead>\n",
       "<tbody>\n",
       "\t<tr><td>3.185933</td></tr>\n",
       "</tbody>\n",
       "</table>\n"
      ],
      "text/latex": [
       "A data.frame: 1 × 1\n",
       "\\begin{tabular}{l}\n",
       " mean\\_rating\\\\\n",
       " <dbl>\\\\\n",
       "\\hline\n",
       "\t 3.185933\\\\\n",
       "\\end{tabular}\n"
      ],
      "text/markdown": [
       "\n",
       "A data.frame: 1 × 1\n",
       "\n",
       "| mean_rating &lt;dbl&gt; |\n",
       "|---|\n",
       "| 3.185933 |\n",
       "\n"
      ],
      "text/plain": [
       "  mean_rating\n",
       "1 3.185933   "
      ]
     },
     "metadata": {},
     "output_type": "display_data"
    }
   ],
   "source": [
    "library(dplyr)\n",
    "\n",
    "df %>%\n",
    "  summarize(mean_rating = mean(Rating))"
   ]
  },
  {
   "cell_type": "code",
   "execution_count": 7,
   "id": "6f15c24f",
   "metadata": {
    "execution": {
     "iopub.execute_input": "2023-06-06T21:42:21.438740Z",
     "iopub.status.busy": "2023-06-06T21:42:21.437582Z",
     "iopub.status.idle": "2023-06-06T21:42:21.453325Z",
     "shell.execute_reply": "2023-06-06T21:42:21.452018Z"
    },
    "papermill": {
     "duration": 0.02324,
     "end_time": "2023-06-06T21:42:21.455558",
     "exception": false,
     "start_time": "2023-06-06T21:42:21.432318",
     "status": "completed"
    },
    "tags": []
   },
   "outputs": [],
   "source": [
    "library(dplyr)\n",
    "\n",
    "best_trimmed_flavors_df <- df %>%\n",
    "  filter(Cocoa.Percent >= 80, Rating >= 3.75)"
   ]
  },
  {
   "cell_type": "code",
   "execution_count": 8,
   "id": "43da16c2",
   "metadata": {
    "execution": {
     "iopub.execute_input": "2023-06-06T21:42:21.466240Z",
     "iopub.status.busy": "2023-06-06T21:42:21.464963Z",
     "iopub.status.idle": "2023-06-06T21:42:21.488514Z",
     "shell.execute_reply": "2023-06-06T21:42:21.487261Z"
    },
    "papermill": {
     "duration": 0.031412,
     "end_time": "2023-06-06T21:42:21.490907",
     "exception": false,
     "start_time": "2023-06-06T21:42:21.459495",
     "status": "completed"
    },
    "tags": []
   },
   "outputs": [
    {
     "data": {
      "text/html": [
       "<table class=\"dataframe\">\n",
       "<caption>A data.frame: 8 × 9</caption>\n",
       "<thead>\n",
       "\t<tr><th scope=col>Company...Maker.if.known.</th><th scope=col>Specific.Bean.Origin.or.Bar.Name</th><th scope=col>REF</th><th scope=col>Review.Date</th><th scope=col>Cocoa.Percent</th><th scope=col>Company.Location</th><th scope=col>Rating</th><th scope=col>Bean.Type</th><th scope=col>Broad.Bean.Origin</th></tr>\n",
       "\t<tr><th scope=col>&lt;chr&gt;</th><th scope=col>&lt;chr&gt;</th><th scope=col>&lt;int&gt;</th><th scope=col>&lt;int&gt;</th><th scope=col>&lt;chr&gt;</th><th scope=col>&lt;chr&gt;</th><th scope=col>&lt;dbl&gt;</th><th scope=col>&lt;chr&gt;</th><th scope=col>&lt;chr&gt;</th></tr>\n",
       "</thead>\n",
       "<tbody>\n",
       "\t<tr><td>Chocolate Makers   </td><td>Peru, Awagum bar  </td><td>1530</td><td>2015</td><td>80%</td><td>Amsterdam</td><td>3.75</td><td>Criollo            </td><td>Peru                        </td></tr>\n",
       "\t<tr><td>Chocolate Tree, The</td><td>Carenero Superior </td><td>1582</td><td>2015</td><td>80%</td><td>Scotland </td><td>3.75</td><td>Trinitario         </td><td>Venezuela                   </td></tr>\n",
       "\t<tr><td>Ethereal           </td><td>Dominican Republic</td><td>1275</td><td>2014</td><td>80%</td><td>U.S.A.   </td><td>3.75</td><td>                   </td><td>Dominican Republic          </td></tr>\n",
       "\t<tr><td>Potomac            </td><td>Upala, Batch 12   </td><td> 607</td><td>2010</td><td>82%</td><td>U.S.A.   </td><td>3.75</td><td>Matina             </td><td>Costa Rica                  </td></tr>\n",
       "\t<tr><td>Pralus             </td><td>Fortissima        </td><td>  93</td><td>2006</td><td>80%</td><td>France   </td><td>4.00</td><td>Criollo, Trinitario</td><td>Ecuador                     </td></tr>\n",
       "\t<tr><td>Rogue              </td><td>Porcelana         </td><td>1209</td><td>2014</td><td>80%</td><td>U.S.A.   </td><td>3.75</td><td>Criollo            </td><td>Venezuela                   </td></tr>\n",
       "\t<tr><td>Soma               </td><td>Crazy 88          </td><td>1077</td><td>2013</td><td>88%</td><td>Canada   </td><td>4.00</td><td>                   </td><td>Guat., D.R., Peru, Mad., PNG</td></tr>\n",
       "\t<tr><td>Videri             </td><td>Dark              </td><td>1117</td><td>2013</td><td>90%</td><td>U.S.A.   </td><td>3.75</td><td>                   </td><td>Central and S. America      </td></tr>\n",
       "</tbody>\n",
       "</table>\n"
      ],
      "text/latex": [
       "A data.frame: 8 × 9\n",
       "\\begin{tabular}{lllllllll}\n",
       " Company...Maker.if.known. & Specific.Bean.Origin.or.Bar.Name & REF & Review.Date & Cocoa.Percent & Company.Location & Rating & Bean.Type & Broad.Bean.Origin\\\\\n",
       " <chr> & <chr> & <int> & <int> & <chr> & <chr> & <dbl> & <chr> & <chr>\\\\\n",
       "\\hline\n",
       "\t Chocolate Makers    & Peru, Awagum bar   & 1530 & 2015 & 80\\% & Amsterdam & 3.75 & Criollo             & Peru                        \\\\\n",
       "\t Chocolate Tree, The & Carenero Superior  & 1582 & 2015 & 80\\% & Scotland  & 3.75 & Trinitario          & Venezuela                   \\\\\n",
       "\t Ethereal            & Dominican Republic & 1275 & 2014 & 80\\% & U.S.A.    & 3.75 &                     & Dominican Republic          \\\\\n",
       "\t Potomac             & Upala, Batch 12    &  607 & 2010 & 82\\% & U.S.A.    & 3.75 & Matina              & Costa Rica                  \\\\\n",
       "\t Pralus              & Fortissima         &   93 & 2006 & 80\\% & France    & 4.00 & Criollo, Trinitario & Ecuador                     \\\\\n",
       "\t Rogue               & Porcelana          & 1209 & 2014 & 80\\% & U.S.A.    & 3.75 & Criollo             & Venezuela                   \\\\\n",
       "\t Soma                & Crazy 88           & 1077 & 2013 & 88\\% & Canada    & 4.00 &                     & Guat., D.R., Peru, Mad., PNG\\\\\n",
       "\t Videri              & Dark               & 1117 & 2013 & 90\\% & U.S.A.    & 3.75 &                     & Central and S. America      \\\\\n",
       "\\end{tabular}\n"
      ],
      "text/markdown": [
       "\n",
       "A data.frame: 8 × 9\n",
       "\n",
       "| Company...Maker.if.known. &lt;chr&gt; | Specific.Bean.Origin.or.Bar.Name &lt;chr&gt; | REF &lt;int&gt; | Review.Date &lt;int&gt; | Cocoa.Percent &lt;chr&gt; | Company.Location &lt;chr&gt; | Rating &lt;dbl&gt; | Bean.Type &lt;chr&gt; | Broad.Bean.Origin &lt;chr&gt; |\n",
       "|---|---|---|---|---|---|---|---|---|\n",
       "| Chocolate Makers    | Peru, Awagum bar   | 1530 | 2015 | 80% | Amsterdam | 3.75 | Criollo             | Peru                         |\n",
       "| Chocolate Tree, The | Carenero Superior  | 1582 | 2015 | 80% | Scotland  | 3.75 | Trinitario          | Venezuela                    |\n",
       "| Ethereal            | Dominican Republic | 1275 | 2014 | 80% | U.S.A.    | 3.75 |                     | Dominican Republic           |\n",
       "| Potomac             | Upala, Batch 12    |  607 | 2010 | 82% | U.S.A.    | 3.75 | Matina              | Costa Rica                   |\n",
       "| Pralus              | Fortissima         |   93 | 2006 | 80% | France    | 4.00 | Criollo, Trinitario | Ecuador                      |\n",
       "| Rogue               | Porcelana          | 1209 | 2014 | 80% | U.S.A.    | 3.75 | Criollo             | Venezuela                    |\n",
       "| Soma                | Crazy 88           | 1077 | 2013 | 88% | Canada    | 4.00 |                     | Guat., D.R., Peru, Mad., PNG |\n",
       "| Videri              | Dark               | 1117 | 2013 | 90% | U.S.A.    | 3.75 |                     | Central and S. America       |\n",
       "\n"
      ],
      "text/plain": [
       "  Company...Maker.if.known. Specific.Bean.Origin.or.Bar.Name REF  Review.Date\n",
       "1 Chocolate Makers          Peru, Awagum bar                 1530 2015       \n",
       "2 Chocolate Tree, The       Carenero Superior                1582 2015       \n",
       "3 Ethereal                  Dominican Republic               1275 2014       \n",
       "4 Potomac                   Upala, Batch 12                   607 2010       \n",
       "5 Pralus                    Fortissima                         93 2006       \n",
       "6 Rogue                     Porcelana                        1209 2014       \n",
       "7 Soma                      Crazy 88                         1077 2013       \n",
       "8 Videri                    Dark                             1117 2013       \n",
       "  Cocoa.Percent Company.Location Rating Bean.Type          \n",
       "1 80%           Amsterdam        3.75   Criollo            \n",
       "2 80%           Scotland         3.75   Trinitario         \n",
       "3 80%           U.S.A.           3.75                      \n",
       "4 82%           U.S.A.           3.75   Matina             \n",
       "5 80%           France           4.00   Criollo, Trinitario\n",
       "6 80%           U.S.A.           3.75   Criollo            \n",
       "7 88%           Canada           4.00                      \n",
       "8 90%           U.S.A.           3.75                      \n",
       "  Broad.Bean.Origin           \n",
       "1 Peru                        \n",
       "2 Venezuela                   \n",
       "3 Dominican Republic          \n",
       "4 Costa Rica                  \n",
       "5 Ecuador                     \n",
       "6 Venezuela                   \n",
       "7 Guat., D.R., Peru, Mad., PNG\n",
       "8 Central and S. America      "
      ]
     },
     "metadata": {},
     "output_type": "display_data"
    }
   ],
   "source": [
    "best_trimmed_flavors_df"
   ]
  },
  {
   "cell_type": "code",
   "execution_count": 9,
   "id": "f393f7a2",
   "metadata": {
    "execution": {
     "iopub.execute_input": "2023-06-06T21:42:21.502015Z",
     "iopub.status.busy": "2023-06-06T21:42:21.500846Z",
     "iopub.status.idle": "2023-06-06T21:42:21.965904Z",
     "shell.execute_reply": "2023-06-06T21:42:21.964494Z"
    },
    "papermill": {
     "duration": 0.472679,
     "end_time": "2023-06-06T21:42:21.967908",
     "exception": false,
     "start_time": "2023-06-06T21:42:21.495229",
     "status": "completed"
    },
    "tags": []
   },
   "outputs": [
    {
     "data": {
      "image/png": "[encoded data removed]"
     },
     "metadata": {
      "image/png": {
       "height": 420,
       "width": 420
      }
     },
     "output_type": "display_data"
    }
   ],
   "source": [
    "ggplot(data = best_trimmed_flavors_df) +\n",
    "  geom_bar(mapping = aes(x = Company.Location))"
   ]
  },
  {
   "cell_type": "code",
   "execution_count": 10,
   "id": "3b09fe32",
   "metadata": {
    "execution": {
     "iopub.execute_input": "2023-06-06T21:42:21.982788Z",
     "iopub.status.busy": "2023-06-06T21:42:21.980891Z",
     "iopub.status.idle": "2023-06-06T21:42:22.332722Z",
     "shell.execute_reply": "2023-06-06T21:42:22.331363Z"
    },
    "papermill": {
     "duration": 0.360948,
     "end_time": "2023-06-06T21:42:22.334720",
     "exception": false,
     "start_time": "2023-06-06T21:42:21.973772",
     "status": "completed"
    },
    "tags": []
   },
   "outputs": [
    {
     "data": {
      "image/png": "[encoded data removed]"
     },
     "metadata": {
      "image/png": {
       "height": 420,
       "width": 420
      }
     },
     "output_type": "display_data"
    }
   ],
   "source": [
    "ggplot(data = best_trimmed_flavors_df) +\n",
    "  geom_bar(mapping = aes(x = Company.Location, alpha = Rating))"
   ]
  },
  {
   "cell_type": "code",
   "execution_count": null,
   "id": "c927616d",
   "metadata": {
    "papermill": {
     "duration": 0.004647,
     "end_time": "2023-06-06T21:42:22.344198",
     "exception": false,
     "start_time": "2023-06-06T21:42:22.339551",
     "status": "completed"
    },
    "tags": []
   },
   "outputs": [],
   "source": []
  }
 ],
 "metadata": {
  "kernelspec": {
   "display_name": "R",
   "language": "R",
   "name": "ir"
  },
  "language_info": {
   "codemirror_mode": "r",
   "file_extension": ".r",
   "mimetype": "text/x-r-source",
   "name": "R",
   "pygments_lexer": "r",
   "version": "4.0.5"
  },
  "papermill": {
   "default_parameters": {},
   "duration": 5.946025,
   "end_time": "2023-06-06T21:42:22.468848",
   "environment_variables": {},
   "exception": null,
   "input_path": "__notebook__.ipynb",
   "output_path": "__notebook__.ipynb",
   "parameters": {},
   "start_time": "2023-06-06T21:42:16.522823",
   "version": "2.4.0"
  }
 },
 "nbformat": 4,
 "nbformat_minor": 5
}
