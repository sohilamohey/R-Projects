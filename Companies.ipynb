{
  "cells": [
    {
      "cell_type": "code",
      "execution_count": null,
      "metadata": {
        "id": "qpDNfJroZw4A"
      },
      "outputs": [],
      "source": [
        "library(dplyr)\n",
        "library(tidyverse)\n",
        "library(tidyr)"
      ]
    },
    {
      "cell_type": "code",
      "execution_count": null,
      "metadata": {
        "id": "CS3h5Rx5Lmg7"
      },
      "outputs": [],
      "source": [
        "df = read.csv('companies.csv', na.strings = '')\n",
        "head(df)"
      ]
    },
    {
      "cell_type": "code",
      "execution_count": null,
      "metadata": {
        "id": "JXwTzdRgTpDp"
      },
      "outputs": [],
      "source": [
        "# First 10 rows in data\n",
        "head(df,10)"
      ]
    },
    {
      "cell_type": "code",
      "execution_count": null,
      "metadata": {
        "id": "xKMmRZVNTrjc"
      },
      "outputs": [],
      "source": [
        "# Last 10 rows in data\n",
        "tail(df,10)"
      ]
    },
    {
      "cell_type": "code",
      "execution_count": null,
      "metadata": {
        "id": "NptWXbUwL8SW"
      },
      "outputs": [],
      "source": [
        "# All columns names in df\n",
        "colnames(df)"
      ]
    },
    {
      "cell_type": "code",
      "execution_count": null,
      "metadata": {
        "id": "ZYz70OpGME3K"
      },
      "outputs": [],
      "source": [
        "# Dimentions\n",
        "dim(df)"
      ]
    },
    {
      "cell_type": "code",
      "execution_count": null,
      "metadata": {
        "id": "qnqvQXbON9Gh"
      },
      "outputs": [],
      "source": [
        "# number of columns\n",
        "ncol(df)"
      ]
    },
    {
      "cell_type": "code",
      "execution_count": null,
      "metadata": {
        "id": "zwwMbzI-N_l5"
      },
      "outputs": [],
      "source": [
        "# number of row\n",
        "nrow(df)"
      ]
    },
    {
      "cell_type": "code",
      "execution_count": null,
      "metadata": {
        "id": "4YncDlYEMVUN"
      },
      "outputs": [],
      "source": [
        "# data type of df\n",
        "class(df)"
      ]
    },
    {
      "cell_type": "code",
      "execution_count": null,
      "metadata": {
        "id": "0TmziG7jODFa"
      },
      "outputs": [],
      "source": [
        "# structure: output is column name, datatype, part of data in column\n",
        "str(df)"
      ]
    },
    {
      "cell_type": "code",
      "execution_count": null,
      "metadata": {
        "id": "BVJDOYI3Txiw"
      },
      "outputs": [],
      "source": [
        "glimpse(df)"
      ]
    },
    {
      "cell_type": "code",
      "execution_count": null,
      "metadata": {
        "id": "MXu13z7oMWpK"
      },
      "outputs": [],
      "source": [
        "# out working directory\n",
        "getwd()"
      ]
    },
    {
      "cell_type": "code",
      "execution_count": null,
      "metadata": {
        "id": "bX-jxCxWSgbO"
      },
      "outputs": [],
      "source": [
        "# to read data, chamg working directory to the place where dataset\n",
        "#setwd()"
      ]
    },
    {
      "cell_type": "code",
      "execution_count": null,
      "metadata": {
        "id": "biWD1sGAOEsl"
      },
      "outputs": [],
      "source": [
        "# statistical summary, contains:\n",
        "# if data is numberic: min, max, mean, 1st, 3st\n",
        "# if string or character: lejgth, mode, class\n",
        "summary(df)"
      ]
    },
    {
      "cell_type": "code",
      "execution_count": null,
      "metadata": {
        "id": "ZViKMFPTNOjN"
      },
      "outputs": [],
      "source": [
        "# out all dataset\n",
        "View(df)"
      ]
    },
    {
      "cell_type": "markdown",
      "metadata": {
        "id": "hw6xhPEAOtAV"
      },
      "source": [
        "## First Column"
      ]
    },
    {
      "cell_type": "code",
      "execution_count": null,
      "metadata": {
        "id": "pyvmRQdnNdZD"
      },
      "outputs": [],
      "source": [
        "head(df[,1])"
      ]
    },
    {
      "cell_type": "markdown",
      "metadata": {
        "id": "jQASRBNbOzHp"
      },
      "source": [
        "## First Row"
      ]
    },
    {
      "cell_type": "code",
      "execution_count": null,
      "metadata": {
        "id": "ys4BMlyaOpfD"
      },
      "outputs": [],
      "source": [
        "df[1,]"
      ]
    },
    {
      "cell_type": "code",
      "execution_count": null,
      "metadata": {
        "id": "RJffND8mT5Rt"
      },
      "outputs": [],
      "source": [
        "df[5,]"
      ]
    },
    {
      "cell_type": "code",
      "source": [
        "df[c(1,2),]"
      ],
      "metadata": {
        "colab": {
          "base_uri": "https://localhost:8080/",
          "height": 98
        },
        "id": "KuxjLE2t4g6s",
        "outputId": "0d5b0641-ef36-4439-aa37-2e41f5167f57"
      },
      "execution_count": null,
      "outputs": [
        {
          "output_type": "error",
          "ename": "ERROR",
          "evalue": "ignored",
          "traceback": [
            "Error in df[c(1, 2), ]: object of type 'closure' is not subsettable\nTraceback:\n"
          ]
        }
      ]
    },
    {
      "cell_type": "code",
      "source": [],
      "metadata": {
        "id": "qF1uCECq4g3b"
      },
      "execution_count": null,
      "outputs": []
    },
    {
      "cell_type": "markdown",
      "metadata": {
        "id": "utdWiyR7O4Si"
      },
      "source": [
        "**df[row, column]**"
      ]
    },
    {
      "cell_type": "markdown",
      "metadata": {
        "id": "AqRlOjOePEcv"
      },
      "source": [
        "## Data in speicif column"
      ]
    },
    {
      "cell_type": "code",
      "execution_count": null,
      "metadata": {
        "colab": {
          "base_uri": "https://localhost:8080/",
          "height": 34
        },
        "id": "fyC4cGtkOx5n",
        "outputId": "a0c1f93a-d153-4e34-d72c-6c15fdd713d9"
      },
      "outputs": [
        {
          "output_type": "display_data",
          "data": {
            "text/html": [
              "<style>\n",
              ".list-inline {list-style: none; margin:0; padding: 0}\n",
              ".list-inline>li {display: inline-block}\n",
              ".list-inline>li:not(:last-child)::after {content: \"\\00b7\"; padding: 0 .5ex}\n",
              "</style>\n",
              "<ol class=list-inline><li>'Over-Hex'</li><li>'Unimattax'</li><li>'Greenfax'</li><li>'Blacklane'</li><li>'Yearflex'</li><li>'Indigoplanet'</li><li>'Treslam'</li><li>'Rednimdox'</li><li>'Lamtone'</li><li>'Stripfind'</li></ol>\n"
            ],
            "text/markdown": "1. 'Over-Hex'\n2. 'Unimattax'\n3. 'Greenfax'\n4. 'Blacklane'\n5. 'Yearflex'\n6. 'Indigoplanet'\n7. 'Treslam'\n8. 'Rednimdox'\n9. 'Lamtone'\n10. 'Stripfind'\n\n\n",
            "text/latex": "\\begin{enumerate*}\n\\item 'Over-Hex'\n\\item 'Unimattax'\n\\item 'Greenfax'\n\\item 'Blacklane'\n\\item 'Yearflex'\n\\item 'Indigoplanet'\n\\item 'Treslam'\n\\item 'Rednimdox'\n\\item 'Lamtone'\n\\item 'Stripfind'\n\\end{enumerate*}\n",
            "text/plain": [
              " [1] \"Over-Hex\"     \"Unimattax\"    \"Greenfax\"     \"Blacklane\"    \"Yearflex\"    \n",
              " [6] \"Indigoplanet\" \"Treslam\"      \"Rednimdox\"    \"Lamtone\"      \"Stripfind\"   "
            ]
          },
          "metadata": {}
        }
      ],
      "source": [
        "head(df[['Name']], 10)"
      ]
    },
    {
      "cell_type": "code",
      "execution_count": null,
      "metadata": {
        "colab": {
          "base_uri": "https://localhost:8080/",
          "height": 34
        },
        "id": "hjYKvKXhTYj9",
        "outputId": "b579e047-b95d-4718-9502-7e903df876d1"
      },
      "outputs": [
        {
          "output_type": "display_data",
          "data": {
            "text/html": [
              "<style>\n",
              ".list-inline {list-style: none; margin:0; padding: 0}\n",
              ".list-inline>li {display: inline-block}\n",
              ".list-inline>li:not(:last-child)::after {content: \"\\00b7\"; padding: 0 .5ex}\n",
              "</style>\n",
              "<ol class=list-inline><li>'Over-Hex'</li><li>'Unimattax'</li><li>'Greenfax'</li><li>'Blacklane'</li><li>'Yearflex'</li><li>'Indigoplanet'</li><li>'Treslam'</li><li>'Rednimdox'</li><li>'Lamtone'</li><li>'Stripfind'</li></ol>\n"
            ],
            "text/markdown": "1. 'Over-Hex'\n2. 'Unimattax'\n3. 'Greenfax'\n4. 'Blacklane'\n5. 'Yearflex'\n6. 'Indigoplanet'\n7. 'Treslam'\n8. 'Rednimdox'\n9. 'Lamtone'\n10. 'Stripfind'\n\n\n",
            "text/latex": "\\begin{enumerate*}\n\\item 'Over-Hex'\n\\item 'Unimattax'\n\\item 'Greenfax'\n\\item 'Blacklane'\n\\item 'Yearflex'\n\\item 'Indigoplanet'\n\\item 'Treslam'\n\\item 'Rednimdox'\n\\item 'Lamtone'\n\\item 'Stripfind'\n\\end{enumerate*}\n",
            "text/plain": [
              " [1] \"Over-Hex\"     \"Unimattax\"    \"Greenfax\"     \"Blacklane\"    \"Yearflex\"    \n",
              " [6] \"Indigoplanet\" \"Treslam\"      \"Rednimdox\"    \"Lamtone\"      \"Stripfind\"   "
            ]
          },
          "metadata": {}
        }
      ],
      "source": [
        "head(df[,'Name'], 10)"
      ]
    },
    {
      "cell_type": "code",
      "execution_count": null,
      "metadata": {
        "colab": {
          "base_uri": "https://localhost:8080/",
          "height": 34
        },
        "id": "ePJwYrMZTmE9",
        "outputId": "eb310247-f61f-4459-deae-65c9151ab24b"
      },
      "outputs": [
        {
          "output_type": "display_data",
          "data": {
            "text/html": [
              "<style>\n",
              ".list-inline {list-style: none; margin:0; padding: 0}\n",
              ".list-inline>li {display: inline-block}\n",
              ".list-inline>li:not(:last-child)::after {content: \"\\00b7\"; padding: 0 .5ex}\n",
              "</style>\n",
              "<ol class=list-inline><li>'Over-Hex'</li><li>'Unimattax'</li><li>'Greenfax'</li><li>'Blacklane'</li><li>'Yearflex'</li><li>'Indigoplanet'</li><li>'Treslam'</li><li>'Rednimdox'</li><li>'Lamtone'</li><li>'Stripfind'</li></ol>\n"
            ],
            "text/markdown": "1. 'Over-Hex'\n2. 'Unimattax'\n3. 'Greenfax'\n4. 'Blacklane'\n5. 'Yearflex'\n6. 'Indigoplanet'\n7. 'Treslam'\n8. 'Rednimdox'\n9. 'Lamtone'\n10. 'Stripfind'\n\n\n",
            "text/latex": "\\begin{enumerate*}\n\\item 'Over-Hex'\n\\item 'Unimattax'\n\\item 'Greenfax'\n\\item 'Blacklane'\n\\item 'Yearflex'\n\\item 'Indigoplanet'\n\\item 'Treslam'\n\\item 'Rednimdox'\n\\item 'Lamtone'\n\\item 'Stripfind'\n\\end{enumerate*}\n",
            "text/plain": [
              " [1] \"Over-Hex\"     \"Unimattax\"    \"Greenfax\"     \"Blacklane\"    \"Yearflex\"    \n",
              " [6] \"Indigoplanet\" \"Treslam\"      \"Rednimdox\"    \"Lamtone\"      \"Stripfind\"   "
            ]
          },
          "metadata": {}
        }
      ],
      "source": [
        "df[1:10, 'Name']"
      ]
    },
    {
      "cell_type": "code",
      "execution_count": null,
      "metadata": {
        "colab": {
          "base_uri": "https://localhost:8080/",
          "height": 428
        },
        "id": "w9Tb8ixBTcl2",
        "outputId": "e97e90a9-bc9b-46c9-fa8d-ae3ca63efde7"
      },
      "outputs": [
        {
          "output_type": "display_data",
          "data": {
            "text/html": [
              "<table class=\"dataframe\">\n",
              "<caption>A data.frame: 10 × 1</caption>\n",
              "<thead>\n",
              "\t<tr><th></th><th scope=col>Name</th></tr>\n",
              "\t<tr><th></th><th scope=col>&lt;chr&gt;</th></tr>\n",
              "</thead>\n",
              "<tbody>\n",
              "\t<tr><th scope=row>1</th><td>Over-Hex    </td></tr>\n",
              "\t<tr><th scope=row>2</th><td>Unimattax   </td></tr>\n",
              "\t<tr><th scope=row>3</th><td>Greenfax    </td></tr>\n",
              "\t<tr><th scope=row>4</th><td>Blacklane   </td></tr>\n",
              "\t<tr><th scope=row>5</th><td>Yearflex    </td></tr>\n",
              "\t<tr><th scope=row>6</th><td>Indigoplanet</td></tr>\n",
              "\t<tr><th scope=row>7</th><td>Treslam     </td></tr>\n",
              "\t<tr><th scope=row>8</th><td>Rednimdox   </td></tr>\n",
              "\t<tr><th scope=row>9</th><td>Lamtone     </td></tr>\n",
              "\t<tr><th scope=row>10</th><td>Stripfind   </td></tr>\n",
              "</tbody>\n",
              "</table>\n"
            ],
            "text/markdown": "\nA data.frame: 10 × 1\n\n| <!--/--> | Name &lt;chr&gt; |\n|---|---|\n| 1 | Over-Hex     |\n| 2 | Unimattax    |\n| 3 | Greenfax     |\n| 4 | Blacklane    |\n| 5 | Yearflex     |\n| 6 | Indigoplanet |\n| 7 | Treslam      |\n| 8 | Rednimdox    |\n| 9 | Lamtone      |\n| 10 | Stripfind    |\n\n",
            "text/latex": "A data.frame: 10 × 1\n\\begin{tabular}{r|l}\n  & Name\\\\\n  & <chr>\\\\\n\\hline\n\t1 & Over-Hex    \\\\\n\t2 & Unimattax   \\\\\n\t3 & Greenfax    \\\\\n\t4 & Blacklane   \\\\\n\t5 & Yearflex    \\\\\n\t6 & Indigoplanet\\\\\n\t7 & Treslam     \\\\\n\t8 & Rednimdox   \\\\\n\t9 & Lamtone     \\\\\n\t10 & Stripfind   \\\\\n\\end{tabular}\n",
            "text/plain": [
              "   Name        \n",
              "1  Over-Hex    \n",
              "2  Unimattax   \n",
              "3  Greenfax    \n",
              "4  Blacklane   \n",
              "5  Yearflex    \n",
              "6  Indigoplanet\n",
              "7  Treslam     \n",
              "8  Rednimdox   \n",
              "9  Lamtone     \n",
              "10 Stripfind   "
            ]
          },
          "metadata": {}
        }
      ],
      "source": [
        "head(df['Name'],10)"
      ]
    },
    {
      "cell_type": "code",
      "execution_count": null,
      "metadata": {
        "colab": {
          "base_uri": "https://localhost:8080/"
        },
        "id": "-mc5PCtIPfLe",
        "outputId": "a5517f9b-3e93-4e49-f23d-9b9052b8f21b"
      },
      "outputs": [
        {
          "output_type": "stream",
          "name": "stdout",
          "text": [
            " chr [1:500] \"Over-Hex\" \"Unimattax\" \"Greenfax\" \"Blacklane\" \"Yearflex\" ...\n"
          ]
        }
      ],
      "source": [
        "str(df[['Name']])"
      ]
    },
    {
      "cell_type": "code",
      "execution_count": null,
      "metadata": {
        "colab": {
          "base_uri": "https://localhost:8080/"
        },
        "id": "EcK2LBx_PbVC",
        "outputId": "ef527958-b928-4ae1-bb6a-37516abf7695"
      },
      "outputs": [
        {
          "output_type": "stream",
          "name": "stdout",
          "text": [
            " chr [1:500] \"Over-Hex\" \"Unimattax\" \"Greenfax\" \"Blacklane\" \"Yearflex\" ...\n"
          ]
        }
      ],
      "source": [
        "str(df[,'Name'])"
      ]
    },
    {
      "cell_type": "code",
      "execution_count": null,
      "metadata": {
        "colab": {
          "base_uri": "https://localhost:8080/"
        },
        "id": "DzT4DlSDPixb",
        "outputId": "ff1c99ac-8f07-4ba0-c238-e60d5cf94247"
      },
      "outputs": [
        {
          "output_type": "stream",
          "name": "stdout",
          "text": [
            "'data.frame':\t500 obs. of  1 variable:\n",
            " $ Name: chr  \"Over-Hex\" \"Unimattax\" \"Greenfax\" \"Blacklane\" ...\n"
          ]
        }
      ],
      "source": [
        "str(df['Name'])"
      ]
    },
    {
      "cell_type": "code",
      "execution_count": null,
      "metadata": {
        "colab": {
          "base_uri": "https://localhost:8080/"
        },
        "id": "MPt1IlScPUZl",
        "outputId": "e2b0ecbb-5d37-4b7f-8ee4-0b9314c08ee7"
      },
      "outputs": [
        {
          "output_type": "stream",
          "name": "stdout",
          "text": [
            " chr [1:10] \"Over-Hex\" \"Unimattax\" \"Greenfax\" \"Blacklane\" \"Yearflex\" ...\n"
          ]
        }
      ],
      "source": [
        "str(df[1:10, 'Name'])"
      ]
    },
    {
      "cell_type": "markdown",
      "metadata": {
        "id": "BQhRjiscQE6P"
      },
      "source": [
        "## Filter\n"
      ]
    },
    {
      "cell_type": "code",
      "execution_count": null,
      "metadata": {
        "colab": {
          "base_uri": "https://localhost:8080/",
          "height": 34
        },
        "id": "tvn2gYjpQjL0",
        "outputId": "a9c98765-489b-43e2-f4ed-b109922507c1"
      },
      "outputs": [
        {
          "output_type": "display_data",
          "data": {
            "text/html": [
              "<style>\n",
              ".list-inline {list-style: none; margin:0; padding: 0}\n",
              ".list-inline>li {display: inline-block}\n",
              ".list-inline>li:not(:last-child)::after {content: \"\\00b7\"; padding: 0 .5ex}\n",
              "</style>\n",
              "<ol class=list-inline><li>'ID'</li><li>'Name'</li><li>'Industry'</li><li>'Inception'</li><li>'Employees'</li><li>'State'</li><li>'City'</li><li>'Revenue'</li><li>'Expenses'</li><li>'Profit'</li><li>'Growth'</li></ol>\n"
            ],
            "text/markdown": "1. 'ID'\n2. 'Name'\n3. 'Industry'\n4. 'Inception'\n5. 'Employees'\n6. 'State'\n7. 'City'\n8. 'Revenue'\n9. 'Expenses'\n10. 'Profit'\n11. 'Growth'\n\n\n",
            "text/latex": "\\begin{enumerate*}\n\\item 'ID'\n\\item 'Name'\n\\item 'Industry'\n\\item 'Inception'\n\\item 'Employees'\n\\item 'State'\n\\item 'City'\n\\item 'Revenue'\n\\item 'Expenses'\n\\item 'Profit'\n\\item 'Growth'\n\\end{enumerate*}\n",
            "text/plain": [
              " [1] \"ID\"        \"Name\"      \"Industry\"  \"Inception\" \"Employees\" \"State\"    \n",
              " [7] \"City\"      \"Revenue\"   \"Expenses\"  \"Profit\"    \"Growth\"   "
            ]
          },
          "metadata": {}
        }
      ],
      "source": [
        "colnames(df)"
      ]
    },
    {
      "cell_type": "code",
      "execution_count": null,
      "metadata": {
        "colab": {
          "base_uri": "https://localhost:8080/",
          "height": 286
        },
        "id": "8FPIxfpaQByD",
        "outputId": "0252b0ec-1f71-4d57-bca4-44223b1ce401"
      },
      "outputs": [
        {
          "output_type": "display_data",
          "data": {
            "text/html": [
              "<table class=\"dataframe\">\n",
              "<caption>A data.frame: 6 × 11</caption>\n",
              "<thead>\n",
              "\t<tr><th></th><th scope=col>ID</th><th scope=col>Name</th><th scope=col>Industry</th><th scope=col>Inception</th><th scope=col>Employees</th><th scope=col>State</th><th scope=col>City</th><th scope=col>Revenue</th><th scope=col>Expenses</th><th scope=col>Profit</th><th scope=col>Growth</th></tr>\n",
              "\t<tr><th></th><th scope=col>&lt;int&gt;</th><th scope=col>&lt;chr&gt;</th><th scope=col>&lt;chr&gt;</th><th scope=col>&lt;int&gt;</th><th scope=col>&lt;int&gt;</th><th scope=col>&lt;chr&gt;</th><th scope=col>&lt;chr&gt;</th><th scope=col>&lt;chr&gt;</th><th scope=col>&lt;chr&gt;</th><th scope=col>&lt;int&gt;</th><th scope=col>&lt;chr&gt;</th></tr>\n",
              "</thead>\n",
              "<tbody>\n",
              "\t<tr><th scope=row>1</th><td> 1</td><td>Over-Hex</td><td>Software</td><td>2006</td><td>25</td><td>TN</td><td>Franklin    </td><td>$9,684,527 </td><td>1,130,700 Dollars</td><td>8553827</td><td>19%</td></tr>\n",
              "\t<tr><th scope=row>5</th><td> 5</td><td>Yearflex</td><td>Software</td><td>2013</td><td>45</td><td>WI</td><td>Madison     </td><td>$8,567,910 </td><td>4,374,841 Dollars</td><td>4193069</td><td>19%</td></tr>\n",
              "\t<tr><th scope=row>NA</th><td>NA</td><td>NA      </td><td>NA      </td><td>  NA</td><td>NA</td><td>NA</td><td>NA          </td><td>NA         </td><td>NA               </td><td>     NA</td><td>NA </td></tr>\n",
              "\t<tr><th scope=row>NA.1</th><td>NA</td><td>NA      </td><td>NA      </td><td>  NA</td><td>NA</td><td>NA</td><td>NA          </td><td>NA         </td><td>NA               </td><td>     NA</td><td>NA </td></tr>\n",
              "\t<tr><th scope=row>20</th><td>20</td><td>Daltfase</td><td>Software</td><td>2011</td><td>78</td><td>NC</td><td>Durham      </td><td>$10,410,628</td><td>6,196,409 Dollars</td><td>4214219</td><td>17%</td></tr>\n",
              "\t<tr><th scope=row>24</th><td>24</td><td>Quozap  </td><td>Software</td><td>2004</td><td>21</td><td>NJ</td><td>Collingswood</td><td>$8,304,480 </td><td>7,019,973 Dollars</td><td>1284507</td><td>20%</td></tr>\n",
              "</tbody>\n",
              "</table>\n"
            ],
            "text/markdown": "\nA data.frame: 6 × 11\n\n| <!--/--> | ID &lt;int&gt; | Name &lt;chr&gt; | Industry &lt;chr&gt; | Inception &lt;int&gt; | Employees &lt;int&gt; | State &lt;chr&gt; | City &lt;chr&gt; | Revenue &lt;chr&gt; | Expenses &lt;chr&gt; | Profit &lt;int&gt; | Growth &lt;chr&gt; |\n|---|---|---|---|---|---|---|---|---|---|---|---|\n| 1 |  1 | Over-Hex | Software | 2006 | 25 | TN | Franklin     | $9,684,527  | 1,130,700 Dollars | 8553827 | 19% |\n| 5 |  5 | Yearflex | Software | 2013 | 45 | WI | Madison      | $8,567,910  | 4,374,841 Dollars | 4193069 | 19% |\n| NA | NA | NA       | NA       |   NA | NA | NA | NA           | NA          | NA                |      NA | NA  |\n| NA.1 | NA | NA       | NA       |   NA | NA | NA | NA           | NA          | NA                |      NA | NA  |\n| 20 | 20 | Daltfase | Software | 2011 | 78 | NC | Durham       | $10,410,628 | 6,196,409 Dollars | 4214219 | 17% |\n| 24 | 24 | Quozap   | Software | 2004 | 21 | NJ | Collingswood | $8,304,480  | 7,019,973 Dollars | 1284507 | 20% |\n\n",
            "text/latex": "A data.frame: 6 × 11\n\\begin{tabular}{r|lllllllllll}\n  & ID & Name & Industry & Inception & Employees & State & City & Revenue & Expenses & Profit & Growth\\\\\n  & <int> & <chr> & <chr> & <int> & <int> & <chr> & <chr> & <chr> & <chr> & <int> & <chr>\\\\\n\\hline\n\t1 &  1 & Over-Hex & Software & 2006 & 25 & TN & Franklin     & \\$9,684,527  & 1,130,700 Dollars & 8553827 & 19\\%\\\\\n\t5 &  5 & Yearflex & Software & 2013 & 45 & WI & Madison      & \\$8,567,910  & 4,374,841 Dollars & 4193069 & 19\\%\\\\\n\tNA & NA & NA       & NA       &   NA & NA & NA & NA           & NA          & NA                &      NA & NA \\\\\n\tNA.1 & NA & NA       & NA       &   NA & NA & NA & NA           & NA          & NA                &      NA & NA \\\\\n\t20 & 20 & Daltfase & Software & 2011 & 78 & NC & Durham       & \\$10,410,628 & 6,196,409 Dollars & 4214219 & 17\\%\\\\\n\t24 & 24 & Quozap   & Software & 2004 & 21 & NJ & Collingswood & \\$8,304,480  & 7,019,973 Dollars & 1284507 & 20\\%\\\\\n\\end{tabular}\n",
            "text/plain": [
              "     ID Name     Industry Inception Employees State City         Revenue    \n",
              "1     1 Over-Hex Software 2006      25        TN    Franklin     $9,684,527 \n",
              "5     5 Yearflex Software 2013      45        WI    Madison      $8,567,910 \n",
              "NA   NA NA       NA         NA      NA        NA    NA           NA         \n",
              "NA.1 NA NA       NA         NA      NA        NA    NA           NA         \n",
              "20   20 Daltfase Software 2011      78        NC    Durham       $10,410,628\n",
              "24   24 Quozap   Software 2004      21        NJ    Collingswood $8,304,480 \n",
              "     Expenses          Profit  Growth\n",
              "1    1,130,700 Dollars 8553827 19%   \n",
              "5    4,374,841 Dollars 4193069 19%   \n",
              "NA   NA                     NA NA    \n",
              "NA.1 NA                     NA NA    \n",
              "20   6,196,409 Dollars 4214219 17%   \n",
              "24   7,019,973 Dollars 1284507 20%   "
            ]
          },
          "metadata": {}
        }
      ],
      "source": [
        "head(df[df$Industry == 'Software',])"
      ]
    },
    {
      "cell_type": "code",
      "execution_count": null,
      "metadata": {
        "colab": {
          "base_uri": "https://localhost:8080/",
          "height": 286
        },
        "id": "LGMgx8L3QcAj",
        "outputId": "1940149d-3708-4088-a2fa-8c09778353bb"
      },
      "outputs": [
        {
          "output_type": "display_data",
          "data": {
            "text/html": [
              "<table class=\"dataframe\">\n",
              "<caption>A data.frame: 6 × 4</caption>\n",
              "<thead>\n",
              "\t<tr><th></th><th scope=col>ID</th><th scope=col>Name</th><th scope=col>Industry</th><th scope=col>Inception</th></tr>\n",
              "\t<tr><th></th><th scope=col>&lt;int&gt;</th><th scope=col>&lt;chr&gt;</th><th scope=col>&lt;chr&gt;</th><th scope=col>&lt;int&gt;</th></tr>\n",
              "</thead>\n",
              "<tbody>\n",
              "\t<tr><th scope=row>1</th><td> 1</td><td>Over-Hex</td><td>Software</td><td>2006</td></tr>\n",
              "\t<tr><th scope=row>5</th><td> 5</td><td>Yearflex</td><td>Software</td><td>2013</td></tr>\n",
              "\t<tr><th scope=row>NA</th><td>NA</td><td>NA      </td><td>NA      </td><td>  NA</td></tr>\n",
              "\t<tr><th scope=row>NA.1</th><td>NA</td><td>NA      </td><td>NA      </td><td>  NA</td></tr>\n",
              "\t<tr><th scope=row>20</th><td>20</td><td>Daltfase</td><td>Software</td><td>2011</td></tr>\n",
              "\t<tr><th scope=row>24</th><td>24</td><td>Quozap  </td><td>Software</td><td>2004</td></tr>\n",
              "</tbody>\n",
              "</table>\n"
            ],
            "text/markdown": "\nA data.frame: 6 × 4\n\n| <!--/--> | ID &lt;int&gt; | Name &lt;chr&gt; | Industry &lt;chr&gt; | Inception &lt;int&gt; |\n|---|---|---|---|---|\n| 1 |  1 | Over-Hex | Software | 2006 |\n| 5 |  5 | Yearflex | Software | 2013 |\n| NA | NA | NA       | NA       |   NA |\n| NA.1 | NA | NA       | NA       |   NA |\n| 20 | 20 | Daltfase | Software | 2011 |\n| 24 | 24 | Quozap   | Software | 2004 |\n\n",
            "text/latex": "A data.frame: 6 × 4\n\\begin{tabular}{r|llll}\n  & ID & Name & Industry & Inception\\\\\n  & <int> & <chr> & <chr> & <int>\\\\\n\\hline\n\t1 &  1 & Over-Hex & Software & 2006\\\\\n\t5 &  5 & Yearflex & Software & 2013\\\\\n\tNA & NA & NA       & NA       &   NA\\\\\n\tNA.1 & NA & NA       & NA       &   NA\\\\\n\t20 & 20 & Daltfase & Software & 2011\\\\\n\t24 & 24 & Quozap   & Software & 2004\\\\\n\\end{tabular}\n",
            "text/plain": [
              "     ID Name     Industry Inception\n",
              "1     1 Over-Hex Software 2006     \n",
              "5     5 Yearflex Software 2013     \n",
              "NA   NA NA       NA         NA     \n",
              "NA.1 NA NA       NA         NA     \n",
              "20   20 Daltfase Software 2011     \n",
              "24   24 Quozap   Software 2004     "
            ]
          },
          "metadata": {}
        }
      ],
      "source": [
        "head(df [df$Industry == 'Software', 1:4 ])"
      ]
    },
    {
      "cell_type": "code",
      "execution_count": null,
      "metadata": {
        "colab": {
          "base_uri": "https://localhost:8080/",
          "height": 286
        },
        "id": "hfBdb-o2St02",
        "outputId": "5dfa9018-fa37-4c39-f2a4-88e29eb480e3"
      },
      "outputs": [
        {
          "output_type": "display_data",
          "data": {
            "text/html": [
              "<table class=\"dataframe\">\n",
              "<caption>A data.frame: 6 × 2</caption>\n",
              "<thead>\n",
              "\t<tr><th></th><th scope=col>Name</th><th scope=col>Industry</th></tr>\n",
              "\t<tr><th></th><th scope=col>&lt;chr&gt;</th><th scope=col>&lt;chr&gt;</th></tr>\n",
              "</thead>\n",
              "<tbody>\n",
              "\t<tr><th scope=row>1</th><td>Over-Hex</td><td>Software</td></tr>\n",
              "\t<tr><th scope=row>5</th><td>Yearflex</td><td>Software</td></tr>\n",
              "\t<tr><th scope=row>20</th><td>Daltfase</td><td>Software</td></tr>\n",
              "\t<tr><th scope=row>24</th><td>Quozap  </td><td>Software</td></tr>\n",
              "\t<tr><th scope=row>28</th><td>Unadex  </td><td>Software</td></tr>\n",
              "\t<tr><th scope=row>30</th><td>Tambase </td><td>Software</td></tr>\n",
              "</tbody>\n",
              "</table>\n"
            ],
            "text/markdown": "\nA data.frame: 6 × 2\n\n| <!--/--> | Name &lt;chr&gt; | Industry &lt;chr&gt; |\n|---|---|---|\n| 1 | Over-Hex | Software |\n| 5 | Yearflex | Software |\n| 20 | Daltfase | Software |\n| 24 | Quozap   | Software |\n| 28 | Unadex   | Software |\n| 30 | Tambase  | Software |\n\n",
            "text/latex": "A data.frame: 6 × 2\n\\begin{tabular}{r|ll}\n  & Name & Industry\\\\\n  & <chr> & <chr>\\\\\n\\hline\n\t1 & Over-Hex & Software\\\\\n\t5 & Yearflex & Software\\\\\n\t20 & Daltfase & Software\\\\\n\t24 & Quozap   & Software\\\\\n\t28 & Unadex   & Software\\\\\n\t30 & Tambase  & Software\\\\\n\\end{tabular}\n",
            "text/plain": [
              "   Name     Industry\n",
              "1  Over-Hex Software\n",
              "5  Yearflex Software\n",
              "20 Daltfase Software\n",
              "24 Quozap   Software\n",
              "28 Unadex   Software\n",
              "30 Tambase  Software"
            ]
          },
          "metadata": {}
        }
      ],
      "source": [
        "head(subset(df, Industry == 'Software', select = c('Name', 'Industry')))"
      ]
    },
    {
      "cell_type": "code",
      "execution_count": null,
      "metadata": {
        "colab": {
          "base_uri": "https://localhost:8080/",
          "height": 286
        },
        "id": "2yxRnCzJQrwg",
        "outputId": "33d2890d-58a5-4081-8c9d-618c809a103f"
      },
      "outputs": [
        {
          "output_type": "display_data",
          "data": {
            "text/html": [
              "<table class=\"dataframe\">\n",
              "<caption>A data.frame: 6 × 2</caption>\n",
              "<thead>\n",
              "\t<tr><th></th><th scope=col>Name</th><th scope=col>Industry</th></tr>\n",
              "\t<tr><th></th><th scope=col>&lt;chr&gt;</th><th scope=col>&lt;chr&gt;</th></tr>\n",
              "</thead>\n",
              "<tbody>\n",
              "\t<tr><th scope=row>1</th><td>Over-Hex</td><td>Software</td></tr>\n",
              "\t<tr><th scope=row>5</th><td>Yearflex</td><td>Software</td></tr>\n",
              "\t<tr><th scope=row>NA</th><td>NA      </td><td>NA      </td></tr>\n",
              "\t<tr><th scope=row>NA.1</th><td>NA      </td><td>NA      </td></tr>\n",
              "\t<tr><th scope=row>20</th><td>Daltfase</td><td>Software</td></tr>\n",
              "\t<tr><th scope=row>24</th><td>Quozap  </td><td>Software</td></tr>\n",
              "</tbody>\n",
              "</table>\n"
            ],
            "text/markdown": "\nA data.frame: 6 × 2\n\n| <!--/--> | Name &lt;chr&gt; | Industry &lt;chr&gt; |\n|---|---|---|\n| 1 | Over-Hex | Software |\n| 5 | Yearflex | Software |\n| NA | NA       | NA       |\n| NA.1 | NA       | NA       |\n| 20 | Daltfase | Software |\n| 24 | Quozap   | Software |\n\n",
            "text/latex": "A data.frame: 6 × 2\n\\begin{tabular}{r|ll}\n  & Name & Industry\\\\\n  & <chr> & <chr>\\\\\n\\hline\n\t1 & Over-Hex & Software\\\\\n\t5 & Yearflex & Software\\\\\n\tNA & NA       & NA      \\\\\n\tNA.1 & NA       & NA      \\\\\n\t20 & Daltfase & Software\\\\\n\t24 & Quozap   & Software\\\\\n\\end{tabular}\n",
            "text/plain": [
              "     Name     Industry\n",
              "1    Over-Hex Software\n",
              "5    Yearflex Software\n",
              "NA   NA       NA      \n",
              "NA.1 NA       NA      \n",
              "20   Daltfase Software\n",
              "24   Quozap   Software"
            ]
          },
          "metadata": {}
        }
      ],
      "source": [
        "head(df [df$Industry == 'Software', c('Name', 'Industry')])"
      ]
    },
    {
      "cell_type": "code",
      "execution_count": null,
      "metadata": {
        "colab": {
          "base_uri": "https://localhost:8080/",
          "height": 223
        },
        "id": "VGl_Z2mBRrLk",
        "outputId": "bc6f834e-7349-435b-e695-349b789f89b0"
      },
      "outputs": [
        {
          "output_type": "display_data",
          "data": {
            "text/html": [
              "<table class=\"dataframe\">\n",
              "<caption>A data.frame: 4 × 11</caption>\n",
              "<thead>\n",
              "\t<tr><th></th><th scope=col>ID</th><th scope=col>Name</th><th scope=col>Industry</th><th scope=col>Inception</th><th scope=col>Employees</th><th scope=col>State</th><th scope=col>City</th><th scope=col>Revenue</th><th scope=col>Expenses</th><th scope=col>Profit</th><th scope=col>Growth</th></tr>\n",
              "\t<tr><th></th><th scope=col>&lt;int&gt;</th><th scope=col>&lt;chr&gt;</th><th scope=col>&lt;chr&gt;</th><th scope=col>&lt;int&gt;</th><th scope=col>&lt;int&gt;</th><th scope=col>&lt;chr&gt;</th><th scope=col>&lt;chr&gt;</th><th scope=col>&lt;chr&gt;</th><th scope=col>&lt;chr&gt;</th><th scope=col>&lt;int&gt;</th><th scope=col>&lt;chr&gt;</th></tr>\n",
              "</thead>\n",
              "<tbody>\n",
              "\t<tr><th scope=row>1</th><td>1</td><td>Over-Hex </td><td>Software   </td><td>2006</td><td>25</td><td>TN</td><td>Franklin      </td><td>$9,684,527 </td><td>1,130,700 Dollars</td><td> 8553827</td><td>19%</td></tr>\n",
              "\t<tr><th scope=row>2</th><td>2</td><td>Unimattax</td><td>IT Services</td><td>2009</td><td>36</td><td>PA</td><td>Newtown Square</td><td>$14,016,543</td><td>804,035 Dollars  </td><td>13212508</td><td>20%</td></tr>\n",
              "\t<tr><th scope=row>3</th><td>3</td><td>Greenfax </td><td>Retail     </td><td>2012</td><td>NA</td><td>SC</td><td>Greenville    </td><td>$9,746,272 </td><td>1,044,375 Dollars</td><td> 8701897</td><td>16%</td></tr>\n",
              "\t<tr><th scope=row>4</th><td>4</td><td>Blacklane</td><td>IT Services</td><td>2011</td><td>66</td><td>CA</td><td>Orange        </td><td>$15,359,369</td><td>4,631,808 Dollars</td><td>10727561</td><td>19%</td></tr>\n",
              "</tbody>\n",
              "</table>\n"
            ],
            "text/markdown": "\nA data.frame: 4 × 11\n\n| <!--/--> | ID &lt;int&gt; | Name &lt;chr&gt; | Industry &lt;chr&gt; | Inception &lt;int&gt; | Employees &lt;int&gt; | State &lt;chr&gt; | City &lt;chr&gt; | Revenue &lt;chr&gt; | Expenses &lt;chr&gt; | Profit &lt;int&gt; | Growth &lt;chr&gt; |\n|---|---|---|---|---|---|---|---|---|---|---|---|\n| 1 | 1 | Over-Hex  | Software    | 2006 | 25 | TN | Franklin       | $9,684,527  | 1,130,700 Dollars |  8553827 | 19% |\n| 2 | 2 | Unimattax | IT Services | 2009 | 36 | PA | Newtown Square | $14,016,543 | 804,035 Dollars   | 13212508 | 20% |\n| 3 | 3 | Greenfax  | Retail      | 2012 | NA | SC | Greenville     | $9,746,272  | 1,044,375 Dollars |  8701897 | 16% |\n| 4 | 4 | Blacklane | IT Services | 2011 | 66 | CA | Orange         | $15,359,369 | 4,631,808 Dollars | 10727561 | 19% |\n\n",
            "text/latex": "A data.frame: 4 × 11\n\\begin{tabular}{r|lllllllllll}\n  & ID & Name & Industry & Inception & Employees & State & City & Revenue & Expenses & Profit & Growth\\\\\n  & <int> & <chr> & <chr> & <int> & <int> & <chr> & <chr> & <chr> & <chr> & <int> & <chr>\\\\\n\\hline\n\t1 & 1 & Over-Hex  & Software    & 2006 & 25 & TN & Franklin       & \\$9,684,527  & 1,130,700 Dollars &  8553827 & 19\\%\\\\\n\t2 & 2 & Unimattax & IT Services & 2009 & 36 & PA & Newtown Square & \\$14,016,543 & 804,035 Dollars   & 13212508 & 20\\%\\\\\n\t3 & 3 & Greenfax  & Retail      & 2012 & NA & SC & Greenville     & \\$9,746,272  & 1,044,375 Dollars &  8701897 & 16\\%\\\\\n\t4 & 4 & Blacklane & IT Services & 2011 & 66 & CA & Orange         & \\$15,359,369 & 4,631,808 Dollars & 10727561 & 19\\%\\\\\n\\end{tabular}\n",
            "text/plain": [
              "  ID Name      Industry    Inception Employees State City           Revenue    \n",
              "1 1  Over-Hex  Software    2006      25        TN    Franklin       $9,684,527 \n",
              "2 2  Unimattax IT Services 2009      36        PA    Newtown Square $14,016,543\n",
              "3 3  Greenfax  Retail      2012      NA        SC    Greenville     $9,746,272 \n",
              "4 4  Blacklane IT Services 2011      66        CA    Orange         $15,359,369\n",
              "  Expenses          Profit   Growth\n",
              "1 1,130,700 Dollars  8553827 19%   \n",
              "2 804,035 Dollars   13212508 20%   \n",
              "3 1,044,375 Dollars  8701897 16%   \n",
              "4 4,631,808 Dollars 10727561 19%   "
            ]
          },
          "metadata": {}
        }
      ],
      "source": [
        "head(df[c(1:4),])"
      ]
    },
    {
      "cell_type": "code",
      "execution_count": null,
      "metadata": {
        "colab": {
          "base_uri": "https://localhost:8080/",
          "height": 286
        },
        "id": "AY4NP1vnSEXS",
        "outputId": "71724cec-bbbe-4e98-ca78-fec8ce3fa002"
      },
      "outputs": [
        {
          "output_type": "display_data",
          "data": {
            "text/html": [
              "<table class=\"dataframe\">\n",
              "<caption>A data.frame: 6 × 2</caption>\n",
              "<thead>\n",
              "\t<tr><th></th><th scope=col>Name</th><th scope=col>Industry</th></tr>\n",
              "\t<tr><th></th><th scope=col>&lt;chr&gt;</th><th scope=col>&lt;chr&gt;</th></tr>\n",
              "</thead>\n",
              "<tbody>\n",
              "\t<tr><th scope=row>1</th><td>Over-Hex    </td><td>Software   </td></tr>\n",
              "\t<tr><th scope=row>2</th><td>Unimattax   </td><td>IT Services</td></tr>\n",
              "\t<tr><th scope=row>3</th><td>Greenfax    </td><td>Retail     </td></tr>\n",
              "\t<tr><th scope=row>4</th><td>Blacklane   </td><td>IT Services</td></tr>\n",
              "\t<tr><th scope=row>5</th><td>Yearflex    </td><td>Software   </td></tr>\n",
              "\t<tr><th scope=row>6</th><td>Indigoplanet</td><td>IT Services</td></tr>\n",
              "</tbody>\n",
              "</table>\n"
            ],
            "text/markdown": "\nA data.frame: 6 × 2\n\n| <!--/--> | Name &lt;chr&gt; | Industry &lt;chr&gt; |\n|---|---|---|\n| 1 | Over-Hex     | Software    |\n| 2 | Unimattax    | IT Services |\n| 3 | Greenfax     | Retail      |\n| 4 | Blacklane    | IT Services |\n| 5 | Yearflex     | Software    |\n| 6 | Indigoplanet | IT Services |\n\n",
            "text/latex": "A data.frame: 6 × 2\n\\begin{tabular}{r|ll}\n  & Name & Industry\\\\\n  & <chr> & <chr>\\\\\n\\hline\n\t1 & Over-Hex     & Software   \\\\\n\t2 & Unimattax    & IT Services\\\\\n\t3 & Greenfax     & Retail     \\\\\n\t4 & Blacklane    & IT Services\\\\\n\t5 & Yearflex     & Software   \\\\\n\t6 & Indigoplanet & IT Services\\\\\n\\end{tabular}\n",
            "text/plain": [
              "  Name         Industry   \n",
              "1 Over-Hex     Software   \n",
              "2 Unimattax    IT Services\n",
              "3 Greenfax     Retail     \n",
              "4 Blacklane    IT Services\n",
              "5 Yearflex     Software   \n",
              "6 Indigoplanet IT Services"
            ]
          },
          "metadata": {}
        }
      ],
      "source": [
        "head(df[, c('Name', 'Industry')])"
      ]
    },
    {
      "cell_type": "markdown",
      "metadata": {
        "id": "Elzfs0XzUS_V"
      },
      "source": [
        "## Datatype of columns"
      ]
    },
    {
      "cell_type": "code",
      "execution_count": null,
      "metadata": {
        "colab": {
          "base_uri": "https://localhost:8080/",
          "height": 52
        },
        "id": "xuue_2qlTIjf",
        "outputId": "8db2f620-8c78-448a-e9b4-cab0f6153a0e"
      },
      "outputs": [
        {
          "output_type": "display_data",
          "data": {
            "text/html": [
              "<style>\n",
              ".dl-inline {width: auto; margin:0; padding: 0}\n",
              ".dl-inline>dt, .dl-inline>dd {float: none; width: auto; display: inline-block}\n",
              ".dl-inline>dt::after {content: \":\\0020\"; padding-right: .5ex}\n",
              ".dl-inline>dt:not(:first-of-type) {padding-left: .5ex}\n",
              "</style><dl class=dl-inline><dt>ID</dt><dd>'integer'</dd><dt>Name</dt><dd>'character'</dd><dt>Industry</dt><dd>'character'</dd><dt>Inception</dt><dd>'integer'</dd><dt>Employees</dt><dd>'integer'</dd><dt>State</dt><dd>'character'</dd><dt>City</dt><dd>'character'</dd><dt>Revenue</dt><dd>'character'</dd><dt>Expenses</dt><dd>'character'</dd><dt>Profit</dt><dd>'integer'</dd><dt>Growth</dt><dd>'character'</dd></dl>\n"
            ],
            "text/markdown": "ID\n:   'integer'Name\n:   'character'Industry\n:   'character'Inception\n:   'integer'Employees\n:   'integer'State\n:   'character'City\n:   'character'Revenue\n:   'character'Expenses\n:   'character'Profit\n:   'integer'Growth\n:   'character'\n\n",
            "text/latex": "\\begin{description*}\n\\item[ID] 'integer'\n\\item[Name] 'character'\n\\item[Industry] 'character'\n\\item[Inception] 'integer'\n\\item[Employees] 'integer'\n\\item[State] 'character'\n\\item[City] 'character'\n\\item[Revenue] 'character'\n\\item[Expenses] 'character'\n\\item[Profit] 'integer'\n\\item[Growth] 'character'\n\\end{description*}\n",
            "text/plain": [
              "         ID        Name    Industry   Inception   Employees       State \n",
              "  \"integer\" \"character\" \"character\"   \"integer\"   \"integer\" \"character\" \n",
              "       City     Revenue    Expenses      Profit      Growth \n",
              "\"character\" \"character\" \"character\"   \"integer\" \"character\" "
            ]
          },
          "metadata": {}
        }
      ],
      "source": [
        "#1\n",
        "sapply(df, typeof)"
      ]
    },
    {
      "cell_type": "code",
      "execution_count": null,
      "metadata": {
        "colab": {
          "base_uri": "https://localhost:8080/"
        },
        "id": "hWvVjMojUMWz",
        "outputId": "25ba1170-ff43-456c-ede1-1e7824117d98"
      },
      "outputs": [
        {
          "output_type": "stream",
          "name": "stdout",
          "text": [
            "'data.frame':\t500 obs. of  11 variables:\n",
            " $ ID       : int  1 2 3 4 5 6 7 8 9 10 ...\n",
            " $ Name     : chr  \"Over-Hex\" \"Unimattax\" \"Greenfax\" \"Blacklane\" ...\n",
            " $ Industry : chr  \"Software\" \"IT Services\" \"Retail\" \"IT Services\" ...\n",
            " $ Inception: int  2006 2009 2012 2011 2013 2013 2009 2013 2009 2010 ...\n",
            " $ Employees: int  25 36 NA 66 45 60 116 73 55 25 ...\n",
            " $ State    : chr  \"TN\" \"PA\" \"SC\" \"CA\" ...\n",
            " $ City     : chr  \"Franklin\" \"Newtown Square\" \"Greenville\" \"Orange\" ...\n",
            " $ Revenue  : chr  \"$9,684,527\" \"$14,016,543\" \"$9,746,272\" \"$15,359,369\" ...\n",
            " $ Expenses : chr  \"1,130,700 Dollars\" \"804,035 Dollars\" \"1,044,375 Dollars\" \"4,631,808 Dollars\" ...\n",
            " $ Profit   : int  8553827 13212508 8701897 10727561 4193069 8179177 3259485 NA 5274553 11412916 ...\n",
            " $ Growth   : chr  \"19%\" \"20%\" \"16%\" \"19%\" ...\n"
          ]
        }
      ],
      "source": [
        "#2 \n",
        "str(df)"
      ]
    },
    {
      "cell_type": "markdown",
      "metadata": {
        "id": "1wGY1yTdYTql"
      },
      "source": [
        "## 1. Missing Values\n"
      ]
    },
    {
      "cell_type": "markdown",
      "metadata": {
        "id": "lUN3KaowV3E4"
      },
      "source": [
        "### for all columns in data"
      ]
    },
    {
      "cell_type": "code",
      "execution_count": null,
      "metadata": {
        "colab": {
          "base_uri": "https://localhost:8080/",
          "height": 34
        },
        "id": "v2f6s2vnFzE1",
        "outputId": "c067259f-8131-4c4a-c81d-06f80e596425"
      },
      "outputs": [
        {
          "output_type": "display_data",
          "data": {
            "text/html": [
              "TRUE"
            ],
            "text/markdown": "TRUE",
            "text/latex": "TRUE",
            "text/plain": [
              "[1] TRUE"
            ]
          },
          "metadata": {}
        }
      ],
      "source": [
        "any(is.na(df))"
      ]
    },
    {
      "cell_type": "code",
      "execution_count": null,
      "metadata": {
        "colab": {
          "base_uri": "https://localhost:8080/",
          "height": 442
        },
        "id": "2dOZx6UhaHlE",
        "outputId": "3b8c4275-075f-4765-f08b-16931ba6e8a1"
      },
      "outputs": [
        {
          "output_type": "display_data",
          "data": {
            "text/html": [
              "<table class=\"dataframe\">\n",
              "<caption>A data.frame: 11 × 1</caption>\n",
              "<thead>\n",
              "\t<tr><th></th><th scope=col>colSums.is.na.df..</th></tr>\n",
              "\t<tr><th></th><th scope=col>&lt;dbl&gt;</th></tr>\n",
              "</thead>\n",
              "<tbody>\n",
              "\t<tr><th scope=row>ID</th><td>0</td></tr>\n",
              "\t<tr><th scope=row>Name</th><td>0</td></tr>\n",
              "\t<tr><th scope=row>Industry</th><td>2</td></tr>\n",
              "\t<tr><th scope=row>Inception</th><td>1</td></tr>\n",
              "\t<tr><th scope=row>Employees</th><td>2</td></tr>\n",
              "\t<tr><th scope=row>State</th><td>4</td></tr>\n",
              "\t<tr><th scope=row>City</th><td>0</td></tr>\n",
              "\t<tr><th scope=row>Revenue</th><td>2</td></tr>\n",
              "\t<tr><th scope=row>Expenses</th><td>3</td></tr>\n",
              "\t<tr><th scope=row>Profit</th><td>2</td></tr>\n",
              "\t<tr><th scope=row>Growth</th><td>1</td></tr>\n",
              "</tbody>\n",
              "</table>\n"
            ],
            "text/markdown": "\nA data.frame: 11 × 1\n\n| <!--/--> | colSums.is.na.df.. &lt;dbl&gt; |\n|---|---|\n| ID | 0 |\n| Name | 0 |\n| Industry | 2 |\n| Inception | 1 |\n| Employees | 2 |\n| State | 4 |\n| City | 0 |\n| Revenue | 2 |\n| Expenses | 3 |\n| Profit | 2 |\n| Growth | 1 |\n\n",
            "text/latex": "A data.frame: 11 × 1\n\\begin{tabular}{r|l}\n  & colSums.is.na.df..\\\\\n  & <dbl>\\\\\n\\hline\n\tID & 0\\\\\n\tName & 0\\\\\n\tIndustry & 2\\\\\n\tInception & 1\\\\\n\tEmployees & 2\\\\\n\tState & 4\\\\\n\tCity & 0\\\\\n\tRevenue & 2\\\\\n\tExpenses & 3\\\\\n\tProfit & 2\\\\\n\tGrowth & 1\\\\\n\\end{tabular}\n",
            "text/plain": [
              "          colSums.is.na.df..\n",
              "ID        0                 \n",
              "Name      0                 \n",
              "Industry  2                 \n",
              "Inception 1                 \n",
              "Employees 2                 \n",
              "State     4                 \n",
              "City      0                 \n",
              "Revenue   2                 \n",
              "Expenses  3                 \n",
              "Profit    2                 \n",
              "Growth    1                 "
            ]
          },
          "metadata": {}
        }
      ],
      "source": [
        "df_missing <- data.frame(colSums(is.na(df)))\n",
        "df_missing"
      ]
    },
    {
      "cell_type": "code",
      "execution_count": null,
      "metadata": {
        "colab": {
          "base_uri": "https://localhost:8080/",
          "height": 34
        },
        "id": "6anP5lAsZkow",
        "outputId": "873968dd-4360-469d-c02f-65ffe5995ecb"
      },
      "outputs": [
        {
          "output_type": "display_data",
          "data": {
            "text/html": [
              "0"
            ],
            "text/markdown": "0",
            "text/latex": "0",
            "text/plain": [
              "[1] 0"
            ]
          },
          "metadata": {}
        }
      ],
      "source": [
        "sum(is.null(df))"
      ]
    },
    {
      "cell_type": "code",
      "execution_count": null,
      "metadata": {
        "colab": {
          "base_uri": "https://localhost:8080/",
          "height": 129
        },
        "id": "cGmMl1GhZulG",
        "outputId": "01e81a42-9e6c-4822-89cd-bab94052857e"
      },
      "outputs": [
        {
          "output_type": "display_data",
          "data": {
            "text/html": [
              "<table class=\"dataframe\">\n",
              "<caption>A data.frame: 1 × 11</caption>\n",
              "<thead>\n",
              "\t<tr><th scope=col>ID</th><th scope=col>Name</th><th scope=col>Industry</th><th scope=col>Inception</th><th scope=col>Employees</th><th scope=col>State</th><th scope=col>City</th><th scope=col>Revenue</th><th scope=col>Expenses</th><th scope=col>Profit</th><th scope=col>Growth</th></tr>\n",
              "\t<tr><th scope=col>&lt;int&gt;</th><th scope=col>&lt;int&gt;</th><th scope=col>&lt;int&gt;</th><th scope=col>&lt;int&gt;</th><th scope=col>&lt;int&gt;</th><th scope=col>&lt;int&gt;</th><th scope=col>&lt;int&gt;</th><th scope=col>&lt;int&gt;</th><th scope=col>&lt;int&gt;</th><th scope=col>&lt;int&gt;</th><th scope=col>&lt;int&gt;</th></tr>\n",
              "</thead>\n",
              "<tbody>\n",
              "\t<tr><td>0</td><td>0</td><td>2</td><td>1</td><td>2</td><td>4</td><td>0</td><td>2</td><td>3</td><td>2</td><td>1</td></tr>\n",
              "</tbody>\n",
              "</table>\n"
            ],
            "text/markdown": "\nA data.frame: 1 × 11\n\n| ID &lt;int&gt; | Name &lt;int&gt; | Industry &lt;int&gt; | Inception &lt;int&gt; | Employees &lt;int&gt; | State &lt;int&gt; | City &lt;int&gt; | Revenue &lt;int&gt; | Expenses &lt;int&gt; | Profit &lt;int&gt; | Growth &lt;int&gt; |\n|---|---|---|---|---|---|---|---|---|---|---|\n| 0 | 0 | 2 | 1 | 2 | 4 | 0 | 2 | 3 | 2 | 1 |\n\n",
            "text/latex": "A data.frame: 1 × 11\n\\begin{tabular}{lllllllllll}\n ID & Name & Industry & Inception & Employees & State & City & Revenue & Expenses & Profit & Growth\\\\\n <int> & <int> & <int> & <int> & <int> & <int> & <int> & <int> & <int> & <int> & <int>\\\\\n\\hline\n\t 0 & 0 & 2 & 1 & 2 & 4 & 0 & 2 & 3 & 2 & 1\\\\\n\\end{tabular}\n",
            "text/plain": [
              "  ID Name Industry Inception Employees State City Revenue Expenses Profit\n",
              "1 0  0    2        1         2         4     0    2       3        2     \n",
              "  Growth\n",
              "1 1     "
            ]
          },
          "metadata": {}
        }
      ],
      "source": [
        "# Count the number of missing values in each column of the data frame\n",
        "df %>% summarise_all(~sum(is.na(.)))"
      ]
    },
    {
      "cell_type": "code",
      "execution_count": null,
      "metadata": {
        "colab": {
          "base_uri": "https://localhost:8080/",
          "height": 427
        },
        "id": "LIbCpTQLazaY",
        "outputId": "57219bc8-c687-49c0-a85b-1b2ced5efbad"
      },
      "outputs": [
        {
          "output_type": "display_data",
          "data": {
            "text/html": [
              "<dl>\n",
              "\t<dt>$ID</dt>\n",
              "\t\t<dd>0</dd>\n",
              "\t<dt>$Name</dt>\n",
              "\t\t<dd>0</dd>\n",
              "\t<dt>$Industry</dt>\n",
              "\t\t<dd>2</dd>\n",
              "\t<dt>$Inception</dt>\n",
              "\t\t<dd>1</dd>\n",
              "\t<dt>$Employees</dt>\n",
              "\t\t<dd>2</dd>\n",
              "\t<dt>$State</dt>\n",
              "\t\t<dd>4</dd>\n",
              "\t<dt>$City</dt>\n",
              "\t\t<dd>0</dd>\n",
              "\t<dt>$Revenue</dt>\n",
              "\t\t<dd>2</dd>\n",
              "\t<dt>$Expenses</dt>\n",
              "\t\t<dd>3</dd>\n",
              "\t<dt>$Profit</dt>\n",
              "\t\t<dd>2</dd>\n",
              "\t<dt>$Growth</dt>\n",
              "\t\t<dd>1</dd>\n",
              "</dl>\n"
            ],
            "text/markdown": "$ID\n:   0\n$Name\n:   0\n$Industry\n:   2\n$Inception\n:   1\n$Employees\n:   2\n$State\n:   4\n$City\n:   0\n$Revenue\n:   2\n$Expenses\n:   3\n$Profit\n:   2\n$Growth\n:   1\n\n\n",
            "text/latex": "\\begin{description}\n\\item[\\$ID] 0\n\\item[\\$Name] 0\n\\item[\\$Industry] 2\n\\item[\\$Inception] 1\n\\item[\\$Employees] 2\n\\item[\\$State] 4\n\\item[\\$City] 0\n\\item[\\$Revenue] 2\n\\item[\\$Expenses] 3\n\\item[\\$Profit] 2\n\\item[\\$Growth] 1\n\\end{description}\n",
            "text/plain": [
              "$ID\n",
              "[1] 0\n",
              "\n",
              "$Name\n",
              "[1] 0\n",
              "\n",
              "$Industry\n",
              "[1] 2\n",
              "\n",
              "$Inception\n",
              "[1] 1\n",
              "\n",
              "$Employees\n",
              "[1] 2\n",
              "\n",
              "$State\n",
              "[1] 4\n",
              "\n",
              "$City\n",
              "[1] 0\n",
              "\n",
              "$Revenue\n",
              "[1] 2\n",
              "\n",
              "$Expenses\n",
              "[1] 3\n",
              "\n",
              "$Profit\n",
              "[1] 2\n",
              "\n",
              "$Growth\n",
              "[1] 1\n"
            ]
          },
          "metadata": {}
        }
      ],
      "source": [
        "map(df, ~sum(is.na(.)))"
      ]
    },
    {
      "cell_type": "code",
      "execution_count": null,
      "metadata": {
        "colab": {
          "base_uri": "https://localhost:8080/",
          "height": 34
        },
        "id": "sGZunF98ZpPp",
        "outputId": "b125ee89-3e8d-44c8-875d-3d30a6cfcf55"
      },
      "outputs": [
        {
          "output_type": "display_data",
          "data": {
            "text/html": [
              "17"
            ],
            "text/markdown": "17",
            "text/latex": "17",
            "text/plain": [
              "[1] 17"
            ]
          },
          "metadata": {}
        }
      ],
      "source": [
        "# summation of all possible null values\n",
        "sum(is.na(df) | is.null(df))"
      ]
    },
    {
      "cell_type": "markdown",
      "metadata": {
        "id": "YT8mljZKauZ6"
      },
      "source": [
        "#### for spasific column"
      ]
    },
    {
      "cell_type": "code",
      "execution_count": null,
      "metadata": {
        "colab": {
          "base_uri": "https://localhost:8080/",
          "height": 164
        },
        "id": "D84Pwsz4WQaF",
        "outputId": "c654a3b6-5f62-4f40-a835-371d1477166f"
      },
      "outputs": [
        {
          "output_type": "display_data",
          "data": {
            "text/html": [
              "<table class=\"dataframe\">\n",
              "<caption>A data.frame: 1 × 1</caption>\n",
              "<thead>\n",
              "\t<tr><th scope=col>count</th></tr>\n",
              "\t<tr><th scope=col>&lt;int&gt;</th></tr>\n",
              "</thead>\n",
              "<tbody>\n",
              "\t<tr><td>0</td></tr>\n",
              "</tbody>\n",
              "</table>\n"
            ],
            "text/markdown": "\nA data.frame: 1 × 1\n\n| count &lt;int&gt; |\n|---|\n| 0 |\n\n",
            "text/latex": "A data.frame: 1 × 1\n\\begin{tabular}{l}\n count\\\\\n <int>\\\\\n\\hline\n\t 0\\\\\n\\end{tabular}\n",
            "text/plain": [
              "  count\n",
              "1 0    "
            ]
          },
          "metadata": {}
        }
      ],
      "source": [
        "df %>%\n",
        "  summarize(count = sum(is.na(Name)))"
      ]
    },
    {
      "cell_type": "markdown",
      "metadata": {
        "id": "W3zpl7iEYxuC"
      },
      "source": [
        "### Count NA"
      ]
    },
    {
      "cell_type": "code",
      "execution_count": null,
      "metadata": {
        "colab": {
          "base_uri": "https://localhost:8080/",
          "height": 347
        },
        "id": "qtNVm4IFYkb8",
        "outputId": "5cbea7bb-2d74-4fba-af19-7568ada6f899"
      },
      "outputs": [
        {
          "output_type": "display_data",
          "data": {
            "text/html": [
              "<style>\n",
              ".list-inline {list-style: none; margin:0; padding: 0}\n",
              ".list-inline>li {display: inline-block}\n",
              ".list-inline>li:not(:last-child)::after {content: \"\\00b7\"; padding: 0 .5ex}\n",
              "</style>\n",
              "<ol class=list-inline><li>TRUE</li><li>TRUE</li><li>FALSE</li><li>TRUE</li><li>TRUE</li><li>TRUE</li><li>TRUE</li><li>FALSE</li><li>TRUE</li><li>TRUE</li><li>FALSE</li><li>TRUE</li><li>TRUE</li><li>FALSE</li><li>FALSE</li><li>TRUE</li><li>FALSE</li><li>TRUE</li><li>TRUE</li><li>TRUE</li><li>TRUE</li><li>FALSE</li><li>TRUE</li><li>TRUE</li><li>TRUE</li><li>TRUE</li><li>TRUE</li><li>TRUE</li><li>TRUE</li><li>TRUE</li><li>TRUE</li><li>TRUE</li><li>TRUE</li><li>TRUE</li><li>TRUE</li><li>TRUE</li><li>TRUE</li><li>TRUE</li><li>TRUE</li><li>TRUE</li><li>TRUE</li><li>TRUE</li><li>TRUE</li><li>FALSE</li><li>TRUE</li><li>TRUE</li><li>TRUE</li><li>TRUE</li><li>TRUE</li><li>TRUE</li><li>TRUE</li><li>TRUE</li><li>TRUE</li><li>TRUE</li><li>TRUE</li><li>TRUE</li><li>TRUE</li><li>TRUE</li><li>TRUE</li><li>TRUE</li><li>TRUE</li><li>TRUE</li><li>TRUE</li><li>TRUE</li><li>TRUE</li><li>TRUE</li><li>TRUE</li><li>TRUE</li><li>TRUE</li><li>TRUE</li><li>TRUE</li><li>TRUE</li><li>TRUE</li><li>TRUE</li><li>TRUE</li><li>TRUE</li><li>TRUE</li><li>TRUE</li><li>TRUE</li><li>TRUE</li><li>TRUE</li><li>TRUE</li><li>TRUE</li><li>FALSE</li><li>TRUE</li><li>TRUE</li><li>TRUE</li><li>TRUE</li><li>TRUE</li><li>TRUE</li><li>TRUE</li><li>TRUE</li><li>TRUE</li><li>TRUE</li><li>TRUE</li><li>TRUE</li><li>TRUE</li><li>TRUE</li><li>TRUE</li><li>TRUE</li><li>TRUE</li><li>TRUE</li><li>TRUE</li><li>TRUE</li><li>TRUE</li><li>TRUE</li><li>TRUE</li><li>TRUE</li><li>TRUE</li><li>TRUE</li><li>TRUE</li><li>TRUE</li><li>TRUE</li><li>TRUE</li><li>TRUE</li><li>TRUE</li><li>TRUE</li><li>TRUE</li><li>TRUE</li><li>TRUE</li><li>TRUE</li><li>TRUE</li><li>TRUE</li><li>TRUE</li><li>TRUE</li><li>TRUE</li><li>TRUE</li><li>TRUE</li><li>TRUE</li><li>TRUE</li><li>TRUE</li><li>TRUE</li><li>TRUE</li><li>TRUE</li><li>TRUE</li><li>TRUE</li><li>TRUE</li><li>TRUE</li><li>TRUE</li><li>TRUE</li><li>TRUE</li><li>TRUE</li><li>TRUE</li><li>TRUE</li><li>TRUE</li><li>TRUE</li><li>TRUE</li><li>TRUE</li><li>TRUE</li><li>TRUE</li><li>TRUE</li><li>TRUE</li><li>TRUE</li><li>TRUE</li><li>TRUE</li><li>TRUE</li><li>TRUE</li><li>TRUE</li><li>TRUE</li><li>TRUE</li><li>TRUE</li><li>TRUE</li><li>TRUE</li><li>TRUE</li><li>TRUE</li><li>TRUE</li><li>TRUE</li><li>TRUE</li><li>TRUE</li><li>TRUE</li><li>TRUE</li><li>TRUE</li><li>TRUE</li><li>TRUE</li><li>TRUE</li><li>TRUE</li><li>TRUE</li><li>TRUE</li><li>TRUE</li><li>TRUE</li><li>TRUE</li><li>TRUE</li><li>TRUE</li><li>TRUE</li><li>TRUE</li><li>TRUE</li><li>TRUE</li><li>TRUE</li><li>TRUE</li><li>TRUE</li><li>TRUE</li><li>TRUE</li><li>TRUE</li><li>TRUE</li><li>TRUE</li><li>TRUE</li><li>TRUE</li><li>TRUE</li><li>TRUE</li><li>TRUE</li><li>⋯</li><li>TRUE</li><li>TRUE</li><li>TRUE</li><li>TRUE</li><li>TRUE</li><li>TRUE</li><li>TRUE</li><li>TRUE</li><li>TRUE</li><li>TRUE</li><li>TRUE</li><li>TRUE</li><li>TRUE</li><li>TRUE</li><li>TRUE</li><li>TRUE</li><li>TRUE</li><li>TRUE</li><li>TRUE</li><li>TRUE</li><li>TRUE</li><li>TRUE</li><li>TRUE</li><li>TRUE</li><li>TRUE</li><li>TRUE</li><li>TRUE</li><li>TRUE</li><li>TRUE</li><li>TRUE</li><li>TRUE</li><li>FALSE</li><li>TRUE</li><li>TRUE</li><li>TRUE</li><li>TRUE</li><li>TRUE</li><li>TRUE</li><li>TRUE</li><li>TRUE</li><li>TRUE</li><li>TRUE</li><li>TRUE</li><li>TRUE</li><li>TRUE</li><li>TRUE</li><li>TRUE</li><li>TRUE</li><li>TRUE</li><li>TRUE</li><li>TRUE</li><li>TRUE</li><li>TRUE</li><li>TRUE</li><li>TRUE</li><li>TRUE</li><li>TRUE</li><li>TRUE</li><li>TRUE</li><li>TRUE</li><li>TRUE</li><li>TRUE</li><li>TRUE</li><li>TRUE</li><li>TRUE</li><li>TRUE</li><li>TRUE</li><li>TRUE</li><li>TRUE</li><li>TRUE</li><li>TRUE</li><li>TRUE</li><li>TRUE</li><li>TRUE</li><li>TRUE</li><li>TRUE</li><li>TRUE</li><li>TRUE</li><li>FALSE</li><li>TRUE</li><li>TRUE</li><li>TRUE</li><li>TRUE</li><li>TRUE</li><li>TRUE</li><li>TRUE</li><li>TRUE</li><li>TRUE</li><li>TRUE</li><li>TRUE</li><li>TRUE</li><li>TRUE</li><li>TRUE</li><li>TRUE</li><li>TRUE</li><li>TRUE</li><li>TRUE</li><li>TRUE</li><li>TRUE</li><li>TRUE</li><li>TRUE</li><li>TRUE</li><li>TRUE</li><li>TRUE</li><li>TRUE</li><li>TRUE</li><li>TRUE</li><li>TRUE</li><li>TRUE</li><li>TRUE</li><li>TRUE</li><li>TRUE</li><li>TRUE</li><li>TRUE</li><li>TRUE</li><li>TRUE</li><li>TRUE</li><li>TRUE</li><li>TRUE</li><li>TRUE</li><li>TRUE</li><li>TRUE</li><li>TRUE</li><li>TRUE</li><li>TRUE</li><li>TRUE</li><li>TRUE</li><li>TRUE</li><li>TRUE</li><li>TRUE</li><li>TRUE</li><li>TRUE</li><li>TRUE</li><li>TRUE</li><li>TRUE</li><li>TRUE</li><li>TRUE</li><li>TRUE</li><li>TRUE</li><li>TRUE</li><li>TRUE</li><li>TRUE</li><li>TRUE</li><li>TRUE</li><li>TRUE</li><li>TRUE</li><li>TRUE</li><li>TRUE</li><li>TRUE</li><li>TRUE</li><li>TRUE</li><li>TRUE</li><li>TRUE</li><li>TRUE</li><li>TRUE</li><li>TRUE</li><li>TRUE</li><li>TRUE</li><li>TRUE</li><li>TRUE</li><li>TRUE</li><li>TRUE</li><li>TRUE</li><li>TRUE</li><li>TRUE</li><li>TRUE</li><li>TRUE</li><li>TRUE</li><li>TRUE</li><li>TRUE</li><li>TRUE</li><li>TRUE</li><li>TRUE</li><li>TRUE</li><li>TRUE</li><li>TRUE</li><li>TRUE</li><li>TRUE</li><li>TRUE</li><li>TRUE</li><li>TRUE</li><li>TRUE</li><li>TRUE</li><li>TRUE</li><li>TRUE</li><li>TRUE</li><li>TRUE</li><li>TRUE</li><li>TRUE</li><li>TRUE</li><li>TRUE</li><li>TRUE</li><li>TRUE</li><li>TRUE</li><li>TRUE</li><li>TRUE</li><li>TRUE</li><li>TRUE</li><li>TRUE</li><li>TRUE</li></ol>\n"
            ],
            "text/markdown": "1. TRUE\n2. TRUE\n3. FALSE\n4. TRUE\n5. TRUE\n6. TRUE\n7. TRUE\n8. FALSE\n9. TRUE\n10. TRUE\n11. FALSE\n12. TRUE\n13. TRUE\n14. FALSE\n15. FALSE\n16. TRUE\n17. FALSE\n18. TRUE\n19. TRUE\n20. TRUE\n21. TRUE\n22. FALSE\n23. TRUE\n24. TRUE\n25. TRUE\n26. TRUE\n27. TRUE\n28. TRUE\n29. TRUE\n30. TRUE\n31. TRUE\n32. TRUE\n33. TRUE\n34. TRUE\n35. TRUE\n36. TRUE\n37. TRUE\n38. TRUE\n39. TRUE\n40. TRUE\n41. TRUE\n42. TRUE\n43. TRUE\n44. FALSE\n45. TRUE\n46. TRUE\n47. TRUE\n48. TRUE\n49. TRUE\n50. TRUE\n51. TRUE\n52. TRUE\n53. TRUE\n54. TRUE\n55. TRUE\n56. TRUE\n57. TRUE\n58. TRUE\n59. TRUE\n60. TRUE\n61. TRUE\n62. TRUE\n63. TRUE\n64. TRUE\n65. TRUE\n66. TRUE\n67. TRUE\n68. TRUE\n69. TRUE\n70. TRUE\n71. TRUE\n72. TRUE\n73. TRUE\n74. TRUE\n75. TRUE\n76. TRUE\n77. TRUE\n78. TRUE\n79. TRUE\n80. TRUE\n81. TRUE\n82. TRUE\n83. TRUE\n84. FALSE\n85. TRUE\n86. TRUE\n87. TRUE\n88. TRUE\n89. TRUE\n90. TRUE\n91. TRUE\n92. TRUE\n93. TRUE\n94. TRUE\n95. TRUE\n96. TRUE\n97. TRUE\n98. TRUE\n99. TRUE\n100. TRUE\n101. TRUE\n102. TRUE\n103. TRUE\n104. TRUE\n105. TRUE\n106. TRUE\n107. TRUE\n108. TRUE\n109. TRUE\n110. TRUE\n111. TRUE\n112. TRUE\n113. TRUE\n114. TRUE\n115. TRUE\n116. TRUE\n117. TRUE\n118. TRUE\n119. TRUE\n120. TRUE\n121. TRUE\n122. TRUE\n123. TRUE\n124. TRUE\n125. TRUE\n126. TRUE\n127. TRUE\n128. TRUE\n129. TRUE\n130. TRUE\n131. TRUE\n132. TRUE\n133. TRUE\n134. TRUE\n135. TRUE\n136. TRUE\n137. TRUE\n138. TRUE\n139. TRUE\n140. TRUE\n141. TRUE\n142. TRUE\n143. TRUE\n144. TRUE\n145. TRUE\n146. TRUE\n147. TRUE\n148. TRUE\n149. TRUE\n150. TRUE\n151. TRUE\n152. TRUE\n153. TRUE\n154. TRUE\n155. TRUE\n156. TRUE\n157. TRUE\n158. TRUE\n159. TRUE\n160. TRUE\n161. TRUE\n162. TRUE\n163. TRUE\n164. TRUE\n165. TRUE\n166. TRUE\n167. TRUE\n168. TRUE\n169. TRUE\n170. TRUE\n171. TRUE\n172. TRUE\n173. TRUE\n174. TRUE\n175. TRUE\n176. TRUE\n177. TRUE\n178. TRUE\n179. TRUE\n180. TRUE\n181. TRUE\n182. TRUE\n183. TRUE\n184. TRUE\n185. TRUE\n186. TRUE\n187. TRUE\n188. TRUE\n189. TRUE\n190. TRUE\n191. TRUE\n192. TRUE\n193. TRUE\n194. TRUE\n195. TRUE\n196. TRUE\n197. TRUE\n198. TRUE\n199. TRUE\n200. TRUE\n201. ⋯\n202. TRUE\n203. TRUE\n204. TRUE\n205. TRUE\n206. TRUE\n207. TRUE\n208. TRUE\n209. TRUE\n210. TRUE\n211. TRUE\n212. TRUE\n213. TRUE\n214. TRUE\n215. TRUE\n216. TRUE\n217. TRUE\n218. TRUE\n219. TRUE\n220. TRUE\n221. TRUE\n222. TRUE\n223. TRUE\n224. TRUE\n225. TRUE\n226. TRUE\n227. TRUE\n228. TRUE\n229. TRUE\n230. TRUE\n231. TRUE\n232. TRUE\n233. FALSE\n234. TRUE\n235. TRUE\n236. TRUE\n237. TRUE\n238. TRUE\n239. TRUE\n240. TRUE\n241. TRUE\n242. TRUE\n243. TRUE\n244. TRUE\n245. TRUE\n246. TRUE\n247. TRUE\n248. TRUE\n249. TRUE\n250. TRUE\n251. TRUE\n252. TRUE\n253. TRUE\n254. TRUE\n255. TRUE\n256. TRUE\n257. TRUE\n258. TRUE\n259. TRUE\n260. TRUE\n261. TRUE\n262. TRUE\n263. TRUE\n264. TRUE\n265. TRUE\n266. TRUE\n267. TRUE\n268. TRUE\n269. TRUE\n270. TRUE\n271. TRUE\n272. TRUE\n273. TRUE\n274. TRUE\n275. TRUE\n276. TRUE\n277. TRUE\n278. TRUE\n279. TRUE\n280. FALSE\n281. TRUE\n282. TRUE\n283. TRUE\n284. TRUE\n285. TRUE\n286. TRUE\n287. TRUE\n288. TRUE\n289. TRUE\n290. TRUE\n291. TRUE\n292. TRUE\n293. TRUE\n294. TRUE\n295. TRUE\n296. TRUE\n297. TRUE\n298. TRUE\n299. TRUE\n300. TRUE\n301. TRUE\n302. TRUE\n303. TRUE\n304. TRUE\n305. TRUE\n306. TRUE\n307. TRUE\n308. TRUE\n309. TRUE\n310. TRUE\n311. TRUE\n312. TRUE\n313. TRUE\n314. TRUE\n315. TRUE\n316. TRUE\n317. TRUE\n318. TRUE\n319. TRUE\n320. TRUE\n321. TRUE\n322. TRUE\n323. TRUE\n324. TRUE\n325. TRUE\n326. TRUE\n327. TRUE\n328. TRUE\n329. TRUE\n330. TRUE\n331. TRUE\n332. TRUE\n333. TRUE\n334. TRUE\n335. TRUE\n336. TRUE\n337. TRUE\n338. TRUE\n339. TRUE\n340. TRUE\n341. TRUE\n342. TRUE\n343. TRUE\n344. TRUE\n345. TRUE\n346. TRUE\n347. TRUE\n348. TRUE\n349. TRUE\n350. TRUE\n351. TRUE\n352. TRUE\n353. TRUE\n354. TRUE\n355. TRUE\n356. TRUE\n357. TRUE\n358. TRUE\n359. TRUE\n360. TRUE\n361. TRUE\n362. TRUE\n363. TRUE\n364. TRUE\n365. TRUE\n366. TRUE\n367. TRUE\n368. TRUE\n369. TRUE\n370. TRUE\n371. TRUE\n372. TRUE\n373. TRUE\n374. TRUE\n375. TRUE\n376. TRUE\n377. TRUE\n378. TRUE\n379. TRUE\n380. TRUE\n381. TRUE\n382. TRUE\n383. TRUE\n384. TRUE\n385. TRUE\n386. TRUE\n387. TRUE\n388. TRUE\n389. TRUE\n390. TRUE\n391. TRUE\n392. TRUE\n393. TRUE\n394. TRUE\n395. TRUE\n396. TRUE\n397. TRUE\n398. TRUE\n399. TRUE\n400. TRUE\n401. TRUE\n\n\n",
            "text/latex": "\\begin{enumerate*}\n\\item TRUE\n\\item TRUE\n\\item FALSE\n\\item TRUE\n\\item TRUE\n\\item TRUE\n\\item TRUE\n\\item FALSE\n\\item TRUE\n\\item TRUE\n\\item FALSE\n\\item TRUE\n\\item TRUE\n\\item FALSE\n\\item FALSE\n\\item TRUE\n\\item FALSE\n\\item TRUE\n\\item TRUE\n\\item TRUE\n\\item TRUE\n\\item FALSE\n\\item TRUE\n\\item TRUE\n\\item TRUE\n\\item TRUE\n\\item TRUE\n\\item TRUE\n\\item TRUE\n\\item TRUE\n\\item TRUE\n\\item TRUE\n\\item TRUE\n\\item TRUE\n\\item TRUE\n\\item TRUE\n\\item TRUE\n\\item TRUE\n\\item TRUE\n\\item TRUE\n\\item TRUE\n\\item TRUE\n\\item TRUE\n\\item FALSE\n\\item TRUE\n\\item TRUE\n\\item TRUE\n\\item TRUE\n\\item TRUE\n\\item TRUE\n\\item TRUE\n\\item TRUE\n\\item TRUE\n\\item TRUE\n\\item TRUE\n\\item TRUE\n\\item TRUE\n\\item TRUE\n\\item TRUE\n\\item TRUE\n\\item TRUE\n\\item TRUE\n\\item TRUE\n\\item TRUE\n\\item TRUE\n\\item TRUE\n\\item TRUE\n\\item TRUE\n\\item TRUE\n\\item TRUE\n\\item TRUE\n\\item TRUE\n\\item TRUE\n\\item TRUE\n\\item TRUE\n\\item TRUE\n\\item TRUE\n\\item TRUE\n\\item TRUE\n\\item TRUE\n\\item TRUE\n\\item TRUE\n\\item TRUE\n\\item FALSE\n\\item TRUE\n\\item TRUE\n\\item TRUE\n\\item TRUE\n\\item TRUE\n\\item TRUE\n\\item TRUE\n\\item TRUE\n\\item TRUE\n\\item TRUE\n\\item TRUE\n\\item TRUE\n\\item TRUE\n\\item TRUE\n\\item TRUE\n\\item TRUE\n\\item TRUE\n\\item TRUE\n\\item TRUE\n\\item TRUE\n\\item TRUE\n\\item TRUE\n\\item TRUE\n\\item TRUE\n\\item TRUE\n\\item TRUE\n\\item TRUE\n\\item TRUE\n\\item TRUE\n\\item TRUE\n\\item TRUE\n\\item TRUE\n\\item TRUE\n\\item TRUE\n\\item TRUE\n\\item TRUE\n\\item TRUE\n\\item TRUE\n\\item TRUE\n\\item TRUE\n\\item TRUE\n\\item TRUE\n\\item TRUE\n\\item TRUE\n\\item TRUE\n\\item TRUE\n\\item TRUE\n\\item TRUE\n\\item TRUE\n\\item TRUE\n\\item TRUE\n\\item TRUE\n\\item TRUE\n\\item TRUE\n\\item TRUE\n\\item TRUE\n\\item TRUE\n\\item TRUE\n\\item TRUE\n\\item TRUE\n\\item TRUE\n\\item TRUE\n\\item TRUE\n\\item TRUE\n\\item TRUE\n\\item TRUE\n\\item TRUE\n\\item TRUE\n\\item TRUE\n\\item TRUE\n\\item TRUE\n\\item TRUE\n\\item TRUE\n\\item TRUE\n\\item TRUE\n\\item TRUE\n\\item TRUE\n\\item TRUE\n\\item TRUE\n\\item TRUE\n\\item TRUE\n\\item TRUE\n\\item TRUE\n\\item TRUE\n\\item TRUE\n\\item TRUE\n\\item TRUE\n\\item TRUE\n\\item TRUE\n\\item TRUE\n\\item TRUE\n\\item TRUE\n\\item TRUE\n\\item TRUE\n\\item TRUE\n\\item TRUE\n\\item TRUE\n\\item TRUE\n\\item TRUE\n\\item TRUE\n\\item TRUE\n\\item TRUE\n\\item TRUE\n\\item TRUE\n\\item TRUE\n\\item TRUE\n\\item TRUE\n\\item TRUE\n\\item TRUE\n\\item TRUE\n\\item TRUE\n\\item TRUE\n\\item TRUE\n\\item TRUE\n\\item TRUE\n\\item TRUE\n\\item ⋯\n\\item TRUE\n\\item TRUE\n\\item TRUE\n\\item TRUE\n\\item TRUE\n\\item TRUE\n\\item TRUE\n\\item TRUE\n\\item TRUE\n\\item TRUE\n\\item TRUE\n\\item TRUE\n\\item TRUE\n\\item TRUE\n\\item TRUE\n\\item TRUE\n\\item TRUE\n\\item TRUE\n\\item TRUE\n\\item TRUE\n\\item TRUE\n\\item TRUE\n\\item TRUE\n\\item TRUE\n\\item TRUE\n\\item TRUE\n\\item TRUE\n\\item TRUE\n\\item TRUE\n\\item TRUE\n\\item TRUE\n\\item FALSE\n\\item TRUE\n\\item TRUE\n\\item TRUE\n\\item TRUE\n\\item TRUE\n\\item TRUE\n\\item TRUE\n\\item TRUE\n\\item TRUE\n\\item TRUE\n\\item TRUE\n\\item TRUE\n\\item TRUE\n\\item TRUE\n\\item TRUE\n\\item TRUE\n\\item TRUE\n\\item TRUE\n\\item TRUE\n\\item TRUE\n\\item TRUE\n\\item TRUE\n\\item TRUE\n\\item TRUE\n\\item TRUE\n\\item TRUE\n\\item TRUE\n\\item TRUE\n\\item TRUE\n\\item TRUE\n\\item TRUE\n\\item TRUE\n\\item TRUE\n\\item TRUE\n\\item TRUE\n\\item TRUE\n\\item TRUE\n\\item TRUE\n\\item TRUE\n\\item TRUE\n\\item TRUE\n\\item TRUE\n\\item TRUE\n\\item TRUE\n\\item TRUE\n\\item TRUE\n\\item FALSE\n\\item TRUE\n\\item TRUE\n\\item TRUE\n\\item TRUE\n\\item TRUE\n\\item TRUE\n\\item TRUE\n\\item TRUE\n\\item TRUE\n\\item TRUE\n\\item TRUE\n\\item TRUE\n\\item TRUE\n\\item TRUE\n\\item TRUE\n\\item TRUE\n\\item TRUE\n\\item TRUE\n\\item TRUE\n\\item TRUE\n\\item TRUE\n\\item TRUE\n\\item TRUE\n\\item TRUE\n\\item TRUE\n\\item TRUE\n\\item TRUE\n\\item TRUE\n\\item TRUE\n\\item TRUE\n\\item TRUE\n\\item TRUE\n\\item TRUE\n\\item TRUE\n\\item TRUE\n\\item TRUE\n\\item TRUE\n\\item TRUE\n\\item TRUE\n\\item TRUE\n\\item TRUE\n\\item TRUE\n\\item TRUE\n\\item TRUE\n\\item TRUE\n\\item TRUE\n\\item TRUE\n\\item TRUE\n\\item TRUE\n\\item TRUE\n\\item TRUE\n\\item TRUE\n\\item TRUE\n\\item TRUE\n\\item TRUE\n\\item TRUE\n\\item TRUE\n\\item TRUE\n\\item TRUE\n\\item TRUE\n\\item TRUE\n\\item TRUE\n\\item TRUE\n\\item TRUE\n\\item TRUE\n\\item TRUE\n\\item TRUE\n\\item TRUE\n\\item TRUE\n\\item TRUE\n\\item TRUE\n\\item TRUE\n\\item TRUE\n\\item TRUE\n\\item TRUE\n\\item TRUE\n\\item TRUE\n\\item TRUE\n\\item TRUE\n\\item TRUE\n\\item TRUE\n\\item TRUE\n\\item TRUE\n\\item TRUE\n\\item TRUE\n\\item TRUE\n\\item TRUE\n\\item TRUE\n\\item TRUE\n\\item TRUE\n\\item TRUE\n\\item TRUE\n\\item TRUE\n\\item TRUE\n\\item TRUE\n\\item TRUE\n\\item TRUE\n\\item TRUE\n\\item TRUE\n\\item TRUE\n\\item TRUE\n\\item TRUE\n\\item TRUE\n\\item TRUE\n\\item TRUE\n\\item TRUE\n\\item TRUE\n\\item TRUE\n\\item TRUE\n\\item TRUE\n\\item TRUE\n\\item TRUE\n\\item TRUE\n\\item TRUE\n\\item TRUE\n\\item TRUE\n\\item TRUE\n\\item TRUE\n\\item TRUE\n\\item TRUE\n\\item TRUE\n\\end{enumerate*}\n",
            "text/plain": [
              "  [1]  TRUE  TRUE FALSE  TRUE  TRUE  TRUE  TRUE FALSE  TRUE  TRUE FALSE  TRUE\n",
              " [13]  TRUE FALSE FALSE  TRUE FALSE  TRUE  TRUE  TRUE  TRUE FALSE  TRUE  TRUE\n",
              " [25]  TRUE  TRUE  TRUE  TRUE  TRUE  TRUE  TRUE  TRUE  TRUE  TRUE  TRUE  TRUE\n",
              " [37]  TRUE  TRUE  TRUE  TRUE  TRUE  TRUE  TRUE FALSE  TRUE  TRUE  TRUE  TRUE\n",
              " [49]  TRUE  TRUE  TRUE  TRUE  TRUE  TRUE  TRUE  TRUE  TRUE  TRUE  TRUE  TRUE\n",
              " [61]  TRUE  TRUE  TRUE  TRUE  TRUE  TRUE  TRUE  TRUE  TRUE  TRUE  TRUE  TRUE\n",
              " [73]  TRUE  TRUE  TRUE  TRUE  TRUE  TRUE  TRUE  TRUE  TRUE  TRUE  TRUE FALSE\n",
              " [85]  TRUE  TRUE  TRUE  TRUE  TRUE  TRUE  TRUE  TRUE  TRUE  TRUE  TRUE  TRUE\n",
              " [97]  TRUE  TRUE  TRUE  TRUE  TRUE  TRUE  TRUE  TRUE  TRUE  TRUE  TRUE  TRUE\n",
              "[109]  TRUE  TRUE  TRUE  TRUE  TRUE  TRUE  TRUE  TRUE  TRUE  TRUE  TRUE  TRUE\n",
              "[121]  TRUE  TRUE  TRUE  TRUE  TRUE  TRUE  TRUE  TRUE  TRUE  TRUE  TRUE  TRUE\n",
              "[133]  TRUE  TRUE  TRUE  TRUE  TRUE  TRUE  TRUE  TRUE  TRUE  TRUE  TRUE  TRUE\n",
              "[145]  TRUE  TRUE  TRUE  TRUE  TRUE  TRUE  TRUE  TRUE  TRUE  TRUE  TRUE  TRUE\n",
              "[157]  TRUE  TRUE  TRUE  TRUE  TRUE  TRUE  TRUE  TRUE  TRUE  TRUE  TRUE  TRUE\n",
              "[169]  TRUE  TRUE  TRUE  TRUE  TRUE  TRUE  TRUE  TRUE  TRUE  TRUE  TRUE  TRUE\n",
              "[181]  TRUE  TRUE  TRUE  TRUE  TRUE  TRUE  TRUE  TRUE  TRUE  TRUE  TRUE  TRUE\n",
              "[193]  TRUE  TRUE  TRUE  TRUE  TRUE  TRUE  TRUE  TRUE  TRUE  TRUE  TRUE  TRUE\n",
              "[205]  TRUE  TRUE  TRUE  TRUE  TRUE  TRUE  TRUE  TRUE  TRUE  TRUE  TRUE  TRUE\n",
              "[217]  TRUE  TRUE  TRUE  TRUE  TRUE  TRUE  TRUE  TRUE  TRUE  TRUE  TRUE  TRUE\n",
              "[229]  TRUE  TRUE  TRUE  TRUE  TRUE  TRUE  TRUE  TRUE  TRUE  TRUE  TRUE  TRUE\n",
              "[241]  TRUE  TRUE  TRUE  TRUE  TRUE  TRUE  TRUE  TRUE  TRUE  TRUE  TRUE  TRUE\n",
              "[253]  TRUE  TRUE  TRUE  TRUE  TRUE  TRUE  TRUE  TRUE  TRUE  TRUE  TRUE  TRUE\n",
              "[265]  TRUE  TRUE FALSE  TRUE  TRUE  TRUE  TRUE  TRUE  TRUE  TRUE  TRUE  TRUE\n",
              "[277]  TRUE  TRUE  TRUE  TRUE  TRUE  TRUE  TRUE  TRUE  TRUE  TRUE  TRUE  TRUE\n",
              "[289]  TRUE  TRUE  TRUE  TRUE  TRUE  TRUE  TRUE  TRUE  TRUE  TRUE  TRUE  TRUE\n",
              "[301]  TRUE  TRUE  TRUE  TRUE  TRUE  TRUE  TRUE  TRUE  TRUE  TRUE  TRUE  TRUE\n",
              "[313]  TRUE  TRUE  TRUE  TRUE  TRUE  TRUE  TRUE  TRUE  TRUE  TRUE  TRUE  TRUE\n",
              "[325]  TRUE  TRUE  TRUE  TRUE  TRUE  TRUE  TRUE FALSE  TRUE  TRUE  TRUE  TRUE\n",
              "[337]  TRUE  TRUE  TRUE  TRUE  TRUE  TRUE  TRUE  TRUE  TRUE  TRUE  TRUE  TRUE\n",
              "[349]  TRUE  TRUE  TRUE  TRUE  TRUE  TRUE  TRUE  TRUE  TRUE  TRUE  TRUE  TRUE\n",
              "[361]  TRUE  TRUE  TRUE  TRUE  TRUE  TRUE  TRUE  TRUE  TRUE  TRUE  TRUE  TRUE\n",
              "[373]  TRUE  TRUE  TRUE  TRUE  TRUE  TRUE FALSE  TRUE  TRUE  TRUE  TRUE  TRUE\n",
              "[385]  TRUE  TRUE  TRUE  TRUE  TRUE  TRUE  TRUE  TRUE  TRUE  TRUE  TRUE  TRUE\n",
              "[397]  TRUE  TRUE  TRUE  TRUE  TRUE  TRUE  TRUE  TRUE  TRUE  TRUE  TRUE  TRUE\n",
              "[409]  TRUE  TRUE  TRUE  TRUE  TRUE  TRUE  TRUE  TRUE  TRUE  TRUE  TRUE  TRUE\n",
              "[421]  TRUE  TRUE  TRUE  TRUE  TRUE  TRUE  TRUE  TRUE  TRUE  TRUE  TRUE  TRUE\n",
              "[433]  TRUE  TRUE  TRUE  TRUE  TRUE  TRUE  TRUE  TRUE  TRUE  TRUE  TRUE  TRUE\n",
              "[445]  TRUE  TRUE  TRUE  TRUE  TRUE  TRUE  TRUE  TRUE  TRUE  TRUE  TRUE  TRUE\n",
              "[457]  TRUE  TRUE  TRUE  TRUE  TRUE  TRUE  TRUE  TRUE  TRUE  TRUE  TRUE  TRUE\n",
              "[469]  TRUE  TRUE  TRUE  TRUE  TRUE  TRUE  TRUE  TRUE  TRUE  TRUE  TRUE  TRUE\n",
              "[481]  TRUE  TRUE  TRUE  TRUE  TRUE  TRUE  TRUE  TRUE  TRUE  TRUE  TRUE  TRUE\n",
              "[493]  TRUE  TRUE  TRUE  TRUE  TRUE  TRUE  TRUE  TRUE"
            ]
          },
          "metadata": {}
        }
      ],
      "source": [
        "complete.cases(df)"
      ]
    },
    {
      "cell_type": "markdown",
      "metadata": {
        "id": "Tj4YTm2qbKF8"
      },
      "source": [
        "### Out df Null values:\n",
        "- The resulting output will include only those rows that have at least one NA value.\n"
      ]
    },
    {
      "cell_type": "code",
      "execution_count": null,
      "metadata": {
        "colab": {
          "base_uri": "https://localhost:8080/",
          "height": 474
        },
        "id": "ykEA0zCyZF5h",
        "outputId": "e83aad94-1a36-4eda-828c-1b1d65ce1a8c"
      },
      "outputs": [
        {
          "output_type": "display_data",
          "data": {
            "text/html": [
              "<table class=\"dataframe\">\n",
              "<caption>A data.frame: 12 × 11</caption>\n",
              "<thead>\n",
              "\t<tr><th></th><th scope=col>ID</th><th scope=col>Name</th><th scope=col>Industry</th><th scope=col>Inception</th><th scope=col>Employees</th><th scope=col>State</th><th scope=col>City</th><th scope=col>Revenue</th><th scope=col>Expenses</th><th scope=col>Profit</th><th scope=col>Growth</th></tr>\n",
              "\t<tr><th></th><th scope=col>&lt;int&gt;</th><th scope=col>&lt;chr&gt;</th><th scope=col>&lt;chr&gt;</th><th scope=col>&lt;int&gt;</th><th scope=col>&lt;int&gt;</th><th scope=col>&lt;chr&gt;</th><th scope=col>&lt;chr&gt;</th><th scope=col>&lt;chr&gt;</th><th scope=col>&lt;chr&gt;</th><th scope=col>&lt;int&gt;</th><th scope=col>&lt;chr&gt;</th></tr>\n",
              "</thead>\n",
              "<tbody>\n",
              "\t<tr><th scope=row>3</th><td>  3</td><td>Greenfax       </td><td>Retail            </td><td>2012</td><td> NA</td><td>SC</td><td>Greenville   </td><td>$9,746,272 </td><td>1,044,375 Dollars</td><td> 8701897</td><td>16%</td></tr>\n",
              "\t<tr><th scope=row>8</th><td>  8</td><td>Rednimdox      </td><td>Construction      </td><td>2013</td><td> 73</td><td>NY</td><td>Woodside     </td><td>NA         </td><td>NA               </td><td>      NA</td><td>NA </td></tr>\n",
              "\t<tr><th scope=row>11</th><td> 11</td><td>Canecorporation</td><td>Health            </td><td>2012</td><td>  6</td><td>NA</td><td>New York     </td><td>$10,597,009</td><td>7,591,189 Dollars</td><td> 3005820</td><td>7% </td></tr>\n",
              "\t<tr><th scope=row>14</th><td> 14</td><td>Techline       </td><td>NA                </td><td>2006</td><td> 65</td><td>CA</td><td>San Ramon    </td><td>$13,898,119</td><td>5,470,303 Dollars</td><td> 8427816</td><td>23%</td></tr>\n",
              "\t<tr><th scope=row>15</th><td> 15</td><td>Cityace        </td><td>NA                </td><td>2010</td><td> 25</td><td>CO</td><td>Louisville   </td><td>$9,254,614 </td><td>6,249,498 Dollars</td><td> 3005116</td><td>6% </td></tr>\n",
              "\t<tr><th scope=row>17</th><td> 17</td><td>Ganzlax        </td><td>IT Services       </td><td>2011</td><td> 75</td><td>NJ</td><td>Iselin       </td><td>$14,001,180</td><td>NA               </td><td>11901180</td><td>18%</td></tr>\n",
              "\t<tr><th scope=row>22</th><td> 22</td><td>Lathotline     </td><td>Health            </td><td>  NA</td><td>103</td><td>VA</td><td>McLean       </td><td>$9,418,303 </td><td>7,567,233 Dollars</td><td> 1851070</td><td>2% </td></tr>\n",
              "\t<tr><th scope=row>44</th><td> 44</td><td>Ganzgreen      </td><td>Construction      </td><td>2010</td><td>224</td><td>TN</td><td>Franklin     </td><td>NA         </td><td>NA               </td><td>      NA</td><td>9% </td></tr>\n",
              "\t<tr><th scope=row>84</th><td> 84</td><td>Drilldrill     </td><td>Software          </td><td>2010</td><td> 30</td><td>NA</td><td>San Francisco</td><td>$7,800,620 </td><td>2,785,799 Dollars</td><td> 5014821</td><td>17%</td></tr>\n",
              "\t<tr><th scope=row>267</th><td>267</td><td>Circlechop     </td><td>Software          </td><td>2010</td><td> 14</td><td>NA</td><td>San Francisco</td><td>$9,067,070 </td><td>5,929,828 Dollars</td><td> 3137242</td><td>20%</td></tr>\n",
              "\t<tr><th scope=row>332</th><td>332</td><td>Westminster    </td><td>Financial Services</td><td>2010</td><td> NA</td><td>MI</td><td>Troy         </td><td>$11,861,652</td><td>5,245,126 Dollars</td><td> 6616526</td><td>15%</td></tr>\n",
              "\t<tr><th scope=row>379</th><td>379</td><td>Stovepuck      </td><td>Retail            </td><td>2013</td><td> 73</td><td>NA</td><td>New York     </td><td>$13,814,975</td><td>5,904,502 Dollars</td><td> 7910473</td><td>10%</td></tr>\n",
              "</tbody>\n",
              "</table>\n"
            ],
            "text/markdown": "\nA data.frame: 12 × 11\n\n| <!--/--> | ID &lt;int&gt; | Name &lt;chr&gt; | Industry &lt;chr&gt; | Inception &lt;int&gt; | Employees &lt;int&gt; | State &lt;chr&gt; | City &lt;chr&gt; | Revenue &lt;chr&gt; | Expenses &lt;chr&gt; | Profit &lt;int&gt; | Growth &lt;chr&gt; |\n|---|---|---|---|---|---|---|---|---|---|---|---|\n| 3 |   3 | Greenfax        | Retail             | 2012 |  NA | SC | Greenville    | $9,746,272  | 1,044,375 Dollars |  8701897 | 16% |\n| 8 |   8 | Rednimdox       | Construction       | 2013 |  73 | NY | Woodside      | NA          | NA                |       NA | NA  |\n| 11 |  11 | Canecorporation | Health             | 2012 |   6 | NA | New York      | $10,597,009 | 7,591,189 Dollars |  3005820 | 7%  |\n| 14 |  14 | Techline        | NA                 | 2006 |  65 | CA | San Ramon     | $13,898,119 | 5,470,303 Dollars |  8427816 | 23% |\n| 15 |  15 | Cityace         | NA                 | 2010 |  25 | CO | Louisville    | $9,254,614  | 6,249,498 Dollars |  3005116 | 6%  |\n| 17 |  17 | Ganzlax         | IT Services        | 2011 |  75 | NJ | Iselin        | $14,001,180 | NA                | 11901180 | 18% |\n| 22 |  22 | Lathotline      | Health             |   NA | 103 | VA | McLean        | $9,418,303  | 7,567,233 Dollars |  1851070 | 2%  |\n| 44 |  44 | Ganzgreen       | Construction       | 2010 | 224 | TN | Franklin      | NA          | NA                |       NA | 9%  |\n| 84 |  84 | Drilldrill      | Software           | 2010 |  30 | NA | San Francisco | $7,800,620  | 2,785,799 Dollars |  5014821 | 17% |\n| 267 | 267 | Circlechop      | Software           | 2010 |  14 | NA | San Francisco | $9,067,070  | 5,929,828 Dollars |  3137242 | 20% |\n| 332 | 332 | Westminster     | Financial Services | 2010 |  NA | MI | Troy          | $11,861,652 | 5,245,126 Dollars |  6616526 | 15% |\n| 379 | 379 | Stovepuck       | Retail             | 2013 |  73 | NA | New York      | $13,814,975 | 5,904,502 Dollars |  7910473 | 10% |\n\n",
            "text/latex": "A data.frame: 12 × 11\n\\begin{tabular}{r|lllllllllll}\n  & ID & Name & Industry & Inception & Employees & State & City & Revenue & Expenses & Profit & Growth\\\\\n  & <int> & <chr> & <chr> & <int> & <int> & <chr> & <chr> & <chr> & <chr> & <int> & <chr>\\\\\n\\hline\n\t3 &   3 & Greenfax        & Retail             & 2012 &  NA & SC & Greenville    & \\$9,746,272  & 1,044,375 Dollars &  8701897 & 16\\%\\\\\n\t8 &   8 & Rednimdox       & Construction       & 2013 &  73 & NY & Woodside      & NA          & NA                &       NA & NA \\\\\n\t11 &  11 & Canecorporation & Health             & 2012 &   6 & NA & New York      & \\$10,597,009 & 7,591,189 Dollars &  3005820 & 7\\% \\\\\n\t14 &  14 & Techline        & NA                 & 2006 &  65 & CA & San Ramon     & \\$13,898,119 & 5,470,303 Dollars &  8427816 & 23\\%\\\\\n\t15 &  15 & Cityace         & NA                 & 2010 &  25 & CO & Louisville    & \\$9,254,614  & 6,249,498 Dollars &  3005116 & 6\\% \\\\\n\t17 &  17 & Ganzlax         & IT Services        & 2011 &  75 & NJ & Iselin        & \\$14,001,180 & NA                & 11901180 & 18\\%\\\\\n\t22 &  22 & Lathotline      & Health             &   NA & 103 & VA & McLean        & \\$9,418,303  & 7,567,233 Dollars &  1851070 & 2\\% \\\\\n\t44 &  44 & Ganzgreen       & Construction       & 2010 & 224 & TN & Franklin      & NA          & NA                &       NA & 9\\% \\\\\n\t84 &  84 & Drilldrill      & Software           & 2010 &  30 & NA & San Francisco & \\$7,800,620  & 2,785,799 Dollars &  5014821 & 17\\%\\\\\n\t267 & 267 & Circlechop      & Software           & 2010 &  14 & NA & San Francisco & \\$9,067,070  & 5,929,828 Dollars &  3137242 & 20\\%\\\\\n\t332 & 332 & Westminster     & Financial Services & 2010 &  NA & MI & Troy          & \\$11,861,652 & 5,245,126 Dollars &  6616526 & 15\\%\\\\\n\t379 & 379 & Stovepuck       & Retail             & 2013 &  73 & NA & New York      & \\$13,814,975 & 5,904,502 Dollars &  7910473 & 10\\%\\\\\n\\end{tabular}\n",
            "text/plain": [
              "    ID  Name            Industry           Inception Employees State\n",
              "3     3 Greenfax        Retail             2012       NA       SC   \n",
              "8     8 Rednimdox       Construction       2013       73       NY   \n",
              "11   11 Canecorporation Health             2012        6       NA   \n",
              "14   14 Techline        NA                 2006       65       CA   \n",
              "15   15 Cityace         NA                 2010       25       CO   \n",
              "17   17 Ganzlax         IT Services        2011       75       NJ   \n",
              "22   22 Lathotline      Health               NA      103       VA   \n",
              "44   44 Ganzgreen       Construction       2010      224       TN   \n",
              "84   84 Drilldrill      Software           2010       30       NA   \n",
              "267 267 Circlechop      Software           2010       14       NA   \n",
              "332 332 Westminster     Financial Services 2010       NA       MI   \n",
              "379 379 Stovepuck       Retail             2013       73       NA   \n",
              "    City          Revenue     Expenses          Profit   Growth\n",
              "3   Greenville    $9,746,272  1,044,375 Dollars  8701897 16%   \n",
              "8   Woodside      NA          NA                      NA NA    \n",
              "11  New York      $10,597,009 7,591,189 Dollars  3005820 7%    \n",
              "14  San Ramon     $13,898,119 5,470,303 Dollars  8427816 23%   \n",
              "15  Louisville    $9,254,614  6,249,498 Dollars  3005116 6%    \n",
              "17  Iselin        $14,001,180 NA                11901180 18%   \n",
              "22  McLean        $9,418,303  7,567,233 Dollars  1851070 2%    \n",
              "44  Franklin      NA          NA                      NA 9%    \n",
              "84  San Francisco $7,800,620  2,785,799 Dollars  5014821 17%   \n",
              "267 San Francisco $9,067,070  5,929,828 Dollars  3137242 20%   \n",
              "332 Troy          $11,861,652 5,245,126 Dollars  6616526 15%   \n",
              "379 New York      $13,814,975 5,904,502 Dollars  7910473 10%   "
            ]
          },
          "metadata": {}
        }
      ],
      "source": [
        "df[!complete.cases(df),]\n"
      ]
    },
    {
      "cell_type": "markdown",
      "metadata": {
        "id": "a9olXfDMWgle"
      },
      "source": [
        "### Output is data without any missing values"
      ]
    },
    {
      "cell_type": "code",
      "execution_count": null,
      "metadata": {
        "colab": {
          "base_uri": "https://localhost:8080/",
          "height": 411
        },
        "id": "x2ssXbiEZLjx",
        "outputId": "4f30e507-877a-4453-f91e-bc2955eeac94"
      },
      "outputs": [
        {
          "output_type": "display_data",
          "data": {
            "text/html": [
              "<table class=\"dataframe\">\n",
              "<caption>A data.frame: 10 × 11</caption>\n",
              "<thead>\n",
              "\t<tr><th></th><th scope=col>ID</th><th scope=col>Name</th><th scope=col>Industry</th><th scope=col>Inception</th><th scope=col>Employees</th><th scope=col>State</th><th scope=col>City</th><th scope=col>Revenue</th><th scope=col>Expenses</th><th scope=col>Profit</th><th scope=col>Growth</th></tr>\n",
              "\t<tr><th></th><th scope=col>&lt;int&gt;</th><th scope=col>&lt;chr&gt;</th><th scope=col>&lt;chr&gt;</th><th scope=col>&lt;int&gt;</th><th scope=col>&lt;int&gt;</th><th scope=col>&lt;chr&gt;</th><th scope=col>&lt;chr&gt;</th><th scope=col>&lt;chr&gt;</th><th scope=col>&lt;chr&gt;</th><th scope=col>&lt;int&gt;</th><th scope=col>&lt;chr&gt;</th></tr>\n",
              "</thead>\n",
              "<tbody>\n",
              "\t<tr><th scope=row>1</th><td> 1</td><td>Over-Hex    </td><td>Software          </td><td>2006</td><td> 25</td><td>TN</td><td>Franklin      </td><td>$9,684,527 </td><td>1,130,700 Dollars</td><td> 8553827</td><td>19%</td></tr>\n",
              "\t<tr><th scope=row>2</th><td> 2</td><td>Unimattax   </td><td>IT Services       </td><td>2009</td><td> 36</td><td>PA</td><td>Newtown Square</td><td>$14,016,543</td><td>804,035 Dollars  </td><td>13212508</td><td>20%</td></tr>\n",
              "\t<tr><th scope=row>3</th><td> 3</td><td>Greenfax    </td><td>Retail            </td><td>2012</td><td> NA</td><td>SC</td><td>Greenville    </td><td>$9,746,272 </td><td>1,044,375 Dollars</td><td> 8701897</td><td>16%</td></tr>\n",
              "\t<tr><th scope=row>4</th><td> 4</td><td>Blacklane   </td><td>IT Services       </td><td>2011</td><td> 66</td><td>CA</td><td>Orange        </td><td>$15,359,369</td><td>4,631,808 Dollars</td><td>10727561</td><td>19%</td></tr>\n",
              "\t<tr><th scope=row>5</th><td> 5</td><td>Yearflex    </td><td>Software          </td><td>2013</td><td> 45</td><td>WI</td><td>Madison       </td><td>$8,567,910 </td><td>4,374,841 Dollars</td><td> 4193069</td><td>19%</td></tr>\n",
              "\t<tr><th scope=row>6</th><td> 6</td><td>Indigoplanet</td><td>IT Services       </td><td>2013</td><td> 60</td><td>NJ</td><td>Manalapan     </td><td>$12,805,452</td><td>4,626,275 Dollars</td><td> 8179177</td><td>22%</td></tr>\n",
              "\t<tr><th scope=row>7</th><td> 7</td><td>Treslam     </td><td>Financial Services</td><td>2009</td><td>116</td><td>MO</td><td>Clayton       </td><td>$5,387,469 </td><td>2,127,984 Dollars</td><td> 3259485</td><td>17%</td></tr>\n",
              "\t<tr><th scope=row>8</th><td> 8</td><td>Rednimdox   </td><td>Construction      </td><td>2013</td><td> 73</td><td>NY</td><td>Woodside      </td><td>NA         </td><td>NA               </td><td>      NA</td><td>NA </td></tr>\n",
              "\t<tr><th scope=row>9</th><td> 9</td><td>Lamtone     </td><td>IT Services       </td><td>2009</td><td> 55</td><td>CA</td><td>San Ramon     </td><td>$11,757,018</td><td>6,482,465 Dollars</td><td> 5274553</td><td>30%</td></tr>\n",
              "\t<tr><th scope=row>10</th><td>10</td><td>Stripfind   </td><td>Financial Services</td><td>2010</td><td> 25</td><td>FL</td><td>Boca Raton    </td><td>$12,329,371</td><td>916,455 Dollars  </td><td>11412916</td><td>20%</td></tr>\n",
              "</tbody>\n",
              "</table>\n"
            ],
            "text/markdown": "\nA data.frame: 10 × 11\n\n| <!--/--> | ID &lt;int&gt; | Name &lt;chr&gt; | Industry &lt;chr&gt; | Inception &lt;int&gt; | Employees &lt;int&gt; | State &lt;chr&gt; | City &lt;chr&gt; | Revenue &lt;chr&gt; | Expenses &lt;chr&gt; | Profit &lt;int&gt; | Growth &lt;chr&gt; |\n|---|---|---|---|---|---|---|---|---|---|---|---|\n| 1 |  1 | Over-Hex     | Software           | 2006 |  25 | TN | Franklin       | $9,684,527  | 1,130,700 Dollars |  8553827 | 19% |\n| 2 |  2 | Unimattax    | IT Services        | 2009 |  36 | PA | Newtown Square | $14,016,543 | 804,035 Dollars   | 13212508 | 20% |\n| 3 |  3 | Greenfax     | Retail             | 2012 |  NA | SC | Greenville     | $9,746,272  | 1,044,375 Dollars |  8701897 | 16% |\n| 4 |  4 | Blacklane    | IT Services        | 2011 |  66 | CA | Orange         | $15,359,369 | 4,631,808 Dollars | 10727561 | 19% |\n| 5 |  5 | Yearflex     | Software           | 2013 |  45 | WI | Madison        | $8,567,910  | 4,374,841 Dollars |  4193069 | 19% |\n| 6 |  6 | Indigoplanet | IT Services        | 2013 |  60 | NJ | Manalapan      | $12,805,452 | 4,626,275 Dollars |  8179177 | 22% |\n| 7 |  7 | Treslam      | Financial Services | 2009 | 116 | MO | Clayton        | $5,387,469  | 2,127,984 Dollars |  3259485 | 17% |\n| 8 |  8 | Rednimdox    | Construction       | 2013 |  73 | NY | Woodside       | NA          | NA                |       NA | NA  |\n| 9 |  9 | Lamtone      | IT Services        | 2009 |  55 | CA | San Ramon      | $11,757,018 | 6,482,465 Dollars |  5274553 | 30% |\n| 10 | 10 | Stripfind    | Financial Services | 2010 |  25 | FL | Boca Raton     | $12,329,371 | 916,455 Dollars   | 11412916 | 20% |\n\n",
            "text/latex": "A data.frame: 10 × 11\n\\begin{tabular}{r|lllllllllll}\n  & ID & Name & Industry & Inception & Employees & State & City & Revenue & Expenses & Profit & Growth\\\\\n  & <int> & <chr> & <chr> & <int> & <int> & <chr> & <chr> & <chr> & <chr> & <int> & <chr>\\\\\n\\hline\n\t1 &  1 & Over-Hex     & Software           & 2006 &  25 & TN & Franklin       & \\$9,684,527  & 1,130,700 Dollars &  8553827 & 19\\%\\\\\n\t2 &  2 & Unimattax    & IT Services        & 2009 &  36 & PA & Newtown Square & \\$14,016,543 & 804,035 Dollars   & 13212508 & 20\\%\\\\\n\t3 &  3 & Greenfax     & Retail             & 2012 &  NA & SC & Greenville     & \\$9,746,272  & 1,044,375 Dollars &  8701897 & 16\\%\\\\\n\t4 &  4 & Blacklane    & IT Services        & 2011 &  66 & CA & Orange         & \\$15,359,369 & 4,631,808 Dollars & 10727561 & 19\\%\\\\\n\t5 &  5 & Yearflex     & Software           & 2013 &  45 & WI & Madison        & \\$8,567,910  & 4,374,841 Dollars &  4193069 & 19\\%\\\\\n\t6 &  6 & Indigoplanet & IT Services        & 2013 &  60 & NJ & Manalapan      & \\$12,805,452 & 4,626,275 Dollars &  8179177 & 22\\%\\\\\n\t7 &  7 & Treslam      & Financial Services & 2009 & 116 & MO & Clayton        & \\$5,387,469  & 2,127,984 Dollars &  3259485 & 17\\%\\\\\n\t8 &  8 & Rednimdox    & Construction       & 2013 &  73 & NY & Woodside       & NA          & NA                &       NA & NA \\\\\n\t9 &  9 & Lamtone      & IT Services        & 2009 &  55 & CA & San Ramon      & \\$11,757,018 & 6,482,465 Dollars &  5274553 & 30\\%\\\\\n\t10 & 10 & Stripfind    & Financial Services & 2010 &  25 & FL & Boca Raton     & \\$12,329,371 & 916,455 Dollars   & 11412916 & 20\\%\\\\\n\\end{tabular}\n",
            "text/plain": [
              "   ID Name         Industry           Inception Employees State City          \n",
              "1   1 Over-Hex     Software           2006       25       TN    Franklin      \n",
              "2   2 Unimattax    IT Services        2009       36       PA    Newtown Square\n",
              "3   3 Greenfax     Retail             2012       NA       SC    Greenville    \n",
              "4   4 Blacklane    IT Services        2011       66       CA    Orange        \n",
              "5   5 Yearflex     Software           2013       45       WI    Madison       \n",
              "6   6 Indigoplanet IT Services        2013       60       NJ    Manalapan     \n",
              "7   7 Treslam      Financial Services 2009      116       MO    Clayton       \n",
              "8   8 Rednimdox    Construction       2013       73       NY    Woodside      \n",
              "9   9 Lamtone      IT Services        2009       55       CA    San Ramon     \n",
              "10 10 Stripfind    Financial Services 2010       25       FL    Boca Raton    \n",
              "   Revenue     Expenses          Profit   Growth\n",
              "1  $9,684,527  1,130,700 Dollars  8553827 19%   \n",
              "2  $14,016,543 804,035 Dollars   13212508 20%   \n",
              "3  $9,746,272  1,044,375 Dollars  8701897 16%   \n",
              "4  $15,359,369 4,631,808 Dollars 10727561 19%   \n",
              "5  $8,567,910  4,374,841 Dollars  4193069 19%   \n",
              "6  $12,805,452 4,626,275 Dollars  8179177 22%   \n",
              "7  $5,387,469  2,127,984 Dollars  3259485 17%   \n",
              "8  NA          NA                      NA NA    \n",
              "9  $11,757,018 6,482,465 Dollars  5274553 30%   \n",
              "10 $12,329,371 916,455 Dollars   11412916 20%   "
            ]
          },
          "metadata": {}
        }
      ],
      "source": [
        "head(df[!is.na(df),], 10)"
      ]
    },
    {
      "cell_type": "markdown",
      "metadata": {
        "id": "K_9eYZO8Wqec"
      },
      "source": [
        "### Deleing with missing values"
      ]
    },
    {
      "cell_type": "markdown",
      "source": [
        "### 1. In State column\n",
        "staty related by city "
      ],
      "metadata": {
        "id": "rA2fCeTk-nmB"
      }
    },
    {
      "cell_type": "code",
      "execution_count": null,
      "metadata": {
        "id": "XtXuAYRAWqLw"
      },
      "outputs": [],
      "source": [
        "#   Doctor code contain unknown error\n",
        "#missing_City = df[is.na(df$State) & df$City == 'New York', 'State'] = 'NY'\n",
        "#missing_City "
      ]
    },
    {
      "cell_type": "code",
      "execution_count": null,
      "metadata": {
        "colab": {
          "base_uri": "https://localhost:8080/",
          "height": 160
        },
        "id": "9fXko8V9WqIt",
        "outputId": "ba4b2b23-7579-46c6-d6a4-5ed0f932997f"
      },
      "outputs": [
        {
          "output_type": "display_data",
          "data": {
            "text/html": [
              "<table class=\"dataframe\">\n",
              "<caption>A data.frame: 2 × 11</caption>\n",
              "<thead>\n",
              "\t<tr><th></th><th scope=col>ID</th><th scope=col>Name</th><th scope=col>Industry</th><th scope=col>Inception</th><th scope=col>Employees</th><th scope=col>State</th><th scope=col>City</th><th scope=col>Revenue</th><th scope=col>Expenses</th><th scope=col>Profit</th><th scope=col>Growth</th></tr>\n",
              "\t<tr><th></th><th scope=col>&lt;int&gt;</th><th scope=col>&lt;chr&gt;</th><th scope=col>&lt;chr&gt;</th><th scope=col>&lt;int&gt;</th><th scope=col>&lt;int&gt;</th><th scope=col>&lt;chr&gt;</th><th scope=col>&lt;chr&gt;</th><th scope=col>&lt;chr&gt;</th><th scope=col>&lt;chr&gt;</th><th scope=col>&lt;int&gt;</th><th scope=col>&lt;chr&gt;</th></tr>\n",
              "</thead>\n",
              "<tbody>\n",
              "\t<tr><th scope=row>11</th><td> 11</td><td>Canecorporation</td><td>Health</td><td>2012</td><td> 6</td><td>NA</td><td>New York</td><td>$10,597,009</td><td>7,591,189 Dollars</td><td>3005820</td><td>7% </td></tr>\n",
              "\t<tr><th scope=row>379</th><td>379</td><td>Stovepuck      </td><td>Retail</td><td>2013</td><td>73</td><td>NA</td><td>New York</td><td>$13,814,975</td><td>5,904,502 Dollars</td><td>7910473</td><td>10%</td></tr>\n",
              "</tbody>\n",
              "</table>\n"
            ],
            "text/markdown": "\nA data.frame: 2 × 11\n\n| <!--/--> | ID &lt;int&gt; | Name &lt;chr&gt; | Industry &lt;chr&gt; | Inception &lt;int&gt; | Employees &lt;int&gt; | State &lt;chr&gt; | City &lt;chr&gt; | Revenue &lt;chr&gt; | Expenses &lt;chr&gt; | Profit &lt;int&gt; | Growth &lt;chr&gt; |\n|---|---|---|---|---|---|---|---|---|---|---|---|\n| 11 |  11 | Canecorporation | Health | 2012 |  6 | NA | New York | $10,597,009 | 7,591,189 Dollars | 3005820 | 7%  |\n| 379 | 379 | Stovepuck       | Retail | 2013 | 73 | NA | New York | $13,814,975 | 5,904,502 Dollars | 7910473 | 10% |\n\n",
            "text/latex": "A data.frame: 2 × 11\n\\begin{tabular}{r|lllllllllll}\n  & ID & Name & Industry & Inception & Employees & State & City & Revenue & Expenses & Profit & Growth\\\\\n  & <int> & <chr> & <chr> & <int> & <int> & <chr> & <chr> & <chr> & <chr> & <int> & <chr>\\\\\n\\hline\n\t11 &  11 & Canecorporation & Health & 2012 &  6 & NA & New York & \\$10,597,009 & 7,591,189 Dollars & 3005820 & 7\\% \\\\\n\t379 & 379 & Stovepuck       & Retail & 2013 & 73 & NA & New York & \\$13,814,975 & 5,904,502 Dollars & 7910473 & 10\\%\\\\\n\\end{tabular}\n",
            "text/plain": [
              "    ID  Name            Industry Inception Employees State City     Revenue    \n",
              "11   11 Canecorporation Health   2012       6        NA    New York $10,597,009\n",
              "379 379 Stovepuck       Retail   2013      73        NA    New York $13,814,975\n",
              "    Expenses          Profit  Growth\n",
              "11  7,591,189 Dollars 3005820 7%    \n",
              "379 5,904,502 Dollars 7910473 10%   "
            ]
          },
          "metadata": {}
        }
      ],
      "source": [
        "df$State <- ifelse(df$City == \"San Francisco\" & is.na(df$State), \"SF\", df$State)\n",
        "df[is.na(df$State),]"
      ]
    },
    {
      "cell_type": "code",
      "execution_count": null,
      "metadata": {
        "colab": {
          "base_uri": "https://localhost:8080/",
          "height": 98
        },
        "id": "TbE7Mt1MWqF4",
        "outputId": "0a309841-e549-4e71-eff8-3b3807f7cfce"
      },
      "outputs": [
        {
          "output_type": "display_data",
          "data": {
            "text/html": [
              "<table class=\"dataframe\">\n",
              "<caption>A data.frame: 0 × 11</caption>\n",
              "<thead>\n",
              "\t<tr><th scope=col>ID</th><th scope=col>Name</th><th scope=col>Industry</th><th scope=col>Inception</th><th scope=col>Employees</th><th scope=col>State</th><th scope=col>City</th><th scope=col>Revenue</th><th scope=col>Expenses</th><th scope=col>Profit</th><th scope=col>Growth</th></tr>\n",
              "\t<tr><th scope=col>&lt;int&gt;</th><th scope=col>&lt;chr&gt;</th><th scope=col>&lt;chr&gt;</th><th scope=col>&lt;int&gt;</th><th scope=col>&lt;int&gt;</th><th scope=col>&lt;chr&gt;</th><th scope=col>&lt;chr&gt;</th><th scope=col>&lt;chr&gt;</th><th scope=col>&lt;chr&gt;</th><th scope=col>&lt;int&gt;</th><th scope=col>&lt;chr&gt;</th></tr>\n",
              "</thead>\n",
              "<tbody>\n",
              "</tbody>\n",
              "</table>\n"
            ],
            "text/markdown": "\nA data.frame: 0 × 11\n\n| ID &lt;int&gt; | Name &lt;chr&gt; | Industry &lt;chr&gt; | Inception &lt;int&gt; | Employees &lt;int&gt; | State &lt;chr&gt; | City &lt;chr&gt; | Revenue &lt;chr&gt; | Expenses &lt;chr&gt; | Profit &lt;int&gt; | Growth &lt;chr&gt; |\n|---|---|---|---|---|---|---|---|---|---|---|\n\n",
            "text/latex": "A data.frame: 0 × 11\n\\begin{tabular}{lllllllllll}\n ID & Name & Industry & Inception & Employees & State & City & Revenue & Expenses & Profit & Growth\\\\\n <int> & <chr> & <chr> & <int> & <int> & <chr> & <chr> & <chr> & <chr> & <int> & <chr>\\\\\n\\hline\n\\end{tabular}\n",
            "text/plain": [
              "     ID Name Industry Inception Employees State City Revenue Expenses Profit\n",
              "     Growth"
            ]
          },
          "metadata": {}
        }
      ],
      "source": [
        "df$State <- ifelse(df$City == \"New York\" & is.na(df$State), \"NY\", df$State)\n",
        "df[is.na(df$State),]"
      ]
    },
    {
      "cell_type": "code",
      "execution_count": null,
      "metadata": {
        "colab": {
          "base_uri": "https://localhost:8080/",
          "height": 442
        },
        "id": "8abfZ7U1lNz8",
        "outputId": "48cf9c6c-4052-4663-c7cf-abc3e0261b8a"
      },
      "outputs": [
        {
          "output_type": "display_data",
          "data": {
            "text/html": [
              "<table class=\"dataframe\">\n",
              "<caption>A data.frame: 11 × 1</caption>\n",
              "<thead>\n",
              "\t<tr><th></th><th scope=col>colSums.is.na.df..</th></tr>\n",
              "\t<tr><th></th><th scope=col>&lt;dbl&gt;</th></tr>\n",
              "</thead>\n",
              "<tbody>\n",
              "\t<tr><th scope=row>ID</th><td>0</td></tr>\n",
              "\t<tr><th scope=row>Name</th><td>0</td></tr>\n",
              "\t<tr><th scope=row>Industry</th><td>2</td></tr>\n",
              "\t<tr><th scope=row>Inception</th><td>1</td></tr>\n",
              "\t<tr><th scope=row>Employees</th><td>2</td></tr>\n",
              "\t<tr><th scope=row>State</th><td>4</td></tr>\n",
              "\t<tr><th scope=row>City</th><td>0</td></tr>\n",
              "\t<tr><th scope=row>Revenue</th><td>2</td></tr>\n",
              "\t<tr><th scope=row>Expenses</th><td>3</td></tr>\n",
              "\t<tr><th scope=row>Profit</th><td>2</td></tr>\n",
              "\t<tr><th scope=row>Growth</th><td>1</td></tr>\n",
              "</tbody>\n",
              "</table>\n"
            ],
            "text/markdown": "\nA data.frame: 11 × 1\n\n| <!--/--> | colSums.is.na.df.. &lt;dbl&gt; |\n|---|---|\n| ID | 0 |\n| Name | 0 |\n| Industry | 2 |\n| Inception | 1 |\n| Employees | 2 |\n| State | 4 |\n| City | 0 |\n| Revenue | 2 |\n| Expenses | 3 |\n| Profit | 2 |\n| Growth | 1 |\n\n",
            "text/latex": "A data.frame: 11 × 1\n\\begin{tabular}{r|l}\n  & colSums.is.na.df..\\\\\n  & <dbl>\\\\\n\\hline\n\tID & 0\\\\\n\tName & 0\\\\\n\tIndustry & 2\\\\\n\tInception & 1\\\\\n\tEmployees & 2\\\\\n\tState & 4\\\\\n\tCity & 0\\\\\n\tRevenue & 2\\\\\n\tExpenses & 3\\\\\n\tProfit & 2\\\\\n\tGrowth & 1\\\\\n\\end{tabular}\n",
            "text/plain": [
              "          colSums.is.na.df..\n",
              "ID        0                 \n",
              "Name      0                 \n",
              "Industry  2                 \n",
              "Inception 1                 \n",
              "Employees 2                 \n",
              "State     4                 \n",
              "City      0                 \n",
              "Revenue   2                 \n",
              "Expenses  3                 \n",
              "Profit    2                 \n",
              "Growth    1                 "
            ]
          },
          "metadata": {}
        }
      ],
      "source": [
        "df_missing"
      ]
    },
    {
      "cell_type": "markdown",
      "metadata": {
        "id": "qqTf0RJ5mHnP"
      },
      "source": [
        "#### Inception column have 1 missing value:\n",
        "1. fill with 0\n",
        "2. fill with most common\n",
        "3. drop\n",
        ">> most ablcable is fill with most common"
      ]
    },
    {
      "cell_type": "code",
      "execution_count": null,
      "metadata": {
        "colab": {
          "base_uri": "https://localhost:8080/",
          "height": 71
        },
        "id": "kHp3q0o3lNjy",
        "outputId": "44141eb0-7c05-4ac3-8639-2782a0eeb8fd"
      },
      "outputs": [
        {
          "output_type": "display_data",
          "data": {
            "text/plain": [
              "\n",
              "1999 2000 2001 2002 2003 2004 2005 2006 2007 2008 2009 2010 2011 2012 2013 2014 \n",
              "   4    9    6    9    6    7    8   13    7    6   60   83   93   80   69   39 "
            ]
          },
          "metadata": {}
        }
      ],
      "source": [
        "# as value_counts in python, \n",
        "# it out all values in column with its freq\n",
        "table(df$Inception)"
      ]
    },
    {
      "cell_type": "code",
      "execution_count": null,
      "metadata": {
        "colab": {
          "base_uri": "https://localhost:8080/",
          "height": 34
        },
        "id": "-XYIdtYtmhhr",
        "outputId": "bfd5d426-6e65-4be9-e41b-b8ffc58059e2"
      },
      "outputs": [
        {
          "output_type": "display_data",
          "data": {
            "text/html": [
              "93"
            ],
            "text/markdown": "93",
            "text/latex": "93",
            "text/plain": [
              "[1] 93"
            ]
          },
          "metadata": {}
        }
      ],
      "source": [
        "# max freq value is 93\n",
        "max(table(df$Inception))"
      ]
    },
    {
      "cell_type": "code",
      "execution_count": null,
      "metadata": {
        "colab": {
          "base_uri": "https://localhost:8080/",
          "height": 34
        },
        "id": "GwlsVgH6mjDU",
        "outputId": "3e8340c8-4240-46eb-8d74-d216cfab6dd5"
      },
      "outputs": [
        {
          "output_type": "display_data",
          "data": {
            "text/html": [
              "<strong>2011:</strong> 13"
            ],
            "text/markdown": "**2011:** 13",
            "text/latex": "\\textbf{2011:} 13",
            "text/plain": [
              "2011 \n",
              "  13 "
            ]
          },
          "metadata": {}
        }
      ],
      "source": [
        "which.max(table(df$Inception))"
      ]
    },
    {
      "cell_type": "code",
      "execution_count": null,
      "metadata": {
        "colab": {
          "base_uri": "https://localhost:8080/",
          "height": 34
        },
        "id": "jUj39Jkjmi9r",
        "outputId": "9a6880a9-82d8-4d81-ab35-caab8a6a224e"
      },
      "outputs": [
        {
          "output_type": "display_data",
          "data": {
            "text/html": [
              "<strong>2011:</strong> 13"
            ],
            "text/markdown": "**2011:** 13",
            "text/latex": "\\textbf{2011:} 13",
            "text/plain": [
              "2011 \n",
              "  13 "
            ]
          },
          "metadata": {}
        }
      ],
      "source": [
        "# year with most freq and its index \n",
        "yearfreq = which.max(table(df$Inception))\n",
        "yearfreq"
      ]
    },
    {
      "cell_type": "code",
      "execution_count": null,
      "metadata": {
        "id": "CoufxSntnS2Z"
      },
      "outputs": [],
      "source": [
        "year = as.numeric(names(yearfreq))"
      ]
    },
    {
      "cell_type": "code",
      "source": [
        "str(year)"
      ],
      "metadata": {
        "colab": {
          "base_uri": "https://localhost:8080/"
        },
        "id": "W9yfG2-y6Z5h",
        "outputId": "08beea73-0412-433f-be3c-a486d0376051"
      },
      "execution_count": null,
      "outputs": [
        {
          "output_type": "stream",
          "name": "stdout",
          "text": [
            " num 2011\n"
          ]
        }
      ]
    },
    {
      "cell_type": "code",
      "execution_count": null,
      "metadata": {
        "id": "jqFk0PkHnSpi"
      },
      "outputs": [],
      "source": [
        "df$Inception = replace_na(df$Inception, year)"
      ]
    },
    {
      "cell_type": "markdown",
      "source": [
        "### **Profit = Revenue - Expenses**\n",
        "1. three columns are chr not numeric\n",
        "2. contains chars, drop it before convert the datatype\n",
        "3. if the 3 are missind in same record, remove it \n"
      ],
      "metadata": {
        "id": "gvdU4fqV622o"
      }
    },
    {
      "cell_type": "code",
      "execution_count": null,
      "metadata": {
        "id": "P49voZaFnSlt",
        "colab": {
          "base_uri": "https://localhost:8080/",
          "height": 160
        },
        "outputId": "12c5aaff-4dd3-41e0-91c4-51c42306a6d9"
      },
      "outputs": [
        {
          "output_type": "display_data",
          "data": {
            "text/html": [
              "<table class=\"dataframe\">\n",
              "<caption>A data.frame: 2 × 11</caption>\n",
              "<thead>\n",
              "\t<tr><th></th><th scope=col>ID</th><th scope=col>Name</th><th scope=col>Industry</th><th scope=col>Inception</th><th scope=col>Employees</th><th scope=col>State</th><th scope=col>City</th><th scope=col>Revenue</th><th scope=col>Expenses</th><th scope=col>Profit</th><th scope=col>Growth</th></tr>\n",
              "\t<tr><th></th><th scope=col>&lt;int&gt;</th><th scope=col>&lt;chr&gt;</th><th scope=col>&lt;chr&gt;</th><th scope=col>&lt;int&gt;</th><th scope=col>&lt;int&gt;</th><th scope=col>&lt;chr&gt;</th><th scope=col>&lt;chr&gt;</th><th scope=col>&lt;chr&gt;</th><th scope=col>&lt;chr&gt;</th><th scope=col>&lt;int&gt;</th><th scope=col>&lt;chr&gt;</th></tr>\n",
              "</thead>\n",
              "<tbody>\n",
              "\t<tr><th scope=row>8</th><td> 8</td><td>Rednimdox</td><td>Construction</td><td>2013</td><td> 73</td><td>NY</td><td>Woodside</td><td>NA</td><td>NA</td><td>NA</td><td>NA</td></tr>\n",
              "\t<tr><th scope=row>44</th><td>44</td><td>Ganzgreen</td><td>Construction</td><td>2010</td><td>224</td><td>TN</td><td>Franklin</td><td>NA</td><td>NA</td><td>NA</td><td>9%</td></tr>\n",
              "</tbody>\n",
              "</table>\n"
            ],
            "text/markdown": "\nA data.frame: 2 × 11\n\n| <!--/--> | ID &lt;int&gt; | Name &lt;chr&gt; | Industry &lt;chr&gt; | Inception &lt;int&gt; | Employees &lt;int&gt; | State &lt;chr&gt; | City &lt;chr&gt; | Revenue &lt;chr&gt; | Expenses &lt;chr&gt; | Profit &lt;int&gt; | Growth &lt;chr&gt; |\n|---|---|---|---|---|---|---|---|---|---|---|---|\n| 8 |  8 | Rednimdox | Construction | 2013 |  73 | NY | Woodside | NA | NA | NA | NA |\n| 44 | 44 | Ganzgreen | Construction | 2010 | 224 | TN | Franklin | NA | NA | NA | 9% |\n\n",
            "text/latex": "A data.frame: 2 × 11\n\\begin{tabular}{r|lllllllllll}\n  & ID & Name & Industry & Inception & Employees & State & City & Revenue & Expenses & Profit & Growth\\\\\n  & <int> & <chr> & <chr> & <int> & <int> & <chr> & <chr> & <chr> & <chr> & <int> & <chr>\\\\\n\\hline\n\t8 &  8 & Rednimdox & Construction & 2013 &  73 & NY & Woodside & NA & NA & NA & NA\\\\\n\t44 & 44 & Ganzgreen & Construction & 2010 & 224 & TN & Franklin & NA & NA & NA & 9\\%\\\\\n\\end{tabular}\n",
            "text/plain": [
              "   ID Name      Industry     Inception Employees State City     Revenue\n",
              "8   8 Rednimdox Construction 2013       73       NY    Woodside NA     \n",
              "44 44 Ganzgreen Construction 2010      224       TN    Franklin NA     \n",
              "   Expenses Profit Growth\n",
              "8  NA       NA     NA    \n",
              "44 NA       NA     9%    "
            ]
          },
          "metadata": {}
        }
      ],
      "source": [
        "# out the null rows in profit\n",
        "df[is.na(df$Profit), ]"
      ]
    },
    {
      "cell_type": "markdown",
      "source": [
        "### As three values are missed, then drop 3 rows"
      ],
      "metadata": {
        "id": "E0wH483K7aCC"
      }
    },
    {
      "cell_type": "code",
      "source": [
        "df = df[-c(8,44),]"
      ],
      "metadata": {
        "id": "OFMBChd17YV4"
      },
      "execution_count": null,
      "outputs": []
    },
    {
      "cell_type": "code",
      "source": [
        "# ensure they were droped\n",
        "df[is.na(df$Profit), ]"
      ],
      "metadata": {
        "colab": {
          "base_uri": "https://localhost:8080/",
          "height": 98
        },
        "id": "PkppTjX47YSd",
        "outputId": "1a875b71-bb28-4ba9-d137-8ea4e9e96638"
      },
      "execution_count": null,
      "outputs": [
        {
          "output_type": "display_data",
          "data": {
            "text/html": [
              "<table class=\"dataframe\">\n",
              "<caption>A data.frame: 0 × 11</caption>\n",
              "<thead>\n",
              "\t<tr><th scope=col>ID</th><th scope=col>Name</th><th scope=col>Industry</th><th scope=col>Inception</th><th scope=col>Employees</th><th scope=col>State</th><th scope=col>City</th><th scope=col>Revenue</th><th scope=col>Expenses</th><th scope=col>Profit</th><th scope=col>Growth</th></tr>\n",
              "\t<tr><th scope=col>&lt;int&gt;</th><th scope=col>&lt;chr&gt;</th><th scope=col>&lt;chr&gt;</th><th scope=col>&lt;int&gt;</th><th scope=col>&lt;int&gt;</th><th scope=col>&lt;chr&gt;</th><th scope=col>&lt;chr&gt;</th><th scope=col>&lt;chr&gt;</th><th scope=col>&lt;chr&gt;</th><th scope=col>&lt;int&gt;</th><th scope=col>&lt;chr&gt;</th></tr>\n",
              "</thead>\n",
              "<tbody>\n",
              "</tbody>\n",
              "</table>\n"
            ],
            "text/markdown": "\nA data.frame: 0 × 11\n\n| ID &lt;int&gt; | Name &lt;chr&gt; | Industry &lt;chr&gt; | Inception &lt;int&gt; | Employees &lt;int&gt; | State &lt;chr&gt; | City &lt;chr&gt; | Revenue &lt;chr&gt; | Expenses &lt;chr&gt; | Profit &lt;int&gt; | Growth &lt;chr&gt; |\n|---|---|---|---|---|---|---|---|---|---|---|\n\n",
            "text/latex": "A data.frame: 0 × 11\n\\begin{tabular}{lllllllllll}\n ID & Name & Industry & Inception & Employees & State & City & Revenue & Expenses & Profit & Growth\\\\\n <int> & <chr> & <chr> & <int> & <int> & <chr> & <chr> & <chr> & <chr> & <int> & <chr>\\\\\n\\hline\n\\end{tabular}\n",
            "text/plain": [
              "     ID Name Industry Inception Employees State City Revenue Expenses Profit\n",
              "     Growth"
            ]
          },
          "metadata": {}
        }
      ]
    },
    {
      "cell_type": "code",
      "source": [
        "df[is.na(df$Expenses), ]\n",
        "# need procees before fill the missing"
      ],
      "metadata": {
        "colab": {
          "base_uri": "https://localhost:8080/",
          "height": 129
        },
        "id": "yNkc1ZTn7YQD",
        "outputId": "51e649c5-b679-4fab-a65b-f0804051d9b3"
      },
      "execution_count": null,
      "outputs": [
        {
          "output_type": "display_data",
          "data": {
            "text/html": [
              "<table class=\"dataframe\">\n",
              "<caption>A data.frame: 1 × 11</caption>\n",
              "<thead>\n",
              "\t<tr><th></th><th scope=col>ID</th><th scope=col>Name</th><th scope=col>Industry</th><th scope=col>Inception</th><th scope=col>Employees</th><th scope=col>State</th><th scope=col>City</th><th scope=col>Revenue</th><th scope=col>Expenses</th><th scope=col>Profit</th><th scope=col>Growth</th></tr>\n",
              "\t<tr><th></th><th scope=col>&lt;int&gt;</th><th scope=col>&lt;chr&gt;</th><th scope=col>&lt;chr&gt;</th><th scope=col>&lt;int&gt;</th><th scope=col>&lt;int&gt;</th><th scope=col>&lt;chr&gt;</th><th scope=col>&lt;chr&gt;</th><th scope=col>&lt;chr&gt;</th><th scope=col>&lt;chr&gt;</th><th scope=col>&lt;int&gt;</th><th scope=col>&lt;chr&gt;</th></tr>\n",
              "</thead>\n",
              "<tbody>\n",
              "\t<tr><th scope=row>17</th><td>17</td><td>Ganzlax</td><td>IT Services</td><td>2011</td><td>75</td><td>NJ</td><td>Iselin</td><td>$14,001,180</td><td>NA</td><td>11901180</td><td>18%</td></tr>\n",
              "</tbody>\n",
              "</table>\n"
            ],
            "text/markdown": "\nA data.frame: 1 × 11\n\n| <!--/--> | ID &lt;int&gt; | Name &lt;chr&gt; | Industry &lt;chr&gt; | Inception &lt;int&gt; | Employees &lt;int&gt; | State &lt;chr&gt; | City &lt;chr&gt; | Revenue &lt;chr&gt; | Expenses &lt;chr&gt; | Profit &lt;int&gt; | Growth &lt;chr&gt; |\n|---|---|---|---|---|---|---|---|---|---|---|---|\n| 17 | 17 | Ganzlax | IT Services | 2011 | 75 | NJ | Iselin | $14,001,180 | NA | 11901180 | 18% |\n\n",
            "text/latex": "A data.frame: 1 × 11\n\\begin{tabular}{r|lllllllllll}\n  & ID & Name & Industry & Inception & Employees & State & City & Revenue & Expenses & Profit & Growth\\\\\n  & <int> & <chr> & <chr> & <int> & <int> & <chr> & <chr> & <chr> & <chr> & <int> & <chr>\\\\\n\\hline\n\t17 & 17 & Ganzlax & IT Services & 2011 & 75 & NJ & Iselin & \\$14,001,180 & NA & 11901180 & 18\\%\\\\\n\\end{tabular}\n",
            "text/plain": [
              "   ID Name    Industry    Inception Employees State City   Revenue     Expenses\n",
              "17 17 Ganzlax IT Services 2011      75        NJ    Iselin $14,001,180 NA      \n",
              "   Profit   Growth\n",
              "17 11901180 18%   "
            ]
          },
          "metadata": {}
        }
      ]
    },
    {
      "cell_type": "code",
      "source": [
        "df[is.na(df$Revenue), ]\n",
        "# don't have any missing"
      ],
      "metadata": {
        "colab": {
          "base_uri": "https://localhost:8080/",
          "height": 98
        },
        "id": "Ql3Vj3_27YNT",
        "outputId": "7612ea59-daf2-4ae3-d01b-e3e27804b262"
      },
      "execution_count": null,
      "outputs": [
        {
          "output_type": "display_data",
          "data": {
            "text/html": [
              "<table class=\"dataframe\">\n",
              "<caption>A data.frame: 0 × 11</caption>\n",
              "<thead>\n",
              "\t<tr><th scope=col>ID</th><th scope=col>Name</th><th scope=col>Industry</th><th scope=col>Inception</th><th scope=col>Employees</th><th scope=col>State</th><th scope=col>City</th><th scope=col>Revenue</th><th scope=col>Expenses</th><th scope=col>Profit</th><th scope=col>Growth</th></tr>\n",
              "\t<tr><th scope=col>&lt;int&gt;</th><th scope=col>&lt;chr&gt;</th><th scope=col>&lt;chr&gt;</th><th scope=col>&lt;int&gt;</th><th scope=col>&lt;int&gt;</th><th scope=col>&lt;chr&gt;</th><th scope=col>&lt;chr&gt;</th><th scope=col>&lt;chr&gt;</th><th scope=col>&lt;chr&gt;</th><th scope=col>&lt;int&gt;</th><th scope=col>&lt;chr&gt;</th></tr>\n",
              "</thead>\n",
              "<tbody>\n",
              "</tbody>\n",
              "</table>\n"
            ],
            "text/markdown": "\nA data.frame: 0 × 11\n\n| ID &lt;int&gt; | Name &lt;chr&gt; | Industry &lt;chr&gt; | Inception &lt;int&gt; | Employees &lt;int&gt; | State &lt;chr&gt; | City &lt;chr&gt; | Revenue &lt;chr&gt; | Expenses &lt;chr&gt; | Profit &lt;int&gt; | Growth &lt;chr&gt; |\n|---|---|---|---|---|---|---|---|---|---|---|\n\n",
            "text/latex": "A data.frame: 0 × 11\n\\begin{tabular}{lllllllllll}\n ID & Name & Industry & Inception & Employees & State & City & Revenue & Expenses & Profit & Growth\\\\\n <int> & <chr> & <chr> & <int> & <int> & <chr> & <chr> & <chr> & <chr> & <int> & <chr>\\\\\n\\hline\n\\end{tabular}\n",
            "text/plain": [
              "     ID Name Industry Inception Employees State City Revenue Expenses Profit\n",
              "     Growth"
            ]
          },
          "metadata": {}
        }
      ]
    },
    {
      "cell_type": "markdown",
      "metadata": {
        "id": "UFNOrKgflNRf"
      },
      "source": []
    },
    {
      "cell_type": "markdown",
      "metadata": {
        "id": "r5IqnPiNVrDY"
      },
      "source": [
        "### In Revenue column\n",
        "- datatype is chr, and it contains specail characters as '$' and ',', that must be removed\n",
        "\n",
        "### In Expenses : \n",
        "- datatype is chr, contains 'Dollars' \n",
        "\n",
        "### In Growth: \n",
        "dataype is chr, contains '%'\n",
        "- must be removed\n",
        "#### There datatypes must be changed into numberic to enable usage in analysis."
      ]
    },
    {
      "cell_type": "code",
      "execution_count": null,
      "metadata": {
        "id": "6uIvUsatfA3L",
        "colab": {
          "base_uri": "https://localhost:8080/",
          "height": 286
        },
        "outputId": "296e8d2f-7baa-4902-c8f7-ee1e423198fd"
      },
      "outputs": [
        {
          "output_type": "display_data",
          "data": {
            "text/html": [
              "<table class=\"dataframe\">\n",
              "<caption>A data.frame: 6 × 11</caption>\n",
              "<thead>\n",
              "\t<tr><th></th><th scope=col>ID</th><th scope=col>Name</th><th scope=col>Industry</th><th scope=col>Inception</th><th scope=col>Employees</th><th scope=col>State</th><th scope=col>City</th><th scope=col>Revenue</th><th scope=col>Expenses</th><th scope=col>Profit</th><th scope=col>Growth</th></tr>\n",
              "\t<tr><th></th><th scope=col>&lt;int&gt;</th><th scope=col>&lt;chr&gt;</th><th scope=col>&lt;chr&gt;</th><th scope=col>&lt;int&gt;</th><th scope=col>&lt;int&gt;</th><th scope=col>&lt;chr&gt;</th><th scope=col>&lt;chr&gt;</th><th scope=col>&lt;chr&gt;</th><th scope=col>&lt;chr&gt;</th><th scope=col>&lt;int&gt;</th><th scope=col>&lt;chr&gt;</th></tr>\n",
              "</thead>\n",
              "<tbody>\n",
              "\t<tr><th scope=row>1</th><td>1</td><td>Over-Hex    </td><td>Software   </td><td>2006</td><td>25</td><td>TN</td><td>Franklin      </td><td>$9,684,527 </td><td>1130700</td><td> 8553827</td><td>19%</td></tr>\n",
              "\t<tr><th scope=row>2</th><td>2</td><td>Unimattax   </td><td>IT Services</td><td>2009</td><td>36</td><td>PA</td><td>Newtown Square</td><td>$14,016,543</td><td>804035 </td><td>13212508</td><td>20%</td></tr>\n",
              "\t<tr><th scope=row>3</th><td>3</td><td>Greenfax    </td><td>Retail     </td><td>2012</td><td>NA</td><td>SC</td><td>Greenville    </td><td>$9,746,272 </td><td>1044375</td><td> 8701897</td><td>16%</td></tr>\n",
              "\t<tr><th scope=row>4</th><td>4</td><td>Blacklane   </td><td>IT Services</td><td>2011</td><td>66</td><td>CA</td><td>Orange        </td><td>$15,359,369</td><td>4631808</td><td>10727561</td><td>19%</td></tr>\n",
              "\t<tr><th scope=row>5</th><td>5</td><td>Yearflex    </td><td>Software   </td><td>2013</td><td>45</td><td>WI</td><td>Madison       </td><td>$8,567,910 </td><td>4374841</td><td> 4193069</td><td>19%</td></tr>\n",
              "\t<tr><th scope=row>6</th><td>6</td><td>Indigoplanet</td><td>IT Services</td><td>2013</td><td>60</td><td>NJ</td><td>Manalapan     </td><td>$12,805,452</td><td>4626275</td><td> 8179177</td><td>22%</td></tr>\n",
              "</tbody>\n",
              "</table>\n"
            ],
            "text/markdown": "\nA data.frame: 6 × 11\n\n| <!--/--> | ID &lt;int&gt; | Name &lt;chr&gt; | Industry &lt;chr&gt; | Inception &lt;int&gt; | Employees &lt;int&gt; | State &lt;chr&gt; | City &lt;chr&gt; | Revenue &lt;chr&gt; | Expenses &lt;chr&gt; | Profit &lt;int&gt; | Growth &lt;chr&gt; |\n|---|---|---|---|---|---|---|---|---|---|---|---|\n| 1 | 1 | Over-Hex     | Software    | 2006 | 25 | TN | Franklin       | $9,684,527  | 1130700 |  8553827 | 19% |\n| 2 | 2 | Unimattax    | IT Services | 2009 | 36 | PA | Newtown Square | $14,016,543 | 804035  | 13212508 | 20% |\n| 3 | 3 | Greenfax     | Retail      | 2012 | NA | SC | Greenville     | $9,746,272  | 1044375 |  8701897 | 16% |\n| 4 | 4 | Blacklane    | IT Services | 2011 | 66 | CA | Orange         | $15,359,369 | 4631808 | 10727561 | 19% |\n| 5 | 5 | Yearflex     | Software    | 2013 | 45 | WI | Madison        | $8,567,910  | 4374841 |  4193069 | 19% |\n| 6 | 6 | Indigoplanet | IT Services | 2013 | 60 | NJ | Manalapan      | $12,805,452 | 4626275 |  8179177 | 22% |\n\n",
            "text/latex": "A data.frame: 6 × 11\n\\begin{tabular}{r|lllllllllll}\n  & ID & Name & Industry & Inception & Employees & State & City & Revenue & Expenses & Profit & Growth\\\\\n  & <int> & <chr> & <chr> & <int> & <int> & <chr> & <chr> & <chr> & <chr> & <int> & <chr>\\\\\n\\hline\n\t1 & 1 & Over-Hex     & Software    & 2006 & 25 & TN & Franklin       & \\$9,684,527  & 1130700 &  8553827 & 19\\%\\\\\n\t2 & 2 & Unimattax    & IT Services & 2009 & 36 & PA & Newtown Square & \\$14,016,543 & 804035  & 13212508 & 20\\%\\\\\n\t3 & 3 & Greenfax     & Retail      & 2012 & NA & SC & Greenville     & \\$9,746,272  & 1044375 &  8701897 & 16\\%\\\\\n\t4 & 4 & Blacklane    & IT Services & 2011 & 66 & CA & Orange         & \\$15,359,369 & 4631808 & 10727561 & 19\\%\\\\\n\t5 & 5 & Yearflex     & Software    & 2013 & 45 & WI & Madison        & \\$8,567,910  & 4374841 &  4193069 & 19\\%\\\\\n\t6 & 6 & Indigoplanet & IT Services & 2013 & 60 & NJ & Manalapan      & \\$12,805,452 & 4626275 &  8179177 & 22\\%\\\\\n\\end{tabular}\n",
            "text/plain": [
              "  ID Name         Industry    Inception Employees State City          \n",
              "1 1  Over-Hex     Software    2006      25        TN    Franklin      \n",
              "2 2  Unimattax    IT Services 2009      36        PA    Newtown Square\n",
              "3 3  Greenfax     Retail      2012      NA        SC    Greenville    \n",
              "4 4  Blacklane    IT Services 2011      66        CA    Orange        \n",
              "5 5  Yearflex     Software    2013      45        WI    Madison       \n",
              "6 6  Indigoplanet IT Services 2013      60        NJ    Manalapan     \n",
              "  Revenue     Expenses Profit   Growth\n",
              "1 $9,684,527  1130700   8553827 19%   \n",
              "2 $14,016,543 804035   13212508 20%   \n",
              "3 $9,746,272  1044375   8701897 16%   \n",
              "4 $15,359,369 4631808  10727561 19%   \n",
              "5 $8,567,910  4374841   4193069 19%   \n",
              "6 $12,805,452 4626275   8179177 22%   "
            ]
          },
          "metadata": {}
        }
      ],
      "source": [
        "df$Expenses = gsub(' Dollars', '', df$Expenses ) \n",
        "df$Expenses = gsub(',', '', df$Expenses ) \n",
        "head(df)"
      ]
    },
    {
      "cell_type": "code",
      "execution_count": null,
      "metadata": {
        "id": "baVaspGxfAzv",
        "colab": {
          "base_uri": "https://localhost:8080/",
          "height": 286
        },
        "outputId": "95be5c83-07dc-40e9-c020-6c050a7b48fa"
      },
      "outputs": [
        {
          "output_type": "display_data",
          "data": {
            "text/html": [
              "<table class=\"dataframe\">\n",
              "<caption>A data.frame: 6 × 11</caption>\n",
              "<thead>\n",
              "\t<tr><th></th><th scope=col>ID</th><th scope=col>Name</th><th scope=col>Industry</th><th scope=col>Inception</th><th scope=col>Employees</th><th scope=col>State</th><th scope=col>City</th><th scope=col>Revenue</th><th scope=col>Expenses</th><th scope=col>Profit</th><th scope=col>Growth</th></tr>\n",
              "\t<tr><th></th><th scope=col>&lt;int&gt;</th><th scope=col>&lt;chr&gt;</th><th scope=col>&lt;chr&gt;</th><th scope=col>&lt;int&gt;</th><th scope=col>&lt;int&gt;</th><th scope=col>&lt;chr&gt;</th><th scope=col>&lt;chr&gt;</th><th scope=col>&lt;chr&gt;</th><th scope=col>&lt;chr&gt;</th><th scope=col>&lt;int&gt;</th><th scope=col>&lt;chr&gt;</th></tr>\n",
              "</thead>\n",
              "<tbody>\n",
              "\t<tr><th scope=row>1</th><td>1</td><td>Over-Hex    </td><td>Software   </td><td>2006</td><td>25</td><td>TN</td><td>Franklin      </td><td>$9684527 </td><td>1130700</td><td> 8553827</td><td>19%</td></tr>\n",
              "\t<tr><th scope=row>2</th><td>2</td><td>Unimattax   </td><td>IT Services</td><td>2009</td><td>36</td><td>PA</td><td>Newtown Square</td><td>$14016543</td><td>804035 </td><td>13212508</td><td>20%</td></tr>\n",
              "\t<tr><th scope=row>3</th><td>3</td><td>Greenfax    </td><td>Retail     </td><td>2012</td><td>NA</td><td>SC</td><td>Greenville    </td><td>$9746272 </td><td>1044375</td><td> 8701897</td><td>16%</td></tr>\n",
              "\t<tr><th scope=row>4</th><td>4</td><td>Blacklane   </td><td>IT Services</td><td>2011</td><td>66</td><td>CA</td><td>Orange        </td><td>$15359369</td><td>4631808</td><td>10727561</td><td>19%</td></tr>\n",
              "\t<tr><th scope=row>5</th><td>5</td><td>Yearflex    </td><td>Software   </td><td>2013</td><td>45</td><td>WI</td><td>Madison       </td><td>$8567910 </td><td>4374841</td><td> 4193069</td><td>19%</td></tr>\n",
              "\t<tr><th scope=row>6</th><td>6</td><td>Indigoplanet</td><td>IT Services</td><td>2013</td><td>60</td><td>NJ</td><td>Manalapan     </td><td>$12805452</td><td>4626275</td><td> 8179177</td><td>22%</td></tr>\n",
              "</tbody>\n",
              "</table>\n"
            ],
            "text/markdown": "\nA data.frame: 6 × 11\n\n| <!--/--> | ID &lt;int&gt; | Name &lt;chr&gt; | Industry &lt;chr&gt; | Inception &lt;int&gt; | Employees &lt;int&gt; | State &lt;chr&gt; | City &lt;chr&gt; | Revenue &lt;chr&gt; | Expenses &lt;chr&gt; | Profit &lt;int&gt; | Growth &lt;chr&gt; |\n|---|---|---|---|---|---|---|---|---|---|---|---|\n| 1 | 1 | Over-Hex     | Software    | 2006 | 25 | TN | Franklin       | $9684527  | 1130700 |  8553827 | 19% |\n| 2 | 2 | Unimattax    | IT Services | 2009 | 36 | PA | Newtown Square | $14016543 | 804035  | 13212508 | 20% |\n| 3 | 3 | Greenfax     | Retail      | 2012 | NA | SC | Greenville     | $9746272  | 1044375 |  8701897 | 16% |\n| 4 | 4 | Blacklane    | IT Services | 2011 | 66 | CA | Orange         | $15359369 | 4631808 | 10727561 | 19% |\n| 5 | 5 | Yearflex     | Software    | 2013 | 45 | WI | Madison        | $8567910  | 4374841 |  4193069 | 19% |\n| 6 | 6 | Indigoplanet | IT Services | 2013 | 60 | NJ | Manalapan      | $12805452 | 4626275 |  8179177 | 22% |\n\n",
            "text/latex": "A data.frame: 6 × 11\n\\begin{tabular}{r|lllllllllll}\n  & ID & Name & Industry & Inception & Employees & State & City & Revenue & Expenses & Profit & Growth\\\\\n  & <int> & <chr> & <chr> & <int> & <int> & <chr> & <chr> & <chr> & <chr> & <int> & <chr>\\\\\n\\hline\n\t1 & 1 & Over-Hex     & Software    & 2006 & 25 & TN & Franklin       & \\$9684527  & 1130700 &  8553827 & 19\\%\\\\\n\t2 & 2 & Unimattax    & IT Services & 2009 & 36 & PA & Newtown Square & \\$14016543 & 804035  & 13212508 & 20\\%\\\\\n\t3 & 3 & Greenfax     & Retail      & 2012 & NA & SC & Greenville     & \\$9746272  & 1044375 &  8701897 & 16\\%\\\\\n\t4 & 4 & Blacklane    & IT Services & 2011 & 66 & CA & Orange         & \\$15359369 & 4631808 & 10727561 & 19\\%\\\\\n\t5 & 5 & Yearflex     & Software    & 2013 & 45 & WI & Madison        & \\$8567910  & 4374841 &  4193069 & 19\\%\\\\\n\t6 & 6 & Indigoplanet & IT Services & 2013 & 60 & NJ & Manalapan      & \\$12805452 & 4626275 &  8179177 & 22\\%\\\\\n\\end{tabular}\n",
            "text/plain": [
              "  ID Name         Industry    Inception Employees State City          \n",
              "1 1  Over-Hex     Software    2006      25        TN    Franklin      \n",
              "2 2  Unimattax    IT Services 2009      36        PA    Newtown Square\n",
              "3 3  Greenfax     Retail      2012      NA        SC    Greenville    \n",
              "4 4  Blacklane    IT Services 2011      66        CA    Orange        \n",
              "5 5  Yearflex     Software    2013      45        WI    Madison       \n",
              "6 6  Indigoplanet IT Services 2013      60        NJ    Manalapan     \n",
              "  Revenue   Expenses Profit   Growth\n",
              "1 $9684527  1130700   8553827 19%   \n",
              "2 $14016543 804035   13212508 20%   \n",
              "3 $9746272  1044375   8701897 16%   \n",
              "4 $15359369 4631808  10727561 19%   \n",
              "5 $8567910  4374841   4193069 19%   \n",
              "6 $12805452 4626275   8179177 22%   "
            ]
          },
          "metadata": {}
        }
      ],
      "source": [
        "df$Revenue = gsub(',' , '', df$Revenue )\n",
        "head(df)"
      ]
    },
    {
      "cell_type": "code",
      "execution_count": null,
      "metadata": {
        "id": "NmM37w0yhsBM",
        "colab": {
          "base_uri": "https://localhost:8080/",
          "height": 286
        },
        "outputId": "a7bcbaab-dfa9-41c4-99f8-0ef5df767bd2"
      },
      "outputs": [
        {
          "output_type": "display_data",
          "data": {
            "text/html": [
              "<table class=\"dataframe\">\n",
              "<caption>A data.frame: 6 × 11</caption>\n",
              "<thead>\n",
              "\t<tr><th></th><th scope=col>ID</th><th scope=col>Name</th><th scope=col>Industry</th><th scope=col>Inception</th><th scope=col>Employees</th><th scope=col>State</th><th scope=col>City</th><th scope=col>Revenue</th><th scope=col>Expenses</th><th scope=col>Profit</th><th scope=col>Growth</th></tr>\n",
              "\t<tr><th></th><th scope=col>&lt;int&gt;</th><th scope=col>&lt;chr&gt;</th><th scope=col>&lt;chr&gt;</th><th scope=col>&lt;int&gt;</th><th scope=col>&lt;int&gt;</th><th scope=col>&lt;chr&gt;</th><th scope=col>&lt;chr&gt;</th><th scope=col>&lt;chr&gt;</th><th scope=col>&lt;chr&gt;</th><th scope=col>&lt;int&gt;</th><th scope=col>&lt;chr&gt;</th></tr>\n",
              "</thead>\n",
              "<tbody>\n",
              "\t<tr><th scope=row>1</th><td>1</td><td>Over-Hex    </td><td>Software   </td><td>2006</td><td>25</td><td>TN</td><td>Franklin      </td><td>9684527 </td><td>1130700</td><td> 8553827</td><td>19%</td></tr>\n",
              "\t<tr><th scope=row>2</th><td>2</td><td>Unimattax   </td><td>IT Services</td><td>2009</td><td>36</td><td>PA</td><td>Newtown Square</td><td>14016543</td><td>804035 </td><td>13212508</td><td>20%</td></tr>\n",
              "\t<tr><th scope=row>3</th><td>3</td><td>Greenfax    </td><td>Retail     </td><td>2012</td><td>NA</td><td>SC</td><td>Greenville    </td><td>9746272 </td><td>1044375</td><td> 8701897</td><td>16%</td></tr>\n",
              "\t<tr><th scope=row>4</th><td>4</td><td>Blacklane   </td><td>IT Services</td><td>2011</td><td>66</td><td>CA</td><td>Orange        </td><td>15359369</td><td>4631808</td><td>10727561</td><td>19%</td></tr>\n",
              "\t<tr><th scope=row>5</th><td>5</td><td>Yearflex    </td><td>Software   </td><td>2013</td><td>45</td><td>WI</td><td>Madison       </td><td>8567910 </td><td>4374841</td><td> 4193069</td><td>19%</td></tr>\n",
              "\t<tr><th scope=row>6</th><td>6</td><td>Indigoplanet</td><td>IT Services</td><td>2013</td><td>60</td><td>NJ</td><td>Manalapan     </td><td>12805452</td><td>4626275</td><td> 8179177</td><td>22%</td></tr>\n",
              "</tbody>\n",
              "</table>\n"
            ],
            "text/markdown": "\nA data.frame: 6 × 11\n\n| <!--/--> | ID &lt;int&gt; | Name &lt;chr&gt; | Industry &lt;chr&gt; | Inception &lt;int&gt; | Employees &lt;int&gt; | State &lt;chr&gt; | City &lt;chr&gt; | Revenue &lt;chr&gt; | Expenses &lt;chr&gt; | Profit &lt;int&gt; | Growth &lt;chr&gt; |\n|---|---|---|---|---|---|---|---|---|---|---|---|\n| 1 | 1 | Over-Hex     | Software    | 2006 | 25 | TN | Franklin       | 9684527  | 1130700 |  8553827 | 19% |\n| 2 | 2 | Unimattax    | IT Services | 2009 | 36 | PA | Newtown Square | 14016543 | 804035  | 13212508 | 20% |\n| 3 | 3 | Greenfax     | Retail      | 2012 | NA | SC | Greenville     | 9746272  | 1044375 |  8701897 | 16% |\n| 4 | 4 | Blacklane    | IT Services | 2011 | 66 | CA | Orange         | 15359369 | 4631808 | 10727561 | 19% |\n| 5 | 5 | Yearflex     | Software    | 2013 | 45 | WI | Madison        | 8567910  | 4374841 |  4193069 | 19% |\n| 6 | 6 | Indigoplanet | IT Services | 2013 | 60 | NJ | Manalapan      | 12805452 | 4626275 |  8179177 | 22% |\n\n",
            "text/latex": "A data.frame: 6 × 11\n\\begin{tabular}{r|lllllllllll}\n  & ID & Name & Industry & Inception & Employees & State & City & Revenue & Expenses & Profit & Growth\\\\\n  & <int> & <chr> & <chr> & <int> & <int> & <chr> & <chr> & <chr> & <chr> & <int> & <chr>\\\\\n\\hline\n\t1 & 1 & Over-Hex     & Software    & 2006 & 25 & TN & Franklin       & 9684527  & 1130700 &  8553827 & 19\\%\\\\\n\t2 & 2 & Unimattax    & IT Services & 2009 & 36 & PA & Newtown Square & 14016543 & 804035  & 13212508 & 20\\%\\\\\n\t3 & 3 & Greenfax     & Retail      & 2012 & NA & SC & Greenville     & 9746272  & 1044375 &  8701897 & 16\\%\\\\\n\t4 & 4 & Blacklane    & IT Services & 2011 & 66 & CA & Orange         & 15359369 & 4631808 & 10727561 & 19\\%\\\\\n\t5 & 5 & Yearflex     & Software    & 2013 & 45 & WI & Madison        & 8567910  & 4374841 &  4193069 & 19\\%\\\\\n\t6 & 6 & Indigoplanet & IT Services & 2013 & 60 & NJ & Manalapan      & 12805452 & 4626275 &  8179177 & 22\\%\\\\\n\\end{tabular}\n",
            "text/plain": [
              "  ID Name         Industry    Inception Employees State City           Revenue \n",
              "1 1  Over-Hex     Software    2006      25        TN    Franklin       9684527 \n",
              "2 2  Unimattax    IT Services 2009      36        PA    Newtown Square 14016543\n",
              "3 3  Greenfax     Retail      2012      NA        SC    Greenville     9746272 \n",
              "4 4  Blacklane    IT Services 2011      66        CA    Orange         15359369\n",
              "5 5  Yearflex     Software    2013      45        WI    Madison        8567910 \n",
              "6 6  Indigoplanet IT Services 2013      60        NJ    Manalapan      12805452\n",
              "  Expenses Profit   Growth\n",
              "1 1130700   8553827 19%   \n",
              "2 804035   13212508 20%   \n",
              "3 1044375   8701897 16%   \n",
              "4 4631808  10727561 19%   \n",
              "5 4374841   4193069 19%   \n",
              "6 4626275   8179177 22%   "
            ]
          },
          "metadata": {}
        }
      ],
      "source": [
        "df$Revenue = gsub('\\\\$' , '', df$Revenue )\n",
        "head(df)"
      ]
    },
    {
      "cell_type": "markdown",
      "metadata": {
        "id": "jorVfIshftOg"
      },
      "source": [
        "### Change datatypes"
      ]
    },
    {
      "cell_type": "code",
      "execution_count": null,
      "metadata": {
        "id": "mZWusb3nfa3a"
      },
      "outputs": [],
      "source": [
        "# Replace NULL values with NA using ifelse()\n",
        "df$Revenue <- ifelse(is.null(df$Revenue), NA, df$Revenue)\n",
        "df$Revenue = as.numeric(df$Revenue )\n"
      ]
    },
    {
      "cell_type": "code",
      "execution_count": null,
      "metadata": {
        "id": "vZIRl_1xfa0D"
      },
      "outputs": [],
      "source": [
        "df$Expenses = ifelse(is.null(df$Expenses), NA, df$Expenses )\n",
        "df$Expenses = as.numeric(df$Expenses)\n"
      ]
    },
    {
      "cell_type": "code",
      "source": [
        "head(df)"
      ],
      "metadata": {
        "colab": {
          "base_uri": "https://localhost:8080/",
          "height": 286
        },
        "id": "90aHGHZW9GkU",
        "outputId": "48049bae-e42d-4069-c724-67be3590ca7d"
      },
      "execution_count": null,
      "outputs": [
        {
          "output_type": "display_data",
          "data": {
            "text/html": [
              "<table class=\"dataframe\">\n",
              "<caption>A data.frame: 6 × 11</caption>\n",
              "<thead>\n",
              "\t<tr><th></th><th scope=col>ID</th><th scope=col>Name</th><th scope=col>Industry</th><th scope=col>Inception</th><th scope=col>Employees</th><th scope=col>State</th><th scope=col>City</th><th scope=col>Revenue</th><th scope=col>Expenses</th><th scope=col>Profit</th><th scope=col>Growth</th></tr>\n",
              "\t<tr><th></th><th scope=col>&lt;int&gt;</th><th scope=col>&lt;chr&gt;</th><th scope=col>&lt;chr&gt;</th><th scope=col>&lt;int&gt;</th><th scope=col>&lt;int&gt;</th><th scope=col>&lt;chr&gt;</th><th scope=col>&lt;chr&gt;</th><th scope=col>&lt;dbl&gt;</th><th scope=col>&lt;dbl&gt;</th><th scope=col>&lt;int&gt;</th><th scope=col>&lt;chr&gt;</th></tr>\n",
              "</thead>\n",
              "<tbody>\n",
              "\t<tr><th scope=row>1</th><td>1</td><td>Over-Hex    </td><td>Software   </td><td>2006</td><td>25</td><td>TN</td><td>Franklin      </td><td>9684527</td><td>1130700</td><td> 8553827</td><td>19%</td></tr>\n",
              "\t<tr><th scope=row>2</th><td>2</td><td>Unimattax   </td><td>IT Services</td><td>2009</td><td>36</td><td>PA</td><td>Newtown Square</td><td>9684527</td><td>1130700</td><td>13212508</td><td>20%</td></tr>\n",
              "\t<tr><th scope=row>3</th><td>3</td><td>Greenfax    </td><td>Retail     </td><td>2012</td><td>NA</td><td>SC</td><td>Greenville    </td><td>9684527</td><td>1130700</td><td> 8701897</td><td>16%</td></tr>\n",
              "\t<tr><th scope=row>4</th><td>4</td><td>Blacklane   </td><td>IT Services</td><td>2011</td><td>66</td><td>CA</td><td>Orange        </td><td>9684527</td><td>1130700</td><td>10727561</td><td>19%</td></tr>\n",
              "\t<tr><th scope=row>5</th><td>5</td><td>Yearflex    </td><td>Software   </td><td>2013</td><td>45</td><td>WI</td><td>Madison       </td><td>9684527</td><td>1130700</td><td> 4193069</td><td>19%</td></tr>\n",
              "\t<tr><th scope=row>6</th><td>6</td><td>Indigoplanet</td><td>IT Services</td><td>2013</td><td>60</td><td>NJ</td><td>Manalapan     </td><td>9684527</td><td>1130700</td><td> 8179177</td><td>22%</td></tr>\n",
              "</tbody>\n",
              "</table>\n"
            ],
            "text/markdown": "\nA data.frame: 6 × 11\n\n| <!--/--> | ID &lt;int&gt; | Name &lt;chr&gt; | Industry &lt;chr&gt; | Inception &lt;int&gt; | Employees &lt;int&gt; | State &lt;chr&gt; | City &lt;chr&gt; | Revenue &lt;dbl&gt; | Expenses &lt;dbl&gt; | Profit &lt;int&gt; | Growth &lt;chr&gt; |\n|---|---|---|---|---|---|---|---|---|---|---|---|\n| 1 | 1 | Over-Hex     | Software    | 2006 | 25 | TN | Franklin       | 9684527 | 1130700 |  8553827 | 19% |\n| 2 | 2 | Unimattax    | IT Services | 2009 | 36 | PA | Newtown Square | 9684527 | 1130700 | 13212508 | 20% |\n| 3 | 3 | Greenfax     | Retail      | 2012 | NA | SC | Greenville     | 9684527 | 1130700 |  8701897 | 16% |\n| 4 | 4 | Blacklane    | IT Services | 2011 | 66 | CA | Orange         | 9684527 | 1130700 | 10727561 | 19% |\n| 5 | 5 | Yearflex     | Software    | 2013 | 45 | WI | Madison        | 9684527 | 1130700 |  4193069 | 19% |\n| 6 | 6 | Indigoplanet | IT Services | 2013 | 60 | NJ | Manalapan      | 9684527 | 1130700 |  8179177 | 22% |\n\n",
            "text/latex": "A data.frame: 6 × 11\n\\begin{tabular}{r|lllllllllll}\n  & ID & Name & Industry & Inception & Employees & State & City & Revenue & Expenses & Profit & Growth\\\\\n  & <int> & <chr> & <chr> & <int> & <int> & <chr> & <chr> & <dbl> & <dbl> & <int> & <chr>\\\\\n\\hline\n\t1 & 1 & Over-Hex     & Software    & 2006 & 25 & TN & Franklin       & 9684527 & 1130700 &  8553827 & 19\\%\\\\\n\t2 & 2 & Unimattax    & IT Services & 2009 & 36 & PA & Newtown Square & 9684527 & 1130700 & 13212508 & 20\\%\\\\\n\t3 & 3 & Greenfax     & Retail      & 2012 & NA & SC & Greenville     & 9684527 & 1130700 &  8701897 & 16\\%\\\\\n\t4 & 4 & Blacklane    & IT Services & 2011 & 66 & CA & Orange         & 9684527 & 1130700 & 10727561 & 19\\%\\\\\n\t5 & 5 & Yearflex     & Software    & 2013 & 45 & WI & Madison        & 9684527 & 1130700 &  4193069 & 19\\%\\\\\n\t6 & 6 & Indigoplanet & IT Services & 2013 & 60 & NJ & Manalapan      & 9684527 & 1130700 &  8179177 & 22\\%\\\\\n\\end{tabular}\n",
            "text/plain": [
              "  ID Name         Industry    Inception Employees State City           Revenue\n",
              "1 1  Over-Hex     Software    2006      25        TN    Franklin       9684527\n",
              "2 2  Unimattax    IT Services 2009      36        PA    Newtown Square 9684527\n",
              "3 3  Greenfax     Retail      2012      NA        SC    Greenville     9684527\n",
              "4 4  Blacklane    IT Services 2011      66        CA    Orange         9684527\n",
              "5 5  Yearflex     Software    2013      45        WI    Madison        9684527\n",
              "6 6  Indigoplanet IT Services 2013      60        NJ    Manalapan      9684527\n",
              "  Expenses Profit   Growth\n",
              "1 1130700   8553827 19%   \n",
              "2 1130700  13212508 20%   \n",
              "3 1130700   8701897 16%   \n",
              "4 1130700  10727561 19%   \n",
              "5 1130700   4193069 19%   \n",
              "6 1130700   8179177 22%   "
            ]
          },
          "metadata": {}
        }
      ]
    },
    {
      "cell_type": "code",
      "source": [
        "# fill missing in Revenue from Profit = Revenue - Expenses\n",
        "df$Revenue = ifelse(is.na(df$Revenue), (df$Expenses + df$Profit) , df$Revenue)\n"
      ],
      "metadata": {
        "id": "IuTU8Wve9Bra"
      },
      "execution_count": null,
      "outputs": []
    },
    {
      "cell_type": "code",
      "source": [
        "# ensure that 3 columns are clean\n",
        "# | is or in R language\n",
        "df[is.na(df$Revenue)| is.na(df$Profit)| is.na(df$Expenses), ]"
      ],
      "metadata": {
        "colab": {
          "base_uri": "https://localhost:8080/",
          "height": 98
        },
        "id": "qUQss1Mx9Bg3",
        "outputId": "f6cae48c-6ea7-47b6-bb7b-305e3f430740"
      },
      "execution_count": null,
      "outputs": [
        {
          "output_type": "display_data",
          "data": {
            "text/html": [
              "<table class=\"dataframe\">\n",
              "<caption>A data.frame: 0 × 11</caption>\n",
              "<thead>\n",
              "\t<tr><th scope=col>ID</th><th scope=col>Name</th><th scope=col>Industry</th><th scope=col>Inception</th><th scope=col>Employees</th><th scope=col>State</th><th scope=col>City</th><th scope=col>Revenue</th><th scope=col>Expenses</th><th scope=col>Profit</th><th scope=col>Growth</th></tr>\n",
              "\t<tr><th scope=col>&lt;int&gt;</th><th scope=col>&lt;chr&gt;</th><th scope=col>&lt;chr&gt;</th><th scope=col>&lt;int&gt;</th><th scope=col>&lt;int&gt;</th><th scope=col>&lt;chr&gt;</th><th scope=col>&lt;chr&gt;</th><th scope=col>&lt;dbl&gt;</th><th scope=col>&lt;dbl&gt;</th><th scope=col>&lt;int&gt;</th><th scope=col>&lt;chr&gt;</th></tr>\n",
              "</thead>\n",
              "<tbody>\n",
              "</tbody>\n",
              "</table>\n"
            ],
            "text/markdown": "\nA data.frame: 0 × 11\n\n| ID &lt;int&gt; | Name &lt;chr&gt; | Industry &lt;chr&gt; | Inception &lt;int&gt; | Employees &lt;int&gt; | State &lt;chr&gt; | City &lt;chr&gt; | Revenue &lt;dbl&gt; | Expenses &lt;dbl&gt; | Profit &lt;int&gt; | Growth &lt;chr&gt; |\n|---|---|---|---|---|---|---|---|---|---|---|\n\n",
            "text/latex": "A data.frame: 0 × 11\n\\begin{tabular}{lllllllllll}\n ID & Name & Industry & Inception & Employees & State & City & Revenue & Expenses & Profit & Growth\\\\\n <int> & <chr> & <chr> & <int> & <int> & <chr> & <chr> & <dbl> & <dbl> & <int> & <chr>\\\\\n\\hline\n\\end{tabular}\n",
            "text/plain": [
              "     ID Name Industry Inception Employees State City Revenue Expenses Profit\n",
              "     Growth"
            ]
          },
          "metadata": {}
        }
      ]
    },
    {
      "cell_type": "markdown",
      "source": [
        "### Growth column"
      ],
      "metadata": {
        "id": "kWMSb135-Wv9"
      }
    },
    {
      "cell_type": "code",
      "execution_count": null,
      "metadata": {
        "id": "a_72QwD2faug"
      },
      "outputs": [],
      "source": [
        "df$Growth = gsub('%', '', df$Growth)"
      ]
    },
    {
      "cell_type": "code",
      "execution_count": null,
      "metadata": {
        "id": "dCRCTxlGxCbN"
      },
      "outputs": [],
      "source": [
        "df$Growth = as.numeric(df$Growth)"
      ]
    },
    {
      "cell_type": "code",
      "execution_count": null,
      "metadata": {
        "id": "TCIyToWQw_Y4"
      },
      "outputs": [],
      "source": [
        "df$Growth = df$Growth /100"
      ]
    },
    {
      "cell_type": "code",
      "execution_count": null,
      "metadata": {
        "id": "JSTwrKgLgtto",
        "colab": {
          "base_uri": "https://localhost:8080/",
          "height": 286
        },
        "outputId": "6167de3c-a9fd-493c-92a1-502969bc593d"
      },
      "outputs": [
        {
          "output_type": "display_data",
          "data": {
            "text/html": [
              "<table class=\"dataframe\">\n",
              "<caption>A data.frame: 6 × 11</caption>\n",
              "<thead>\n",
              "\t<tr><th></th><th scope=col>ID</th><th scope=col>Name</th><th scope=col>Industry</th><th scope=col>Inception</th><th scope=col>Employees</th><th scope=col>State</th><th scope=col>City</th><th scope=col>Revenue</th><th scope=col>Expenses</th><th scope=col>Profit</th><th scope=col>Growth</th></tr>\n",
              "\t<tr><th></th><th scope=col>&lt;int&gt;</th><th scope=col>&lt;chr&gt;</th><th scope=col>&lt;chr&gt;</th><th scope=col>&lt;int&gt;</th><th scope=col>&lt;int&gt;</th><th scope=col>&lt;chr&gt;</th><th scope=col>&lt;chr&gt;</th><th scope=col>&lt;dbl&gt;</th><th scope=col>&lt;dbl&gt;</th><th scope=col>&lt;int&gt;</th><th scope=col>&lt;dbl&gt;</th></tr>\n",
              "</thead>\n",
              "<tbody>\n",
              "\t<tr><th scope=row>1</th><td>1</td><td>Over-Hex    </td><td>Software   </td><td>2006</td><td>25</td><td>TN</td><td>Franklin      </td><td>9684527</td><td>1130700</td><td> 8553827</td><td>0.19</td></tr>\n",
              "\t<tr><th scope=row>2</th><td>2</td><td>Unimattax   </td><td>IT Services</td><td>2009</td><td>36</td><td>PA</td><td>Newtown Square</td><td>9684527</td><td>1130700</td><td>13212508</td><td>0.20</td></tr>\n",
              "\t<tr><th scope=row>3</th><td>3</td><td>Greenfax    </td><td>Retail     </td><td>2012</td><td>NA</td><td>SC</td><td>Greenville    </td><td>9684527</td><td>1130700</td><td> 8701897</td><td>0.16</td></tr>\n",
              "\t<tr><th scope=row>4</th><td>4</td><td>Blacklane   </td><td>IT Services</td><td>2011</td><td>66</td><td>CA</td><td>Orange        </td><td>9684527</td><td>1130700</td><td>10727561</td><td>0.19</td></tr>\n",
              "\t<tr><th scope=row>5</th><td>5</td><td>Yearflex    </td><td>Software   </td><td>2013</td><td>45</td><td>WI</td><td>Madison       </td><td>9684527</td><td>1130700</td><td> 4193069</td><td>0.19</td></tr>\n",
              "\t<tr><th scope=row>6</th><td>6</td><td>Indigoplanet</td><td>IT Services</td><td>2013</td><td>60</td><td>NJ</td><td>Manalapan     </td><td>9684527</td><td>1130700</td><td> 8179177</td><td>0.22</td></tr>\n",
              "</tbody>\n",
              "</table>\n"
            ],
            "text/markdown": "\nA data.frame: 6 × 11\n\n| <!--/--> | ID &lt;int&gt; | Name &lt;chr&gt; | Industry &lt;chr&gt; | Inception &lt;int&gt; | Employees &lt;int&gt; | State &lt;chr&gt; | City &lt;chr&gt; | Revenue &lt;dbl&gt; | Expenses &lt;dbl&gt; | Profit &lt;int&gt; | Growth &lt;dbl&gt; |\n|---|---|---|---|---|---|---|---|---|---|---|---|\n| 1 | 1 | Over-Hex     | Software    | 2006 | 25 | TN | Franklin       | 9684527 | 1130700 |  8553827 | 0.19 |\n| 2 | 2 | Unimattax    | IT Services | 2009 | 36 | PA | Newtown Square | 9684527 | 1130700 | 13212508 | 0.20 |\n| 3 | 3 | Greenfax     | Retail      | 2012 | NA | SC | Greenville     | 9684527 | 1130700 |  8701897 | 0.16 |\n| 4 | 4 | Blacklane    | IT Services | 2011 | 66 | CA | Orange         | 9684527 | 1130700 | 10727561 | 0.19 |\n| 5 | 5 | Yearflex     | Software    | 2013 | 45 | WI | Madison        | 9684527 | 1130700 |  4193069 | 0.19 |\n| 6 | 6 | Indigoplanet | IT Services | 2013 | 60 | NJ | Manalapan      | 9684527 | 1130700 |  8179177 | 0.22 |\n\n",
            "text/latex": "A data.frame: 6 × 11\n\\begin{tabular}{r|lllllllllll}\n  & ID & Name & Industry & Inception & Employees & State & City & Revenue & Expenses & Profit & Growth\\\\\n  & <int> & <chr> & <chr> & <int> & <int> & <chr> & <chr> & <dbl> & <dbl> & <int> & <dbl>\\\\\n\\hline\n\t1 & 1 & Over-Hex     & Software    & 2006 & 25 & TN & Franklin       & 9684527 & 1130700 &  8553827 & 0.19\\\\\n\t2 & 2 & Unimattax    & IT Services & 2009 & 36 & PA & Newtown Square & 9684527 & 1130700 & 13212508 & 0.20\\\\\n\t3 & 3 & Greenfax     & Retail      & 2012 & NA & SC & Greenville     & 9684527 & 1130700 &  8701897 & 0.16\\\\\n\t4 & 4 & Blacklane    & IT Services & 2011 & 66 & CA & Orange         & 9684527 & 1130700 & 10727561 & 0.19\\\\\n\t5 & 5 & Yearflex     & Software    & 2013 & 45 & WI & Madison        & 9684527 & 1130700 &  4193069 & 0.19\\\\\n\t6 & 6 & Indigoplanet & IT Services & 2013 & 60 & NJ & Manalapan      & 9684527 & 1130700 &  8179177 & 0.22\\\\\n\\end{tabular}\n",
            "text/plain": [
              "  ID Name         Industry    Inception Employees State City           Revenue\n",
              "1 1  Over-Hex     Software    2006      25        TN    Franklin       9684527\n",
              "2 2  Unimattax    IT Services 2009      36        PA    Newtown Square 9684527\n",
              "3 3  Greenfax     Retail      2012      NA        SC    Greenville     9684527\n",
              "4 4  Blacklane    IT Services 2011      66        CA    Orange         9684527\n",
              "5 5  Yearflex     Software    2013      45        WI    Madison        9684527\n",
              "6 6  Indigoplanet IT Services 2013      60        NJ    Manalapan      9684527\n",
              "  Expenses Profit   Growth\n",
              "1 1130700   8553827 0.19  \n",
              "2 1130700  13212508 0.20  \n",
              "3 1130700   8701897 0.16  \n",
              "4 1130700  10727561 0.19  \n",
              "5 1130700   4193069 0.19  \n",
              "6 1130700   8179177 0.22  "
            ]
          },
          "metadata": {}
        }
      ],
      "source": [
        "head(df)"
      ]
    },
    {
      "cell_type": "code",
      "execution_count": null,
      "metadata": {
        "id": "-XKV6M4vxaPE",
        "colab": {
          "base_uri": "https://localhost:8080/",
          "height": 34
        },
        "outputId": "cd828583-8788-4740-ff43-232c479e1d6b"
      },
      "outputs": [
        {
          "output_type": "display_data",
          "data": {
            "text/html": [
              "FALSE"
            ],
            "text/markdown": "FALSE",
            "text/latex": "FALSE",
            "text/plain": [
              "[1] FALSE"
            ]
          },
          "metadata": {}
        }
      ],
      "source": [
        "any(is.na(df$State))"
      ]
    },
    {
      "cell_type": "code",
      "execution_count": null,
      "metadata": {
        "id": "Wa-oEx9AxaHo",
        "colab": {
          "base_uri": "https://localhost:8080/",
          "height": 98
        },
        "outputId": "f8e7e237-8746-4aef-8dd5-4997c2954f30"
      },
      "outputs": [
        {
          "output_type": "display_data",
          "data": {
            "text/html": [
              "<table class=\"dataframe\">\n",
              "<caption>A data.frame: 0 × 11</caption>\n",
              "<thead>\n",
              "\t<tr><th scope=col>ID</th><th scope=col>Name</th><th scope=col>Industry</th><th scope=col>Inception</th><th scope=col>Employees</th><th scope=col>State</th><th scope=col>City</th><th scope=col>Revenue</th><th scope=col>Expenses</th><th scope=col>Profit</th><th scope=col>Growth</th></tr>\n",
              "\t<tr><th scope=col>&lt;int&gt;</th><th scope=col>&lt;chr&gt;</th><th scope=col>&lt;chr&gt;</th><th scope=col>&lt;int&gt;</th><th scope=col>&lt;int&gt;</th><th scope=col>&lt;chr&gt;</th><th scope=col>&lt;chr&gt;</th><th scope=col>&lt;dbl&gt;</th><th scope=col>&lt;dbl&gt;</th><th scope=col>&lt;int&gt;</th><th scope=col>&lt;dbl&gt;</th></tr>\n",
              "</thead>\n",
              "<tbody>\n",
              "</tbody>\n",
              "</table>\n"
            ],
            "text/markdown": "\nA data.frame: 0 × 11\n\n| ID &lt;int&gt; | Name &lt;chr&gt; | Industry &lt;chr&gt; | Inception &lt;int&gt; | Employees &lt;int&gt; | State &lt;chr&gt; | City &lt;chr&gt; | Revenue &lt;dbl&gt; | Expenses &lt;dbl&gt; | Profit &lt;int&gt; | Growth &lt;dbl&gt; |\n|---|---|---|---|---|---|---|---|---|---|---|\n\n",
            "text/latex": "A data.frame: 0 × 11\n\\begin{tabular}{lllllllllll}\n ID & Name & Industry & Inception & Employees & State & City & Revenue & Expenses & Profit & Growth\\\\\n <int> & <chr> & <chr> & <int> & <int> & <chr> & <chr> & <dbl> & <dbl> & <int> & <dbl>\\\\\n\\hline\n\\end{tabular}\n",
            "text/plain": [
              "     ID Name Industry Inception Employees State City Revenue Expenses Profit\n",
              "     Growth"
            ]
          },
          "metadata": {}
        }
      ],
      "source": [
        "df[is.na(df$State),]"
      ]
    },
    {
      "cell_type": "code",
      "source": [
        "# remove unwanted characters from the text values and convert to numeric\n",
        "df$x <- as.numeric(gsub(\"[^0-9.,-]\", \"\", df$x))"
      ],
      "metadata": {
        "id": "KoNw5X5WB3JL"
      },
      "execution_count": null,
      "outputs": []
    },
    {
      "cell_type": "code",
      "execution_count": null,
      "metadata": {
        "id": "PN0NnKnWxaEw",
        "colab": {
          "base_uri": "https://localhost:8080/",
          "height": 442
        },
        "outputId": "1dd55f96-0ef5-4c90-e707-eecf9aaacf68"
      },
      "outputs": [
        {
          "output_type": "display_data",
          "data": {
            "text/html": [
              "<table class=\"dataframe\">\n",
              "<caption>A data.frame: 11 × 1</caption>\n",
              "<thead>\n",
              "\t<tr><th></th><th scope=col>colSums.is.na.df..</th></tr>\n",
              "\t<tr><th></th><th scope=col>&lt;dbl&gt;</th></tr>\n",
              "</thead>\n",
              "<tbody>\n",
              "\t<tr><th scope=row>ID</th><td>0</td></tr>\n",
              "\t<tr><th scope=row>Name</th><td>0</td></tr>\n",
              "\t<tr><th scope=row>Industry</th><td>2</td></tr>\n",
              "\t<tr><th scope=row>Inception</th><td>0</td></tr>\n",
              "\t<tr><th scope=row>Employees</th><td>2</td></tr>\n",
              "\t<tr><th scope=row>State</th><td>0</td></tr>\n",
              "\t<tr><th scope=row>City</th><td>0</td></tr>\n",
              "\t<tr><th scope=row>Revenue</th><td>0</td></tr>\n",
              "\t<tr><th scope=row>Expenses</th><td>0</td></tr>\n",
              "\t<tr><th scope=row>Profit</th><td>0</td></tr>\n",
              "\t<tr><th scope=row>Growth</th><td>0</td></tr>\n",
              "</tbody>\n",
              "</table>\n"
            ],
            "text/markdown": "\nA data.frame: 11 × 1\n\n| <!--/--> | colSums.is.na.df.. &lt;dbl&gt; |\n|---|---|\n| ID | 0 |\n| Name | 0 |\n| Industry | 2 |\n| Inception | 0 |\n| Employees | 2 |\n| State | 0 |\n| City | 0 |\n| Revenue | 0 |\n| Expenses | 0 |\n| Profit | 0 |\n| Growth | 0 |\n\n",
            "text/latex": "A data.frame: 11 × 1\n\\begin{tabular}{r|l}\n  & colSums.is.na.df..\\\\\n  & <dbl>\\\\\n\\hline\n\tID & 0\\\\\n\tName & 0\\\\\n\tIndustry & 2\\\\\n\tInception & 0\\\\\n\tEmployees & 2\\\\\n\tState & 0\\\\\n\tCity & 0\\\\\n\tRevenue & 0\\\\\n\tExpenses & 0\\\\\n\tProfit & 0\\\\\n\tGrowth & 0\\\\\n\\end{tabular}\n",
            "text/plain": [
              "          colSums.is.na.df..\n",
              "ID        0                 \n",
              "Name      0                 \n",
              "Industry  2                 \n",
              "Inception 0                 \n",
              "Employees 2                 \n",
              "State     0                 \n",
              "City      0                 \n",
              "Revenue   0                 \n",
              "Expenses  0                 \n",
              "Profit    0                 \n",
              "Growth    0                 "
            ]
          },
          "metadata": {}
        }
      ],
      "source": [
        "df_missing = data.frame(colSums(is.na(df)))\n",
        "df_missing"
      ]
    },
    {
      "cell_type": "markdown",
      "source": [
        "### Employees\n",
        "fill missing by mean"
      ],
      "metadata": {
        "id": "6hKT7o24_dH8"
      }
    },
    {
      "cell_type": "code",
      "source": [],
      "metadata": {
        "id": "CcTIAk0U_0c9"
      },
      "execution_count": null,
      "outputs": []
    },
    {
      "cell_type": "code",
      "source": [
        "# this column contains missing, ignor it by: na.rm = TRUE  \n",
        "mean_empl = mean(df$Employees, na.rm = TRUE)\n",
        "mean_empl"
      ],
      "metadata": {
        "colab": {
          "base_uri": "https://localhost:8080/",
          "height": 34
        },
        "id": "1TLaEqE7_z3B",
        "outputId": "c269310a-ea18-4e80-9e9a-0ebaa993483b"
      },
      "execution_count": null,
      "outputs": [
        {
          "output_type": "display_data",
          "data": {
            "text/html": [
              "148.610887096774"
            ],
            "text/markdown": "148.610887096774",
            "text/latex": "148.610887096774",
            "text/plain": [
              "[1] 148.6109"
            ]
          },
          "metadata": {}
        }
      ]
    },
    {
      "cell_type": "code",
      "execution_count": null,
      "metadata": {
        "id": "1Z3lN7UqHV5n"
      },
      "outputs": [],
      "source": [
        "df$Employees[is.na(df$Employees )] = mean_empl\n",
        "# possible to use: df$Employees = replace_na(df$Employees, mean_empl)\n",
        "# or df$Employees = ifelse(is.na(df$Employees), mean_empl, df$Employees)"
      ]
    },
    {
      "cell_type": "markdown",
      "source": [
        "### In Industry column missing values\n",
        "1. drop it\n",
        "2. mode value- most frequent-\n",
        "3. Multiple imputation \n",
        "- الحاجة الوحيدة حاليا الي هعرف اطبقها الfreq"
      ],
      "metadata": {
        "id": "1s2JZmNtBgtK"
      }
    },
    {
      "cell_type": "code",
      "execution_count": null,
      "metadata": {
        "id": "ih8XUmcjMAyF",
        "colab": {
          "base_uri": "https://localhost:8080/",
          "height": 34
        },
        "outputId": "9f3337d0-e3e8-441f-aac1-a66c711766ad"
      },
      "outputs": [
        {
          "output_type": "display_data",
          "data": {
            "text/html": [
              "<strong>2011:</strong> 13"
            ],
            "text/markdown": "**2011:** 13",
            "text/latex": "\\textbf{2011:} 13",
            "text/plain": [
              "2011 \n",
              "  13 "
            ]
          },
          "metadata": {}
        }
      ],
      "source": [
        "which.max(table(df$Inception))"
      ]
    },
    {
      "cell_type": "code",
      "execution_count": null,
      "metadata": {
        "id": "c8MmZEoOMLyt",
        "colab": {
          "base_uri": "https://localhost:8080/",
          "height": 34
        },
        "outputId": "d4f20f9d-4c6e-4512-af70-6e51d501611b"
      },
      "outputs": [
        {
          "output_type": "display_data",
          "data": {
            "text/html": [
              "<strong>IT Services:</strong> 5"
            ],
            "text/markdown": "**IT Services:** 5",
            "text/latex": "\\textbf{IT Services:} 5",
            "text/plain": [
              "IT Services \n",
              "          5 "
            ]
          },
          "metadata": {}
        }
      ],
      "source": [
        "mode_industry = which.max(table(df$Industry))\n",
        "mode_industry"
      ]
    },
    {
      "cell_type": "code",
      "execution_count": null,
      "metadata": {
        "id": "5GNSuo4mMnYi",
        "colab": {
          "base_uri": "https://localhost:8080/",
          "height": 34
        },
        "outputId": "afa86669-7b01-48b8-d5bf-e662b733e067"
      },
      "outputs": [
        {
          "output_type": "display_data",
          "data": {
            "text/html": [
              "'IT Services'"
            ],
            "text/markdown": "'IT Services'",
            "text/latex": "'IT Services'",
            "text/plain": [
              "[1] \"IT Services\""
            ]
          },
          "metadata": {}
        }
      ],
      "source": [
        "mode_industry = names(mode_industry)\n",
        "mode_industry"
      ]
    },
    {
      "cell_type": "code",
      "execution_count": null,
      "metadata": {
        "id": "OFR_UV2aNJ-o"
      },
      "outputs": [],
      "source": [
        "df$Industry[is.na(df$Industry)] = mode_industry"
      ]
    },
    {
      "cell_type": "markdown",
      "source": [
        "### Ensure that all columns are clean"
      ],
      "metadata": {
        "id": "0w66_i1cDpUa"
      }
    },
    {
      "cell_type": "code",
      "execution_count": null,
      "metadata": {
        "id": "4hA0vk_COlEO",
        "colab": {
          "base_uri": "https://localhost:8080/",
          "height": 442
        },
        "outputId": "98caf30f-112a-4a0b-f800-54429e41a2d7"
      },
      "outputs": [
        {
          "output_type": "display_data",
          "data": {
            "text/html": [
              "<table class=\"dataframe\">\n",
              "<caption>A data.frame: 11 × 1</caption>\n",
              "<thead>\n",
              "\t<tr><th></th><th scope=col>colSums.is.na.df..</th></tr>\n",
              "\t<tr><th></th><th scope=col>&lt;dbl&gt;</th></tr>\n",
              "</thead>\n",
              "<tbody>\n",
              "\t<tr><th scope=row>ID</th><td>0</td></tr>\n",
              "\t<tr><th scope=row>Name</th><td>0</td></tr>\n",
              "\t<tr><th scope=row>Industry</th><td>0</td></tr>\n",
              "\t<tr><th scope=row>Inception</th><td>0</td></tr>\n",
              "\t<tr><th scope=row>Employees</th><td>0</td></tr>\n",
              "\t<tr><th scope=row>State</th><td>0</td></tr>\n",
              "\t<tr><th scope=row>City</th><td>0</td></tr>\n",
              "\t<tr><th scope=row>Revenue</th><td>0</td></tr>\n",
              "\t<tr><th scope=row>Expenses</th><td>0</td></tr>\n",
              "\t<tr><th scope=row>Profit</th><td>0</td></tr>\n",
              "\t<tr><th scope=row>Growth</th><td>0</td></tr>\n",
              "</tbody>\n",
              "</table>\n"
            ],
            "text/markdown": "\nA data.frame: 11 × 1\n\n| <!--/--> | colSums.is.na.df.. &lt;dbl&gt; |\n|---|---|\n| ID | 0 |\n| Name | 0 |\n| Industry | 0 |\n| Inception | 0 |\n| Employees | 0 |\n| State | 0 |\n| City | 0 |\n| Revenue | 0 |\n| Expenses | 0 |\n| Profit | 0 |\n| Growth | 0 |\n\n",
            "text/latex": "A data.frame: 11 × 1\n\\begin{tabular}{r|l}\n  & colSums.is.na.df..\\\\\n  & <dbl>\\\\\n\\hline\n\tID & 0\\\\\n\tName & 0\\\\\n\tIndustry & 0\\\\\n\tInception & 0\\\\\n\tEmployees & 0\\\\\n\tState & 0\\\\\n\tCity & 0\\\\\n\tRevenue & 0\\\\\n\tExpenses & 0\\\\\n\tProfit & 0\\\\\n\tGrowth & 0\\\\\n\\end{tabular}\n",
            "text/plain": [
              "          colSums.is.na.df..\n",
              "ID        0                 \n",
              "Name      0                 \n",
              "Industry  0                 \n",
              "Inception 0                 \n",
              "Employees 0                 \n",
              "State     0                 \n",
              "City      0                 \n",
              "Revenue   0                 \n",
              "Expenses  0                 \n",
              "Profit    0                 \n",
              "Growth    0                 "
            ]
          },
          "metadata": {}
        }
      ],
      "source": [
        "data.frame(colSums(is.na(df)))"
      ]
    },
    {
      "cell_type": "code",
      "source": [
        "str(df)"
      ],
      "metadata": {
        "colab": {
          "base_uri": "https://localhost:8080/"
        },
        "id": "X0lWgyijD_lK",
        "outputId": "f22b648a-d580-46cf-8628-7ba23690410d"
      },
      "execution_count": null,
      "outputs": [
        {
          "output_type": "stream",
          "name": "stdout",
          "text": [
            "'data.frame':\t498 obs. of  11 variables:\n",
            " $ ID       : int  1 2 3 4 5 6 7 9 10 11 ...\n",
            " $ Name     : chr  \"Over-Hex\" \"Unimattax\" \"Greenfax\" \"Blacklane\" ...\n",
            " $ Industry : chr  \"Software\" \"IT Services\" \"Retail\" \"IT Services\" ...\n",
            " $ Inception: int  2006 2009 2012 2011 2013 2013 2009 2009 2010 2012 ...\n",
            " $ Employees: num  25 36 149 66 45 ...\n",
            " $ State    : chr  \"TN\" \"PA\" \"SC\" \"CA\" ...\n",
            " $ City     : chr  \"Franklin\" \"Newtown Square\" \"Greenville\" \"Orange\" ...\n",
            " $ Revenue  : num  9684527 9684527 9684527 9684527 9684527 ...\n",
            " $ Expenses : num  1130700 1130700 1130700 1130700 1130700 ...\n",
            " $ Profit   : int  8553827 13212508 8701897 10727561 4193069 8179177 3259485 5274553 11412916 3005820 ...\n",
            " $ Growth   : num  0.19 0.2 0.16 0.19 0.19 0.22 0.17 0.3 0.2 0.07 ...\n"
          ]
        }
      ]
    },
    {
      "cell_type": "markdown",
      "source": [
        "## Data is clean"
      ],
      "metadata": {
        "id": "Mm23e4igD1ot"
      }
    },
    {
      "cell_type": "markdown",
      "source": [
        "## Some visuals"
      ],
      "metadata": {
        "id": "_dDD6UQkElSq"
      }
    },
    {
      "cell_type": "code",
      "execution_count": null,
      "metadata": {
        "id": "ACPYyyKpbUm0"
      },
      "outputs": [],
      "source": [
        "library(tidyverse)\n",
        "library(ggplot2)"
      ]
    },
    {
      "cell_type": "markdown",
      "source": [
        "## Scatter plot\n",
        "- displays the relationship between two variables in a set of data.\n",
        "Used in:\n",
        "1. identifying patterns and trends in data\n",
        "2. detect any outliers"
      ],
      "metadata": {
        "id": "t-LiJLVcGFtw"
      }
    },
    {
      "cell_type": "code",
      "execution_count": null,
      "metadata": {
        "id": "5IfFutMHbaGY",
        "colab": {
          "base_uri": "https://localhost:8080/",
          "height": 437
        },
        "outputId": "7fb499dc-4a40-444a-b1d0-6da1f08a402a"
      },
      "outputs": [
        {
          "output_type": "display_data",
          "data": {
            "text/plain": [
              "Plot with title “Scatter Plot”"
            ],
            "image/png": "[encoded data removed]"
          },
          "metadata": {
            "image/png": {
              "width": 420,
              "height": 420
            }
          }
        }
      ],
      "source": [
        "# most simple scatter\n",
        "scat_df = data.frame(x = c(1,2,3,4), y = c(5,6,7,8))\n",
        "plot(scat_df$x, scat_df$y, xlab = 'X', ylab = 'Y', main = 'Scatter Plot')"
      ]
    },
    {
      "cell_type": "code",
      "source": [
        "ggplot(data = scat_df,  aes(x = x, y = y)) + # حددت اسم الداتا\n",
        "  geom_point() + \n",
        "  stat_smooth(method = \"lm\", se = FALSE, color = \"red\") +\n",
        "    labs(x = \"X axis\", y = \"Y asix\", title = \"Scatter Plot of X&Y\")  \n",
        "    \n",
        "  # add columns of x,y \n",
        "  # \"lm\" : fit a linear regression model, se = FALSE: remove the shading around the line\n",
        "  # names of x, y axis and title of chart\n"
      ],
      "metadata": {
        "colab": {
          "base_uri": "https://localhost:8080/",
          "height": 455
        },
        "id": "7Q0MgHuxHkl0",
        "outputId": "bb231994-56ba-4b35-abdf-91d4104c1af5"
      },
      "execution_count": null,
      "outputs": [
        {
          "output_type": "stream",
          "name": "stderr",
          "text": [
            "\u001b[1m\u001b[22m`geom_smooth()` using formula = 'y ~ x'\n"
          ]
        },
        {
          "output_type": "display_data",
          "data": {
            "text/plain": [
              "plot without title"
            ],
            "image/png": "[encoded data removed]"
          },
          "metadata": {
            "image/png": {
              "width": 420,
              "height": 420
            }
          }
        }
      ]
    },
    {
      "cell_type": "code",
      "source": [
        "head(df)"
      ],
      "metadata": {
        "colab": {
          "base_uri": "https://localhost:8080/",
          "height": 286
        },
        "id": "608zgz7sMKjS",
        "outputId": "02d40867-29af-4359-cadf-c4b23989930a"
      },
      "execution_count": null,
      "outputs": [
        {
          "output_type": "display_data",
          "data": {
            "text/html": [
              "<table class=\"dataframe\">\n",
              "<caption>A data.frame: 6 × 11</caption>\n",
              "<thead>\n",
              "\t<tr><th></th><th scope=col>ID</th><th scope=col>Name</th><th scope=col>Industry</th><th scope=col>Inception</th><th scope=col>Employees</th><th scope=col>State</th><th scope=col>City</th><th scope=col>Revenue</th><th scope=col>Expenses</th><th scope=col>Profit</th><th scope=col>Growth</th></tr>\n",
              "\t<tr><th></th><th scope=col>&lt;int&gt;</th><th scope=col>&lt;chr&gt;</th><th scope=col>&lt;chr&gt;</th><th scope=col>&lt;int&gt;</th><th scope=col>&lt;dbl&gt;</th><th scope=col>&lt;chr&gt;</th><th scope=col>&lt;chr&gt;</th><th scope=col>&lt;dbl&gt;</th><th scope=col>&lt;dbl&gt;</th><th scope=col>&lt;int&gt;</th><th scope=col>&lt;dbl&gt;</th></tr>\n",
              "</thead>\n",
              "<tbody>\n",
              "\t<tr><th scope=row>1</th><td>1</td><td>Over-Hex    </td><td>Software   </td><td>2006</td><td> 25.0000</td><td>TN</td><td>Franklin      </td><td>9684527</td><td>1130700</td><td> 8553827</td><td>0.19</td></tr>\n",
              "\t<tr><th scope=row>2</th><td>2</td><td>Unimattax   </td><td>IT Services</td><td>2009</td><td> 36.0000</td><td>PA</td><td>Newtown Square</td><td>9684527</td><td>1130700</td><td>13212508</td><td>0.20</td></tr>\n",
              "\t<tr><th scope=row>3</th><td>3</td><td>Greenfax    </td><td>Retail     </td><td>2012</td><td>148.6109</td><td>SC</td><td>Greenville    </td><td>9684527</td><td>1130700</td><td> 8701897</td><td>0.16</td></tr>\n",
              "\t<tr><th scope=row>4</th><td>4</td><td>Blacklane   </td><td>IT Services</td><td>2011</td><td> 66.0000</td><td>CA</td><td>Orange        </td><td>9684527</td><td>1130700</td><td>10727561</td><td>0.19</td></tr>\n",
              "\t<tr><th scope=row>5</th><td>5</td><td>Yearflex    </td><td>Software   </td><td>2013</td><td> 45.0000</td><td>WI</td><td>Madison       </td><td>9684527</td><td>1130700</td><td> 4193069</td><td>0.19</td></tr>\n",
              "\t<tr><th scope=row>6</th><td>6</td><td>Indigoplanet</td><td>IT Services</td><td>2013</td><td> 60.0000</td><td>NJ</td><td>Manalapan     </td><td>9684527</td><td>1130700</td><td> 8179177</td><td>0.22</td></tr>\n",
              "</tbody>\n",
              "</table>\n"
            ],
            "text/markdown": "\nA data.frame: 6 × 11\n\n| <!--/--> | ID &lt;int&gt; | Name &lt;chr&gt; | Industry &lt;chr&gt; | Inception &lt;int&gt; | Employees &lt;dbl&gt; | State &lt;chr&gt; | City &lt;chr&gt; | Revenue &lt;dbl&gt; | Expenses &lt;dbl&gt; | Profit &lt;int&gt; | Growth &lt;dbl&gt; |\n|---|---|---|---|---|---|---|---|---|---|---|---|\n| 1 | 1 | Over-Hex     | Software    | 2006 |  25.0000 | TN | Franklin       | 9684527 | 1130700 |  8553827 | 0.19 |\n| 2 | 2 | Unimattax    | IT Services | 2009 |  36.0000 | PA | Newtown Square | 9684527 | 1130700 | 13212508 | 0.20 |\n| 3 | 3 | Greenfax     | Retail      | 2012 | 148.6109 | SC | Greenville     | 9684527 | 1130700 |  8701897 | 0.16 |\n| 4 | 4 | Blacklane    | IT Services | 2011 |  66.0000 | CA | Orange         | 9684527 | 1130700 | 10727561 | 0.19 |\n| 5 | 5 | Yearflex     | Software    | 2013 |  45.0000 | WI | Madison        | 9684527 | 1130700 |  4193069 | 0.19 |\n| 6 | 6 | Indigoplanet | IT Services | 2013 |  60.0000 | NJ | Manalapan      | 9684527 | 1130700 |  8179177 | 0.22 |\n\n",
            "text/latex": "A data.frame: 6 × 11\n\\begin{tabular}{r|lllllllllll}\n  & ID & Name & Industry & Inception & Employees & State & City & Revenue & Expenses & Profit & Growth\\\\\n  & <int> & <chr> & <chr> & <int> & <dbl> & <chr> & <chr> & <dbl> & <dbl> & <int> & <dbl>\\\\\n\\hline\n\t1 & 1 & Over-Hex     & Software    & 2006 &  25.0000 & TN & Franklin       & 9684527 & 1130700 &  8553827 & 0.19\\\\\n\t2 & 2 & Unimattax    & IT Services & 2009 &  36.0000 & PA & Newtown Square & 9684527 & 1130700 & 13212508 & 0.20\\\\\n\t3 & 3 & Greenfax     & Retail      & 2012 & 148.6109 & SC & Greenville     & 9684527 & 1130700 &  8701897 & 0.16\\\\\n\t4 & 4 & Blacklane    & IT Services & 2011 &  66.0000 & CA & Orange         & 9684527 & 1130700 & 10727561 & 0.19\\\\\n\t5 & 5 & Yearflex     & Software    & 2013 &  45.0000 & WI & Madison        & 9684527 & 1130700 &  4193069 & 0.19\\\\\n\t6 & 6 & Indigoplanet & IT Services & 2013 &  60.0000 & NJ & Manalapan      & 9684527 & 1130700 &  8179177 & 0.22\\\\\n\\end{tabular}\n",
            "text/plain": [
              "  ID Name         Industry    Inception Employees State City           Revenue\n",
              "1 1  Over-Hex     Software    2006       25.0000  TN    Franklin       9684527\n",
              "2 2  Unimattax    IT Services 2009       36.0000  PA    Newtown Square 9684527\n",
              "3 3  Greenfax     Retail      2012      148.6109  SC    Greenville     9684527\n",
              "4 4  Blacklane    IT Services 2011       66.0000  CA    Orange         9684527\n",
              "5 5  Yearflex     Software    2013       45.0000  WI    Madison        9684527\n",
              "6 6  Indigoplanet IT Services 2013       60.0000  NJ    Manalapan      9684527\n",
              "  Expenses Profit   Growth\n",
              "1 1130700   8553827 0.19  \n",
              "2 1130700  13212508 0.20  \n",
              "3 1130700   8701897 0.16  \n",
              "4 1130700  10727561 0.19  \n",
              "5 1130700   4193069 0.19  \n",
              "6 1130700   8179177 0.22  "
            ]
          },
          "metadata": {}
        }
      ]
    },
    {
      "cell_type": "code",
      "source": [],
      "metadata": {
        "id": "a1NsWe9pOqYD"
      },
      "execution_count": null,
      "outputs": []
    },
    {
      "cell_type": "markdown",
      "source": [
        "### Bar Chart"
      ],
      "metadata": {
        "id": "WO93ZzdWOkAv"
      }
    },
    {
      "cell_type": "code",
      "source": [
        "ggplot(df, aes(x = Industry, fill = Industry)) + geom_bar()+ \n",
        "  labs(y=\"Count of Users in Indusrty\", title = \"Industries count\") \n",
        "#+theme_light()\n",
        "# fill is the values I will compare by, it be in y axis\n",
        "# geom_bar(): حددت ان نوعه bsr\n",
        "# labs: titles of y, chart title"
      ],
      "metadata": {
        "colab": {
          "base_uri": "https://localhost:8080/",
          "height": 437
        },
        "id": "1VrSB36yEE4f",
        "outputId": "af3d4696-50f0-4500-be1d-bff9a4485d24"
      },
      "execution_count": null,
      "outputs": [
        {
          "output_type": "display_data",
          "data": {
            "text/plain": [
              "plot without title"
            ],
            "image/png": "[encoded data removed]"
          },
          "metadata": {
            "image/png": {
              "width": 420,
              "height": 420
            }
          }
        }
      ]
    },
    {
      "cell_type": "code",
      "source": [
        "barplot(table(df$Industry), main = \"Bar Chart of Values\", col = (length(df$Industry)))"
      ],
      "metadata": {
        "colab": {
          "base_uri": "https://localhost:8080/",
          "height": 437
        },
        "id": "gNHNtiFUTLdD",
        "outputId": "5f2581b7-7cd4-453a-99fc-e85e73739a3c"
      },
      "execution_count": null,
      "outputs": [
        {
          "output_type": "display_data",
          "data": {
            "text/plain": [
              "Plot with title “Bar Chart of Values”"
            ],
            "image/png": "[encoded data removed]"
          },
          "metadata": {
            "image/png": {
              "width": 420,
              "height": 420
            }
          }
        }
      ]
    },
    {
      "cell_type": "markdown",
      "source": [
        "## Pie chart\n",
        "- relative proportions of each value\n",
        "الجزء بالنسبة للكل"
      ],
      "metadata": {
        "id": "Lvgyc_tERtEZ"
      }
    },
    {
      "cell_type": "code",
      "source": [
        "# create a pie chart of the Industry column in df\n",
        "pie(table(df$Industry), main = \"Industry Distribution\", col = rainbow(length(unique(df$Industry))))\n",
        "# rainbow to make generate colors\n"
      ],
      "metadata": {
        "colab": {
          "base_uri": "https://localhost:8080/",
          "height": 437
        },
        "id": "5UWY_8KQO3kY",
        "outputId": "9596c1e0-5a7e-4156-87d1-cfe9bfa94845"
      },
      "execution_count": null,
      "outputs": [
        {
          "output_type": "display_data",
          "data": {
            "text/plain": [
              "Plot with title “Industry Distribution”"
            ],
            "image/png": "[encoded data removed]"
          },
          "metadata": {
            "image/png": {
              "width": 420,
              "height": 420
            }
          }
        }
      ]
    },
    {
      "cell_type": "code",
      "source": [
        "colors = rainbow(5)\n",
        "colors"
      ],
      "metadata": {
        "colab": {
          "base_uri": "https://localhost:8080/",
          "height": 34
        },
        "id": "fjpU2RUZO3hG",
        "outputId": "73819e92-6a89-4b81-e776-84e47effdd69"
      },
      "execution_count": null,
      "outputs": [
        {
          "output_type": "display_data",
          "data": {
            "text/html": [
              "<style>\n",
              ".list-inline {list-style: none; margin:0; padding: 0}\n",
              ".list-inline>li {display: inline-block}\n",
              ".list-inline>li:not(:last-child)::after {content: \"\\00b7\"; padding: 0 .5ex}\n",
              "</style>\n",
              "<ol class=list-inline><li>'#FF0000'</li><li>'#CCFF00'</li><li>'#00FF66'</li><li>'#0066FF'</li><li>'#CC00FF'</li></ol>\n"
            ],
            "text/markdown": "1. '#FF0000'\n2. '#CCFF00'\n3. '#00FF66'\n4. '#0066FF'\n5. '#CC00FF'\n\n\n",
            "text/latex": "\\begin{enumerate*}\n\\item '\\#FF0000'\n\\item '\\#CCFF00'\n\\item '\\#00FF66'\n\\item '\\#0066FF'\n\\item '\\#CC00FF'\n\\end{enumerate*}\n",
            "text/plain": [
              "[1] \"#FF0000\" \"#CCFF00\" \"#00FF66\" \"#0066FF\" \"#CC00FF\""
            ]
          },
          "metadata": {}
        }
      ]
    },
    {
      "cell_type": "code",
      "source": [],
      "metadata": {
        "id": "GzX9KpfIO3cz"
      },
      "execution_count": null,
      "outputs": []
    },
    {
      "cell_type": "markdown",
      "source": [
        "## Histogram\n",
        "- visualize the frequency distribution of a single variable, \n",
        "- to explore the distribution of a single variable, such as age, weight, or income\n",
        "- compare the distributions of multiple variables\n",
        "- identify outliers\n"
      ],
      "metadata": {
        "id": "gKuxHZr1PJza"
      }
    },
    {
      "cell_type": "code",
      "source": [
        "# create a data frame with random values\n",
        "df <- data.frame(x = rnorm(1000, mean = 50, sd = 10))\n",
        "\n",
        "# create a histogram of the x column using ggplot2\n",
        "ggplot(df, aes(x = x)) +\n",
        "  geom_histogram(binwidth = 2, fill = \"purple\", color = \"white\") +\n",
        "  labs(x = \"X Values\", y = \"Frequency\", title = \"Histogram of X Values\")"
      ],
      "metadata": {
        "colab": {
          "base_uri": "https://localhost:8080/",
          "height": 437
        },
        "id": "UXEK-rwEYhSo",
        "outputId": "c3066f7a-44ff-4be1-943b-1e37e397cc9b"
      },
      "execution_count": null,
      "outputs": [
        {
          "output_type": "display_data",
          "data": {
            "text/plain": [
              "plot without title"
            ],
            "image/png": "[encoded data removed]"
          },
          "metadata": {
            "image/png": {
              "width": 420,
              "height": 420
            }
          }
        }
      ]
    },
    {
      "cell_type": "code",
      "source": [],
      "metadata": {
        "id": "_v67WK1SYGct"
      },
      "execution_count": null,
      "outputs": []
    }
  ],
  "metadata": {
    "colab": {
      "provenance": []
    },
    "kernelspec": {
      "display_name": "R",
      "name": "ir"
    },
    "language_info": {
      "name": "R"
    }
  },
  "nbformat": 4,
  "nbformat_minor": 0
}